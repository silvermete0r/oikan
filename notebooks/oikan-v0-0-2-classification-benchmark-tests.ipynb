{
 "cells": [
  {
   "cell_type": "markdown",
   "id": "6b0829c2",
   "metadata": {
    "papermill": {
     "duration": 0.002984,
     "end_time": "2025-04-13T19:26:19.508589",
     "exception": false,
     "start_time": "2025-04-13T19:26:19.505605",
     "status": "completed"
    },
    "tags": []
   },
   "source": [
    "# OIKAN Classification Benchmark Tests\n",
    "\n",
    "This notebook evaluates the OIKANClassifier on various classification tasks to assess:\n",
    "1. Classification metrics (Accuracy, F1-score, ROC-AUC)\n",
    "2. Decision boundary interpretability\n",
    "3. Symbolic formula extraction quality\n",
    "4. Comparison with traditional classifiers\n",
    "\n",
    "## Setup and Imports"
   ]
  },
  {
   "cell_type": "code",
   "execution_count": 1,
   "id": "ab0c7073",
   "metadata": {
    "execution": {
     "iopub.execute_input": "2025-04-13T19:26:19.515140Z",
     "iopub.status.busy": "2025-04-13T19:26:19.514729Z",
     "iopub.status.idle": "2025-04-13T19:27:58.646358Z",
     "shell.execute_reply": "2025-04-13T19:27:58.645082Z"
    },
    "papermill": {
     "duration": 99.137411,
     "end_time": "2025-04-13T19:27:58.648668",
     "exception": false,
     "start_time": "2025-04-13T19:26:19.511257",
     "status": "completed"
    },
    "tags": []
   },
   "outputs": [
    {
     "name": "stdout",
     "output_type": "stream",
     "text": [
      "\u001b[2K   \u001b[90m━━━━━━━━━━━━━━━━━━━━━━━━━━━━━━━━━━━━━━━━\u001b[0m \u001b[32m363.4/363.4 MB\u001b[0m \u001b[31m4.2 MB/s\u001b[0m eta \u001b[36m0:00:00\u001b[0m\r\n",
      "\u001b[2K   \u001b[90m━━━━━━━━━━━━━━━━━━━━━━━━━━━━━━━━━━━━━━━━\u001b[0m \u001b[32m664.8/664.8 MB\u001b[0m \u001b[31m2.1 MB/s\u001b[0m eta \u001b[36m0:00:00\u001b[0m\r\n",
      "\u001b[2K   \u001b[90m━━━━━━━━━━━━━━━━━━━━━━━━━━━━━━━━━━━━━━━━\u001b[0m \u001b[32m211.5/211.5 MB\u001b[0m \u001b[31m1.8 MB/s\u001b[0m eta \u001b[36m0:00:00\u001b[0m\r\n",
      "\u001b[2K   \u001b[90m━━━━━━━━━━━━━━━━━━━━━━━━━━━━━━━━━━━━━━━━\u001b[0m \u001b[32m56.3/56.3 MB\u001b[0m \u001b[31m27.8 MB/s\u001b[0m eta \u001b[36m0:00:00\u001b[0m\r\n",
      "\u001b[2K   \u001b[90m━━━━━━━━━━━━━━━━━━━━━━━━━━━━━━━━━━━━━━━━\u001b[0m \u001b[32m127.9/127.9 MB\u001b[0m \u001b[31m11.3 MB/s\u001b[0m eta \u001b[36m0:00:00\u001b[0m\r\n",
      "\u001b[2K   \u001b[90m━━━━━━━━━━━━━━━━━━━━━━━━━━━━━━━━━━━━━━━━\u001b[0m \u001b[32m207.5/207.5 MB\u001b[0m \u001b[31m7.3 MB/s\u001b[0m eta \u001b[36m0:00:00\u001b[0m\r\n",
      "\u001b[2K   \u001b[90m━━━━━━━━━━━━━━━━━━━━━━━━━━━━━━━━━━━━━━━━\u001b[0m \u001b[32m21.1/21.1 MB\u001b[0m \u001b[31m67.3 MB/s\u001b[0m eta \u001b[36m0:00:00\u001b[0m\r\n",
      "\u001b[?25h\u001b[31mERROR: pip's dependency resolver does not currently take into account all the packages that are installed. This behaviour is the source of the following dependency conflicts.\r\n",
      "pylibcugraph-cu12 24.12.0 requires pylibraft-cu12==24.12.*, but you have pylibraft-cu12 25.2.0 which is incompatible.\r\n",
      "pylibcugraph-cu12 24.12.0 requires rmm-cu12==24.12.*, but you have rmm-cu12 25.2.0 which is incompatible.\u001b[0m\u001b[31m\r\n",
      "\u001b[0m"
     ]
    }
   ],
   "source": [
    "import warnings\n",
    "warnings.filterwarnings('ignore')\n",
    "\n",
    "!pip install -qU oikan"
   ]
  },
  {
   "cell_type": "code",
   "execution_count": 2,
   "id": "80260279",
   "metadata": {
    "execution": {
     "iopub.execute_input": "2025-04-13T19:27:58.708146Z",
     "iopub.status.busy": "2025-04-13T19:27:58.707392Z",
     "iopub.status.idle": "2025-04-13T19:28:00.976377Z",
     "shell.execute_reply": "2025-04-13T19:28:00.975199Z"
    },
    "papermill": {
     "duration": 2.301189,
     "end_time": "2025-04-13T19:28:00.978162",
     "exception": false,
     "start_time": "2025-04-13T19:27:58.676973",
     "status": "completed"
    },
    "tags": []
   },
   "outputs": [
    {
     "name": "stdout",
     "output_type": "stream",
     "text": [
      "oikan==0.0.2.5\r\n"
     ]
    }
   ],
   "source": [
    "!pip freeze | grep oikan"
   ]
  },
  {
   "cell_type": "code",
   "execution_count": 3,
   "id": "4c47091c",
   "metadata": {
    "execution": {
     "iopub.execute_input": "2025-04-13T19:28:01.034067Z",
     "iopub.status.busy": "2025-04-13T19:28:01.033178Z",
     "iopub.status.idle": "2025-04-13T19:28:08.911134Z",
     "shell.execute_reply": "2025-04-13T19:28:08.910028Z"
    },
    "papermill": {
     "duration": 7.907554,
     "end_time": "2025-04-13T19:28:08.912776",
     "exception": false,
     "start_time": "2025-04-13T19:28:01.005222",
     "status": "completed"
    },
    "tags": []
   },
   "outputs": [],
   "source": [
    "import numpy as np\n",
    "import pandas as pd\n",
    "from time import time\n",
    "from sklearn.model_selection import train_test_split\n",
    "from sklearn.preprocessing import StandardScaler\n",
    "from sklearn.metrics import (\n",
    "    accuracy_score,\n",
    "    classification_report,\n",
    "    roc_auc_score,\n",
    "    f1_score\n",
    ")\n",
    "from sklearn.datasets import (\n",
    "    make_classification,\n",
    "    make_moons,\n",
    "    make_circles,\n",
    "    load_iris,\n",
    "    load_breast_cancer\n",
    ")\n",
    "from sklearn.linear_model import LogisticRegression\n",
    "from sklearn.ensemble import RandomForestClassifier\n",
    "from sklearn.neural_network import MLPClassifier\n",
    "from sklearn.tree import DecisionTreeClassifier\n",
    "from sklearn.svm import SVC\n",
    "from oikan.model import OIKANClassifier\n",
    "\n",
    "np.random.seed(42)"
   ]
  },
  {
   "cell_type": "markdown",
   "id": "9e52ed2f",
   "metadata": {
    "papermill": {
     "duration": 0.025992,
     "end_time": "2025-04-13T19:28:08.965409",
     "exception": false,
     "start_time": "2025-04-13T19:28:08.939417",
     "status": "completed"
    },
    "tags": []
   },
   "source": [
    "## 1. Synthetic Classification Tests\n",
    "\n",
    "First, let's evaluate OIKAN on synthetic datasets with known decision boundaries."
   ]
  },
  {
   "cell_type": "code",
   "execution_count": 4,
   "id": "cfe3d745",
   "metadata": {
    "execution": {
     "iopub.execute_input": "2025-04-13T19:28:09.020154Z",
     "iopub.status.busy": "2025-04-13T19:28:09.019685Z",
     "iopub.status.idle": "2025-04-13T19:28:09.056649Z",
     "shell.execute_reply": "2025-04-13T19:28:09.055644Z"
    },
    "papermill": {
     "duration": 0.0667,
     "end_time": "2025-04-13T19:28:09.058390",
     "exception": false,
     "start_time": "2025-04-13T19:28:08.991690",
     "status": "completed"
    },
    "tags": []
   },
   "outputs": [],
   "source": [
    "def generate_synthetic_datasets():\n",
    "    datasets = {\n",
    "        'Linear': make_classification(\n",
    "            n_samples=1000, n_features=2, n_redundant=0,\n",
    "            n_informative=2, random_state=42,\n",
    "            n_clusters_per_class=1\n",
    "        ),\n",
    "        'Moons': make_moons(\n",
    "            n_samples=1000, noise=0.1, random_state=42\n",
    "        ),\n",
    "        'Circles': make_circles(\n",
    "            n_samples=1000, noise=0.1, factor=0.3, random_state=42\n",
    "        )\n",
    "    }\n",
    "    return datasets\n",
    "\n",
    "synthetic_datasets = generate_synthetic_datasets()"
   ]
  },
  {
   "cell_type": "code",
   "execution_count": 5,
   "id": "a6a87c10",
   "metadata": {
    "execution": {
     "iopub.execute_input": "2025-04-13T19:28:09.113409Z",
     "iopub.status.busy": "2025-04-13T19:28:09.112554Z",
     "iopub.status.idle": "2025-04-13T19:28:09.119791Z",
     "shell.execute_reply": "2025-04-13T19:28:09.118875Z"
    },
    "papermill": {
     "duration": 0.035754,
     "end_time": "2025-04-13T19:28:09.121155",
     "exception": false,
     "start_time": "2025-04-13T19:28:09.085401",
     "status": "completed"
    },
    "tags": []
   },
   "outputs": [],
   "source": [
    "def benchmark_classifier(model, X, y, model_name=\"OIKAN\"):\n",
    "    results = {}\n",
    "    \n",
    "    # Scale features\n",
    "    scaler = StandardScaler()\n",
    "    X_scaled = scaler.fit_transform(X)\n",
    "    \n",
    "    # Split data\n",
    "    X_train, X_test, y_train, y_test = train_test_split(\n",
    "        X_scaled, y, test_size=0.2, random_state=42\n",
    "    )\n",
    "    \n",
    "    # Training time\n",
    "    start_time = time()\n",
    "    model.fit(X_train, y_train)\n",
    "    train_time = time() - start_time\n",
    "    \n",
    "    # Prediction time\n",
    "    start_time = time()\n",
    "    y_pred = model.predict(X_test)\n",
    "    predict_time = time() - start_time\n",
    "    \n",
    "    # Metrics\n",
    "    results = {\n",
    "        'Model': model_name,\n",
    "        'Accuracy': accuracy_score(y_test, y_pred),\n",
    "        'F1': f1_score(y_test, y_pred, average='weighted'),\n",
    "        'Train Time': train_time,\n",
    "        'Predict Time': predict_time,\n",
    "        'Report': classification_report(y_test, y_pred)\n",
    "    }\n",
    "    \n",
    "    if model_name == 'OIKAN':\n",
    "        symbolic_pred = model.symbolic_predict(X_test)\n",
    "        results['Symbolic Accuracy'] = accuracy_score(y_test, symbolic_pred)\n",
    "        results['Symbolic Formula'] = model.get_symbolic_formula()\n",
    "    \n",
    "    return results"
   ]
  },
  {
   "cell_type": "code",
   "execution_count": 6,
   "id": "97f1088e",
   "metadata": {
    "execution": {
     "iopub.execute_input": "2025-04-13T19:28:09.177690Z",
     "iopub.status.busy": "2025-04-13T19:28:09.176747Z",
     "iopub.status.idle": "2025-04-13T19:29:54.799477Z",
     "shell.execute_reply": "2025-04-13T19:29:54.798258Z"
    },
    "papermill": {
     "duration": 105.652449,
     "end_time": "2025-04-13T19:29:54.801235",
     "exception": false,
     "start_time": "2025-04-13T19:28:09.148786",
     "status": "completed"
    },
    "tags": []
   },
   "outputs": [
    {
     "name": "stdout",
     "output_type": "stream",
     "text": [
      "\n",
      "Benchmarking Linear dataset...\n",
      "Epoch [10/100], Loss: 0.3077\n",
      "Epoch [20/100], Loss: 0.1723\n",
      "Epoch [30/100], Loss: 0.1433\n",
      "Epoch [40/100], Loss: 0.1263\n",
      "Epoch [50/100], Loss: 0.1137\n",
      "Epoch [60/100], Loss: 0.1325\n",
      "Epoch [70/100], Loss: 0.1238\n",
      "Epoch [80/100], Loss: 0.1205\n",
      "Epoch [90/100], Loss: 0.1246\n",
      "Epoch [100/100], Loss: 0.1253\n",
      "OIKAN:\n",
      "Accuracy = 0.9300\n",
      "Symbolic Accuracy = 0.7200\n",
      "Example decision boundary terms:\n",
      "Class 0: 0.1547*x + -0.1855*x^2 + -0.1694*sin(x) + 0.0091*tanh(x) + 0.0023...\n",
      "Class 1: -0.4246*x + 0.2756*x^2 + 0.1787*sin(x) + 0.0329*tanh(x) + -0.0099...\n",
      "MLPClassifier:\n",
      "Accuracy = 0.9350\n",
      "RandomForest:\n",
      "Accuracy = 0.9250\n",
      "LogisticRegression:\n",
      "Accuracy = 0.9000\n",
      "DecisionTree:\n",
      "Accuracy = 0.9200\n",
      "SVM:\n",
      "Accuracy = 0.9400\n",
      "\n",
      "Benchmarking Moons dataset...\n",
      "Epoch [10/100], Loss: 1.1360\n",
      "Epoch [20/100], Loss: 0.3949\n",
      "Epoch [30/100], Loss: 0.2346\n",
      "Epoch [40/100], Loss: 0.1092\n",
      "Epoch [50/100], Loss: 0.0540\n",
      "Epoch [60/100], Loss: 0.0371\n",
      "Epoch [70/100], Loss: 0.0221\n",
      "Epoch [80/100], Loss: 0.0182\n",
      "Epoch [90/100], Loss: 0.0141\n",
      "Epoch [100/100], Loss: 0.0180\n",
      "OIKAN:\n",
      "Accuracy = 1.0000\n",
      "Symbolic Accuracy = 0.6050\n",
      "Example decision boundary terms:\n",
      "Class 0: 0.4001*x + -0.3885*x^2 + -0.2187*sin(x) + 0.1294*tanh(x) + 0.0060...\n",
      "Class 1: -0.3720*x + 0.2358*x^2 + 0.1597*sin(x) + 0.0334*tanh(x) + 0.0043...\n",
      "MLPClassifier:\n",
      "Accuracy = 1.0000\n",
      "RandomForest:\n",
      "Accuracy = 1.0000\n",
      "LogisticRegression:\n",
      "Accuracy = 0.8700\n",
      "DecisionTree:\n",
      "Accuracy = 1.0000\n",
      "SVM:\n",
      "Accuracy = 1.0000\n",
      "\n",
      "Benchmarking Circles dataset...\n",
      "Epoch [10/100], Loss: 0.6912\n",
      "Epoch [20/100], Loss: 0.0648\n",
      "Epoch [30/100], Loss: 0.0274\n",
      "Epoch [40/100], Loss: 0.0095\n",
      "Epoch [50/100], Loss: 0.0082\n",
      "Epoch [60/100], Loss: 0.0201\n",
      "Epoch [70/100], Loss: 0.0063\n",
      "Epoch [80/100], Loss: 0.0052\n",
      "Epoch [90/100], Loss: 0.0036\n",
      "Epoch [100/100], Loss: 0.0038\n",
      "OIKAN:\n",
      "Accuracy = 1.0000\n",
      "Symbolic Accuracy = 0.5500\n",
      "Example decision boundary terms:\n",
      "Class 0: 0.1178*x + -0.1049*x^2 + -0.0888*sin(x) + 0.0246*tanh(x) + 0.0017...\n",
      "Class 1: -0.4473*x + 0.4378*x^2 + 0.3143*sin(x) + 0.1345*tanh(x) + -0.0083...\n",
      "MLPClassifier:\n",
      "Accuracy = 1.0000\n",
      "RandomForest:\n",
      "Accuracy = 0.9800\n",
      "LogisticRegression:\n",
      "Accuracy = 0.4850\n",
      "DecisionTree:\n",
      "Accuracy = 0.9750\n",
      "SVM:\n",
      "Accuracy = 1.0000\n"
     ]
    }
   ],
   "source": [
    "def run_synthetic_benchmarks():\n",
    "    results = []\n",
    "    models = {\n",
    "        'OIKAN': OIKANClassifier(hidden_dims=[32, 16]),\n",
    "        'MLPClassifier': MLPClassifier(hidden_layer_sizes=(32, 16), max_iter=500),\n",
    "        'RandomForest': RandomForestClassifier(n_estimators=100),\n",
    "        'LogisticRegression': LogisticRegression(),\n",
    "        'DecisionTree': DecisionTreeClassifier(),\n",
    "        'SVM': SVC(probability=True)\n",
    "    }\n",
    "    \n",
    "    metrics = ['accuracy', 'roc_auc', 'train_time', 'predict_time']\n",
    "    \n",
    "    for dataset_name, (X, y) in synthetic_datasets.items():\n",
    "        print(f\"\\nBenchmarking {dataset_name} dataset...\")\n",
    "        \n",
    "        for model_name, model in models.items():\n",
    "            res = benchmark_classifier(model, X, y, model_name)\n",
    "            res['Dataset'] = dataset_name\n",
    "            results.append(res)\n",
    "            print(f\"{model_name}:\")\n",
    "            print(f\"Accuracy = {res['Accuracy']:.4f}\")\n",
    "            if 'ROC AUC' in res:\n",
    "                print(f\"ROC AUC = {res['ROC AUC']:.4f}\")\n",
    "            \n",
    "            if model_name == 'OIKAN':\n",
    "                print(f\"Symbolic Accuracy = {res['Symbolic Accuracy']:.4f}\")\n",
    "                print(\"Example decision boundary terms:\")\n",
    "                for i, formula in enumerate(res['Symbolic Formula'][0]):\n",
    "                    print(f\"Class {i}: {formula[:100]}...\")\n",
    "    \n",
    "    return pd.DataFrame(results)\n",
    "\n",
    "benchmark_results = run_synthetic_benchmarks()"
   ]
  },
  {
   "cell_type": "markdown",
   "id": "51434490",
   "metadata": {
    "papermill": {
     "duration": 0.028453,
     "end_time": "2025-04-13T19:29:54.864616",
     "exception": false,
     "start_time": "2025-04-13T19:29:54.836163",
     "status": "completed"
    },
    "tags": []
   },
   "source": [
    "## 2. Real Dataset Tests\n",
    "\n",
    "Now let's evaluate OIKAN on real-world classification problems."
   ]
  },
  {
   "cell_type": "code",
   "execution_count": 7,
   "id": "ed043a71",
   "metadata": {
    "execution": {
     "iopub.execute_input": "2025-04-13T19:29:54.923503Z",
     "iopub.status.busy": "2025-04-13T19:29:54.922533Z",
     "iopub.status.idle": "2025-04-13T19:35:01.665777Z",
     "shell.execute_reply": "2025-04-13T19:35:01.664538Z"
    },
    "papermill": {
     "duration": 306.774337,
     "end_time": "2025-04-13T19:35:01.667262",
     "exception": false,
     "start_time": "2025-04-13T19:29:54.892925",
     "status": "completed"
    },
    "tags": []
   },
   "outputs": [
    {
     "name": "stdout",
     "output_type": "stream",
     "text": [
      "\n",
      "Benchmarking Iris dataset...\n",
      "Epoch [10/100], Loss: 0.1565\n",
      "Epoch [20/100], Loss: 0.0865\n",
      "Epoch [30/100], Loss: 0.0360\n",
      "Epoch [40/100], Loss: 0.0640\n",
      "Epoch [50/100], Loss: 0.0360\n",
      "Epoch [60/100], Loss: 0.0530\n",
      "Epoch [70/100], Loss: 0.0140\n",
      "Epoch [80/100], Loss: 0.0303\n",
      "Epoch [90/100], Loss: 0.0367\n",
      "Epoch [100/100], Loss: 0.0237\n",
      "OIKAN Accuracy = 0.9667\n",
      "Symbolic Accuracy = 0.5667\n",
      "\n",
      "Example decision boundary formula:\n",
      "0.0060*x + -0.0475*x^2 + -0.0880*sin(x) + 0.1535*tanh(x) + -0.0001\n",
      "\n",
      "Benchmarking Breast Cancer dataset...\n",
      "Epoch [10/100], Loss: 0.1975\n",
      "Epoch [20/100], Loss: 0.0712\n",
      "Epoch [30/100], Loss: 0.0490\n",
      "Epoch [40/100], Loss: 0.0346\n",
      "Epoch [50/100], Loss: 0.0182\n",
      "Epoch [60/100], Loss: 0.0135\n",
      "Epoch [70/100], Loss: 0.0058\n",
      "Epoch [80/100], Loss: 0.0108\n",
      "Epoch [90/100], Loss: 0.0040\n",
      "Epoch [100/100], Loss: 0.0022\n",
      "OIKAN Accuracy = 0.9561\n",
      "Symbolic Accuracy = 0.2105\n",
      "\n",
      "Example decision boundary formula:\n",
      "0.0416*x + 0.0332*x^2 + 0.0326*sin(x) + -0.1251*tanh(x) + -0.0000\n"
     ]
    }
   ],
   "source": [
    "def load_real_datasets():\n",
    "    datasets = {\n",
    "        'Iris': load_iris(return_X_y=True),\n",
    "        'Breast Cancer': load_breast_cancer(return_X_y=True)\n",
    "    }\n",
    "    return datasets\n",
    "\n",
    "real_datasets = load_real_datasets()\n",
    "real_results = []\n",
    "\n",
    "for dataset_name, (X, y) in real_datasets.items():\n",
    "    print(f\"\\nBenchmarking {dataset_name} dataset...\")\n",
    "    \n",
    "    # Scale the data\n",
    "    scaler = StandardScaler()\n",
    "    X_scaled = scaler.fit_transform(X)\n",
    "    \n",
    "    # Run benchmarks\n",
    "    oikan = OIKANClassifier(hidden_dims=[64, 32])\n",
    "    res = benchmark_classifier(oikan, X_scaled, y, 'OIKAN')\n",
    "    res['Dataset'] = dataset_name\n",
    "    real_results.append(res)\n",
    "    \n",
    "    print(f\"OIKAN Accuracy = {res['Accuracy']:.4f}\")\n",
    "    print(f\"Symbolic Accuracy = {res['Symbolic Accuracy']:.4f}\")\n",
    "    print(\"\\nExample decision boundary formula:\")\n",
    "    print(res['Symbolic Formula'][0][0])"
   ]
  },
  {
   "cell_type": "markdown",
   "id": "d1e53e80",
   "metadata": {
    "papermill": {
     "duration": 0.029367,
     "end_time": "2025-04-13T19:35:01.726449",
     "exception": false,
     "start_time": "2025-04-13T19:35:01.697082",
     "status": "completed"
    },
    "tags": []
   },
   "source": [
    "## 3. Results Analysis\n",
    "\n",
    "Let's analyze the classification performance metrics in a clear tabular format."
   ]
  },
  {
   "cell_type": "code",
   "execution_count": 8,
   "id": "f7f4269f",
   "metadata": {
    "execution": {
     "iopub.execute_input": "2025-04-13T19:35:01.786738Z",
     "iopub.status.busy": "2025-04-13T19:35:01.786367Z",
     "iopub.status.idle": "2025-04-13T19:35:01.841150Z",
     "shell.execute_reply": "2025-04-13T19:35:01.839963Z"
    },
    "papermill": {
     "duration": 0.087344,
     "end_time": "2025-04-13T19:35:01.843113",
     "exception": false,
     "start_time": "2025-04-13T19:35:01.755769",
     "status": "completed"
    },
    "tags": []
   },
   "outputs": [
    {
     "name": "stdout",
     "output_type": "stream",
     "text": [
      "\n",
      "Classification Benchmark Results:\n",
      "==============================\n",
      "\n",
      "                                  Accuracy      F1  Predict Time  Train Time\n",
      "Dataset       Model                                                         \n",
      "Breast Cancer OIKAN                 0.9561  0.9562        0.4120    192.0123\n",
      "Circles       DecisionTree          0.9750  0.9750        0.0002      0.0019\n",
      "              LogisticRegression    0.4850  0.4828        0.0002      0.0025\n",
      "              MLPClassifier         1.0000  1.0000        0.0004      0.4774\n",
      "              OIKAN                 1.0000  1.0000        0.0866     31.9362\n",
      "              RandomForest          0.9800  0.9800        0.0060      0.1671\n",
      "              SVM                   1.0000  1.0000        0.0007      0.0107\n",
      "Iris          OIKAN                 0.9667  0.9664        0.2383    113.9788\n",
      "Linear        DecisionTree          0.9200  0.9200        0.0002      0.0025\n",
      "              LogisticRegression    0.9000  0.8998        0.0003      0.0350\n",
      "              MLPClassifier         0.9350  0.9350        0.0004      0.7794\n",
      "              OIKAN                 0.9300  0.9300        0.0684     38.4327\n",
      "              RandomForest          0.9250  0.9250        0.0066      0.1779\n",
      "              SVM                   0.9400  0.9397        0.0035      0.0490\n",
      "Moons         DecisionTree          1.0000  1.0000        0.0002      0.0019\n",
      "              LogisticRegression    0.8700  0.8699        0.0003      0.0178\n",
      "              MLPClassifier         1.0000  1.0000        0.0005      0.7221\n",
      "              OIKAN                 1.0000  1.0000        0.0637     32.1473\n",
      "              RandomForest          1.0000  1.0000        0.0066      0.1677\n",
      "              SVM                   1.0000  1.0000        0.0019      0.0286\n",
      "\n",
      "OIKAN Symbolic Formula Performance:\n",
      "================================\n",
      "\n",
      "Dataset: Linear\n",
      "Neural Accuracy = 0.9300\n",
      "Symbolic Accuracy = 0.7200\n",
      "\n",
      "Dataset: Moons\n",
      "Neural Accuracy = 1.0000\n",
      "Symbolic Accuracy = 0.6050\n",
      "\n",
      "Dataset: Circles\n",
      "Neural Accuracy = 1.0000\n",
      "Symbolic Accuracy = 0.5500\n",
      "\n",
      "Dataset: Iris\n",
      "Neural Accuracy = 0.9667\n",
      "Symbolic Accuracy = 0.5667\n",
      "\n",
      "Dataset: Breast Cancer\n",
      "Neural Accuracy = 0.9561\n",
      "Symbolic Accuracy = 0.2105\n",
      "\n"
     ]
    }
   ],
   "source": [
    "def display_benchmark_results(synthetic_results, real_results):\n",
    "    # Combine all results\n",
    "    all_results = pd.concat([pd.DataFrame(synthetic_results), pd.DataFrame(real_results)])\n",
    "    \n",
    "    # Format results table with consistent columns\n",
    "    summary = all_results.pivot_table(\n",
    "        index=['Dataset', 'Model'],\n",
    "        values=['Accuracy', 'F1', 'Train Time', 'Predict Time'],\n",
    "        aggfunc='mean'\n",
    "    ).round(4)\n",
    "    \n",
    "    # Sort by dataset and accuracy\n",
    "    summary = summary.sort_index(level=0)\n",
    "    \n",
    "    print(\"\\nClassification Benchmark Results:\")\n",
    "    print(\"==============================\\n\")\n",
    "    print(summary)\n",
    "    \n",
    "    # For OIKAN models, show symbolic accuracy\n",
    "    oikan_results = all_results[all_results['Model'] == 'OIKAN']\n",
    "    print(\"\\nOIKAN Symbolic Formula Performance:\")\n",
    "    print(\"================================\\n\")\n",
    "    for _, row in oikan_results.iterrows():\n",
    "        print(f\"Dataset: {row['Dataset']}\")\n",
    "        print(f\"Neural Accuracy = {row['Accuracy']:.4f}\")\n",
    "        print(f\"Symbolic Accuracy = {row['Symbolic Accuracy']:.4f}\\n\")\n",
    "\n",
    "display_benchmark_results(benchmark_results, pd.DataFrame(real_results))"
   ]
  }
 ],
 "metadata": {
  "kaggle": {
   "accelerator": "none",
   "dataSources": [],
   "dockerImageVersionId": 31012,
   "isGpuEnabled": false,
   "isInternetEnabled": true,
   "language": "python",
   "sourceType": "notebook"
  },
  "kernelspec": {
   "display_name": "Python 3",
   "language": "python",
   "name": "python3"
  },
  "language_info": {
   "codemirror_mode": {
    "name": "ipython",
    "version": 3
   },
   "file_extension": ".py",
   "mimetype": "text/x-python",
   "name": "python",
   "nbconvert_exporter": "python",
   "pygments_lexer": "ipython3",
   "version": "3.11.11"
  },
  "papermill": {
   "default_parameters": {},
   "duration": 529.412163,
   "end_time": "2025-04-13T19:35:04.224712",
   "environment_variables": {},
   "exception": null,
   "input_path": "__notebook__.ipynb",
   "output_path": "__notebook__.ipynb",
   "parameters": {},
   "start_time": "2025-04-13T19:26:14.812549",
   "version": "2.6.0"
  }
 },
 "nbformat": 4,
 "nbformat_minor": 5
}
