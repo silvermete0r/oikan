{
 "cells": [
  {
   "cell_type": "code",
   "execution_count": 1,
   "id": "3df2eb78",
   "metadata": {
    "execution": {
     "iopub.execute_input": "2025-05-28T11:43:56.352636Z",
     "iopub.status.busy": "2025-05-28T11:43:56.352390Z",
     "iopub.status.idle": "2025-05-28T11:45:11.417740Z",
     "shell.execute_reply": "2025-05-28T11:45:11.416993Z"
    },
    "papermill": {
     "duration": 75.070779,
     "end_time": "2025-05-28T11:45:11.419233",
     "exception": false,
     "start_time": "2025-05-28T11:43:56.348454",
     "status": "completed"
    },
    "tags": []
   },
   "outputs": [
    {
     "name": "stdout",
     "output_type": "stream",
     "text": [
      "\u001b[2K   \u001b[90m━━━━━━━━━━━━━━━━━━━━━━━━━━━━━━━━━━━━━━━━\u001b[0m \u001b[32m363.4/363.4 MB\u001b[0m \u001b[31m4.0 MB/s\u001b[0m eta \u001b[36m0:00:00\u001b[0m\r\n",
      "\u001b[2K   \u001b[90m━━━━━━━━━━━━━━━━━━━━━━━━━━━━━━━━━━━━━━━━\u001b[0m \u001b[32m664.8/664.8 MB\u001b[0m \u001b[31m2.6 MB/s\u001b[0m eta \u001b[36m0:00:00\u001b[0m\r\n",
      "\u001b[2K   \u001b[90m━━━━━━━━━━━━━━━━━━━━━━━━━━━━━━━━━━━━━━━━\u001b[0m \u001b[32m211.5/211.5 MB\u001b[0m \u001b[31m8.0 MB/s\u001b[0m eta \u001b[36m0:00:00\u001b[0m\r\n",
      "\u001b[2K   \u001b[90m━━━━━━━━━━━━━━━━━━━━━━━━━━━━━━━━━━━━━━━━\u001b[0m \u001b[32m56.3/56.3 MB\u001b[0m \u001b[31m30.7 MB/s\u001b[0m eta \u001b[36m0:00:00\u001b[0m\r\n",
      "\u001b[2K   \u001b[90m━━━━━━━━━━━━━━━━━━━━━━━━━━━━━━━━━━━━━━━━\u001b[0m \u001b[32m127.9/127.9 MB\u001b[0m \u001b[31m13.4 MB/s\u001b[0m eta \u001b[36m0:00:00\u001b[0m\r\n",
      "\u001b[2K   \u001b[90m━━━━━━━━━━━━━━━━━━━━━━━━━━━━━━━━━━━━━━━━\u001b[0m \u001b[32m207.5/207.5 MB\u001b[0m \u001b[31m7.6 MB/s\u001b[0m eta \u001b[36m0:00:00\u001b[0m\r\n",
      "\u001b[2K   \u001b[90m━━━━━━━━━━━━━━━━━━━━━━━━━━━━━━━━━━━━━━━━\u001b[0m \u001b[32m21.1/21.1 MB\u001b[0m \u001b[31m54.6 MB/s\u001b[0m eta \u001b[36m0:00:00\u001b[0m\r\n",
      "\u001b[?25h\u001b[31mERROR: pip's dependency resolver does not currently take into account all the packages that are installed. This behaviour is the source of the following dependency conflicts.\r\n",
      "pylibcugraph-cu12 24.12.0 requires pylibraft-cu12==24.12.*, but you have pylibraft-cu12 25.2.0 which is incompatible.\r\n",
      "pylibcugraph-cu12 24.12.0 requires rmm-cu12==24.12.*, but you have rmm-cu12 25.2.0 which is incompatible.\u001b[0m\u001b[31m\r\n",
      "\u001b[0m"
     ]
    }
   ],
   "source": [
    "!pip install -qU oikan"
   ]
  },
  {
   "cell_type": "code",
   "execution_count": 2,
   "id": "2226d3ac",
   "metadata": {
    "execution": {
     "iopub.execute_input": "2025-05-28T11:45:11.461829Z",
     "iopub.status.busy": "2025-05-28T11:45:11.461582Z",
     "iopub.status.idle": "2025-05-28T11:45:17.566294Z",
     "shell.execute_reply": "2025-05-28T11:45:17.565163Z"
    },
    "papermill": {
     "duration": 6.127918,
     "end_time": "2025-05-28T11:45:17.567947",
     "exception": false,
     "start_time": "2025-05-28T11:45:11.440029",
     "status": "completed"
    },
    "tags": []
   },
   "outputs": [],
   "source": [
    "!pip install -qU pmlb"
   ]
  },
  {
   "cell_type": "code",
   "execution_count": 3,
   "id": "9d26a36b",
   "metadata": {
    "execution": {
     "iopub.execute_input": "2025-05-28T11:45:17.610246Z",
     "iopub.status.busy": "2025-05-28T11:45:17.609985Z",
     "iopub.status.idle": "2025-05-28T11:45:25.740604Z",
     "shell.execute_reply": "2025-05-28T11:45:25.739977Z"
    },
    "papermill": {
     "duration": 8.15329,
     "end_time": "2025-05-28T11:45:25.742041",
     "exception": false,
     "start_time": "2025-05-28T11:45:17.588751",
     "status": "completed"
    },
    "tags": []
   },
   "outputs": [],
   "source": [
    "import numpy as np\n",
    "import torch\n",
    "import time\n",
    "import tracemalloc\n",
    "import pandas as pd\n",
    "from sklearn.model_selection import train_test_split\n",
    "from sklearn.linear_model import ElasticNet, LogisticRegression\n",
    "from sklearn.metrics import mean_squared_error, r2_score, mean_absolute_percentage_error, accuracy_score, precision_score, f1_score\n",
    "from pmlb import fetch_data\n",
    "from oikan import OIKANRegressor, OIKANClassifier\n",
    "\n",
    "# Set random seeds for reproducibility\n",
    "np.random.seed(42)\n",
    "torch.manual_seed(42)\n",
    "\n",
    "# Determine device (CPU or GPU)\n",
    "device = 'cuda' if torch.cuda.is_available() else 'cpu'"
   ]
  },
  {
   "cell_type": "code",
   "execution_count": 4,
   "id": "84cc7bcd",
   "metadata": {
    "execution": {
     "iopub.execute_input": "2025-05-28T11:45:25.784786Z",
     "iopub.status.busy": "2025-05-28T11:45:25.783911Z",
     "iopub.status.idle": "2025-05-28T11:45:25.788668Z",
     "shell.execute_reply": "2025-05-28T11:45:25.787926Z"
    },
    "papermill": {
     "duration": 0.02702,
     "end_time": "2025-05-28T11:45:25.789872",
     "exception": false,
     "start_time": "2025-05-28T11:45:25.762852",
     "status": "completed"
    },
    "tags": []
   },
   "outputs": [],
   "source": [
    "def adjust_augmentation_factor(n_samples, augmentation_factor=10, min_augmented_size=1000, max_augmented_size=100000):\n",
    "    augmented_size = augmentation_factor * n_samples\n",
    "    if augmented_size < min_augmented_size:\n",
    "        augmentation_factor = max(augmentation_factor, (min_augmented_size + n_samples - 1) // n_samples)\n",
    "    elif augmented_size > max_augmented_size:\n",
    "        augmentation_factor = max(1, max_augmented_size // n_samples)\n",
    "    return augmentation_factor\n"
   ]
  },
  {
   "cell_type": "code",
   "execution_count": 5,
   "id": "a494bce2",
   "metadata": {
    "execution": {
     "iopub.execute_input": "2025-05-28T11:45:25.831620Z",
     "iopub.status.busy": "2025-05-28T11:45:25.830889Z",
     "iopub.status.idle": "2025-05-28T11:45:25.840909Z",
     "shell.execute_reply": "2025-05-28T11:45:25.840292Z"
    },
    "papermill": {
     "duration": 0.03203,
     "end_time": "2025-05-28T11:45:25.842083",
     "exception": false,
     "start_time": "2025-05-28T11:45:25.810053",
     "status": "completed"
    },
    "tags": []
   },
   "outputs": [],
   "source": [
    "def benchmark_regression_dataset(dataset_name, counter, total):\n",
    "    \"\"\"Benchmark OIKANRegressor and ElasticNet on a regression dataset.\"\"\"\n",
    "    try:\n",
    "        # Fetch data\n",
    "        data = fetch_data(dataset_name)\n",
    "        X = data.drop('target', axis=1).values\n",
    "        y = data['target'].values\n",
    "        \n",
    "        # Check dataset size (approximate memory usage in bytes)\n",
    "        memory_usage = X.nbytes + y.nbytes\n",
    "        if memory_usage > 600 * 1024 * 1024:  # 600MB in bytes\n",
    "            print(f\"Skipping dataset {dataset_name} due to size exceeding 600MB.\")\n",
    "            return None\n",
    "        \n",
    "        # Split data\n",
    "        X_train, X_test, y_train, y_test = train_test_split(X, y, test_size=0.2, random_state=42)\n",
    "        \n",
    "        # Adjust augmentation factor\n",
    "        augmentation_factor = adjust_augmentation_factor(len(X_train))\n",
    "        num_augmented_rows = augmentation_factor * len(X_train)\n",
    "        num_features = X.shape[1]\n",
    "        \n",
    "        # Check augmented size (approximate, assuming float64 for simplicity)\n",
    "        augmented_memory = num_augmented_rows * (num_features + 1) * 8  # 8 bytes per float64\n",
    "        if augmented_memory > 600 * 1024 * 1024:\n",
    "            augmentation_factor = max(1, (600 * 1024 * 1024) // (len(X_train) * (num_features + 1) * 8))\n",
    "            num_augmented_rows = augmentation_factor * len(X_train)\n",
    "        \n",
    "        # Initialize OIKAN model\n",
    "        oikan_model = OIKANRegressor(augmentation_factor=augmentation_factor, verbose=False)\n",
    "        \n",
    "        # Training benchmark for OIKAN\n",
    "        tracemalloc.start()\n",
    "        start_time = time.time()\n",
    "        oikan_model.fit(X_train, y_train)\n",
    "        train_time = time.time() - start_time\n",
    "        _, train_memory = tracemalloc.get_traced_memory()\n",
    "        tracemalloc.stop()\n",
    "        \n",
    "        # Prediction benchmark for OIKAN\n",
    "        tracemalloc.start()\n",
    "        start_time = time.time()\n",
    "        y_pred_oikan = oikan_model.predict(X_test)\n",
    "        predict_time = time.time() - start_time\n",
    "        _, predict_memory = tracemalloc.get_traced_memory()\n",
    "        tracemalloc.stop()\n",
    "        \n",
    "        # Metrics for OIKAN\n",
    "        rmse_oikan = np.sqrt(mean_squared_error(y_test, y_pred_oikan))\n",
    "        r2_oikan = r2_score(y_test, y_pred_oikan)\n",
    "        mape_oikan = mean_absolute_percentage_error(y_test, y_pred_oikan)\n",
    "        \n",
    "        # ElasticNet model\n",
    "        elasticnet_model = ElasticNet(random_state=42)\n",
    "        elasticnet_model.fit(X_train, y_train)\n",
    "        y_pred_elasticnet = elasticnet_model.predict(X_test)\n",
    "        \n",
    "        # Metrics for ElasticNet\n",
    "        rmse_elasticnet = np.sqrt(mean_squared_error(y_test, y_pred_elasticnet))\n",
    "        r2_elasticnet = r2_score(y_test, y_pred_elasticnet)\n",
    "        mape_elasticnet = mean_absolute_percentage_error(y_test, y_pred_elasticnet)\n",
    "        \n",
    "        # Print progress\n",
    "        print(f\"Regression dataset: {dataset_name} - completed ({counter} / {total}) ✅\")\n",
    "        \n",
    "        return {\n",
    "            'dataset': dataset_name,\n",
    "            'device': device,\n",
    "            'num_features': num_features,\n",
    "            'num_augmented_rows': num_augmented_rows,\n",
    "            'augmentation_factor': augmentation_factor,\n",
    "            'train_time': train_time,\n",
    "            'train_memory': train_memory / 10**6,  # Convert to MB\n",
    "            'predict_time': predict_time,\n",
    "            'predict_memory': predict_memory / 10**6,  # Convert to MB\n",
    "            'rmse_oikan': rmse_oikan,\n",
    "            'r2_oikan': r2_oikan,\n",
    "            'mape_oikan': mape_oikan,\n",
    "            'rmse_elasticnet': rmse_elasticnet,\n",
    "            'r2_elasticnet': r2_elasticnet,\n",
    "            'mape_elasticnet': mape_elasticnet\n",
    "        }\n",
    "    except Exception as e:\n",
    "        print(f\"Error benchmarking regression dataset {dataset_name}: {e}\")\n",
    "        return None"
   ]
  },
  {
   "cell_type": "code",
   "execution_count": 6,
   "id": "550c7f3d",
   "metadata": {
    "execution": {
     "iopub.execute_input": "2025-05-28T11:45:25.885227Z",
     "iopub.status.busy": "2025-05-28T11:45:25.884660Z",
     "iopub.status.idle": "2025-05-28T11:45:25.894660Z",
     "shell.execute_reply": "2025-05-28T11:45:25.893931Z"
    },
    "papermill": {
     "duration": 0.033492,
     "end_time": "2025-05-28T11:45:25.895786",
     "exception": false,
     "start_time": "2025-05-28T11:45:25.862294",
     "status": "completed"
    },
    "tags": []
   },
   "outputs": [],
   "source": [
    "def benchmark_classification_dataset(dataset_name, counter, total):\n",
    "    \"\"\"Benchmark OIKANClassifier and LogisticRegression (ElasticNet equivalent) on a classification dataset.\"\"\"\n",
    "    try:\n",
    "        # Fetch data\n",
    "        data = fetch_data(dataset_name)\n",
    "        X = data.drop('target', axis=1).values\n",
    "        y = data['target'].values\n",
    "        \n",
    "        # Check dataset size (approximate memory usage in bytes)\n",
    "        memory_usage = X.nbytes + y.nbytes\n",
    "        if memory_usage > 600 * 1024 * 1024:  # 600MB in bytes\n",
    "            print(f\"Skipping dataset {dataset_name} due to size exceeding 600MB.\")\n",
    "            return None\n",
    "        \n",
    "        # Split data\n",
    "        X_train, X_test, y_train, y_test = train_test_split(X, y, test_size=0.2, random_state=42)\n",
    "        \n",
    "        # Adjust augmentation factor\n",
    "        augmentation_factor = adjust_augmentation_factor(len(X_train))\n",
    "        num_augmented_rows = augmentation_factor * len(X_train)\n",
    "        num_features = X.shape[1]\n",
    "        \n",
    "        # Check augmented size (approximate)\n",
    "        augmented_memory = num_augmented_rows * (num_features + 1) * 8\n",
    "        if augmented_memory > 600 * 1024 * 1024:\n",
    "            augmentation_factor = max(1, (600 * 1024 * 1024) // (len(X_train) * (num_features + 1) * 8))\n",
    "            num_augmented_rows = augmentation_factor * len(X_train)\n",
    "        \n",
    "        # Initialize OIKAN model\n",
    "        oikan_model = OIKANClassifier(augmentation_factor=augmentation_factor, verbose=False)\n",
    "        \n",
    "        # Training benchmark for OIKAN\n",
    "        tracemalloc.start()\n",
    "        start_time = time.time()\n",
    "        oikan_model.fit(X_train, y_train)\n",
    "        train_time = time.time() - start_time\n",
    "        _, train_memory = tracemalloc.get_traced_memory()\n",
    "        tracemalloc.stop()\n",
    "        \n",
    "        # Prediction benchmark for OIKAN\n",
    "        tracemalloc.start()\n",
    "        start_time = time.time()\n",
    "        y_pred_oikan = oikan_model.predict(X_test)\n",
    "        predict_time = time.time() - start_time\n",
    "        _, predict_memory = tracemalloc.get_traced_memory()\n",
    "        tracemalloc.stop()\n",
    "        \n",
    "        # Metrics for OIKAN\n",
    "        accuracy_oikan = accuracy_score(y_test, y_pred_oikan)\n",
    "        precision_oikan = precision_score(y_test, y_pred_oikan, average='weighted', zero_division=0)\n",
    "        f1_oikan = f1_score(y_test, y_pred_oikan, average='weighted', zero_division=0)\n",
    "        \n",
    "        # ElasticNet equivalent (using LogisticRegression with elasticnet penalty)\n",
    "        elasticnet_model = LogisticRegression(penalty='elasticnet', solver='saga', l1_ratio=0.5, random_state=42, max_iter=1000)\n",
    "        elasticnet_model.fit(X_train, y_train)\n",
    "        y_pred_elasticnet = elasticnet_model.predict(X_test)\n",
    "        \n",
    "        # Metrics for ElasticNet\n",
    "        accuracy_elasticnet = accuracy_score(y_test, y_pred_elasticnet)\n",
    "        precision_elasticnet = precision_score(y_test, y_pred_elasticnet, average='weighted', zero_division=0)\n",
    "        f1_elasticnet = f1_score(y_test, y_pred_elasticnet, average='weighted', zero_division=0)\n",
    "        \n",
    "        # Print progress\n",
    "        print(f\"Classification dataset: {dataset_name} - completed ({counter} / {total}) ✅\")\n",
    "        \n",
    "        return {\n",
    "            'dataset': dataset_name,\n",
    "            'device': device,\n",
    "            'num_features': num_features,\n",
    "            'num_augmented_rows': num_augmented_rows,\n",
    "            'augmentation_factor': augmentation_factor,\n",
    "            'train_time': train_time,\n",
    "            'train_memory': train_memory / 10**6,  # Convert to MB\n",
    "            'predict_time': predict_time,\n",
    "            'predict_memory': predict_memory / 10**6,  # Convert to MB\n",
    "            'accuracy_oikan': accuracy_oikan,\n",
    "            'precision_oikan': precision_oikan,\n",
    "            'f1_oikan': f1_oikan,\n",
    "            'accuracy_elasticnet': accuracy_elasticnet,\n",
    "            'precision_elasticnet': precision_elasticnet,\n",
    "            'f1_elasticnet': f1_elasticnet\n",
    "        }\n",
    "    except Exception as e:\n",
    "        print(f\"Error benchmarking classification dataset {dataset_name}: {e}\")\n",
    "        return None"
   ]
  },
  {
   "cell_type": "code",
   "execution_count": 7,
   "id": "5a15cd92",
   "metadata": {
    "execution": {
     "iopub.execute_input": "2025-05-28T11:45:25.991867Z",
     "iopub.status.busy": "2025-05-28T11:45:25.991333Z",
     "iopub.status.idle": "2025-05-28T11:45:25.997049Z",
     "shell.execute_reply": "2025-05-28T11:45:25.996336Z"
    },
    "papermill": {
     "duration": 0.02775,
     "end_time": "2025-05-28T11:45:25.998156",
     "exception": false,
     "start_time": "2025-05-28T11:45:25.970406",
     "status": "completed"
    },
    "tags": []
   },
   "outputs": [],
   "source": [
    "def calculate_summary_stats(df, task):\n",
    "    \"\"\"Calculate AVG, BEST, WORST for key metrics.\"\"\"\n",
    "    if task == 'regression':\n",
    "        metrics = ['rmse_oikan', 'r2_oikan', 'mape_oikan', 'rmse_elasticnet', 'r2_elasticnet', 'mape_elasticnet']\n",
    "        best_worst = {\n",
    "            'rmse_oikan': ('min', 'max'),\n",
    "            'r2_oikan': ('max', 'min'),\n",
    "            'mape_oikan': ('min', 'max'),\n",
    "            'rmse_elasticnet': ('min', 'max'),\n",
    "            'r2_elasticnet': ('max', 'min'),\n",
    "            'mape_elasticnet': ('min', 'max')\n",
    "        }\n",
    "    else:  # classification\n",
    "        metrics = ['accuracy_oikan', 'precision_oikan', 'f1_oikan', 'accuracy_elasticnet', 'precision_elasticnet', 'f1_elasticnet']\n",
    "        best_worst = {metric: ('max', 'min') for metric in metrics}\n",
    "    \n",
    "    summary = {}\n",
    "    for metric in metrics:\n",
    "        avg = df[metric].mean()\n",
    "        best = df[metric].agg(best_worst[metric][0])\n",
    "        worst = df[metric].agg(best_worst[metric][1])\n",
    "        summary[metric] = {'AVG': avg, 'BEST': best, 'WORST': worst}\n",
    "    return summary"
   ]
  },
  {
   "cell_type": "code",
   "execution_count": 8,
   "id": "e718ffc5",
   "metadata": {
    "execution": {
     "iopub.execute_input": "2025-05-28T11:45:26.040312Z",
     "iopub.status.busy": "2025-05-28T11:45:26.039803Z",
     "iopub.status.idle": "2025-05-28T11:45:26.044163Z",
     "shell.execute_reply": "2025-05-28T11:45:26.043427Z"
    },
    "papermill": {
     "duration": 0.026424,
     "end_time": "2025-05-28T11:45:26.045332",
     "exception": false,
     "start_time": "2025-05-28T11:45:26.018908",
     "status": "completed"
    },
    "tags": []
   },
   "outputs": [],
   "source": [
    "def save_summary_to_txt(summary, filename):\n",
    "    \"\"\"Save summary statistics to a .txt file.\"\"\"\n",
    "    with open(filename, 'w') as f:\n",
    "        for metric, stats in summary.items():\n",
    "            f.write(f\"{metric}:\\n\")\n",
    "            for key, value in stats.items():\n",
    "                f.write(f\"  {key}: {value:.4f}\\n\")\n",
    "            f.write(\"\\n\")"
   ]
  },
  {
   "cell_type": "code",
   "execution_count": 9,
   "id": "8ddb290f",
   "metadata": {
    "execution": {
     "iopub.execute_input": "2025-05-28T11:45:26.087668Z",
     "iopub.status.busy": "2025-05-28T11:45:26.086970Z",
     "iopub.status.idle": "2025-05-28T11:45:26.095562Z",
     "shell.execute_reply": "2025-05-28T11:45:26.094912Z"
    },
    "papermill": {
     "duration": 0.03082,
     "end_time": "2025-05-28T11:45:26.096601",
     "exception": false,
     "start_time": "2025-05-28T11:45:26.065781",
     "status": "completed"
    },
    "tags": []
   },
   "outputs": [
    {
     "name": "stdout",
     "output_type": "stream",
     "text": [
      "Starting OIKAN Advanced Auto-Benchmarking based on PMLB Datasets...\n",
      "\n"
     ]
    }
   ],
   "source": [
    "print(\"Starting OIKAN Advanced Auto-Benchmarking based on PMLB Datasets...\\n\")\n",
    "\n",
    "# Updated list of ~100 small-sized regression datasets\n",
    "regression_datasets = [\n",
    "    '1027_ESL', '1028_SWD', '1029_LEV', '1030_ERA', '1089_USCrime', '1096_FacultySalaries',\n",
    "    '192_vineyard', '197_cpu_act', '201_pol', '210_cloud', '215_2dplanes', '218_house_8L',\n",
    "    '225_puma8NH', '227_cpu_small', '228_elusage', '229_pwLinear', '230_machine_cpu',\n",
    "    '294_satellite_image', '344_mv', '4544_GeographicalOriginalofMusic', '485_analcatdata_vehicle',\n",
    "    '519_vineyard', '522_pm10', '523_analcatdata_neavote', '527_analcatdata_election2000',\n",
    "    '529_pollen', '542_pollution', '547_no2', '556_analcatdata_apnea2', '557_analcatdata_apnea1',\n",
    "    '559_bodyfat', '561_cpu', '562_cpu_small', '564_fried', '573_cpu_act', '574_house_16H',\n",
    "    '579_fri_c0_250_5', '581_fri_c3_500_25', '582_fri_c1_1000_50', '583_fri_c1_1000_50',\n",
    "    '586_fri_c3_1000_25', '587_fri_c3_1000_50', '588_fri_c4_1000_100', '589_fri_c2_1000_25',\n",
    "    '590_fri_c0_1000_50', '591_fri_c1_100_10', '592_fri_c4_1000_25', '593_fri_c1_500_10',\n",
    "    '594_fri_c2_1000_25', '595_fri_c0_1000_10', '596_fri_c2_500_25', '597_fri_c3_250_25',\n",
    "    '598_fri_c4_1000_50', '599_fri_c2_1000_5', '601_fri_c1_500_5', '602_fri_c3_1000_10',\n",
    "    '603_fri_c0_500_50', '604_fri_c4_500_25', '605_fri_c2_250_25', '606_fri_c4_1000_100',\n",
    "    '607_fri_c4_500_100', '608_fri_c3_1000_5', '609_fri_c0_1000_5', '612_fri_c1_1000_5',\n",
    "    '613_fri_c2_500_5', '615_fri_c4_250_25', '616_fri_c4_500_50', '617_fri_c3_500_5',\n",
    "    '618_fri_c0_100_50', '620_fri_c1_1000_25', '621_fri_c0_100_10', '623_fri_c4_1000_10',\n",
    "    '624_fri_c0_100_5', '625_fri_c0_500_10', '626_fri_c2_500_10', '627_fri_c1_500_50',\n",
    "    '628_fri_c3_1000_100', '629_fri_c1_250_50', '630_fri_c3_500_50', '631_fri_c1_500_25',\n",
    "    '632_fri_c3_250_50', '633_fri_c2_100_25', '634_fri_c2_1000_50', '635_fri_c0_250_10',\n",
    "    '636_fri_c2_100_10', '637_fri_c3_500_10', '638_fri_c1_250_25', '639_fri_c2_250_50',\n",
    "    '641_fri_c1_250_10', '642_fri_c3_250_10', '643_fri_c2_250_10', '644_fri_c4_250_50',\n",
    "    '645_fri_c3_100_25', '646_fri_c3_100_10', '647_fri_c1_100_25', '648_fri_c4_100_25',\n",
    "    '649_fri_c0_500_5', '650_fri_c0_250_50', '651_fri_c0_1000_25', '652_fri_c2_100_5'\n",
    "]\n",
    "\n",
    "# Updated list of ~100 small-sized classification datasets\n",
    "classification_datasets = [\n",
    "    'adult', 'mushroom', 'iris', 'wine', 'breast_cancer_wisconsin', 'tic_tac_toe',\n",
    "    'analcatdata_authorship', 'analcatdata_fraud', 'penguins', 'monk3', 'balance_scale',\n",
    "    'car_evaluation', 'credit_g', 'dermatology', 'glass', 'heart_c', 'ionosphere', 'kr_vs_kp',\n",
    "    'lymphography', 'zoo', 'analcatdata_boxing1', 'analcatdata_boxing2', 'analcatdata_creditscore',\n",
    "    'analcatdata_dmft', 'analcatdata_lawsuit', 'analcatdata_supreme', 'appendicitis', 'australian',\n",
    "    'backache', 'biomed', 'bupa', 'clean1', 'clean2', 'coil2000', 'collins', 'confidence',\n",
    "    'corral', 'crx', 'dis', 'ecoli', 'flags', 'grub_damage', 'haberman', 'hayes_roth', 'heart_h',\n",
    "    'heart_statlog', 'hepatitis', 'horse_colic', 'hungarian', 'hypothyroid', 'labor', 'led7',\n",
    "    'liver', 'lupus', 'machine', 'mfeat_factors', 'mfeat_fourier', 'mfeat_karhunen', 'mfeat_morphological',\n",
    "    'mfeat_pixel', 'mfeat_zernike', 'monk1', 'monk2', 'movement_libras', 'new_thyroid', 'optdigits',\n",
    "    'page_blocks', 'parity5', 'parity5+5', 'phoneme', 'pima', 'postoperative', 'prnn_crabs',\n",
    "    'prnn_fglass', 'prnn_synth', 'ring', 'saheart', 'schizo', 'shuttle_landing', 'solar_flare_1',\n",
    "    'solar_flare_2', 'sonar', 'spect', 'spectf', 'tae', 'threeOf9', 'tokenfile', 'trains',\n",
    "    'tumor', 'twonorm', 'vehicle', 'veteran', 'vowel', 'wdbc', 'wine_quality_red', 'wine_quality_white',\n",
    "    'wisconsin', 'yeast', 'zernike'\n",
    "]"
   ]
  },
  {
   "cell_type": "code",
   "execution_count": 10,
   "id": "56c85f00",
   "metadata": {
    "execution": {
     "iopub.execute_input": "2025-05-28T11:45:26.138406Z",
     "iopub.status.busy": "2025-05-28T11:45:26.138126Z",
     "iopub.status.idle": "2025-05-28T16:39:07.128874Z",
     "shell.execute_reply": "2025-05-28T16:39:07.128026Z"
    },
    "papermill": {
     "duration": 17621.013356,
     "end_time": "2025-05-28T16:39:07.130534",
     "exception": false,
     "start_time": "2025-05-28T11:45:26.117178",
     "status": "completed"
    },
    "tags": []
   },
   "outputs": [
    {
     "name": "stderr",
     "output_type": "stream",
     "text": [
      "/usr/local/lib/python3.11/dist-packages/oikan/model.py:290: UserWarning: To copy construct from a tensor, it is recommended to use sourceTensor.clone().detach() or sourceTensor.clone().detach().requires_grad_(True), rather than torch.tensor(sourceTensor).\n",
      "  torch.tensor(y, dtype=torch.float32))\n",
      "/usr/local/lib/python3.11/dist-packages/sklearn/linear_model/_coordinate_descent.py:631: ConvergenceWarning: Objective did not converge. You might want to increase the number of iterations, check the scale of the features or consider increasing regularisation. Duality gap: 5.750e+08, tolerance: 7.396e+05\n",
      "  model = cd_fast.enet_coordinate_descent(\n",
      "/usr/local/lib/python3.11/dist-packages/sklearn/linear_model/_coordinate_descent.py:631: ConvergenceWarning: Objective did not converge. You might want to increase the number of iterations, check the scale of the features or consider increasing regularisation. Duality gap: 8.847e+07, tolerance: 1.199e+05\n",
      "  model = cd_fast.enet_coordinate_descent(\n",
      "/usr/local/lib/python3.11/dist-packages/sklearn/linear_model/_coordinate_descent.py:631: ConvergenceWarning: Objective did not converge. You might want to increase the number of iterations, check the scale of the features or consider increasing regularisation. Duality gap: 5.748e+08, tolerance: 7.396e+05\n",
      "  model = cd_fast.enet_coordinate_descent(\n",
      "/usr/local/lib/python3.11/dist-packages/sklearn/linear_model/_coordinate_descent.py:631: ConvergenceWarning: Objective did not converge. You might want to increase the number of iterations, check the scale of the features or consider increasing regularisation. Duality gap: 8.845e+07, tolerance: 1.199e+05\n",
      "  model = cd_fast.enet_coordinate_descent(\n",
      "/usr/local/lib/python3.11/dist-packages/sklearn/linear_model/_sag.py:350: ConvergenceWarning: The max_iter was reached which means the coef_ did not converge\n",
      "  warnings.warn(\n"
     ]
    },
    {
     "name": "stdout",
     "output_type": "stream",
     "text": [
      "Classification dataset: adult - completed (1 / 99) ✅\n"
     ]
    },
    {
     "name": "stderr",
     "output_type": "stream",
     "text": [
      "/usr/local/lib/python3.11/dist-packages/oikan/model.py:290: UserWarning: To copy construct from a tensor, it is recommended to use sourceTensor.clone().detach() or sourceTensor.clone().detach().requires_grad_(True), rather than torch.tensor(sourceTensor).\n",
      "  torch.tensor(y, dtype=torch.float32))\n",
      "/usr/local/lib/python3.11/dist-packages/sklearn/linear_model/_coordinate_descent.py:631: ConvergenceWarning: Objective did not converge. You might want to increase the number of iterations, check the scale of the features or consider increasing regularisation. Duality gap: 2.469e+05, tolerance: 1.519e+03\n",
      "  model = cd_fast.enet_coordinate_descent(\n",
      "/usr/local/lib/python3.11/dist-packages/sklearn/linear_model/_coordinate_descent.py:631: ConvergenceWarning: Objective did not converge. You might want to increase the number of iterations, check the scale of the features or consider increasing regularisation. Duality gap: 2.572e+05, tolerance: 1.571e+03\n",
      "  model = cd_fast.enet_coordinate_descent(\n",
      "/usr/local/lib/python3.11/dist-packages/sklearn/linear_model/_coordinate_descent.py:631: ConvergenceWarning: Objective did not converge. You might want to increase the number of iterations, check the scale of the features or consider increasing regularisation. Duality gap: 2.486e+05, tolerance: 1.519e+03\n",
      "  model = cd_fast.enet_coordinate_descent(\n",
      "/usr/local/lib/python3.11/dist-packages/sklearn/linear_model/_coordinate_descent.py:631: ConvergenceWarning: Objective did not converge. You might want to increase the number of iterations, check the scale of the features or consider increasing regularisation. Duality gap: 2.585e+05, tolerance: 1.571e+03\n",
      "  model = cd_fast.enet_coordinate_descent(\n",
      "/usr/local/lib/python3.11/dist-packages/sklearn/linear_model/_sag.py:350: ConvergenceWarning: The max_iter was reached which means the coef_ did not converge\n",
      "  warnings.warn(\n"
     ]
    },
    {
     "name": "stdout",
     "output_type": "stream",
     "text": [
      "Classification dataset: mushroom - completed (2 / 99) ✅\n"
     ]
    },
    {
     "name": "stderr",
     "output_type": "stream",
     "text": [
      "/usr/local/lib/python3.11/dist-packages/oikan/model.py:290: UserWarning: To copy construct from a tensor, it is recommended to use sourceTensor.clone().detach() or sourceTensor.clone().detach().requires_grad_(True), rather than torch.tensor(sourceTensor).\n",
      "  torch.tensor(y, dtype=torch.float32))\n",
      "/usr/local/lib/python3.11/dist-packages/sklearn/linear_model/_coordinate_descent.py:631: ConvergenceWarning: Objective did not converge. You might want to increase the number of iterations, check the scale of the features or consider increasing regularisation. Duality gap: 1.956e+02, tolerance: 8.258e+00\n",
      "  model = cd_fast.enet_coordinate_descent(\n",
      "/usr/local/lib/python3.11/dist-packages/sklearn/linear_model/_coordinate_descent.py:631: ConvergenceWarning: Objective did not converge. You might want to increase the number of iterations, check the scale of the features or consider increasing regularisation. Duality gap: 3.041e+01, tolerance: 1.227e+00\n",
      "  model = cd_fast.enet_coordinate_descent(\n",
      "/usr/local/lib/python3.11/dist-packages/sklearn/linear_model/_coordinate_descent.py:631: ConvergenceWarning: Objective did not converge. You might want to increase the number of iterations, check the scale of the features or consider increasing regularisation. Duality gap: 1.607e+02, tolerance: 7.647e+00\n",
      "  model = cd_fast.enet_coordinate_descent(\n",
      "/usr/local/lib/python3.11/dist-packages/sklearn/linear_model/_coordinate_descent.py:631: ConvergenceWarning: Objective did not converge. You might want to increase the number of iterations, check the scale of the features or consider increasing regularisation. Duality gap: 2.803e+02, tolerance: 8.258e+00\n",
      "  model = cd_fast.enet_coordinate_descent(\n",
      "/usr/local/lib/python3.11/dist-packages/sklearn/linear_model/_coordinate_descent.py:631: ConvergenceWarning: Objective did not converge. You might want to increase the number of iterations, check the scale of the features or consider increasing regularisation. Duality gap: 6.919e+01, tolerance: 1.227e+00\n",
      "  model = cd_fast.enet_coordinate_descent(\n",
      "/usr/local/lib/python3.11/dist-packages/sklearn/linear_model/_coordinate_descent.py:631: ConvergenceWarning: Objective did not converge. You might want to increase the number of iterations, check the scale of the features or consider increasing regularisation. Duality gap: 2.876e+02, tolerance: 7.647e+00\n",
      "  model = cd_fast.enet_coordinate_descent(\n",
      "/usr/local/lib/python3.11/dist-packages/sklearn/linear_model/_sag.py:350: ConvergenceWarning: The max_iter was reached which means the coef_ did not converge\n",
      "  warnings.warn(\n"
     ]
    },
    {
     "name": "stdout",
     "output_type": "stream",
     "text": [
      "Classification dataset: iris - completed (3 / 99) ✅\n",
      "Error benchmarking classification dataset wine: Dataset not found in PMLB.\n",
      "Error benchmarking classification dataset breast_cancer_wisconsin: Dataset not found in PMLB.\n"
     ]
    },
    {
     "name": "stderr",
     "output_type": "stream",
     "text": [
      "/usr/local/lib/python3.11/dist-packages/oikan/model.py:290: UserWarning: To copy construct from a tensor, it is recommended to use sourceTensor.clone().detach() or sourceTensor.clone().detach().requires_grad_(True), rather than torch.tensor(sourceTensor).\n",
      "  torch.tensor(y, dtype=torch.float32))\n"
     ]
    },
    {
     "name": "stdout",
     "output_type": "stream",
     "text": [
      "Classification dataset: tic_tac_toe - completed (6 / 99) ✅\n"
     ]
    },
    {
     "name": "stderr",
     "output_type": "stream",
     "text": [
      "/usr/local/lib/python3.11/dist-packages/oikan/model.py:290: UserWarning: To copy construct from a tensor, it is recommended to use sourceTensor.clone().detach() or sourceTensor.clone().detach().requires_grad_(True), rather than torch.tensor(sourceTensor).\n",
      "  torch.tensor(y, dtype=torch.float32))\n",
      "/usr/local/lib/python3.11/dist-packages/sklearn/linear_model/_coordinate_descent.py:631: ConvergenceWarning: Objective did not converge. You might want to increase the number of iterations, check the scale of the features or consider increasing regularisation. Duality gap: 3.261e+02, tolerance: 5.788e+01\n",
      "  model = cd_fast.enet_coordinate_descent(\n",
      "/usr/local/lib/python3.11/dist-packages/sklearn/linear_model/_coordinate_descent.py:631: ConvergenceWarning: Objective did not converge. You might want to increase the number of iterations, check the scale of the features or consider increasing regularisation. Duality gap: 4.173e+02, tolerance: 7.185e+01\n",
      "  model = cd_fast.enet_coordinate_descent(\n",
      "/usr/local/lib/python3.11/dist-packages/sklearn/linear_model/_coordinate_descent.py:631: ConvergenceWarning: Objective did not converge. You might want to increase the number of iterations, check the scale of the features or consider increasing regularisation. Duality gap: 2.159e+02, tolerance: 2.580e+01\n",
      "  model = cd_fast.enet_coordinate_descent(\n",
      "/usr/local/lib/python3.11/dist-packages/sklearn/linear_model/_coordinate_descent.py:631: ConvergenceWarning: Objective did not converge. You might want to increase the number of iterations, check the scale of the features or consider increasing regularisation. Duality gap: 4.499e+02, tolerance: 7.433e+01\n",
      "  model = cd_fast.enet_coordinate_descent(\n",
      "/usr/local/lib/python3.11/dist-packages/sklearn/linear_model/_coordinate_descent.py:631: ConvergenceWarning: Objective did not converge. You might want to increase the number of iterations, check the scale of the features or consider increasing regularisation. Duality gap: 3.467e+02, tolerance: 5.788e+01\n",
      "  model = cd_fast.enet_coordinate_descent(\n",
      "/usr/local/lib/python3.11/dist-packages/sklearn/linear_model/_coordinate_descent.py:631: ConvergenceWarning: Objective did not converge. You might want to increase the number of iterations, check the scale of the features or consider increasing regularisation. Duality gap: 4.125e+02, tolerance: 7.185e+01\n",
      "  model = cd_fast.enet_coordinate_descent(\n",
      "/usr/local/lib/python3.11/dist-packages/sklearn/linear_model/_coordinate_descent.py:631: ConvergenceWarning: Objective did not converge. You might want to increase the number of iterations, check the scale of the features or consider increasing regularisation. Duality gap: 2.084e+02, tolerance: 2.580e+01\n",
      "  model = cd_fast.enet_coordinate_descent(\n",
      "/usr/local/lib/python3.11/dist-packages/sklearn/linear_model/_coordinate_descent.py:631: ConvergenceWarning: Objective did not converge. You might want to increase the number of iterations, check the scale of the features or consider increasing regularisation. Duality gap: 4.526e+02, tolerance: 7.433e+01\n",
      "  model = cd_fast.enet_coordinate_descent(\n",
      "/usr/local/lib/python3.11/dist-packages/sklearn/linear_model/_sag.py:350: ConvergenceWarning: The max_iter was reached which means the coef_ did not converge\n",
      "  warnings.warn(\n"
     ]
    },
    {
     "name": "stdout",
     "output_type": "stream",
     "text": [
      "Classification dataset: analcatdata_authorship - completed (7 / 99) ✅\n"
     ]
    },
    {
     "name": "stderr",
     "output_type": "stream",
     "text": [
      "/usr/local/lib/python3.11/dist-packages/oikan/model.py:290: UserWarning: To copy construct from a tensor, it is recommended to use sourceTensor.clone().detach() or sourceTensor.clone().detach().requires_grad_(True), rather than torch.tensor(sourceTensor).\n",
      "  torch.tensor(y, dtype=torch.float32))\n",
      "/usr/local/lib/python3.11/dist-packages/sklearn/linear_model/_coordinate_descent.py:631: ConvergenceWarning: Objective did not converge. You might want to increase the number of iterations, check the scale of the features or consider increasing regularisation. Duality gap: 1.039e+01, tolerance: 3.203e-02\n",
      "  model = cd_fast.enet_coordinate_descent(\n",
      "/usr/local/lib/python3.11/dist-packages/sklearn/linear_model/_coordinate_descent.py:631: ConvergenceWarning: Objective did not converge. You might want to increase the number of iterations, check the scale of the features or consider increasing regularisation. Duality gap: 1.598e+01, tolerance: 3.995e-02\n",
      "  model = cd_fast.enet_coordinate_descent(\n"
     ]
    },
    {
     "name": "stdout",
     "output_type": "stream",
     "text": [
      "Classification dataset: analcatdata_fraud - completed (8 / 99) ✅\n"
     ]
    },
    {
     "name": "stderr",
     "output_type": "stream",
     "text": [
      "/usr/local/lib/python3.11/dist-packages/oikan/model.py:290: UserWarning: To copy construct from a tensor, it is recommended to use sourceTensor.clone().detach() or sourceTensor.clone().detach().requires_grad_(True), rather than torch.tensor(sourceTensor).\n",
      "  torch.tensor(y, dtype=torch.float32))\n",
      "/usr/local/lib/python3.11/dist-packages/sklearn/linear_model/_coordinate_descent.py:631: ConvergenceWarning: Objective did not converge. You might want to increase the number of iterations, check the scale of the features or consider increasing regularisation. Duality gap: 7.246e+03, tolerance: 2.325e+03\n",
      "  model = cd_fast.enet_coordinate_descent(\n",
      "/usr/local/lib/python3.11/dist-packages/sklearn/linear_model/_coordinate_descent.py:631: ConvergenceWarning: Objective did not converge. You might want to increase the number of iterations, check the scale of the features or consider increasing regularisation. Duality gap: 7.053e+03, tolerance: 2.325e+03\n",
      "  model = cd_fast.enet_coordinate_descent(\n",
      "/usr/local/lib/python3.11/dist-packages/sklearn/linear_model/_sag.py:350: ConvergenceWarning: The max_iter was reached which means the coef_ did not converge\n",
      "  warnings.warn(\n"
     ]
    },
    {
     "name": "stdout",
     "output_type": "stream",
     "text": [
      "Classification dataset: penguins - completed (9 / 99) ✅\n"
     ]
    },
    {
     "name": "stderr",
     "output_type": "stream",
     "text": [
      "/usr/local/lib/python3.11/dist-packages/oikan/model.py:290: UserWarning: To copy construct from a tensor, it is recommended to use sourceTensor.clone().detach() or sourceTensor.clone().detach().requires_grad_(True), rather than torch.tensor(sourceTensor).\n",
      "  torch.tensor(y, dtype=torch.float32))\n"
     ]
    },
    {
     "name": "stdout",
     "output_type": "stream",
     "text": [
      "Classification dataset: monk3 - completed (10 / 99) ✅\n"
     ]
    },
    {
     "name": "stderr",
     "output_type": "stream",
     "text": [
      "/usr/local/lib/python3.11/dist-packages/oikan/model.py:290: UserWarning: To copy construct from a tensor, it is recommended to use sourceTensor.clone().detach() or sourceTensor.clone().detach().requires_grad_(True), rather than torch.tensor(sourceTensor).\n",
      "  torch.tensor(y, dtype=torch.float32))\n",
      "/usr/local/lib/python3.11/dist-packages/sklearn/linear_model/_coordinate_descent.py:631: ConvergenceWarning: Objective did not converge. You might want to increase the number of iterations, check the scale of the features or consider increasing regularisation. Duality gap: 2.059e+02, tolerance: 1.861e+00\n",
      "  model = cd_fast.enet_coordinate_descent(\n",
      "/usr/local/lib/python3.11/dist-packages/sklearn/linear_model/_coordinate_descent.py:631: ConvergenceWarning: Objective did not converge. You might want to increase the number of iterations, check the scale of the features or consider increasing regularisation. Duality gap: 2.082e+04, tolerance: 1.873e+02\n",
      "  model = cd_fast.enet_coordinate_descent(\n",
      "/usr/local/lib/python3.11/dist-packages/sklearn/linear_model/_coordinate_descent.py:631: ConvergenceWarning: Objective did not converge. You might want to increase the number of iterations, check the scale of the features or consider increasing regularisation. Duality gap: 1.934e+04, tolerance: 1.783e+02\n",
      "  model = cd_fast.enet_coordinate_descent(\n"
     ]
    },
    {
     "name": "stdout",
     "output_type": "stream",
     "text": [
      "Classification dataset: balance_scale - completed (11 / 99) ✅\n"
     ]
    },
    {
     "name": "stderr",
     "output_type": "stream",
     "text": [
      "/usr/local/lib/python3.11/dist-packages/oikan/model.py:290: UserWarning: To copy construct from a tensor, it is recommended to use sourceTensor.clone().detach() or sourceTensor.clone().detach().requires_grad_(True), rather than torch.tensor(sourceTensor).\n",
      "  torch.tensor(y, dtype=torch.float32))\n",
      "/usr/local/lib/python3.11/dist-packages/sklearn/linear_model/_coordinate_descent.py:631: ConvergenceWarning: Objective did not converge. You might want to increase the number of iterations, check the scale of the features or consider increasing regularisation. Duality gap: 3.577e+04, tolerance: 3.043e+02\n",
      "  model = cd_fast.enet_coordinate_descent(\n",
      "/usr/local/lib/python3.11/dist-packages/sklearn/linear_model/_coordinate_descent.py:631: ConvergenceWarning: Objective did not converge. You might want to increase the number of iterations, check the scale of the features or consider increasing regularisation. Duality gap: 3.512e+03, tolerance: 4.227e+01\n",
      "  model = cd_fast.enet_coordinate_descent(\n",
      "/usr/local/lib/python3.11/dist-packages/sklearn/linear_model/_coordinate_descent.py:631: ConvergenceWarning: Objective did not converge. You might want to increase the number of iterations, check the scale of the features or consider increasing regularisation. Duality gap: 4.959e+04, tolerance: 1.181e+03\n",
      "  model = cd_fast.enet_coordinate_descent(\n",
      "/usr/local/lib/python3.11/dist-packages/sklearn/linear_model/_coordinate_descent.py:631: ConvergenceWarning: Objective did not converge. You might want to increase the number of iterations, check the scale of the features or consider increasing regularisation. Duality gap: 1.009e+05, tolerance: 2.085e+03\n",
      "  model = cd_fast.enet_coordinate_descent(\n"
     ]
    },
    {
     "name": "stdout",
     "output_type": "stream",
     "text": [
      "Classification dataset: car_evaluation - completed (12 / 99) ✅\n",
      "Error benchmarking classification dataset credit_g: Dataset not found in PMLB.\n"
     ]
    },
    {
     "name": "stderr",
     "output_type": "stream",
     "text": [
      "/usr/local/lib/python3.11/dist-packages/oikan/model.py:290: UserWarning: To copy construct from a tensor, it is recommended to use sourceTensor.clone().detach() or sourceTensor.clone().detach().requires_grad_(True), rather than torch.tensor(sourceTensor).\n",
      "  torch.tensor(y, dtype=torch.float32))\n",
      "/usr/local/lib/python3.11/dist-packages/sklearn/linear_model/_coordinate_descent.py:631: ConvergenceWarning: Objective did not converge. You might want to increase the number of iterations, check the scale of the features or consider increasing regularisation. Duality gap: 5.181e+01, tolerance: 1.825e+01\n",
      "  model = cd_fast.enet_coordinate_descent(\n",
      "/usr/local/lib/python3.11/dist-packages/sklearn/linear_model/_coordinate_descent.py:631: ConvergenceWarning: Objective did not converge. You might want to increase the number of iterations, check the scale of the features or consider increasing regularisation. Duality gap: 4.877e+02, tolerance: 9.168e+00\n",
      "  model = cd_fast.enet_coordinate_descent(\n",
      "/usr/local/lib/python3.11/dist-packages/sklearn/linear_model/_coordinate_descent.py:631: ConvergenceWarning: Objective did not converge. You might want to increase the number of iterations, check the scale of the features or consider increasing regularisation. Duality gap: 1.974e+02, tolerance: 1.487e+01\n",
      "  model = cd_fast.enet_coordinate_descent(\n",
      "/usr/local/lib/python3.11/dist-packages/sklearn/linear_model/_coordinate_descent.py:631: ConvergenceWarning: Objective did not converge. You might want to increase the number of iterations, check the scale of the features or consider increasing regularisation. Duality gap: 9.462e+01, tolerance: 1.156e+01\n",
      "  model = cd_fast.enet_coordinate_descent(\n",
      "/usr/local/lib/python3.11/dist-packages/sklearn/linear_model/_coordinate_descent.py:631: ConvergenceWarning: Objective did not converge. You might want to increase the number of iterations, check the scale of the features or consider increasing regularisation. Duality gap: 6.887e+01, tolerance: 1.206e+01\n",
      "  model = cd_fast.enet_coordinate_descent(\n",
      "/usr/local/lib/python3.11/dist-packages/sklearn/linear_model/_coordinate_descent.py:631: ConvergenceWarning: Objective did not converge. You might want to increase the number of iterations, check the scale of the features or consider increasing regularisation. Duality gap: 1.151e+01, tolerance: 4.452e+00\n",
      "  model = cd_fast.enet_coordinate_descent(\n",
      "/usr/local/lib/python3.11/dist-packages/sklearn/linear_model/_coordinate_descent.py:631: ConvergenceWarning: Objective did not converge. You might want to increase the number of iterations, check the scale of the features or consider increasing regularisation. Duality gap: 8.562e+02, tolerance: 1.825e+01\n",
      "  model = cd_fast.enet_coordinate_descent(\n",
      "/usr/local/lib/python3.11/dist-packages/sklearn/linear_model/_coordinate_descent.py:631: ConvergenceWarning: Objective did not converge. You might want to increase the number of iterations, check the scale of the features or consider increasing regularisation. Duality gap: 4.891e+02, tolerance: 9.168e+00\n",
      "  model = cd_fast.enet_coordinate_descent(\n",
      "/usr/local/lib/python3.11/dist-packages/sklearn/linear_model/_coordinate_descent.py:631: ConvergenceWarning: Objective did not converge. You might want to increase the number of iterations, check the scale of the features or consider increasing regularisation. Duality gap: 6.548e+02, tolerance: 1.487e+01\n",
      "  model = cd_fast.enet_coordinate_descent(\n",
      "/usr/local/lib/python3.11/dist-packages/sklearn/linear_model/_coordinate_descent.py:631: ConvergenceWarning: Objective did not converge. You might want to increase the number of iterations, check the scale of the features or consider increasing regularisation. Duality gap: 1.552e+03, tolerance: 1.156e+01\n",
      "  model = cd_fast.enet_coordinate_descent(\n",
      "/usr/local/lib/python3.11/dist-packages/sklearn/linear_model/_coordinate_descent.py:631: ConvergenceWarning: Objective did not converge. You might want to increase the number of iterations, check the scale of the features or consider increasing regularisation. Duality gap: 2.972e+02, tolerance: 1.206e+01\n",
      "  model = cd_fast.enet_coordinate_descent(\n",
      "/usr/local/lib/python3.11/dist-packages/sklearn/linear_model/_coordinate_descent.py:631: ConvergenceWarning: Objective did not converge. You might want to increase the number of iterations, check the scale of the features or consider increasing regularisation. Duality gap: 4.512e+01, tolerance: 4.452e+00\n",
      "  model = cd_fast.enet_coordinate_descent(\n",
      "/usr/local/lib/python3.11/dist-packages/sklearn/linear_model/_sag.py:350: ConvergenceWarning: The max_iter was reached which means the coef_ did not converge\n",
      "  warnings.warn(\n"
     ]
    },
    {
     "name": "stdout",
     "output_type": "stream",
     "text": [
      "Classification dataset: dermatology - completed (14 / 99) ✅\n",
      "Error benchmarking classification dataset glass: Dataset not found in PMLB.\n",
      "Error benchmarking classification dataset heart_c: Dataset not found in PMLB.\n"
     ]
    },
    {
     "name": "stderr",
     "output_type": "stream",
     "text": [
      "/usr/local/lib/python3.11/dist-packages/oikan/model.py:290: UserWarning: To copy construct from a tensor, it is recommended to use sourceTensor.clone().detach() or sourceTensor.clone().detach().requires_grad_(True), rather than torch.tensor(sourceTensor).\n",
      "  torch.tensor(y, dtype=torch.float32))\n"
     ]
    },
    {
     "name": "stdout",
     "output_type": "stream",
     "text": [
      "Classification dataset: ionosphere - completed (17 / 99) ✅\n"
     ]
    },
    {
     "name": "stderr",
     "output_type": "stream",
     "text": [
      "/usr/local/lib/python3.11/dist-packages/oikan/model.py:290: UserWarning: To copy construct from a tensor, it is recommended to use sourceTensor.clone().detach() or sourceTensor.clone().detach().requires_grad_(True), rather than torch.tensor(sourceTensor).\n",
      "  torch.tensor(y, dtype=torch.float32))\n"
     ]
    },
    {
     "name": "stdout",
     "output_type": "stream",
     "text": [
      "Classification dataset: kr_vs_kp - completed (18 / 99) ✅\n"
     ]
    },
    {
     "name": "stderr",
     "output_type": "stream",
     "text": [
      "/usr/local/lib/python3.11/dist-packages/oikan/model.py:290: UserWarning: To copy construct from a tensor, it is recommended to use sourceTensor.clone().detach() or sourceTensor.clone().detach().requires_grad_(True), rather than torch.tensor(sourceTensor).\n",
      "  torch.tensor(y, dtype=torch.float32))\n",
      "/usr/local/lib/python3.11/dist-packages/sklearn/linear_model/_coordinate_descent.py:631: ConvergenceWarning: Objective did not converge. You might want to increase the number of iterations, check the scale of the features or consider increasing regularisation. Duality gap: 6.630e+00, tolerance: 9.019e-01\n",
      "  model = cd_fast.enet_coordinate_descent(\n",
      "/usr/local/lib/python3.11/dist-packages/sklearn/linear_model/_coordinate_descent.py:631: ConvergenceWarning: Objective did not converge. You might want to increase the number of iterations, check the scale of the features or consider increasing regularisation. Duality gap: 1.351e+01, tolerance: 6.976e-01\n",
      "  model = cd_fast.enet_coordinate_descent(\n",
      "/usr/local/lib/python3.11/dist-packages/sklearn/linear_model/_coordinate_descent.py:631: ConvergenceWarning: Objective did not converge. You might want to increase the number of iterations, check the scale of the features or consider increasing regularisation. Duality gap: 1.299e+01, tolerance: 2.506e+00\n",
      "  model = cd_fast.enet_coordinate_descent(\n",
      "/usr/local/lib/python3.11/dist-packages/sklearn/linear_model/_coordinate_descent.py:631: ConvergenceWarning: Objective did not converge. You might want to increase the number of iterations, check the scale of the features or consider increasing regularisation. Duality gap: 6.655e+01, tolerance: 1.473e+00\n",
      "  model = cd_fast.enet_coordinate_descent(\n",
      "/usr/local/lib/python3.11/dist-packages/sklearn/linear_model/_coordinate_descent.py:631: ConvergenceWarning: Objective did not converge. You might want to increase the number of iterations, check the scale of the features or consider increasing regularisation. Duality gap: 1.597e+02, tolerance: 9.019e-01\n",
      "  model = cd_fast.enet_coordinate_descent(\n",
      "/usr/local/lib/python3.11/dist-packages/sklearn/linear_model/_coordinate_descent.py:631: ConvergenceWarning: Objective did not converge. You might want to increase the number of iterations, check the scale of the features or consider increasing regularisation. Duality gap: 1.979e+01, tolerance: 6.976e-01\n",
      "  model = cd_fast.enet_coordinate_descent(\n",
      "/usr/local/lib/python3.11/dist-packages/sklearn/linear_model/_coordinate_descent.py:631: ConvergenceWarning: Objective did not converge. You might want to increase the number of iterations, check the scale of the features or consider increasing regularisation. Duality gap: 1.377e+02, tolerance: 2.506e+00\n",
      "  model = cd_fast.enet_coordinate_descent(\n",
      "/usr/local/lib/python3.11/dist-packages/sklearn/linear_model/_sag.py:350: ConvergenceWarning: The max_iter was reached which means the coef_ did not converge\n",
      "  warnings.warn(\n"
     ]
    },
    {
     "name": "stdout",
     "output_type": "stream",
     "text": [
      "Classification dataset: lymphography - completed (19 / 99) ✅\n",
      "Error benchmarking classification dataset zoo: Dataset not found in PMLB.\n"
     ]
    },
    {
     "name": "stderr",
     "output_type": "stream",
     "text": [
      "/usr/local/lib/python3.11/dist-packages/oikan/model.py:290: UserWarning: To copy construct from a tensor, it is recommended to use sourceTensor.clone().detach() or sourceTensor.clone().detach().requires_grad_(True), rather than torch.tensor(sourceTensor).\n",
      "  torch.tensor(y, dtype=torch.float32))\n",
      "/usr/local/lib/python3.11/dist-packages/sklearn/linear_model/_coordinate_descent.py:631: ConvergenceWarning: Objective did not converge. You might want to increase the number of iterations, check the scale of the features or consider increasing regularisation. Duality gap: 5.304e+01, tolerance: 5.904e-02\n",
      "  model = cd_fast.enet_coordinate_descent(\n",
      "/usr/local/lib/python3.11/dist-packages/sklearn/linear_model/_coordinate_descent.py:631: ConvergenceWarning: Objective did not converge. You might want to increase the number of iterations, check the scale of the features or consider increasing regularisation. Duality gap: 3.149e+01, tolerance: 7.083e-02\n",
      "  model = cd_fast.enet_coordinate_descent(\n"
     ]
    },
    {
     "name": "stdout",
     "output_type": "stream",
     "text": [
      "Classification dataset: analcatdata_boxing1 - completed (21 / 99) ✅\n"
     ]
    },
    {
     "name": "stderr",
     "output_type": "stream",
     "text": [
      "/usr/local/lib/python3.11/dist-packages/oikan/model.py:290: UserWarning: To copy construct from a tensor, it is recommended to use sourceTensor.clone().detach() or sourceTensor.clone().detach().requires_grad_(True), rather than torch.tensor(sourceTensor).\n",
      "  torch.tensor(y, dtype=torch.float32))\n",
      "/usr/local/lib/python3.11/dist-packages/sklearn/linear_model/_coordinate_descent.py:631: ConvergenceWarning: Objective did not converge. You might want to increase the number of iterations, check the scale of the features or consider increasing regularisation. Duality gap: 1.807e+01, tolerance: 5.064e-02\n",
      "  model = cd_fast.enet_coordinate_descent(\n",
      "/usr/local/lib/python3.11/dist-packages/sklearn/linear_model/_coordinate_descent.py:631: ConvergenceWarning: Objective did not converge. You might want to increase the number of iterations, check the scale of the features or consider increasing regularisation. Duality gap: 1.750e+01, tolerance: 3.189e-02\n",
      "  model = cd_fast.enet_coordinate_descent(\n"
     ]
    },
    {
     "name": "stdout",
     "output_type": "stream",
     "text": [
      "Classification dataset: analcatdata_boxing2 - completed (22 / 99) ✅\n"
     ]
    },
    {
     "name": "stderr",
     "output_type": "stream",
     "text": [
      "/usr/local/lib/python3.11/dist-packages/oikan/model.py:290: UserWarning: To copy construct from a tensor, it is recommended to use sourceTensor.clone().detach() or sourceTensor.clone().detach().requires_grad_(True), rather than torch.tensor(sourceTensor).\n",
      "  torch.tensor(y, dtype=torch.float32))\n",
      "/usr/local/lib/python3.11/dist-packages/sklearn/linear_model/_sag.py:350: ConvergenceWarning: The max_iter was reached which means the coef_ did not converge\n",
      "  warnings.warn(\n"
     ]
    },
    {
     "name": "stdout",
     "output_type": "stream",
     "text": [
      "Classification dataset: analcatdata_creditscore - completed (23 / 99) ✅\n"
     ]
    },
    {
     "name": "stderr",
     "output_type": "stream",
     "text": [
      "/usr/local/lib/python3.11/dist-packages/oikan/model.py:290: UserWarning: To copy construct from a tensor, it is recommended to use sourceTensor.clone().detach() or sourceTensor.clone().detach().requires_grad_(True), rather than torch.tensor(sourceTensor).\n",
      "  torch.tensor(y, dtype=torch.float32))\n",
      "/usr/local/lib/python3.11/dist-packages/sklearn/linear_model/_coordinate_descent.py:631: ConvergenceWarning: Objective did not converge. You might want to increase the number of iterations, check the scale of the features or consider increasing regularisation. Duality gap: 5.493e+02, tolerance: 4.657e-01\n",
      "  model = cd_fast.enet_coordinate_descent(\n",
      "/usr/local/lib/python3.11/dist-packages/sklearn/linear_model/_coordinate_descent.py:631: ConvergenceWarning: Objective did not converge. You might want to increase the number of iterations, check the scale of the features or consider increasing regularisation. Duality gap: 6.989e+00, tolerance: 1.958e-01\n",
      "  model = cd_fast.enet_coordinate_descent(\n",
      "/usr/local/lib/python3.11/dist-packages/sklearn/linear_model/_coordinate_descent.py:631: ConvergenceWarning: Objective did not converge. You might want to increase the number of iterations, check the scale of the features or consider increasing regularisation. Duality gap: 1.921e+02, tolerance: 5.327e-01\n",
      "  model = cd_fast.enet_coordinate_descent(\n",
      "/usr/local/lib/python3.11/dist-packages/sklearn/linear_model/_coordinate_descent.py:631: ConvergenceWarning: Objective did not converge. You might want to increase the number of iterations, check the scale of the features or consider increasing regularisation. Duality gap: 2.359e+01, tolerance: 1.905e-01\n",
      "  model = cd_fast.enet_coordinate_descent(\n",
      "/usr/local/lib/python3.11/dist-packages/sklearn/linear_model/_coordinate_descent.py:631: ConvergenceWarning: Objective did not converge. You might want to increase the number of iterations, check the scale of the features or consider increasing regularisation. Duality gap: 7.269e+01, tolerance: 3.197e-01\n",
      "  model = cd_fast.enet_coordinate_descent(\n"
     ]
    },
    {
     "name": "stdout",
     "output_type": "stream",
     "text": [
      "Classification dataset: analcatdata_dmft - completed (24 / 99) ✅\n"
     ]
    },
    {
     "name": "stderr",
     "output_type": "stream",
     "text": [
      "/usr/local/lib/python3.11/dist-packages/oikan/model.py:290: UserWarning: To copy construct from a tensor, it is recommended to use sourceTensor.clone().detach() or sourceTensor.clone().detach().requires_grad_(True), rather than torch.tensor(sourceTensor).\n",
      "  torch.tensor(y, dtype=torch.float32))\n",
      "/usr/local/lib/python3.11/dist-packages/sklearn/linear_model/_coordinate_descent.py:631: ConvergenceWarning: Objective did not converge. You might want to increase the number of iterations, check the scale of the features or consider increasing regularisation. Duality gap: 3.844e+02, tolerance: 7.923e+00\n",
      "  model = cd_fast.enet_coordinate_descent(\n",
      "/usr/local/lib/python3.11/dist-packages/sklearn/linear_model/_coordinate_descent.py:631: ConvergenceWarning: Objective did not converge. You might want to increase the number of iterations, check the scale of the features or consider increasing regularisation. Duality gap: 3.674e+02, tolerance: 8.458e+00\n",
      "  model = cd_fast.enet_coordinate_descent(\n",
      "/usr/local/lib/python3.11/dist-packages/sklearn/linear_model/_coordinate_descent.py:631: ConvergenceWarning: Objective did not converge. You might want to increase the number of iterations, check the scale of the features or consider increasing regularisation. Duality gap: 2.813e+02, tolerance: 7.923e+00\n",
      "  model = cd_fast.enet_coordinate_descent(\n",
      "/usr/local/lib/python3.11/dist-packages/sklearn/linear_model/_coordinate_descent.py:631: ConvergenceWarning: Objective did not converge. You might want to increase the number of iterations, check the scale of the features or consider increasing regularisation. Duality gap: 3.085e+02, tolerance: 8.458e+00\n",
      "  model = cd_fast.enet_coordinate_descent(\n",
      "/usr/local/lib/python3.11/dist-packages/sklearn/linear_model/_sag.py:350: ConvergenceWarning: The max_iter was reached which means the coef_ did not converge\n",
      "  warnings.warn(\n"
     ]
    },
    {
     "name": "stdout",
     "output_type": "stream",
     "text": [
      "Classification dataset: analcatdata_lawsuit - completed (25 / 99) ✅\n",
      "Error benchmarking classification dataset analcatdata_supreme: Dataset not found in PMLB.\n"
     ]
    },
    {
     "name": "stderr",
     "output_type": "stream",
     "text": [
      "/usr/local/lib/python3.11/dist-packages/oikan/model.py:290: UserWarning: To copy construct from a tensor, it is recommended to use sourceTensor.clone().detach() or sourceTensor.clone().detach().requires_grad_(True), rather than torch.tensor(sourceTensor).\n",
      "  torch.tensor(y, dtype=torch.float32))\n"
     ]
    },
    {
     "name": "stdout",
     "output_type": "stream",
     "text": [
      "Classification dataset: appendicitis - completed (27 / 99) ✅\n",
      "Error benchmarking classification dataset australian: Dataset not found in PMLB.\n"
     ]
    },
    {
     "name": "stderr",
     "output_type": "stream",
     "text": [
      "/usr/local/lib/python3.11/dist-packages/oikan/model.py:290: UserWarning: To copy construct from a tensor, it is recommended to use sourceTensor.clone().detach() or sourceTensor.clone().detach().requires_grad_(True), rather than torch.tensor(sourceTensor).\n",
      "  torch.tensor(y, dtype=torch.float32))\n",
      "/usr/local/lib/python3.11/dist-packages/sklearn/linear_model/_coordinate_descent.py:631: ConvergenceWarning: Objective did not converge. You might want to increase the number of iterations, check the scale of the features or consider increasing regularisation. Duality gap: 2.145e+02, tolerance: 1.106e+00\n",
      "  model = cd_fast.enet_coordinate_descent(\n",
      "/usr/local/lib/python3.11/dist-packages/sklearn/linear_model/_coordinate_descent.py:631: ConvergenceWarning: Objective did not converge. You might want to increase the number of iterations, check the scale of the features or consider increasing regularisation. Duality gap: 1.593e+02, tolerance: 3.969e-01\n",
      "  model = cd_fast.enet_coordinate_descent(\n",
      "/usr/local/lib/python3.11/dist-packages/sklearn/linear_model/_coordinate_descent.py:631: ConvergenceWarning: Objective did not converge. You might want to increase the number of iterations, check the scale of the features or consider increasing regularisation. Duality gap: 9.767e+01, tolerance: 1.106e+00\n",
      "  model = cd_fast.enet_coordinate_descent(\n",
      "/usr/local/lib/python3.11/dist-packages/sklearn/linear_model/_coordinate_descent.py:631: ConvergenceWarning: Objective did not converge. You might want to increase the number of iterations, check the scale of the features or consider increasing regularisation. Duality gap: 7.300e+01, tolerance: 3.969e-01\n",
      "  model = cd_fast.enet_coordinate_descent(\n",
      "/usr/local/lib/python3.11/dist-packages/sklearn/linear_model/_sag.py:350: ConvergenceWarning: The max_iter was reached which means the coef_ did not converge\n",
      "  warnings.warn(\n"
     ]
    },
    {
     "name": "stdout",
     "output_type": "stream",
     "text": [
      "Classification dataset: backache - completed (29 / 99) ✅\n"
     ]
    },
    {
     "name": "stderr",
     "output_type": "stream",
     "text": [
      "/usr/local/lib/python3.11/dist-packages/oikan/model.py:290: UserWarning: To copy construct from a tensor, it is recommended to use sourceTensor.clone().detach() or sourceTensor.clone().detach().requires_grad_(True), rather than torch.tensor(sourceTensor).\n",
      "  torch.tensor(y, dtype=torch.float32))\n",
      "/usr/local/lib/python3.11/dist-packages/sklearn/linear_model/_sag.py:350: ConvergenceWarning: The max_iter was reached which means the coef_ did not converge\n",
      "  warnings.warn(\n"
     ]
    },
    {
     "name": "stdout",
     "output_type": "stream",
     "text": [
      "Classification dataset: biomed - completed (30 / 99) ✅\n"
     ]
    },
    {
     "name": "stderr",
     "output_type": "stream",
     "text": [
      "/usr/local/lib/python3.11/dist-packages/oikan/model.py:290: UserWarning: To copy construct from a tensor, it is recommended to use sourceTensor.clone().detach() or sourceTensor.clone().detach().requires_grad_(True), rather than torch.tensor(sourceTensor).\n",
      "  torch.tensor(y, dtype=torch.float32))\n",
      "/usr/local/lib/python3.11/dist-packages/sklearn/linear_model/_coordinate_descent.py:631: ConvergenceWarning: Objective did not converge. You might want to increase the number of iterations, check the scale of the features or consider increasing regularisation. Duality gap: 5.948e+01, tolerance: 6.488e+00\n",
      "  model = cd_fast.enet_coordinate_descent(\n",
      "/usr/local/lib/python3.11/dist-packages/sklearn/linear_model/_coordinate_descent.py:631: ConvergenceWarning: Objective did not converge. You might want to increase the number of iterations, check the scale of the features or consider increasing regularisation. Duality gap: 2.267e+02, tolerance: 3.271e+00\n",
      "  model = cd_fast.enet_coordinate_descent(\n",
      "/usr/local/lib/python3.11/dist-packages/sklearn/linear_model/_coordinate_descent.py:631: ConvergenceWarning: Objective did not converge. You might want to increase the number of iterations, check the scale of the features or consider increasing regularisation. Duality gap: 5.585e+01, tolerance: 6.488e+00\n",
      "  model = cd_fast.enet_coordinate_descent(\n",
      "/usr/local/lib/python3.11/dist-packages/sklearn/linear_model/_coordinate_descent.py:631: ConvergenceWarning: Objective did not converge. You might want to increase the number of iterations, check the scale of the features or consider increasing regularisation. Duality gap: 1.376e+02, tolerance: 3.271e+00\n",
      "  model = cd_fast.enet_coordinate_descent(\n"
     ]
    },
    {
     "name": "stdout",
     "output_type": "stream",
     "text": [
      "Classification dataset: bupa - completed (31 / 99) ✅\n"
     ]
    },
    {
     "name": "stderr",
     "output_type": "stream",
     "text": [
      "/usr/local/lib/python3.11/dist-packages/oikan/model.py:290: UserWarning: To copy construct from a tensor, it is recommended to use sourceTensor.clone().detach() or sourceTensor.clone().detach().requires_grad_(True), rather than torch.tensor(sourceTensor).\n",
      "  torch.tensor(y, dtype=torch.float32))\n",
      "/usr/local/lib/python3.11/dist-packages/sklearn/linear_model/_coordinate_descent.py:631: ConvergenceWarning: Objective did not converge. You might want to increase the number of iterations, check the scale of the features or consider increasing regularisation. Duality gap: 5.694e+01, tolerance: 3.117e+01\n",
      "  model = cd_fast.enet_coordinate_descent(\n",
      "/usr/local/lib/python3.11/dist-packages/sklearn/linear_model/_coordinate_descent.py:631: ConvergenceWarning: Objective did not converge. You might want to increase the number of iterations, check the scale of the features or consider increasing regularisation. Duality gap: 2.691e+01, tolerance: 1.276e+01\n",
      "  model = cd_fast.enet_coordinate_descent(\n",
      "/usr/local/lib/python3.11/dist-packages/sklearn/linear_model/_coordinate_descent.py:631: ConvergenceWarning: Objective did not converge. You might want to increase the number of iterations, check the scale of the features or consider increasing regularisation. Duality gap: 5.678e+01, tolerance: 3.117e+01\n",
      "  model = cd_fast.enet_coordinate_descent(\n",
      "/usr/local/lib/python3.11/dist-packages/sklearn/linear_model/_coordinate_descent.py:631: ConvergenceWarning: Objective did not converge. You might want to increase the number of iterations, check the scale of the features or consider increasing regularisation. Duality gap: 2.642e+01, tolerance: 1.276e+01\n",
      "  model = cd_fast.enet_coordinate_descent(\n",
      "/usr/local/lib/python3.11/dist-packages/sklearn/linear_model/_sag.py:350: ConvergenceWarning: The max_iter was reached which means the coef_ did not converge\n",
      "  warnings.warn(\n"
     ]
    },
    {
     "name": "stdout",
     "output_type": "stream",
     "text": [
      "Classification dataset: clean1 - completed (32 / 99) ✅\n"
     ]
    },
    {
     "name": "stderr",
     "output_type": "stream",
     "text": [
      "/usr/local/lib/python3.11/dist-packages/oikan/model.py:290: UserWarning: To copy construct from a tensor, it is recommended to use sourceTensor.clone().detach() or sourceTensor.clone().detach().requires_grad_(True), rather than torch.tensor(sourceTensor).\n",
      "  torch.tensor(y, dtype=torch.float32))\n",
      "/usr/local/lib/python3.11/dist-packages/sklearn/linear_model/_coordinate_descent.py:631: ConvergenceWarning: Objective did not converge. You might want to increase the number of iterations, check the scale of the features or consider increasing regularisation. Duality gap: 9.048e+03, tolerance: 1.804e+03\n",
      "  model = cd_fast.enet_coordinate_descent(\n",
      "/usr/local/lib/python3.11/dist-packages/sklearn/linear_model/_coordinate_descent.py:631: ConvergenceWarning: Objective did not converge. You might want to increase the number of iterations, check the scale of the features or consider increasing regularisation. Duality gap: 1.154e+04, tolerance: 4.419e+03\n",
      "  model = cd_fast.enet_coordinate_descent(\n",
      "/usr/local/lib/python3.11/dist-packages/sklearn/linear_model/_coordinate_descent.py:631: ConvergenceWarning: Objective did not converge. You might want to increase the number of iterations, check the scale of the features or consider increasing regularisation. Duality gap: 9.010e+03, tolerance: 1.804e+03\n",
      "  model = cd_fast.enet_coordinate_descent(\n",
      "/usr/local/lib/python3.11/dist-packages/sklearn/linear_model/_coordinate_descent.py:631: ConvergenceWarning: Objective did not converge. You might want to increase the number of iterations, check the scale of the features or consider increasing regularisation. Duality gap: 1.150e+04, tolerance: 4.419e+03\n",
      "  model = cd_fast.enet_coordinate_descent(\n",
      "/usr/local/lib/python3.11/dist-packages/sklearn/linear_model/_sag.py:350: ConvergenceWarning: The max_iter was reached which means the coef_ did not converge\n",
      "  warnings.warn(\n"
     ]
    },
    {
     "name": "stdout",
     "output_type": "stream",
     "text": [
      "Classification dataset: clean2 - completed (33 / 99) ✅\n"
     ]
    },
    {
     "name": "stderr",
     "output_type": "stream",
     "text": [
      "/usr/local/lib/python3.11/dist-packages/oikan/model.py:290: UserWarning: To copy construct from a tensor, it is recommended to use sourceTensor.clone().detach() or sourceTensor.clone().detach().requires_grad_(True), rather than torch.tensor(sourceTensor).\n",
      "  torch.tensor(y, dtype=torch.float32))\n",
      "/usr/local/lib/python3.11/dist-packages/sklearn/linear_model/_coordinate_descent.py:631: ConvergenceWarning: Objective did not converge. You might want to increase the number of iterations, check the scale of the features or consider increasing regularisation. Duality gap: 3.807e+05, tolerance: 8.082e+02\n",
      "  model = cd_fast.enet_coordinate_descent(\n",
      "/usr/local/lib/python3.11/dist-packages/sklearn/linear_model/_coordinate_descent.py:631: ConvergenceWarning: Objective did not converge. You might want to increase the number of iterations, check the scale of the features or consider increasing regularisation. Duality gap: 3.976e+05, tolerance: 8.880e+02\n",
      "  model = cd_fast.enet_coordinate_descent(\n",
      "/usr/local/lib/python3.11/dist-packages/sklearn/linear_model/_coordinate_descent.py:631: ConvergenceWarning: Objective did not converge. You might want to increase the number of iterations, check the scale of the features or consider increasing regularisation. Duality gap: 3.744e+05, tolerance: 8.082e+02\n",
      "  model = cd_fast.enet_coordinate_descent(\n",
      "/usr/local/lib/python3.11/dist-packages/sklearn/linear_model/_coordinate_descent.py:631: ConvergenceWarning: Objective did not converge. You might want to increase the number of iterations, check the scale of the features or consider increasing regularisation. Duality gap: 3.860e+05, tolerance: 8.880e+02\n",
      "  model = cd_fast.enet_coordinate_descent(\n",
      "/usr/local/lib/python3.11/dist-packages/sklearn/linear_model/_sag.py:350: ConvergenceWarning: The max_iter was reached which means the coef_ did not converge\n",
      "  warnings.warn(\n"
     ]
    },
    {
     "name": "stdout",
     "output_type": "stream",
     "text": [
      "Classification dataset: coil2000 - completed (34 / 99) ✅\n"
     ]
    },
    {
     "name": "stderr",
     "output_type": "stream",
     "text": [
      "/usr/local/lib/python3.11/dist-packages/oikan/model.py:290: UserWarning: To copy construct from a tensor, it is recommended to use sourceTensor.clone().detach() or sourceTensor.clone().detach().requires_grad_(True), rather than torch.tensor(sourceTensor).\n",
      "  torch.tensor(y, dtype=torch.float32))\n",
      "/usr/local/lib/python3.11/dist-packages/sklearn/linear_model/_coordinate_descent.py:631: ConvergenceWarning: Objective did not converge. You might want to increase the number of iterations, check the scale of the features or consider increasing regularisation. Duality gap: 8.989e+03, tolerance: 3.816e+01\n",
      "  model = cd_fast.enet_coordinate_descent(\n",
      "/usr/local/lib/python3.11/dist-packages/sklearn/linear_model/_coordinate_descent.py:631: ConvergenceWarning: Objective did not converge. You might want to increase the number of iterations, check the scale of the features or consider increasing regularisation. Duality gap: 2.799e+03, tolerance: 9.822e+01\n",
      "  model = cd_fast.enet_coordinate_descent(\n",
      "/usr/local/lib/python3.11/dist-packages/sklearn/linear_model/_coordinate_descent.py:631: ConvergenceWarning: Objective did not converge. You might want to increase the number of iterations, check the scale of the features or consider increasing regularisation. Duality gap: 1.225e+04, tolerance: 1.608e+01\n",
      "  model = cd_fast.enet_coordinate_descent(\n",
      "/usr/local/lib/python3.11/dist-packages/sklearn/linear_model/_coordinate_descent.py:631: ConvergenceWarning: Objective did not converge. You might want to increase the number of iterations, check the scale of the features or consider increasing regularisation. Duality gap: 1.798e+04, tolerance: 1.192e+01\n",
      "  model = cd_fast.enet_coordinate_descent(\n",
      "/usr/local/lib/python3.11/dist-packages/sklearn/linear_model/_coordinate_descent.py:631: ConvergenceWarning: Objective did not converge. You might want to increase the number of iterations, check the scale of the features or consider increasing regularisation. Duality gap: 8.729e+03, tolerance: 1.231e+01\n",
      "  model = cd_fast.enet_coordinate_descent(\n",
      "/usr/local/lib/python3.11/dist-packages/sklearn/linear_model/_coordinate_descent.py:631: ConvergenceWarning: Objective did not converge. You might want to increase the number of iterations, check the scale of the features or consider increasing regularisation. Duality gap: 5.645e+03, tolerance: 1.513e+01\n",
      "  model = cd_fast.enet_coordinate_descent(\n",
      "/usr/local/lib/python3.11/dist-packages/sklearn/linear_model/_coordinate_descent.py:631: ConvergenceWarning: Objective did not converge. You might want to increase the number of iterations, check the scale of the features or consider increasing regularisation. Duality gap: 7.473e+03, tolerance: 4.276e+01\n",
      "  model = cd_fast.enet_coordinate_descent(\n",
      "/usr/local/lib/python3.11/dist-packages/sklearn/linear_model/_coordinate_descent.py:631: ConvergenceWarning: Objective did not converge. You might want to increase the number of iterations, check the scale of the features or consider increasing regularisation. Duality gap: 2.922e+03, tolerance: 3.019e+01\n",
      "  model = cd_fast.enet_coordinate_descent(\n",
      "/usr/local/lib/python3.11/dist-packages/sklearn/linear_model/_coordinate_descent.py:631: ConvergenceWarning: Objective did not converge. You might want to increase the number of iterations, check the scale of the features or consider increasing regularisation. Duality gap: 2.033e+03, tolerance: 4.172e+01\n",
      "  model = cd_fast.enet_coordinate_descent(\n",
      "/usr/local/lib/python3.11/dist-packages/sklearn/linear_model/_coordinate_descent.py:631: ConvergenceWarning: Objective did not converge. You might want to increase the number of iterations, check the scale of the features or consider increasing regularisation. Duality gap: 2.066e+03, tolerance: 3.404e+01\n",
      "  model = cd_fast.enet_coordinate_descent(\n",
      "/usr/local/lib/python3.11/dist-packages/sklearn/linear_model/_coordinate_descent.py:631: ConvergenceWarning: Objective did not converge. You might want to increase the number of iterations, check the scale of the features or consider increasing regularisation. Duality gap: 1.994e+03, tolerance: 5.156e+01\n",
      "  model = cd_fast.enet_coordinate_descent(\n",
      "/usr/local/lib/python3.11/dist-packages/sklearn/linear_model/_coordinate_descent.py:631: ConvergenceWarning: Objective did not converge. You might want to increase the number of iterations, check the scale of the features or consider increasing regularisation. Duality gap: 8.770e+02, tolerance: 4.785e+01\n",
      "  model = cd_fast.enet_coordinate_descent(\n",
      "/usr/local/lib/python3.11/dist-packages/sklearn/linear_model/_coordinate_descent.py:631: ConvergenceWarning: Objective did not converge. You might want to increase the number of iterations, check the scale of the features or consider increasing regularisation. Duality gap: 1.452e+03, tolerance: 7.528e+01\n",
      "  model = cd_fast.enet_coordinate_descent(\n",
      "/usr/local/lib/python3.11/dist-packages/sklearn/linear_model/_coordinate_descent.py:631: ConvergenceWarning: Objective did not converge. You might want to increase the number of iterations, check the scale of the features or consider increasing regularisation. Duality gap: 6.999e+03, tolerance: 3.816e+01\n",
      "  model = cd_fast.enet_coordinate_descent(\n",
      "/usr/local/lib/python3.11/dist-packages/sklearn/linear_model/_coordinate_descent.py:631: ConvergenceWarning: Objective did not converge. You might want to increase the number of iterations, check the scale of the features or consider increasing regularisation. Duality gap: 2.344e+03, tolerance: 9.822e+01\n",
      "  model = cd_fast.enet_coordinate_descent(\n",
      "/usr/local/lib/python3.11/dist-packages/sklearn/linear_model/_coordinate_descent.py:631: ConvergenceWarning: Objective did not converge. You might want to increase the number of iterations, check the scale of the features or consider increasing regularisation. Duality gap: 1.014e+04, tolerance: 1.608e+01\n",
      "  model = cd_fast.enet_coordinate_descent(\n",
      "/usr/local/lib/python3.11/dist-packages/sklearn/linear_model/_coordinate_descent.py:631: ConvergenceWarning: Objective did not converge. You might want to increase the number of iterations, check the scale of the features or consider increasing regularisation. Duality gap: 1.437e+04, tolerance: 1.192e+01\n",
      "  model = cd_fast.enet_coordinate_descent(\n",
      "/usr/local/lib/python3.11/dist-packages/sklearn/linear_model/_coordinate_descent.py:631: ConvergenceWarning: Objective did not converge. You might want to increase the number of iterations, check the scale of the features or consider increasing regularisation. Duality gap: 6.520e+03, tolerance: 1.231e+01\n",
      "  model = cd_fast.enet_coordinate_descent(\n",
      "/usr/local/lib/python3.11/dist-packages/sklearn/linear_model/_coordinate_descent.py:631: ConvergenceWarning: Objective did not converge. You might want to increase the number of iterations, check the scale of the features or consider increasing regularisation. Duality gap: 4.264e+03, tolerance: 1.513e+01\n",
      "  model = cd_fast.enet_coordinate_descent(\n",
      "/usr/local/lib/python3.11/dist-packages/sklearn/linear_model/_coordinate_descent.py:631: ConvergenceWarning: Objective did not converge. You might want to increase the number of iterations, check the scale of the features or consider increasing regularisation. Duality gap: 5.363e+03, tolerance: 4.276e+01\n",
      "  model = cd_fast.enet_coordinate_descent(\n",
      "/usr/local/lib/python3.11/dist-packages/sklearn/linear_model/_coordinate_descent.py:631: ConvergenceWarning: Objective did not converge. You might want to increase the number of iterations, check the scale of the features or consider increasing regularisation. Duality gap: 2.298e+03, tolerance: 3.019e+01\n",
      "  model = cd_fast.enet_coordinate_descent(\n",
      "/usr/local/lib/python3.11/dist-packages/sklearn/linear_model/_coordinate_descent.py:631: ConvergenceWarning: Objective did not converge. You might want to increase the number of iterations, check the scale of the features or consider increasing regularisation. Duality gap: 1.508e+03, tolerance: 4.172e+01\n",
      "  model = cd_fast.enet_coordinate_descent(\n",
      "/usr/local/lib/python3.11/dist-packages/sklearn/linear_model/_coordinate_descent.py:631: ConvergenceWarning: Objective did not converge. You might want to increase the number of iterations, check the scale of the features or consider increasing regularisation. Duality gap: 1.196e+03, tolerance: 3.404e+01\n",
      "  model = cd_fast.enet_coordinate_descent(\n",
      "/usr/local/lib/python3.11/dist-packages/sklearn/linear_model/_coordinate_descent.py:631: ConvergenceWarning: Objective did not converge. You might want to increase the number of iterations, check the scale of the features or consider increasing regularisation. Duality gap: 9.564e+02, tolerance: 5.156e+01\n",
      "  model = cd_fast.enet_coordinate_descent(\n",
      "/usr/local/lib/python3.11/dist-packages/sklearn/linear_model/_coordinate_descent.py:631: ConvergenceWarning: Objective did not converge. You might want to increase the number of iterations, check the scale of the features or consider increasing regularisation. Duality gap: 4.366e+02, tolerance: 4.785e+01\n",
      "  model = cd_fast.enet_coordinate_descent(\n",
      "/usr/local/lib/python3.11/dist-packages/sklearn/linear_model/_coordinate_descent.py:631: ConvergenceWarning: Objective did not converge. You might want to increase the number of iterations, check the scale of the features or consider increasing regularisation. Duality gap: 7.544e+02, tolerance: 7.528e+01\n",
      "  model = cd_fast.enet_coordinate_descent(\n",
      "/usr/local/lib/python3.11/dist-packages/sklearn/linear_model/_sag.py:350: ConvergenceWarning: The max_iter was reached which means the coef_ did not converge\n",
      "  warnings.warn(\n"
     ]
    },
    {
     "name": "stdout",
     "output_type": "stream",
     "text": [
      "Classification dataset: collins - completed (35 / 99) ✅\n"
     ]
    },
    {
     "name": "stderr",
     "output_type": "stream",
     "text": [
      "/usr/local/lib/python3.11/dist-packages/oikan/model.py:290: UserWarning: To copy construct from a tensor, it is recommended to use sourceTensor.clone().detach() or sourceTensor.clone().detach().requires_grad_(True), rather than torch.tensor(sourceTensor).\n",
      "  torch.tensor(y, dtype=torch.float32))\n",
      "/usr/local/lib/python3.11/dist-packages/sklearn/linear_model/_coordinate_descent.py:631: ConvergenceWarning: Objective did not converge. You might want to increase the number of iterations, check the scale of the features or consider increasing regularisation. Duality gap: 5.038e+02, tolerance: 6.116e+01\n",
      "  model = cd_fast.enet_coordinate_descent(\n",
      "/usr/local/lib/python3.11/dist-packages/sklearn/linear_model/_coordinate_descent.py:631: ConvergenceWarning: Objective did not converge. You might want to increase the number of iterations, check the scale of the features or consider increasing regularisation. Duality gap: 3.235e+03, tolerance: 6.010e+01\n",
      "  model = cd_fast.enet_coordinate_descent(\n",
      "/usr/local/lib/python3.11/dist-packages/sklearn/linear_model/_coordinate_descent.py:631: ConvergenceWarning: Objective did not converge. You might want to increase the number of iterations, check the scale of the features or consider increasing regularisation. Duality gap: 4.767e+02, tolerance: 3.368e+01\n",
      "  model = cd_fast.enet_coordinate_descent(\n",
      "/usr/local/lib/python3.11/dist-packages/sklearn/linear_model/_coordinate_descent.py:631: ConvergenceWarning: Objective did not converge. You might want to increase the number of iterations, check the scale of the features or consider increasing regularisation. Duality gap: 6.310e+03, tolerance: 1.539e+02\n",
      "  model = cd_fast.enet_coordinate_descent(\n",
      "/usr/local/lib/python3.11/dist-packages/sklearn/linear_model/_coordinate_descent.py:631: ConvergenceWarning: Objective did not converge. You might want to increase the number of iterations, check the scale of the features or consider increasing regularisation. Duality gap: 4.664e+03, tolerance: 5.943e+01\n",
      "  model = cd_fast.enet_coordinate_descent(\n",
      "/usr/local/lib/python3.11/dist-packages/sklearn/linear_model/_coordinate_descent.py:631: ConvergenceWarning: Objective did not converge. You might want to increase the number of iterations, check the scale of the features or consider increasing regularisation. Duality gap: 3.839e+03, tolerance: 3.619e+02\n",
      "  model = cd_fast.enet_coordinate_descent(\n",
      "/usr/local/lib/python3.11/dist-packages/sklearn/linear_model/_coordinate_descent.py:631: ConvergenceWarning: Objective did not converge. You might want to increase the number of iterations, check the scale of the features or consider increasing regularisation. Duality gap: 4.399e+02, tolerance: 6.116e+01\n",
      "  model = cd_fast.enet_coordinate_descent(\n",
      "/usr/local/lib/python3.11/dist-packages/sklearn/linear_model/_coordinate_descent.py:631: ConvergenceWarning: Objective did not converge. You might want to increase the number of iterations, check the scale of the features or consider increasing regularisation. Duality gap: 1.669e+03, tolerance: 6.010e+01\n",
      "  model = cd_fast.enet_coordinate_descent(\n",
      "/usr/local/lib/python3.11/dist-packages/sklearn/linear_model/_coordinate_descent.py:631: ConvergenceWarning: Objective did not converge. You might want to increase the number of iterations, check the scale of the features or consider increasing regularisation. Duality gap: 2.648e+02, tolerance: 3.368e+01\n",
      "  model = cd_fast.enet_coordinate_descent(\n",
      "/usr/local/lib/python3.11/dist-packages/sklearn/linear_model/_coordinate_descent.py:631: ConvergenceWarning: Objective did not converge. You might want to increase the number of iterations, check the scale of the features or consider increasing regularisation. Duality gap: 2.348e+03, tolerance: 1.539e+02\n",
      "  model = cd_fast.enet_coordinate_descent(\n",
      "/usr/local/lib/python3.11/dist-packages/sklearn/linear_model/_coordinate_descent.py:631: ConvergenceWarning: Objective did not converge. You might want to increase the number of iterations, check the scale of the features or consider increasing regularisation. Duality gap: 1.717e+03, tolerance: 5.943e+01\n",
      "  model = cd_fast.enet_coordinate_descent(\n",
      "/usr/local/lib/python3.11/dist-packages/sklearn/linear_model/_coordinate_descent.py:631: ConvergenceWarning: Objective did not converge. You might want to increase the number of iterations, check the scale of the features or consider increasing regularisation. Duality gap: 2.599e+03, tolerance: 3.619e+02\n",
      "  model = cd_fast.enet_coordinate_descent(\n",
      "/usr/local/lib/python3.11/dist-packages/sklearn/linear_model/_sag.py:350: ConvergenceWarning: The max_iter was reached which means the coef_ did not converge\n",
      "  warnings.warn(\n"
     ]
    },
    {
     "name": "stdout",
     "output_type": "stream",
     "text": [
      "Classification dataset: confidence - completed (36 / 99) ✅\n"
     ]
    },
    {
     "name": "stderr",
     "output_type": "stream",
     "text": [
      "/usr/local/lib/python3.11/dist-packages/oikan/model.py:290: UserWarning: To copy construct from a tensor, it is recommended to use sourceTensor.clone().detach() or sourceTensor.clone().detach().requires_grad_(True), rather than torch.tensor(sourceTensor).\n",
      "  torch.tensor(y, dtype=torch.float32))\n"
     ]
    },
    {
     "name": "stdout",
     "output_type": "stream",
     "text": [
      "Classification dataset: corral - completed (37 / 99) ✅\n",
      "Error benchmarking classification dataset crx: Dataset not found in PMLB.\n"
     ]
    },
    {
     "name": "stderr",
     "output_type": "stream",
     "text": [
      "/usr/local/lib/python3.11/dist-packages/oikan/model.py:290: UserWarning: To copy construct from a tensor, it is recommended to use sourceTensor.clone().detach() or sourceTensor.clone().detach().requires_grad_(True), rather than torch.tensor(sourceTensor).\n",
      "  torch.tensor(y, dtype=torch.float32))\n",
      "/usr/local/lib/python3.11/dist-packages/sklearn/linear_model/_coordinate_descent.py:631: ConvergenceWarning: Objective did not converge. You might want to increase the number of iterations, check the scale of the features or consider increasing regularisation. Duality gap: 3.153e+05, tolerance: 1.206e+03\n",
      "  model = cd_fast.enet_coordinate_descent(\n",
      "/usr/local/lib/python3.11/dist-packages/sklearn/linear_model/_coordinate_descent.py:631: ConvergenceWarning: Objective did not converge. You might want to increase the number of iterations, check the scale of the features or consider increasing regularisation. Duality gap: 2.704e+05, tolerance: 1.312e+03\n",
      "  model = cd_fast.enet_coordinate_descent(\n",
      "/usr/local/lib/python3.11/dist-packages/sklearn/linear_model/_coordinate_descent.py:631: ConvergenceWarning: Objective did not converge. You might want to increase the number of iterations, check the scale of the features or consider increasing regularisation. Duality gap: 2.911e+05, tolerance: 1.206e+03\n",
      "  model = cd_fast.enet_coordinate_descent(\n",
      "/usr/local/lib/python3.11/dist-packages/sklearn/linear_model/_coordinate_descent.py:631: ConvergenceWarning: Objective did not converge. You might want to increase the number of iterations, check the scale of the features or consider increasing regularisation. Duality gap: 2.460e+05, tolerance: 1.312e+03\n",
      "  model = cd_fast.enet_coordinate_descent(\n",
      "/usr/local/lib/python3.11/dist-packages/sklearn/linear_model/_sag.py:350: ConvergenceWarning: The max_iter was reached which means the coef_ did not converge\n",
      "  warnings.warn(\n"
     ]
    },
    {
     "name": "stdout",
     "output_type": "stream",
     "text": [
      "Classification dataset: dis - completed (39 / 99) ✅\n"
     ]
    },
    {
     "name": "stderr",
     "output_type": "stream",
     "text": [
      "/usr/local/lib/python3.11/dist-packages/oikan/model.py:290: UserWarning: To copy construct from a tensor, it is recommended to use sourceTensor.clone().detach() or sourceTensor.clone().detach().requires_grad_(True), rather than torch.tensor(sourceTensor).\n",
      "  torch.tensor(y, dtype=torch.float32))\n"
     ]
    },
    {
     "name": "stdout",
     "output_type": "stream",
     "text": [
      "Classification dataset: ecoli - completed (40 / 99) ✅\n"
     ]
    },
    {
     "name": "stderr",
     "output_type": "stream",
     "text": [
      "/usr/local/lib/python3.11/dist-packages/oikan/model.py:290: UserWarning: To copy construct from a tensor, it is recommended to use sourceTensor.clone().detach() or sourceTensor.clone().detach().requires_grad_(True), rather than torch.tensor(sourceTensor).\n",
      "  torch.tensor(y, dtype=torch.float32))\n",
      "/usr/local/lib/python3.11/dist-packages/sklearn/linear_model/_coordinate_descent.py:631: ConvergenceWarning: Objective did not converge. You might want to increase the number of iterations, check the scale of the features or consider increasing regularisation. Duality gap: 1.329e+01, tolerance: 1.658e+00\n",
      "  model = cd_fast.enet_coordinate_descent(\n",
      "/usr/local/lib/python3.11/dist-packages/sklearn/linear_model/_coordinate_descent.py:631: ConvergenceWarning: Objective did not converge. You might want to increase the number of iterations, check the scale of the features or consider increasing regularisation. Duality gap: 5.522e+01, tolerance: 2.105e+00\n",
      "  model = cd_fast.enet_coordinate_descent(\n",
      "/usr/local/lib/python3.11/dist-packages/sklearn/linear_model/_coordinate_descent.py:631: ConvergenceWarning: Objective did not converge. You might want to increase the number of iterations, check the scale of the features or consider increasing regularisation. Duality gap: 2.189e+02, tolerance: 4.667e+00\n",
      "  model = cd_fast.enet_coordinate_descent(\n",
      "/usr/local/lib/python3.11/dist-packages/sklearn/linear_model/_coordinate_descent.py:631: ConvergenceWarning: Objective did not converge. You might want to increase the number of iterations, check the scale of the features or consider increasing regularisation. Duality gap: 4.302e+01, tolerance: 3.188e+00\n",
      "  model = cd_fast.enet_coordinate_descent(\n",
      "/usr/local/lib/python3.11/dist-packages/sklearn/linear_model/_coordinate_descent.py:631: ConvergenceWarning: Objective did not converge. You might want to increase the number of iterations, check the scale of the features or consider increasing regularisation. Duality gap: 9.814e+00, tolerance: 1.244e+00\n",
      "  model = cd_fast.enet_coordinate_descent(\n",
      "/usr/local/lib/python3.11/dist-packages/sklearn/linear_model/_coordinate_descent.py:631: ConvergenceWarning: Objective did not converge. You might want to increase the number of iterations, check the scale of the features or consider increasing regularisation. Duality gap: 1.867e+03, tolerance: 1.658e+00\n",
      "  model = cd_fast.enet_coordinate_descent(\n",
      "/usr/local/lib/python3.11/dist-packages/sklearn/linear_model/_coordinate_descent.py:631: ConvergenceWarning: Objective did not converge. You might want to increase the number of iterations, check the scale of the features or consider increasing regularisation. Duality gap: 1.190e+03, tolerance: 2.105e+00\n",
      "  model = cd_fast.enet_coordinate_descent(\n",
      "/usr/local/lib/python3.11/dist-packages/sklearn/linear_model/_coordinate_descent.py:631: ConvergenceWarning: Objective did not converge. You might want to increase the number of iterations, check the scale of the features or consider increasing regularisation. Duality gap: 2.578e+03, tolerance: 4.667e+00\n",
      "  model = cd_fast.enet_coordinate_descent(\n",
      "/usr/local/lib/python3.11/dist-packages/sklearn/linear_model/_coordinate_descent.py:631: ConvergenceWarning: Objective did not converge. You might want to increase the number of iterations, check the scale of the features or consider increasing regularisation. Duality gap: 1.404e+03, tolerance: 3.188e+00\n",
      "  model = cd_fast.enet_coordinate_descent(\n",
      "/usr/local/lib/python3.11/dist-packages/sklearn/linear_model/_coordinate_descent.py:631: ConvergenceWarning: Objective did not converge. You might want to increase the number of iterations, check the scale of the features or consider increasing regularisation. Duality gap: 8.645e+02, tolerance: 1.244e+00\n",
      "  model = cd_fast.enet_coordinate_descent(\n",
      "/usr/local/lib/python3.11/dist-packages/sklearn/linear_model/_sag.py:350: ConvergenceWarning: The max_iter was reached which means the coef_ did not converge\n",
      "  warnings.warn(\n"
     ]
    },
    {
     "name": "stdout",
     "output_type": "stream",
     "text": [
      "Classification dataset: flags - completed (41 / 99) ✅\n",
      "Error benchmarking classification dataset grub_damage: Dataset not found in PMLB.\n"
     ]
    },
    {
     "name": "stderr",
     "output_type": "stream",
     "text": [
      "/usr/local/lib/python3.11/dist-packages/oikan/model.py:290: UserWarning: To copy construct from a tensor, it is recommended to use sourceTensor.clone().detach() or sourceTensor.clone().detach().requires_grad_(True), rather than torch.tensor(sourceTensor).\n",
      "  torch.tensor(y, dtype=torch.float32))\n",
      "/usr/local/lib/python3.11/dist-packages/sklearn/linear_model/_coordinate_descent.py:631: ConvergenceWarning: Objective did not converge. You might want to increase the number of iterations, check the scale of the features or consider increasing regularisation. Duality gap: 1.149e+02, tolerance: 5.458e-01\n",
      "  model = cd_fast.enet_coordinate_descent(\n",
      "/usr/local/lib/python3.11/dist-packages/sklearn/linear_model/_coordinate_descent.py:631: ConvergenceWarning: Objective did not converge. You might want to increase the number of iterations, check the scale of the features or consider increasing regularisation. Duality gap: 2.334e+02, tolerance: 3.191e-01\n",
      "  model = cd_fast.enet_coordinate_descent(\n",
      "/usr/local/lib/python3.11/dist-packages/sklearn/linear_model/_coordinate_descent.py:631: ConvergenceWarning: Objective did not converge. You might want to increase the number of iterations, check the scale of the features or consider increasing regularisation. Duality gap: 9.344e+01, tolerance: 5.458e-01\n",
      "  model = cd_fast.enet_coordinate_descent(\n",
      "/usr/local/lib/python3.11/dist-packages/sklearn/linear_model/_coordinate_descent.py:631: ConvergenceWarning: Objective did not converge. You might want to increase the number of iterations, check the scale of the features or consider increasing regularisation. Duality gap: 1.812e+02, tolerance: 3.191e-01\n",
      "  model = cd_fast.enet_coordinate_descent(\n"
     ]
    },
    {
     "name": "stdout",
     "output_type": "stream",
     "text": [
      "Classification dataset: haberman - completed (43 / 99) ✅\n"
     ]
    },
    {
     "name": "stderr",
     "output_type": "stream",
     "text": [
      "/usr/local/lib/python3.11/dist-packages/oikan/model.py:290: UserWarning: To copy construct from a tensor, it is recommended to use sourceTensor.clone().detach() or sourceTensor.clone().detach().requires_grad_(True), rather than torch.tensor(sourceTensor).\n",
      "  torch.tensor(y, dtype=torch.float32))\n",
      "/usr/local/lib/python3.11/dist-packages/sklearn/linear_model/_coordinate_descent.py:631: ConvergenceWarning: Objective did not converge. You might want to increase the number of iterations, check the scale of the features or consider increasing regularisation. Duality gap: 1.181e+00, tolerance: 1.084e+00\n",
      "  model = cd_fast.enet_coordinate_descent(\n",
      "/usr/local/lib/python3.11/dist-packages/sklearn/linear_model/_coordinate_descent.py:631: ConvergenceWarning: Objective did not converge. You might want to increase the number of iterations, check the scale of the features or consider increasing regularisation. Duality gap: 9.386e+01, tolerance: 3.267e-01\n",
      "  model = cd_fast.enet_coordinate_descent(\n",
      "/usr/local/lib/python3.11/dist-packages/sklearn/linear_model/_coordinate_descent.py:631: ConvergenceWarning: Objective did not converge. You might want to increase the number of iterations, check the scale of the features or consider increasing regularisation. Duality gap: 5.828e+00, tolerance: 2.291e-01\n",
      "  model = cd_fast.enet_coordinate_descent(\n",
      "/usr/local/lib/python3.11/dist-packages/sklearn/linear_model/_coordinate_descent.py:631: ConvergenceWarning: Objective did not converge. You might want to increase the number of iterations, check the scale of the features or consider increasing regularisation. Duality gap: 1.377e+02, tolerance: 1.084e+00\n",
      "  model = cd_fast.enet_coordinate_descent(\n"
     ]
    },
    {
     "name": "stdout",
     "output_type": "stream",
     "text": [
      "Classification dataset: hayes_roth - completed (44 / 99) ✅\n",
      "Error benchmarking classification dataset heart_h: Dataset not found in PMLB.\n",
      "Error benchmarking classification dataset heart_statlog: Dataset not found in PMLB.\n"
     ]
    },
    {
     "name": "stderr",
     "output_type": "stream",
     "text": [
      "/usr/local/lib/python3.11/dist-packages/oikan/model.py:290: UserWarning: To copy construct from a tensor, it is recommended to use sourceTensor.clone().detach() or sourceTensor.clone().detach().requires_grad_(True), rather than torch.tensor(sourceTensor).\n",
      "  torch.tensor(y, dtype=torch.float32))\n",
      "/usr/local/lib/python3.11/dist-packages/sklearn/linear_model/_coordinate_descent.py:631: ConvergenceWarning: Objective did not converge. You might want to increase the number of iterations, check the scale of the features or consider increasing regularisation. Duality gap: 3.661e+02, tolerance: 1.326e+00\n",
      "  model = cd_fast.enet_coordinate_descent(\n",
      "/usr/local/lib/python3.11/dist-packages/sklearn/linear_model/_coordinate_descent.py:631: ConvergenceWarning: Objective did not converge. You might want to increase the number of iterations, check the scale of the features or consider increasing regularisation. Duality gap: 2.972e+02, tolerance: 3.594e+00\n",
      "  model = cd_fast.enet_coordinate_descent(\n",
      "/usr/local/lib/python3.11/dist-packages/sklearn/linear_model/_coordinate_descent.py:631: ConvergenceWarning: Objective did not converge. You might want to increase the number of iterations, check the scale of the features or consider increasing regularisation. Duality gap: 3.052e+02, tolerance: 1.326e+00\n",
      "  model = cd_fast.enet_coordinate_descent(\n",
      "/usr/local/lib/python3.11/dist-packages/sklearn/linear_model/_coordinate_descent.py:631: ConvergenceWarning: Objective did not converge. You might want to increase the number of iterations, check the scale of the features or consider increasing regularisation. Duality gap: 2.576e+02, tolerance: 3.594e+00\n",
      "  model = cd_fast.enet_coordinate_descent(\n",
      "/usr/local/lib/python3.11/dist-packages/sklearn/linear_model/_sag.py:350: ConvergenceWarning: The max_iter was reached which means the coef_ did not converge\n",
      "  warnings.warn(\n"
     ]
    },
    {
     "name": "stdout",
     "output_type": "stream",
     "text": [
      "Classification dataset: hepatitis - completed (47 / 99) ✅\n",
      "Error benchmarking classification dataset horse_colic: Dataset not found in PMLB.\n",
      "Error benchmarking classification dataset hungarian: Dataset not found in PMLB.\n"
     ]
    },
    {
     "name": "stderr",
     "output_type": "stream",
     "text": [
      "/usr/local/lib/python3.11/dist-packages/oikan/model.py:290: UserWarning: To copy construct from a tensor, it is recommended to use sourceTensor.clone().detach() or sourceTensor.clone().detach().requires_grad_(True), rather than torch.tensor(sourceTensor).\n",
      "  torch.tensor(y, dtype=torch.float32))\n",
      "/usr/local/lib/python3.11/dist-packages/sklearn/linear_model/_coordinate_descent.py:631: ConvergenceWarning: Objective did not converge. You might want to increase the number of iterations, check the scale of the features or consider increasing regularisation. Duality gap: 4.895e+04, tolerance: 5.762e+02\n",
      "  model = cd_fast.enet_coordinate_descent(\n",
      "/usr/local/lib/python3.11/dist-packages/sklearn/linear_model/_coordinate_descent.py:631: ConvergenceWarning: Objective did not converge. You might want to increase the number of iterations, check the scale of the features or consider increasing regularisation. Duality gap: 3.456e+04, tolerance: 2.791e+02\n",
      "  model = cd_fast.enet_coordinate_descent(\n",
      "/usr/local/lib/python3.11/dist-packages/sklearn/linear_model/_coordinate_descent.py:631: ConvergenceWarning: Objective did not converge. You might want to increase the number of iterations, check the scale of the features or consider increasing regularisation. Duality gap: 4.484e+04, tolerance: 5.762e+02\n",
      "  model = cd_fast.enet_coordinate_descent(\n",
      "/usr/local/lib/python3.11/dist-packages/sklearn/linear_model/_coordinate_descent.py:631: ConvergenceWarning: Objective did not converge. You might want to increase the number of iterations, check the scale of the features or consider increasing regularisation. Duality gap: 3.117e+04, tolerance: 2.791e+02\n",
      "  model = cd_fast.enet_coordinate_descent(\n",
      "/usr/local/lib/python3.11/dist-packages/sklearn/linear_model/_sag.py:350: ConvergenceWarning: The max_iter was reached which means the coef_ did not converge\n",
      "  warnings.warn(\n"
     ]
    },
    {
     "name": "stdout",
     "output_type": "stream",
     "text": [
      "Classification dataset: hypothyroid - completed (50 / 99) ✅\n"
     ]
    },
    {
     "name": "stderr",
     "output_type": "stream",
     "text": [
      "/usr/local/lib/python3.11/dist-packages/oikan/model.py:290: UserWarning: To copy construct from a tensor, it is recommended to use sourceTensor.clone().detach() or sourceTensor.clone().detach().requires_grad_(True), rather than torch.tensor(sourceTensor).\n",
      "  torch.tensor(y, dtype=torch.float32))\n",
      "/usr/local/lib/python3.11/dist-packages/sklearn/linear_model/_coordinate_descent.py:631: ConvergenceWarning: Objective did not converge. You might want to increase the number of iterations, check the scale of the features or consider increasing regularisation. Duality gap: 7.051e+01, tolerance: 1.643e+00\n",
      "  model = cd_fast.enet_coordinate_descent(\n",
      "/usr/local/lib/python3.11/dist-packages/sklearn/linear_model/_coordinate_descent.py:631: ConvergenceWarning: Objective did not converge. You might want to increase the number of iterations, check the scale of the features or consider increasing regularisation. Duality gap: 8.149e+01, tolerance: 2.595e+00\n",
      "  model = cd_fast.enet_coordinate_descent(\n",
      "/usr/local/lib/python3.11/dist-packages/sklearn/linear_model/_coordinate_descent.py:631: ConvergenceWarning: Objective did not converge. You might want to increase the number of iterations, check the scale of the features or consider increasing regularisation. Duality gap: 7.123e+01, tolerance: 1.643e+00\n",
      "  model = cd_fast.enet_coordinate_descent(\n",
      "/usr/local/lib/python3.11/dist-packages/sklearn/linear_model/_coordinate_descent.py:631: ConvergenceWarning: Objective did not converge. You might want to increase the number of iterations, check the scale of the features or consider increasing regularisation. Duality gap: 8.603e+01, tolerance: 2.595e+00\n",
      "  model = cd_fast.enet_coordinate_descent(\n"
     ]
    },
    {
     "name": "stdout",
     "output_type": "stream",
     "text": [
      "Classification dataset: labor - completed (51 / 99) ✅\n"
     ]
    },
    {
     "name": "stderr",
     "output_type": "stream",
     "text": [
      "/usr/local/lib/python3.11/dist-packages/oikan/model.py:290: UserWarning: To copy construct from a tensor, it is recommended to use sourceTensor.clone().detach() or sourceTensor.clone().detach().requires_grad_(True), rather than torch.tensor(sourceTensor).\n",
      "  torch.tensor(y, dtype=torch.float32))\n"
     ]
    },
    {
     "name": "stdout",
     "output_type": "stream",
     "text": [
      "Classification dataset: led7 - completed (52 / 99) ✅\n",
      "Error benchmarking classification dataset liver: Dataset not found in PMLB.\n"
     ]
    },
    {
     "name": "stderr",
     "output_type": "stream",
     "text": [
      "/usr/local/lib/python3.11/dist-packages/oikan/model.py:290: UserWarning: To copy construct from a tensor, it is recommended to use sourceTensor.clone().detach() or sourceTensor.clone().detach().requires_grad_(True), rather than torch.tensor(sourceTensor).\n",
      "  torch.tensor(y, dtype=torch.float32))\n",
      "/usr/local/lib/python3.11/dist-packages/sklearn/linear_model/_coordinate_descent.py:631: ConvergenceWarning: Objective did not converge. You might want to increase the number of iterations, check the scale of the features or consider increasing regularisation. Duality gap: 3.013e+01, tolerance: 5.008e+00\n",
      "  model = cd_fast.enet_coordinate_descent(\n",
      "/usr/local/lib/python3.11/dist-packages/sklearn/linear_model/_coordinate_descent.py:631: ConvergenceWarning: Objective did not converge. You might want to increase the number of iterations, check the scale of the features or consider increasing regularisation. Duality gap: 6.998e+01, tolerance: 4.075e+00\n",
      "  model = cd_fast.enet_coordinate_descent(\n",
      "/usr/local/lib/python3.11/dist-packages/sklearn/linear_model/_coordinate_descent.py:631: ConvergenceWarning: Objective did not converge. You might want to increase the number of iterations, check the scale of the features or consider increasing regularisation. Duality gap: 4.077e+01, tolerance: 5.008e+00\n",
      "  model = cd_fast.enet_coordinate_descent(\n",
      "/usr/local/lib/python3.11/dist-packages/sklearn/linear_model/_coordinate_descent.py:631: ConvergenceWarning: Objective did not converge. You might want to increase the number of iterations, check the scale of the features or consider increasing regularisation. Duality gap: 6.892e+01, tolerance: 4.075e+00\n",
      "  model = cd_fast.enet_coordinate_descent(\n",
      "/usr/local/lib/python3.11/dist-packages/sklearn/linear_model/_sag.py:350: ConvergenceWarning: The max_iter was reached which means the coef_ did not converge\n",
      "  warnings.warn(\n"
     ]
    },
    {
     "name": "stdout",
     "output_type": "stream",
     "text": [
      "Classification dataset: lupus - completed (54 / 99) ✅\n",
      "Error benchmarking classification dataset machine: Dataset not found in PMLB.\n"
     ]
    },
    {
     "name": "stderr",
     "output_type": "stream",
     "text": [
      "/usr/local/lib/python3.11/dist-packages/oikan/model.py:290: UserWarning: To copy construct from a tensor, it is recommended to use sourceTensor.clone().detach() or sourceTensor.clone().detach().requires_grad_(True), rather than torch.tensor(sourceTensor).\n",
      "  torch.tensor(y, dtype=torch.float32))\n",
      "/usr/local/lib/python3.11/dist-packages/sklearn/linear_model/_coordinate_descent.py:631: ConvergenceWarning: Objective did not converge. You might want to increase the number of iterations, check the scale of the features or consider increasing regularisation. Duality gap: 1.249e+03, tolerance: 2.265e+02\n",
      "  model = cd_fast.enet_coordinate_descent(\n",
      "/usr/local/lib/python3.11/dist-packages/sklearn/linear_model/_coordinate_descent.py:631: ConvergenceWarning: Objective did not converge. You might want to increase the number of iterations, check the scale of the features or consider increasing regularisation. Duality gap: 6.723e+02, tolerance: 6.805e+01\n",
      "  model = cd_fast.enet_coordinate_descent(\n",
      "/usr/local/lib/python3.11/dist-packages/sklearn/linear_model/_coordinate_descent.py:631: ConvergenceWarning: Objective did not converge. You might want to increase the number of iterations, check the scale of the features or consider increasing regularisation. Duality gap: 1.276e+03, tolerance: 2.094e+02\n",
      "  model = cd_fast.enet_coordinate_descent(\n",
      "/usr/local/lib/python3.11/dist-packages/sklearn/linear_model/_coordinate_descent.py:631: ConvergenceWarning: Objective did not converge. You might want to increase the number of iterations, check the scale of the features or consider increasing regularisation. Duality gap: 6.470e+02, tolerance: 5.237e+01\n",
      "  model = cd_fast.enet_coordinate_descent(\n",
      "/usr/local/lib/python3.11/dist-packages/sklearn/linear_model/_coordinate_descent.py:631: ConvergenceWarning: Objective did not converge. You might want to increase the number of iterations, check the scale of the features or consider increasing regularisation. Duality gap: 9.764e+02, tolerance: 1.968e+02\n",
      "  model = cd_fast.enet_coordinate_descent(\n",
      "/usr/local/lib/python3.11/dist-packages/sklearn/linear_model/_coordinate_descent.py:631: ConvergenceWarning: Objective did not converge. You might want to increase the number of iterations, check the scale of the features or consider increasing regularisation. Duality gap: 9.240e+02, tolerance: 7.655e+01\n",
      "  model = cd_fast.enet_coordinate_descent(\n",
      "/usr/local/lib/python3.11/dist-packages/sklearn/linear_model/_coordinate_descent.py:631: ConvergenceWarning: Objective did not converge. You might want to increase the number of iterations, check the scale of the features or consider increasing regularisation. Duality gap: 1.199e+03, tolerance: 2.212e+02\n",
      "  model = cd_fast.enet_coordinate_descent(\n",
      "/usr/local/lib/python3.11/dist-packages/sklearn/linear_model/_coordinate_descent.py:631: ConvergenceWarning: Objective did not converge. You might want to increase the number of iterations, check the scale of the features or consider increasing regularisation. Duality gap: 1.185e+03, tolerance: 2.409e+02\n",
      "  model = cd_fast.enet_coordinate_descent(\n",
      "/usr/local/lib/python3.11/dist-packages/sklearn/linear_model/_coordinate_descent.py:631: ConvergenceWarning: Objective did not converge. You might want to increase the number of iterations, check the scale of the features or consider increasing regularisation. Duality gap: 1.041e+03, tolerance: 1.458e+02\n",
      "  model = cd_fast.enet_coordinate_descent(\n",
      "/usr/local/lib/python3.11/dist-packages/sklearn/linear_model/_coordinate_descent.py:631: ConvergenceWarning: Objective did not converge. You might want to increase the number of iterations, check the scale of the features or consider increasing regularisation. Duality gap: 7.372e+02, tolerance: 9.039e+01\n",
      "  model = cd_fast.enet_coordinate_descent(\n",
      "/usr/local/lib/python3.11/dist-packages/sklearn/linear_model/_coordinate_descent.py:631: ConvergenceWarning: Objective did not converge. You might want to increase the number of iterations, check the scale of the features or consider increasing regularisation. Duality gap: 1.229e+03, tolerance: 2.265e+02\n",
      "  model = cd_fast.enet_coordinate_descent(\n",
      "/usr/local/lib/python3.11/dist-packages/sklearn/linear_model/_coordinate_descent.py:631: ConvergenceWarning: Objective did not converge. You might want to increase the number of iterations, check the scale of the features or consider increasing regularisation. Duality gap: 6.640e+02, tolerance: 6.805e+01\n",
      "  model = cd_fast.enet_coordinate_descent(\n",
      "/usr/local/lib/python3.11/dist-packages/sklearn/linear_model/_coordinate_descent.py:631: ConvergenceWarning: Objective did not converge. You might want to increase the number of iterations, check the scale of the features or consider increasing regularisation. Duality gap: 1.258e+03, tolerance: 2.094e+02\n",
      "  model = cd_fast.enet_coordinate_descent(\n",
      "/usr/local/lib/python3.11/dist-packages/sklearn/linear_model/_coordinate_descent.py:631: ConvergenceWarning: Objective did not converge. You might want to increase the number of iterations, check the scale of the features or consider increasing regularisation. Duality gap: 6.461e+02, tolerance: 5.237e+01\n",
      "  model = cd_fast.enet_coordinate_descent(\n",
      "/usr/local/lib/python3.11/dist-packages/sklearn/linear_model/_coordinate_descent.py:631: ConvergenceWarning: Objective did not converge. You might want to increase the number of iterations, check the scale of the features or consider increasing regularisation. Duality gap: 9.635e+02, tolerance: 1.968e+02\n",
      "  model = cd_fast.enet_coordinate_descent(\n",
      "/usr/local/lib/python3.11/dist-packages/sklearn/linear_model/_coordinate_descent.py:631: ConvergenceWarning: Objective did not converge. You might want to increase the number of iterations, check the scale of the features or consider increasing regularisation. Duality gap: 9.185e+02, tolerance: 7.655e+01\n",
      "  model = cd_fast.enet_coordinate_descent(\n",
      "/usr/local/lib/python3.11/dist-packages/sklearn/linear_model/_coordinate_descent.py:631: ConvergenceWarning: Objective did not converge. You might want to increase the number of iterations, check the scale of the features or consider increasing regularisation. Duality gap: 1.204e+03, tolerance: 2.212e+02\n",
      "  model = cd_fast.enet_coordinate_descent(\n",
      "/usr/local/lib/python3.11/dist-packages/sklearn/linear_model/_coordinate_descent.py:631: ConvergenceWarning: Objective did not converge. You might want to increase the number of iterations, check the scale of the features or consider increasing regularisation. Duality gap: 1.169e+03, tolerance: 2.409e+02\n",
      "  model = cd_fast.enet_coordinate_descent(\n",
      "/usr/local/lib/python3.11/dist-packages/sklearn/linear_model/_coordinate_descent.py:631: ConvergenceWarning: Objective did not converge. You might want to increase the number of iterations, check the scale of the features or consider increasing regularisation. Duality gap: 1.034e+03, tolerance: 1.458e+02\n",
      "  model = cd_fast.enet_coordinate_descent(\n",
      "/usr/local/lib/python3.11/dist-packages/sklearn/linear_model/_coordinate_descent.py:631: ConvergenceWarning: Objective did not converge. You might want to increase the number of iterations, check the scale of the features or consider increasing regularisation. Duality gap: 7.294e+02, tolerance: 9.039e+01\n",
      "  model = cd_fast.enet_coordinate_descent(\n",
      "/usr/local/lib/python3.11/dist-packages/sklearn/linear_model/_sag.py:350: ConvergenceWarning: The max_iter was reached which means the coef_ did not converge\n",
      "  warnings.warn(\n"
     ]
    },
    {
     "name": "stdout",
     "output_type": "stream",
     "text": [
      "Classification dataset: mfeat_factors - completed (56 / 99) ✅\n"
     ]
    },
    {
     "name": "stderr",
     "output_type": "stream",
     "text": [
      "/usr/local/lib/python3.11/dist-packages/oikan/model.py:290: UserWarning: To copy construct from a tensor, it is recommended to use sourceTensor.clone().detach() or sourceTensor.clone().detach().requires_grad_(True), rather than torch.tensor(sourceTensor).\n",
      "  torch.tensor(y, dtype=torch.float32))\n"
     ]
    },
    {
     "name": "stdout",
     "output_type": "stream",
     "text": [
      "Classification dataset: mfeat_fourier - completed (57 / 99) ✅\n"
     ]
    },
    {
     "name": "stderr",
     "output_type": "stream",
     "text": [
      "/usr/local/lib/python3.11/dist-packages/oikan/model.py:290: UserWarning: To copy construct from a tensor, it is recommended to use sourceTensor.clone().detach() or sourceTensor.clone().detach().requires_grad_(True), rather than torch.tensor(sourceTensor).\n",
      "  torch.tensor(y, dtype=torch.float32))\n",
      "/usr/local/lib/python3.11/dist-packages/sklearn/linear_model/_coordinate_descent.py:631: ConvergenceWarning: Objective did not converge. You might want to increase the number of iterations, check the scale of the features or consider increasing regularisation. Duality gap: 6.112e+02, tolerance: 2.446e+02\n",
      "  model = cd_fast.enet_coordinate_descent(\n",
      "/usr/local/lib/python3.11/dist-packages/sklearn/linear_model/_coordinate_descent.py:631: ConvergenceWarning: Objective did not converge. You might want to increase the number of iterations, check the scale of the features or consider increasing regularisation. Duality gap: 2.383e+02, tolerance: 2.260e+02\n",
      "  model = cd_fast.enet_coordinate_descent(\n",
      "/usr/local/lib/python3.11/dist-packages/sklearn/linear_model/_coordinate_descent.py:631: ConvergenceWarning: Objective did not converge. You might want to increase the number of iterations, check the scale of the features or consider increasing regularisation. Duality gap: 1.659e+02, tolerance: 1.325e+02\n",
      "  model = cd_fast.enet_coordinate_descent(\n",
      "/usr/local/lib/python3.11/dist-packages/sklearn/linear_model/_coordinate_descent.py:631: ConvergenceWarning: Objective did not converge. You might want to increase the number of iterations, check the scale of the features or consider increasing regularisation. Duality gap: 1.927e+03, tolerance: 2.901e+02\n",
      "  model = cd_fast.enet_coordinate_descent(\n",
      "/usr/local/lib/python3.11/dist-packages/sklearn/linear_model/_coordinate_descent.py:631: ConvergenceWarning: Objective did not converge. You might want to increase the number of iterations, check the scale of the features or consider increasing regularisation. Duality gap: 1.054e+03, tolerance: 3.395e+02\n",
      "  model = cd_fast.enet_coordinate_descent(\n",
      "/usr/local/lib/python3.11/dist-packages/sklearn/linear_model/_coordinate_descent.py:631: ConvergenceWarning: Objective did not converge. You might want to increase the number of iterations, check the scale of the features or consider increasing regularisation. Duality gap: 6.350e+02, tolerance: 2.367e+02\n",
      "  model = cd_fast.enet_coordinate_descent(\n",
      "/usr/local/lib/python3.11/dist-packages/sklearn/linear_model/_coordinate_descent.py:631: ConvergenceWarning: Objective did not converge. You might want to increase the number of iterations, check the scale of the features or consider increasing regularisation. Duality gap: 1.338e+03, tolerance: 1.124e+02\n",
      "  model = cd_fast.enet_coordinate_descent(\n",
      "/usr/local/lib/python3.11/dist-packages/sklearn/linear_model/_coordinate_descent.py:631: ConvergenceWarning: Objective did not converge. You might want to increase the number of iterations, check the scale of the features or consider increasing regularisation. Duality gap: 1.879e+03, tolerance: 2.446e+02\n",
      "  model = cd_fast.enet_coordinate_descent(\n",
      "/usr/local/lib/python3.11/dist-packages/sklearn/linear_model/_coordinate_descent.py:631: ConvergenceWarning: Objective did not converge. You might want to increase the number of iterations, check the scale of the features or consider increasing regularisation. Duality gap: 4.020e+03, tolerance: 2.260e+02\n",
      "  model = cd_fast.enet_coordinate_descent(\n",
      "/usr/local/lib/python3.11/dist-packages/sklearn/linear_model/_coordinate_descent.py:631: ConvergenceWarning: Objective did not converge. You might want to increase the number of iterations, check the scale of the features or consider increasing regularisation. Duality gap: 3.329e+02, tolerance: 1.325e+02\n",
      "  model = cd_fast.enet_coordinate_descent(\n",
      "/usr/local/lib/python3.11/dist-packages/sklearn/linear_model/_coordinate_descent.py:631: ConvergenceWarning: Objective did not converge. You might want to increase the number of iterations, check the scale of the features or consider increasing regularisation. Duality gap: 2.242e+03, tolerance: 2.901e+02\n",
      "  model = cd_fast.enet_coordinate_descent(\n",
      "/usr/local/lib/python3.11/dist-packages/sklearn/linear_model/_coordinate_descent.py:631: ConvergenceWarning: Objective did not converge. You might want to increase the number of iterations, check the scale of the features or consider increasing regularisation. Duality gap: 4.340e+03, tolerance: 3.555e+02\n",
      "  model = cd_fast.enet_coordinate_descent(\n",
      "/usr/local/lib/python3.11/dist-packages/sklearn/linear_model/_coordinate_descent.py:631: ConvergenceWarning: Objective did not converge. You might want to increase the number of iterations, check the scale of the features or consider increasing regularisation. Duality gap: 5.400e+03, tolerance: 3.395e+02\n",
      "  model = cd_fast.enet_coordinate_descent(\n",
      "/usr/local/lib/python3.11/dist-packages/sklearn/linear_model/_coordinate_descent.py:631: ConvergenceWarning: Objective did not converge. You might want to increase the number of iterations, check the scale of the features or consider increasing regularisation. Duality gap: 4.880e+02, tolerance: 1.269e+02\n",
      "  model = cd_fast.enet_coordinate_descent(\n",
      "/usr/local/lib/python3.11/dist-packages/sklearn/linear_model/_coordinate_descent.py:631: ConvergenceWarning: Objective did not converge. You might want to increase the number of iterations, check the scale of the features or consider increasing regularisation. Duality gap: 1.997e+03, tolerance: 2.367e+02\n",
      "  model = cd_fast.enet_coordinate_descent(\n"
     ]
    },
    {
     "name": "stdout",
     "output_type": "stream",
     "text": [
      "Classification dataset: mfeat_karhunen - completed (58 / 99) ✅\n"
     ]
    },
    {
     "name": "stderr",
     "output_type": "stream",
     "text": [
      "/usr/local/lib/python3.11/dist-packages/oikan/model.py:290: UserWarning: To copy construct from a tensor, it is recommended to use sourceTensor.clone().detach() or sourceTensor.clone().detach().requires_grad_(True), rather than torch.tensor(sourceTensor).\n",
      "  torch.tensor(y, dtype=torch.float32))\n",
      "/usr/local/lib/python3.11/dist-packages/sklearn/linear_model/_coordinate_descent.py:631: ConvergenceWarning: Objective did not converge. You might want to increase the number of iterations, check the scale of the features or consider increasing regularisation. Duality gap: 5.091e+03, tolerance: 1.787e+02\n",
      "  model = cd_fast.enet_coordinate_descent(\n",
      "/usr/local/lib/python3.11/dist-packages/sklearn/linear_model/_coordinate_descent.py:631: ConvergenceWarning: Objective did not converge. You might want to increase the number of iterations, check the scale of the features or consider increasing regularisation. Duality gap: 2.112e+03, tolerance: 2.169e+02\n",
      "  model = cd_fast.enet_coordinate_descent(\n",
      "/usr/local/lib/python3.11/dist-packages/sklearn/linear_model/_coordinate_descent.py:631: ConvergenceWarning: Objective did not converge. You might want to increase the number of iterations, check the scale of the features or consider increasing regularisation. Duality gap: 2.152e+03, tolerance: 2.762e+02\n",
      "  model = cd_fast.enet_coordinate_descent(\n",
      "/usr/local/lib/python3.11/dist-packages/sklearn/linear_model/_coordinate_descent.py:631: ConvergenceWarning: Objective did not converge. You might want to increase the number of iterations, check the scale of the features or consider increasing regularisation. Duality gap: 1.082e+03, tolerance: 3.377e+02\n",
      "  model = cd_fast.enet_coordinate_descent(\n",
      "/usr/local/lib/python3.11/dist-packages/sklearn/linear_model/_coordinate_descent.py:631: ConvergenceWarning: Objective did not converge. You might want to increase the number of iterations, check the scale of the features or consider increasing regularisation. Duality gap: 1.626e+03, tolerance: 3.688e+02\n",
      "  model = cd_fast.enet_coordinate_descent(\n",
      "/usr/local/lib/python3.11/dist-packages/sklearn/linear_model/_coordinate_descent.py:631: ConvergenceWarning: Objective did not converge. You might want to increase the number of iterations, check the scale of the features or consider increasing regularisation. Duality gap: 1.696e+03, tolerance: 4.046e+02\n",
      "  model = cd_fast.enet_coordinate_descent(\n",
      "/usr/local/lib/python3.11/dist-packages/sklearn/linear_model/_coordinate_descent.py:631: ConvergenceWarning: Objective did not converge. You might want to increase the number of iterations, check the scale of the features or consider increasing regularisation. Duality gap: 2.047e+03, tolerance: 2.135e+02\n",
      "  model = cd_fast.enet_coordinate_descent(\n",
      "/usr/local/lib/python3.11/dist-packages/sklearn/linear_model/_coordinate_descent.py:631: ConvergenceWarning: Objective did not converge. You might want to increase the number of iterations, check the scale of the features or consider increasing regularisation. Duality gap: 2.505e+03, tolerance: 2.129e+02\n",
      "  model = cd_fast.enet_coordinate_descent(\n",
      "/usr/local/lib/python3.11/dist-packages/sklearn/linear_model/_coordinate_descent.py:631: ConvergenceWarning: Objective did not converge. You might want to increase the number of iterations, check the scale of the features or consider increasing regularisation. Duality gap: 9.775e+03, tolerance: 2.178e+02\n",
      "  model = cd_fast.enet_coordinate_descent(\n",
      "/usr/local/lib/python3.11/dist-packages/sklearn/linear_model/_coordinate_descent.py:631: ConvergenceWarning: Objective did not converge. You might want to increase the number of iterations, check the scale of the features or consider increasing regularisation. Duality gap: 8.276e+03, tolerance: 3.065e+02\n",
      "  model = cd_fast.enet_coordinate_descent(\n",
      "/usr/local/lib/python3.11/dist-packages/sklearn/linear_model/_coordinate_descent.py:631: ConvergenceWarning: Objective did not converge. You might want to increase the number of iterations, check the scale of the features or consider increasing regularisation. Duality gap: 4.909e+03, tolerance: 1.787e+02\n",
      "  model = cd_fast.enet_coordinate_descent(\n",
      "/usr/local/lib/python3.11/dist-packages/sklearn/linear_model/_coordinate_descent.py:631: ConvergenceWarning: Objective did not converge. You might want to increase the number of iterations, check the scale of the features or consider increasing regularisation. Duality gap: 1.806e+03, tolerance: 2.169e+02\n",
      "  model = cd_fast.enet_coordinate_descent(\n",
      "/usr/local/lib/python3.11/dist-packages/sklearn/linear_model/_coordinate_descent.py:631: ConvergenceWarning: Objective did not converge. You might want to increase the number of iterations, check the scale of the features or consider increasing regularisation. Duality gap: 2.211e+03, tolerance: 2.762e+02\n",
      "  model = cd_fast.enet_coordinate_descent(\n",
      "/usr/local/lib/python3.11/dist-packages/sklearn/linear_model/_coordinate_descent.py:631: ConvergenceWarning: Objective did not converge. You might want to increase the number of iterations, check the scale of the features or consider increasing regularisation. Duality gap: 1.238e+03, tolerance: 3.377e+02\n",
      "  model = cd_fast.enet_coordinate_descent(\n",
      "/usr/local/lib/python3.11/dist-packages/sklearn/linear_model/_coordinate_descent.py:631: ConvergenceWarning: Objective did not converge. You might want to increase the number of iterations, check the scale of the features or consider increasing regularisation. Duality gap: 1.645e+03, tolerance: 3.688e+02\n",
      "  model = cd_fast.enet_coordinate_descent(\n",
      "/usr/local/lib/python3.11/dist-packages/sklearn/linear_model/_coordinate_descent.py:631: ConvergenceWarning: Objective did not converge. You might want to increase the number of iterations, check the scale of the features or consider increasing regularisation. Duality gap: 1.828e+03, tolerance: 4.046e+02\n",
      "  model = cd_fast.enet_coordinate_descent(\n",
      "/usr/local/lib/python3.11/dist-packages/sklearn/linear_model/_coordinate_descent.py:631: ConvergenceWarning: Objective did not converge. You might want to increase the number of iterations, check the scale of the features or consider increasing regularisation. Duality gap: 1.800e+03, tolerance: 2.135e+02\n",
      "  model = cd_fast.enet_coordinate_descent(\n",
      "/usr/local/lib/python3.11/dist-packages/sklearn/linear_model/_coordinate_descent.py:631: ConvergenceWarning: Objective did not converge. You might want to increase the number of iterations, check the scale of the features or consider increasing regularisation. Duality gap: 2.424e+03, tolerance: 2.129e+02\n",
      "  model = cd_fast.enet_coordinate_descent(\n",
      "/usr/local/lib/python3.11/dist-packages/sklearn/linear_model/_coordinate_descent.py:631: ConvergenceWarning: Objective did not converge. You might want to increase the number of iterations, check the scale of the features or consider increasing regularisation. Duality gap: 9.430e+03, tolerance: 2.178e+02\n",
      "  model = cd_fast.enet_coordinate_descent(\n",
      "/usr/local/lib/python3.11/dist-packages/sklearn/linear_model/_coordinate_descent.py:631: ConvergenceWarning: Objective did not converge. You might want to increase the number of iterations, check the scale of the features or consider increasing regularisation. Duality gap: 7.450e+03, tolerance: 3.065e+02\n",
      "  model = cd_fast.enet_coordinate_descent(\n",
      "/usr/local/lib/python3.11/dist-packages/sklearn/linear_model/_sag.py:350: ConvergenceWarning: The max_iter was reached which means the coef_ did not converge\n",
      "  warnings.warn(\n"
     ]
    },
    {
     "name": "stdout",
     "output_type": "stream",
     "text": [
      "Classification dataset: mfeat_morphological - completed (59 / 99) ✅\n"
     ]
    },
    {
     "name": "stderr",
     "output_type": "stream",
     "text": [
      "/usr/local/lib/python3.11/dist-packages/oikan/model.py:290: UserWarning: To copy construct from a tensor, it is recommended to use sourceTensor.clone().detach() or sourceTensor.clone().detach().requires_grad_(True), rather than torch.tensor(sourceTensor).\n",
      "  torch.tensor(y, dtype=torch.float32))\n",
      "/usr/local/lib/python3.11/dist-packages/sklearn/linear_model/_coordinate_descent.py:631: ConvergenceWarning: Objective did not converge. You might want to increase the number of iterations, check the scale of the features or consider increasing regularisation. Duality gap: 2.221e+03, tolerance: 1.572e+02\n",
      "  model = cd_fast.enet_coordinate_descent(\n",
      "/usr/local/lib/python3.11/dist-packages/sklearn/linear_model/_coordinate_descent.py:631: ConvergenceWarning: Objective did not converge. You might want to increase the number of iterations, check the scale of the features or consider increasing regularisation. Duality gap: 3.377e+03, tolerance: 2.458e+02\n",
      "  model = cd_fast.enet_coordinate_descent(\n",
      "/usr/local/lib/python3.11/dist-packages/sklearn/linear_model/_coordinate_descent.py:631: ConvergenceWarning: Objective did not converge. You might want to increase the number of iterations, check the scale of the features or consider increasing regularisation. Duality gap: 5.547e+03, tolerance: 5.190e+02\n",
      "  model = cd_fast.enet_coordinate_descent(\n",
      "/usr/local/lib/python3.11/dist-packages/sklearn/linear_model/_coordinate_descent.py:631: ConvergenceWarning: Objective did not converge. You might want to increase the number of iterations, check the scale of the features or consider increasing regularisation. Duality gap: 2.105e+03, tolerance: 1.360e+02\n",
      "  model = cd_fast.enet_coordinate_descent(\n",
      "/usr/local/lib/python3.11/dist-packages/sklearn/linear_model/_coordinate_descent.py:631: ConvergenceWarning: Objective did not converge. You might want to increase the number of iterations, check the scale of the features or consider increasing regularisation. Duality gap: 4.969e+03, tolerance: 5.330e+02\n",
      "  model = cd_fast.enet_coordinate_descent(\n",
      "/usr/local/lib/python3.11/dist-packages/sklearn/linear_model/_coordinate_descent.py:631: ConvergenceWarning: Objective did not converge. You might want to increase the number of iterations, check the scale of the features or consider increasing regularisation. Duality gap: 3.247e+03, tolerance: 1.736e+02\n",
      "  model = cd_fast.enet_coordinate_descent(\n",
      "/usr/local/lib/python3.11/dist-packages/sklearn/linear_model/_coordinate_descent.py:631: ConvergenceWarning: Objective did not converge. You might want to increase the number of iterations, check the scale of the features or consider increasing regularisation. Duality gap: 5.167e+03, tolerance: 5.349e+02\n",
      "  model = cd_fast.enet_coordinate_descent(\n",
      "/usr/local/lib/python3.11/dist-packages/sklearn/linear_model/_coordinate_descent.py:631: ConvergenceWarning: Objective did not converge. You might want to increase the number of iterations, check the scale of the features or consider increasing regularisation. Duality gap: 6.248e+03, tolerance: 6.934e+02\n",
      "  model = cd_fast.enet_coordinate_descent(\n",
      "/usr/local/lib/python3.11/dist-packages/sklearn/linear_model/_coordinate_descent.py:631: ConvergenceWarning: Objective did not converge. You might want to increase the number of iterations, check the scale of the features or consider increasing regularisation. Duality gap: 2.758e+03, tolerance: 1.443e+02\n",
      "  model = cd_fast.enet_coordinate_descent(\n",
      "/usr/local/lib/python3.11/dist-packages/sklearn/linear_model/_coordinate_descent.py:631: ConvergenceWarning: Objective did not converge. You might want to increase the number of iterations, check the scale of the features or consider increasing regularisation. Duality gap: 4.594e+03, tolerance: 3.527e+02\n",
      "  model = cd_fast.enet_coordinate_descent(\n",
      "/usr/local/lib/python3.11/dist-packages/sklearn/linear_model/_coordinate_descent.py:631: ConvergenceWarning: Objective did not converge. You might want to increase the number of iterations, check the scale of the features or consider increasing regularisation. Duality gap: 3.139e+03, tolerance: 1.572e+02\n",
      "  model = cd_fast.enet_coordinate_descent(\n",
      "/usr/local/lib/python3.11/dist-packages/sklearn/linear_model/_coordinate_descent.py:631: ConvergenceWarning: Objective did not converge. You might want to increase the number of iterations, check the scale of the features or consider increasing regularisation. Duality gap: 4.029e+03, tolerance: 2.458e+02\n",
      "  model = cd_fast.enet_coordinate_descent(\n",
      "/usr/local/lib/python3.11/dist-packages/sklearn/linear_model/_coordinate_descent.py:631: ConvergenceWarning: Objective did not converge. You might want to increase the number of iterations, check the scale of the features or consider increasing regularisation. Duality gap: 6.013e+03, tolerance: 5.190e+02\n",
      "  model = cd_fast.enet_coordinate_descent(\n",
      "/usr/local/lib/python3.11/dist-packages/sklearn/linear_model/_coordinate_descent.py:631: ConvergenceWarning: Objective did not converge. You might want to increase the number of iterations, check the scale of the features or consider increasing regularisation. Duality gap: 3.117e+03, tolerance: 1.360e+02\n",
      "  model = cd_fast.enet_coordinate_descent(\n",
      "/usr/local/lib/python3.11/dist-packages/sklearn/linear_model/_coordinate_descent.py:631: ConvergenceWarning: Objective did not converge. You might want to increase the number of iterations, check the scale of the features or consider increasing regularisation. Duality gap: 5.705e+03, tolerance: 5.330e+02\n",
      "  model = cd_fast.enet_coordinate_descent(\n",
      "/usr/local/lib/python3.11/dist-packages/sklearn/linear_model/_coordinate_descent.py:631: ConvergenceWarning: Objective did not converge. You might want to increase the number of iterations, check the scale of the features or consider increasing regularisation. Duality gap: 4.267e+03, tolerance: 1.736e+02\n",
      "  model = cd_fast.enet_coordinate_descent(\n",
      "/usr/local/lib/python3.11/dist-packages/sklearn/linear_model/_coordinate_descent.py:631: ConvergenceWarning: Objective did not converge. You might want to increase the number of iterations, check the scale of the features or consider increasing regularisation. Duality gap: 5.276e+03, tolerance: 5.349e+02\n",
      "  model = cd_fast.enet_coordinate_descent(\n",
      "/usr/local/lib/python3.11/dist-packages/sklearn/linear_model/_coordinate_descent.py:631: ConvergenceWarning: Objective did not converge. You might want to increase the number of iterations, check the scale of the features or consider increasing regularisation. Duality gap: 7.689e+03, tolerance: 6.934e+02\n",
      "  model = cd_fast.enet_coordinate_descent(\n",
      "/usr/local/lib/python3.11/dist-packages/sklearn/linear_model/_coordinate_descent.py:631: ConvergenceWarning: Objective did not converge. You might want to increase the number of iterations, check the scale of the features or consider increasing regularisation. Duality gap: 3.612e+03, tolerance: 1.443e+02\n",
      "  model = cd_fast.enet_coordinate_descent(\n",
      "/usr/local/lib/python3.11/dist-packages/sklearn/linear_model/_coordinate_descent.py:631: ConvergenceWarning: Objective did not converge. You might want to increase the number of iterations, check the scale of the features or consider increasing regularisation. Duality gap: 5.187e+03, tolerance: 3.527e+02\n",
      "  model = cd_fast.enet_coordinate_descent(\n",
      "/usr/local/lib/python3.11/dist-packages/sklearn/linear_model/_sag.py:350: ConvergenceWarning: The max_iter was reached which means the coef_ did not converge\n",
      "  warnings.warn(\n"
     ]
    },
    {
     "name": "stdout",
     "output_type": "stream",
     "text": [
      "Classification dataset: mfeat_pixel - completed (60 / 99) ✅\n"
     ]
    },
    {
     "name": "stderr",
     "output_type": "stream",
     "text": [
      "/usr/local/lib/python3.11/dist-packages/oikan/model.py:290: UserWarning: To copy construct from a tensor, it is recommended to use sourceTensor.clone().detach() or sourceTensor.clone().detach().requires_grad_(True), rather than torch.tensor(sourceTensor).\n",
      "  torch.tensor(y, dtype=torch.float32))\n",
      "/usr/local/lib/python3.11/dist-packages/sklearn/linear_model/_coordinate_descent.py:631: ConvergenceWarning: Objective did not converge. You might want to increase the number of iterations, check the scale of the features or consider increasing regularisation. Duality gap: 1.816e+04, tolerance: 4.415e+02\n",
      "  model = cd_fast.enet_coordinate_descent(\n",
      "/usr/local/lib/python3.11/dist-packages/sklearn/linear_model/_coordinate_descent.py:631: ConvergenceWarning: Objective did not converge. You might want to increase the number of iterations, check the scale of the features or consider increasing regularisation. Duality gap: 1.665e+04, tolerance: 2.418e+02\n",
      "  model = cd_fast.enet_coordinate_descent(\n",
      "/usr/local/lib/python3.11/dist-packages/sklearn/linear_model/_coordinate_descent.py:631: ConvergenceWarning: Objective did not converge. You might want to increase the number of iterations, check the scale of the features or consider increasing regularisation. Duality gap: 2.455e+04, tolerance: 4.056e+02\n",
      "  model = cd_fast.enet_coordinate_descent(\n",
      "/usr/local/lib/python3.11/dist-packages/sklearn/linear_model/_coordinate_descent.py:631: ConvergenceWarning: Objective did not converge. You might want to increase the number of iterations, check the scale of the features or consider increasing regularisation. Duality gap: 1.915e+04, tolerance: 8.342e+01\n",
      "  model = cd_fast.enet_coordinate_descent(\n",
      "/usr/local/lib/python3.11/dist-packages/sklearn/linear_model/_coordinate_descent.py:631: ConvergenceWarning: Objective did not converge. You might want to increase the number of iterations, check the scale of the features or consider increasing regularisation. Duality gap: 2.036e+04, tolerance: 2.291e+02\n",
      "  model = cd_fast.enet_coordinate_descent(\n",
      "/usr/local/lib/python3.11/dist-packages/sklearn/linear_model/_coordinate_descent.py:631: ConvergenceWarning: Objective did not converge. You might want to increase the number of iterations, check the scale of the features or consider increasing regularisation. Duality gap: 4.165e+04, tolerance: 1.658e+02\n",
      "  model = cd_fast.enet_coordinate_descent(\n",
      "/usr/local/lib/python3.11/dist-packages/sklearn/linear_model/_coordinate_descent.py:631: ConvergenceWarning: Objective did not converge. You might want to increase the number of iterations, check the scale of the features or consider increasing regularisation. Duality gap: 1.462e+04, tolerance: 7.831e+01\n",
      "  model = cd_fast.enet_coordinate_descent(\n",
      "/usr/local/lib/python3.11/dist-packages/sklearn/linear_model/_coordinate_descent.py:631: ConvergenceWarning: Objective did not converge. You might want to increase the number of iterations, check the scale of the features or consider increasing regularisation. Duality gap: 2.046e+04, tolerance: 8.526e+02\n",
      "  model = cd_fast.enet_coordinate_descent(\n",
      "/usr/local/lib/python3.11/dist-packages/sklearn/linear_model/_coordinate_descent.py:631: ConvergenceWarning: Objective did not converge. You might want to increase the number of iterations, check the scale of the features or consider increasing regularisation. Duality gap: 3.120e+04, tolerance: 3.116e+02\n",
      "  model = cd_fast.enet_coordinate_descent(\n",
      "/usr/local/lib/python3.11/dist-packages/sklearn/linear_model/_coordinate_descent.py:631: ConvergenceWarning: Objective did not converge. You might want to increase the number of iterations, check the scale of the features or consider increasing regularisation. Duality gap: 1.486e+04, tolerance: 8.350e+01\n",
      "  model = cd_fast.enet_coordinate_descent(\n",
      "/usr/local/lib/python3.11/dist-packages/sklearn/linear_model/_coordinate_descent.py:631: ConvergenceWarning: Objective did not converge. You might want to increase the number of iterations, check the scale of the features or consider increasing regularisation. Duality gap: 1.815e+04, tolerance: 4.415e+02\n",
      "  model = cd_fast.enet_coordinate_descent(\n",
      "/usr/local/lib/python3.11/dist-packages/sklearn/linear_model/_coordinate_descent.py:631: ConvergenceWarning: Objective did not converge. You might want to increase the number of iterations, check the scale of the features or consider increasing regularisation. Duality gap: 1.661e+04, tolerance: 2.418e+02\n",
      "  model = cd_fast.enet_coordinate_descent(\n",
      "/usr/local/lib/python3.11/dist-packages/sklearn/linear_model/_coordinate_descent.py:631: ConvergenceWarning: Objective did not converge. You might want to increase the number of iterations, check the scale of the features or consider increasing regularisation. Duality gap: 2.452e+04, tolerance: 4.056e+02\n",
      "  model = cd_fast.enet_coordinate_descent(\n",
      "/usr/local/lib/python3.11/dist-packages/sklearn/linear_model/_coordinate_descent.py:631: ConvergenceWarning: Objective did not converge. You might want to increase the number of iterations, check the scale of the features or consider increasing regularisation. Duality gap: 1.900e+04, tolerance: 8.342e+01\n",
      "  model = cd_fast.enet_coordinate_descent(\n",
      "/usr/local/lib/python3.11/dist-packages/sklearn/linear_model/_coordinate_descent.py:631: ConvergenceWarning: Objective did not converge. You might want to increase the number of iterations, check the scale of the features or consider increasing regularisation. Duality gap: 2.028e+04, tolerance: 2.291e+02\n",
      "  model = cd_fast.enet_coordinate_descent(\n",
      "/usr/local/lib/python3.11/dist-packages/sklearn/linear_model/_coordinate_descent.py:631: ConvergenceWarning: Objective did not converge. You might want to increase the number of iterations, check the scale of the features or consider increasing regularisation. Duality gap: 4.162e+04, tolerance: 1.658e+02\n",
      "  model = cd_fast.enet_coordinate_descent(\n",
      "/usr/local/lib/python3.11/dist-packages/sklearn/linear_model/_coordinate_descent.py:631: ConvergenceWarning: Objective did not converge. You might want to increase the number of iterations, check the scale of the features or consider increasing regularisation. Duality gap: 1.455e+04, tolerance: 7.831e+01\n",
      "  model = cd_fast.enet_coordinate_descent(\n",
      "/usr/local/lib/python3.11/dist-packages/sklearn/linear_model/_coordinate_descent.py:631: ConvergenceWarning: Objective did not converge. You might want to increase the number of iterations, check the scale of the features or consider increasing regularisation. Duality gap: 2.044e+04, tolerance: 8.526e+02\n",
      "  model = cd_fast.enet_coordinate_descent(\n",
      "/usr/local/lib/python3.11/dist-packages/sklearn/linear_model/_coordinate_descent.py:631: ConvergenceWarning: Objective did not converge. You might want to increase the number of iterations, check the scale of the features or consider increasing regularisation. Duality gap: 3.110e+04, tolerance: 3.116e+02\n",
      "  model = cd_fast.enet_coordinate_descent(\n",
      "/usr/local/lib/python3.11/dist-packages/sklearn/linear_model/_coordinate_descent.py:631: ConvergenceWarning: Objective did not converge. You might want to increase the number of iterations, check the scale of the features or consider increasing regularisation. Duality gap: 1.482e+04, tolerance: 8.350e+01\n",
      "  model = cd_fast.enet_coordinate_descent(\n",
      "/usr/local/lib/python3.11/dist-packages/sklearn/linear_model/_sag.py:350: ConvergenceWarning: The max_iter was reached which means the coef_ did not converge\n",
      "  warnings.warn(\n"
     ]
    },
    {
     "name": "stdout",
     "output_type": "stream",
     "text": [
      "Classification dataset: mfeat_zernike - completed (61 / 99) ✅\n"
     ]
    },
    {
     "name": "stderr",
     "output_type": "stream",
     "text": [
      "/usr/local/lib/python3.11/dist-packages/oikan/model.py:290: UserWarning: To copy construct from a tensor, it is recommended to use sourceTensor.clone().detach() or sourceTensor.clone().detach().requires_grad_(True), rather than torch.tensor(sourceTensor).\n",
      "  torch.tensor(y, dtype=torch.float32))\n",
      "/usr/local/lib/python3.11/dist-packages/sklearn/linear_model/_coordinate_descent.py:631: ConvergenceWarning: Objective did not converge. You might want to increase the number of iterations, check the scale of the features or consider increasing regularisation. Duality gap: 4.820e+01, tolerance: 7.675e+00\n",
      "  model = cd_fast.enet_coordinate_descent(\n",
      "/usr/local/lib/python3.11/dist-packages/sklearn/linear_model/_coordinate_descent.py:631: ConvergenceWarning: Objective did not converge. You might want to increase the number of iterations, check the scale of the features or consider increasing regularisation. Duality gap: 2.128e+02, tolerance: 7.693e+00\n",
      "  model = cd_fast.enet_coordinate_descent(\n"
     ]
    },
    {
     "name": "stdout",
     "output_type": "stream",
     "text": [
      "Classification dataset: monk1 - completed (62 / 99) ✅\n"
     ]
    },
    {
     "name": "stderr",
     "output_type": "stream",
     "text": [
      "/usr/local/lib/python3.11/dist-packages/oikan/model.py:290: UserWarning: To copy construct from a tensor, it is recommended to use sourceTensor.clone().detach() or sourceTensor.clone().detach().requires_grad_(True), rather than torch.tensor(sourceTensor).\n",
      "  torch.tensor(y, dtype=torch.float32))\n",
      "/usr/local/lib/python3.11/dist-packages/sklearn/linear_model/_coordinate_descent.py:631: ConvergenceWarning: Objective did not converge. You might want to increase the number of iterations, check the scale of the features or consider increasing regularisation. Duality gap: 1.375e+03, tolerance: 3.340e+00\n",
      "  model = cd_fast.enet_coordinate_descent(\n",
      "/usr/local/lib/python3.11/dist-packages/sklearn/linear_model/_coordinate_descent.py:631: ConvergenceWarning: Objective did not converge. You might want to increase the number of iterations, check the scale of the features or consider increasing regularisation. Duality gap: 1.460e+03, tolerance: 3.186e+00\n",
      "  model = cd_fast.enet_coordinate_descent(\n"
     ]
    },
    {
     "name": "stdout",
     "output_type": "stream",
     "text": [
      "Classification dataset: monk2 - completed (63 / 99) ✅\n"
     ]
    },
    {
     "name": "stderr",
     "output_type": "stream",
     "text": [
      "/usr/local/lib/python3.11/dist-packages/oikan/model.py:290: UserWarning: To copy construct from a tensor, it is recommended to use sourceTensor.clone().detach() or sourceTensor.clone().detach().requires_grad_(True), rather than torch.tensor(sourceTensor).\n",
      "  torch.tensor(y, dtype=torch.float32))\n",
      "/usr/local/lib/python3.11/dist-packages/sklearn/linear_model/_coordinate_descent.py:631: ConvergenceWarning: Objective did not converge. You might want to increase the number of iterations, check the scale of the features or consider increasing regularisation. Duality gap: 1.291e+03, tolerance: 2.029e+01\n",
      "  model = cd_fast.enet_coordinate_descent(\n",
      "/usr/local/lib/python3.11/dist-packages/sklearn/linear_model/_coordinate_descent.py:631: ConvergenceWarning: Objective did not converge. You might want to increase the number of iterations, check the scale of the features or consider increasing regularisation. Duality gap: 5.894e+02, tolerance: 8.326e+00\n",
      "  model = cd_fast.enet_coordinate_descent(\n",
      "/usr/local/lib/python3.11/dist-packages/sklearn/linear_model/_coordinate_descent.py:631: ConvergenceWarning: Objective did not converge. You might want to increase the number of iterations, check the scale of the features or consider increasing regularisation. Duality gap: 5.527e+02, tolerance: 1.068e+01\n",
      "  model = cd_fast.enet_coordinate_descent(\n",
      "/usr/local/lib/python3.11/dist-packages/sklearn/linear_model/_coordinate_descent.py:631: ConvergenceWarning: Objective did not converge. You might want to increase the number of iterations, check the scale of the features or consider increasing regularisation. Duality gap: 9.067e+03, tolerance: 1.563e+02\n",
      "  model = cd_fast.enet_coordinate_descent(\n",
      "/usr/local/lib/python3.11/dist-packages/sklearn/linear_model/_coordinate_descent.py:631: ConvergenceWarning: Objective did not converge. You might want to increase the number of iterations, check the scale of the features or consider increasing regularisation. Duality gap: 3.115e+03, tolerance: 5.443e+01\n",
      "  model = cd_fast.enet_coordinate_descent(\n",
      "/usr/local/lib/python3.11/dist-packages/sklearn/linear_model/_coordinate_descent.py:631: ConvergenceWarning: Objective did not converge. You might want to increase the number of iterations, check the scale of the features or consider increasing regularisation. Duality gap: 3.107e+03, tolerance: 3.513e+01\n",
      "  model = cd_fast.enet_coordinate_descent(\n",
      "/usr/local/lib/python3.11/dist-packages/sklearn/linear_model/_coordinate_descent.py:631: ConvergenceWarning: Objective did not converge. You might want to increase the number of iterations, check the scale of the features or consider increasing regularisation. Duality gap: 1.347e+02, tolerance: 1.003e+01\n",
      "  model = cd_fast.enet_coordinate_descent(\n",
      "/usr/local/lib/python3.11/dist-packages/sklearn/linear_model/_coordinate_descent.py:631: ConvergenceWarning: Objective did not converge. You might want to increase the number of iterations, check the scale of the features or consider increasing regularisation. Duality gap: 1.405e+03, tolerance: 2.775e+01\n",
      "  model = cd_fast.enet_coordinate_descent(\n",
      "/usr/local/lib/python3.11/dist-packages/sklearn/linear_model/_coordinate_descent.py:631: ConvergenceWarning: Objective did not converge. You might want to increase the number of iterations, check the scale of the features or consider increasing regularisation. Duality gap: 7.396e+00, tolerance: 2.506e+00\n",
      "  model = cd_fast.enet_coordinate_descent(\n",
      "/usr/local/lib/python3.11/dist-packages/sklearn/linear_model/_coordinate_descent.py:631: ConvergenceWarning: Objective did not converge. You might want to increase the number of iterations, check the scale of the features or consider increasing regularisation. Duality gap: 7.051e+00, tolerance: 1.611e+00\n",
      "  model = cd_fast.enet_coordinate_descent(\n",
      "/usr/local/lib/python3.11/dist-packages/sklearn/linear_model/_coordinate_descent.py:631: ConvergenceWarning: Objective did not converge. You might want to increase the number of iterations, check the scale of the features or consider increasing regularisation. Duality gap: 1.788e+03, tolerance: 4.334e+01\n",
      "  model = cd_fast.enet_coordinate_descent(\n",
      "/usr/local/lib/python3.11/dist-packages/sklearn/linear_model/_coordinate_descent.py:631: ConvergenceWarning: Objective did not converge. You might want to increase the number of iterations, check the scale of the features or consider increasing regularisation. Duality gap: 7.100e+02, tolerance: 2.230e+01\n",
      "  model = cd_fast.enet_coordinate_descent(\n",
      "/usr/local/lib/python3.11/dist-packages/sklearn/linear_model/_coordinate_descent.py:631: ConvergenceWarning: Objective did not converge. You might want to increase the number of iterations, check the scale of the features or consider increasing regularisation. Duality gap: 2.259e+03, tolerance: 4.792e+01\n",
      "  model = cd_fast.enet_coordinate_descent(\n",
      "/usr/local/lib/python3.11/dist-packages/sklearn/linear_model/_coordinate_descent.py:631: ConvergenceWarning: Objective did not converge. You might want to increase the number of iterations, check the scale of the features or consider increasing regularisation. Duality gap: 1.637e+03, tolerance: 2.321e+01\n",
      "  model = cd_fast.enet_coordinate_descent(\n",
      "/usr/local/lib/python3.11/dist-packages/sklearn/linear_model/_coordinate_descent.py:631: ConvergenceWarning: Objective did not converge. You might want to increase the number of iterations, check the scale of the features or consider increasing regularisation. Duality gap: 9.401e+02, tolerance: 1.588e+01\n",
      "  model = cd_fast.enet_coordinate_descent(\n",
      "/usr/local/lib/python3.11/dist-packages/sklearn/linear_model/_coordinate_descent.py:631: ConvergenceWarning: Objective did not converge. You might want to increase the number of iterations, check the scale of the features or consider increasing regularisation. Duality gap: 8.046e+02, tolerance: 2.029e+01\n",
      "  model = cd_fast.enet_coordinate_descent(\n",
      "/usr/local/lib/python3.11/dist-packages/sklearn/linear_model/_coordinate_descent.py:631: ConvergenceWarning: Objective did not converge. You might want to increase the number of iterations, check the scale of the features or consider increasing regularisation. Duality gap: 7.513e+02, tolerance: 8.326e+00\n",
      "  model = cd_fast.enet_coordinate_descent(\n",
      "/usr/local/lib/python3.11/dist-packages/sklearn/linear_model/_coordinate_descent.py:631: ConvergenceWarning: Objective did not converge. You might want to increase the number of iterations, check the scale of the features or consider increasing regularisation. Duality gap: 6.818e+02, tolerance: 1.068e+01\n",
      "  model = cd_fast.enet_coordinate_descent(\n",
      "/usr/local/lib/python3.11/dist-packages/sklearn/linear_model/_coordinate_descent.py:631: ConvergenceWarning: Objective did not converge. You might want to increase the number of iterations, check the scale of the features or consider increasing regularisation. Duality gap: 1.199e+04, tolerance: 1.563e+02\n",
      "  model = cd_fast.enet_coordinate_descent(\n",
      "/usr/local/lib/python3.11/dist-packages/sklearn/linear_model/_coordinate_descent.py:631: ConvergenceWarning: Objective did not converge. You might want to increase the number of iterations, check the scale of the features or consider increasing regularisation. Duality gap: 4.197e+03, tolerance: 5.443e+01\n",
      "  model = cd_fast.enet_coordinate_descent(\n",
      "/usr/local/lib/python3.11/dist-packages/sklearn/linear_model/_coordinate_descent.py:631: ConvergenceWarning: Objective did not converge. You might want to increase the number of iterations, check the scale of the features or consider increasing regularisation. Duality gap: 5.706e+03, tolerance: 3.513e+01\n",
      "  model = cd_fast.enet_coordinate_descent(\n",
      "/usr/local/lib/python3.11/dist-packages/sklearn/linear_model/_coordinate_descent.py:631: ConvergenceWarning: Objective did not converge. You might want to increase the number of iterations, check the scale of the features or consider increasing regularisation. Duality gap: 1.310e+02, tolerance: 1.003e+01\n",
      "  model = cd_fast.enet_coordinate_descent(\n",
      "/usr/local/lib/python3.11/dist-packages/sklearn/linear_model/_coordinate_descent.py:631: ConvergenceWarning: Objective did not converge. You might want to increase the number of iterations, check the scale of the features or consider increasing regularisation. Duality gap: 1.036e+03, tolerance: 2.775e+01\n",
      "  model = cd_fast.enet_coordinate_descent(\n",
      "/usr/local/lib/python3.11/dist-packages/sklearn/linear_model/_coordinate_descent.py:631: ConvergenceWarning: Objective did not converge. You might want to increase the number of iterations, check the scale of the features or consider increasing regularisation. Duality gap: 3.228e+00, tolerance: 2.506e+00\n",
      "  model = cd_fast.enet_coordinate_descent(\n",
      "/usr/local/lib/python3.11/dist-packages/sklearn/linear_model/_coordinate_descent.py:631: ConvergenceWarning: Objective did not converge. You might want to increase the number of iterations, check the scale of the features or consider increasing regularisation. Duality gap: 1.530e+01, tolerance: 1.611e+00\n",
      "  model = cd_fast.enet_coordinate_descent(\n",
      "/usr/local/lib/python3.11/dist-packages/sklearn/linear_model/_coordinate_descent.py:631: ConvergenceWarning: Objective did not converge. You might want to increase the number of iterations, check the scale of the features or consider increasing regularisation. Duality gap: 9.194e+02, tolerance: 4.334e+01\n",
      "  model = cd_fast.enet_coordinate_descent(\n",
      "/usr/local/lib/python3.11/dist-packages/sklearn/linear_model/_coordinate_descent.py:631: ConvergenceWarning: Objective did not converge. You might want to increase the number of iterations, check the scale of the features or consider increasing regularisation. Duality gap: 1.508e+03, tolerance: 2.230e+01\n",
      "  model = cd_fast.enet_coordinate_descent(\n",
      "/usr/local/lib/python3.11/dist-packages/sklearn/linear_model/_coordinate_descent.py:631: ConvergenceWarning: Objective did not converge. You might want to increase the number of iterations, check the scale of the features or consider increasing regularisation. Duality gap: 2.335e+03, tolerance: 4.792e+01\n",
      "  model = cd_fast.enet_coordinate_descent(\n",
      "/usr/local/lib/python3.11/dist-packages/sklearn/linear_model/_coordinate_descent.py:631: ConvergenceWarning: Objective did not converge. You might want to increase the number of iterations, check the scale of the features or consider increasing regularisation. Duality gap: 2.784e+03, tolerance: 2.321e+01\n",
      "  model = cd_fast.enet_coordinate_descent(\n",
      "/usr/local/lib/python3.11/dist-packages/sklearn/linear_model/_coordinate_descent.py:631: ConvergenceWarning: Objective did not converge. You might want to increase the number of iterations, check the scale of the features or consider increasing regularisation. Duality gap: 5.855e+02, tolerance: 1.588e+01\n",
      "  model = cd_fast.enet_coordinate_descent(\n"
     ]
    },
    {
     "name": "stdout",
     "output_type": "stream",
     "text": [
      "Classification dataset: movement_libras - completed (64 / 99) ✅\n"
     ]
    },
    {
     "name": "stderr",
     "output_type": "stream",
     "text": [
      "/usr/local/lib/python3.11/dist-packages/oikan/model.py:290: UserWarning: To copy construct from a tensor, it is recommended to use sourceTensor.clone().detach() or sourceTensor.clone().detach().requires_grad_(True), rather than torch.tensor(sourceTensor).\n",
      "  torch.tensor(y, dtype=torch.float32))\n",
      "/usr/local/lib/python3.11/dist-packages/sklearn/linear_model/_coordinate_descent.py:631: ConvergenceWarning: Objective did not converge. You might want to increase the number of iterations, check the scale of the features or consider increasing regularisation. Duality gap: 2.654e+02, tolerance: 2.652e+01\n",
      "  model = cd_fast.enet_coordinate_descent(\n",
      "/usr/local/lib/python3.11/dist-packages/sklearn/linear_model/_coordinate_descent.py:631: ConvergenceWarning: Objective did not converge. You might want to increase the number of iterations, check the scale of the features or consider increasing regularisation. Duality gap: 2.407e+02, tolerance: 1.576e+01\n",
      "  model = cd_fast.enet_coordinate_descent(\n",
      "/usr/local/lib/python3.11/dist-packages/sklearn/linear_model/_coordinate_descent.py:631: ConvergenceWarning: Objective did not converge. You might want to increase the number of iterations, check the scale of the features or consider increasing regularisation. Duality gap: 5.920e+01, tolerance: 1.018e+00\n",
      "  model = cd_fast.enet_coordinate_descent(\n",
      "/usr/local/lib/python3.11/dist-packages/sklearn/linear_model/_coordinate_descent.py:631: ConvergenceWarning: Objective did not converge. You might want to increase the number of iterations, check the scale of the features or consider increasing regularisation. Duality gap: 1.773e+02, tolerance: 2.652e+01\n",
      "  model = cd_fast.enet_coordinate_descent(\n",
      "/usr/local/lib/python3.11/dist-packages/sklearn/linear_model/_coordinate_descent.py:631: ConvergenceWarning: Objective did not converge. You might want to increase the number of iterations, check the scale of the features or consider increasing regularisation. Duality gap: 1.666e+02, tolerance: 1.576e+01\n",
      "  model = cd_fast.enet_coordinate_descent(\n",
      "/usr/local/lib/python3.11/dist-packages/sklearn/linear_model/_sag.py:350: ConvergenceWarning: The max_iter was reached which means the coef_ did not converge\n",
      "  warnings.warn(\n"
     ]
    },
    {
     "name": "stdout",
     "output_type": "stream",
     "text": [
      "Classification dataset: new_thyroid - completed (65 / 99) ✅\n"
     ]
    },
    {
     "name": "stderr",
     "output_type": "stream",
     "text": [
      "/usr/local/lib/python3.11/dist-packages/oikan/model.py:290: UserWarning: To copy construct from a tensor, it is recommended to use sourceTensor.clone().detach() or sourceTensor.clone().detach().requires_grad_(True), rather than torch.tensor(sourceTensor).\n",
      "  torch.tensor(y, dtype=torch.float32))\n",
      "/usr/local/lib/python3.11/dist-packages/sklearn/linear_model/_coordinate_descent.py:631: ConvergenceWarning: Objective did not converge. You might want to increase the number of iterations, check the scale of the features or consider increasing regularisation. Duality gap: 3.357e+04, tolerance: 1.627e+03\n",
      "  model = cd_fast.enet_coordinate_descent(\n",
      "/usr/local/lib/python3.11/dist-packages/sklearn/linear_model/_coordinate_descent.py:631: ConvergenceWarning: Objective did not converge. You might want to increase the number of iterations, check the scale of the features or consider increasing regularisation. Duality gap: 2.870e+04, tolerance: 9.722e+02\n",
      "  model = cd_fast.enet_coordinate_descent(\n",
      "/usr/local/lib/python3.11/dist-packages/sklearn/linear_model/_coordinate_descent.py:631: ConvergenceWarning: Objective did not converge. You might want to increase the number of iterations, check the scale of the features or consider increasing regularisation. Duality gap: 3.242e+04, tolerance: 1.293e+03\n",
      "  model = cd_fast.enet_coordinate_descent(\n",
      "/usr/local/lib/python3.11/dist-packages/sklearn/linear_model/_coordinate_descent.py:631: ConvergenceWarning: Objective did not converge. You might want to increase the number of iterations, check the scale of the features or consider increasing regularisation. Duality gap: 2.822e+04, tolerance: 9.347e+02\n",
      "  model = cd_fast.enet_coordinate_descent(\n",
      "/usr/local/lib/python3.11/dist-packages/sklearn/linear_model/_coordinate_descent.py:631: ConvergenceWarning: Objective did not converge. You might want to increase the number of iterations, check the scale of the features or consider increasing regularisation. Duality gap: 4.084e+04, tolerance: 2.156e+03\n",
      "  model = cd_fast.enet_coordinate_descent(\n",
      "/usr/local/lib/python3.11/dist-packages/sklearn/linear_model/_coordinate_descent.py:631: ConvergenceWarning: Objective did not converge. You might want to increase the number of iterations, check the scale of the features or consider increasing regularisation. Duality gap: 3.022e+04, tolerance: 9.141e+02\n",
      "  model = cd_fast.enet_coordinate_descent(\n",
      "/usr/local/lib/python3.11/dist-packages/sklearn/linear_model/_coordinate_descent.py:631: ConvergenceWarning: Objective did not converge. You might want to increase the number of iterations, check the scale of the features or consider increasing regularisation. Duality gap: 3.215e+04, tolerance: 1.719e+03\n",
      "  model = cd_fast.enet_coordinate_descent(\n",
      "/usr/local/lib/python3.11/dist-packages/sklearn/linear_model/_coordinate_descent.py:631: ConvergenceWarning: Objective did not converge. You might want to increase the number of iterations, check the scale of the features or consider increasing regularisation. Duality gap: 2.608e+04, tolerance: 1.011e+03\n",
      "  model = cd_fast.enet_coordinate_descent(\n",
      "/usr/local/lib/python3.11/dist-packages/sklearn/linear_model/_coordinate_descent.py:631: ConvergenceWarning: Objective did not converge. You might want to increase the number of iterations, check the scale of the features or consider increasing regularisation. Duality gap: 3.555e+04, tolerance: 6.489e+02\n",
      "  model = cd_fast.enet_coordinate_descent(\n",
      "/usr/local/lib/python3.11/dist-packages/sklearn/linear_model/_coordinate_descent.py:631: ConvergenceWarning: Objective did not converge. You might want to increase the number of iterations, check the scale of the features or consider increasing regularisation. Duality gap: 3.038e+04, tolerance: 1.361e+03\n",
      "  model = cd_fast.enet_coordinate_descent(\n",
      "/usr/local/lib/python3.11/dist-packages/sklearn/linear_model/_coordinate_descent.py:631: ConvergenceWarning: Objective did not converge. You might want to increase the number of iterations, check the scale of the features or consider increasing regularisation. Duality gap: 3.653e+04, tolerance: 1.627e+03\n",
      "  model = cd_fast.enet_coordinate_descent(\n",
      "/usr/local/lib/python3.11/dist-packages/sklearn/linear_model/_coordinate_descent.py:631: ConvergenceWarning: Objective did not converge. You might want to increase the number of iterations, check the scale of the features or consider increasing regularisation. Duality gap: 3.365e+04, tolerance: 9.722e+02\n",
      "  model = cd_fast.enet_coordinate_descent(\n",
      "/usr/local/lib/python3.11/dist-packages/sklearn/linear_model/_coordinate_descent.py:631: ConvergenceWarning: Objective did not converge. You might want to increase the number of iterations, check the scale of the features or consider increasing regularisation. Duality gap: 3.622e+04, tolerance: 1.293e+03\n",
      "  model = cd_fast.enet_coordinate_descent(\n",
      "/usr/local/lib/python3.11/dist-packages/sklearn/linear_model/_coordinate_descent.py:631: ConvergenceWarning: Objective did not converge. You might want to increase the number of iterations, check the scale of the features or consider increasing regularisation. Duality gap: 2.995e+04, tolerance: 9.347e+02\n",
      "  model = cd_fast.enet_coordinate_descent(\n",
      "/usr/local/lib/python3.11/dist-packages/sklearn/linear_model/_coordinate_descent.py:631: ConvergenceWarning: Objective did not converge. You might want to increase the number of iterations, check the scale of the features or consider increasing regularisation. Duality gap: 4.693e+04, tolerance: 2.156e+03\n",
      "  model = cd_fast.enet_coordinate_descent(\n",
      "/usr/local/lib/python3.11/dist-packages/sklearn/linear_model/_coordinate_descent.py:631: ConvergenceWarning: Objective did not converge. You might want to increase the number of iterations, check the scale of the features or consider increasing regularisation. Duality gap: 3.395e+04, tolerance: 9.141e+02\n",
      "  model = cd_fast.enet_coordinate_descent(\n",
      "/usr/local/lib/python3.11/dist-packages/sklearn/linear_model/_coordinate_descent.py:631: ConvergenceWarning: Objective did not converge. You might want to increase the number of iterations, check the scale of the features or consider increasing regularisation. Duality gap: 3.484e+04, tolerance: 1.719e+03\n",
      "  model = cd_fast.enet_coordinate_descent(\n",
      "/usr/local/lib/python3.11/dist-packages/sklearn/linear_model/_coordinate_descent.py:631: ConvergenceWarning: Objective did not converge. You might want to increase the number of iterations, check the scale of the features or consider increasing regularisation. Duality gap: 2.955e+04, tolerance: 1.011e+03\n",
      "  model = cd_fast.enet_coordinate_descent(\n",
      "/usr/local/lib/python3.11/dist-packages/sklearn/linear_model/_coordinate_descent.py:631: ConvergenceWarning: Objective did not converge. You might want to increase the number of iterations, check the scale of the features or consider increasing regularisation. Duality gap: 4.006e+04, tolerance: 6.489e+02\n",
      "  model = cd_fast.enet_coordinate_descent(\n",
      "/usr/local/lib/python3.11/dist-packages/sklearn/linear_model/_coordinate_descent.py:631: ConvergenceWarning: Objective did not converge. You might want to increase the number of iterations, check the scale of the features or consider increasing regularisation. Duality gap: 3.327e+04, tolerance: 1.361e+03\n",
      "  model = cd_fast.enet_coordinate_descent(\n",
      "/usr/local/lib/python3.11/dist-packages/sklearn/linear_model/_sag.py:350: ConvergenceWarning: The max_iter was reached which means the coef_ did not converge\n",
      "  warnings.warn(\n"
     ]
    },
    {
     "name": "stdout",
     "output_type": "stream",
     "text": [
      "Classification dataset: optdigits - completed (66 / 99) ✅\n"
     ]
    },
    {
     "name": "stderr",
     "output_type": "stream",
     "text": [
      "/usr/local/lib/python3.11/dist-packages/oikan/model.py:290: UserWarning: To copy construct from a tensor, it is recommended to use sourceTensor.clone().detach() or sourceTensor.clone().detach().requires_grad_(True), rather than torch.tensor(sourceTensor).\n",
      "  torch.tensor(y, dtype=torch.float32))\n",
      "/usr/local/lib/python3.11/dist-packages/sklearn/linear_model/_coordinate_descent.py:631: ConvergenceWarning: Objective did not converge. You might want to increase the number of iterations, check the scale of the features or consider increasing regularisation. Duality gap: 1.571e+05, tolerance: 8.590e+02\n",
      "  model = cd_fast.enet_coordinate_descent(\n",
      "/usr/local/lib/python3.11/dist-packages/sklearn/linear_model/_coordinate_descent.py:631: ConvergenceWarning: Objective did not converge. You might want to increase the number of iterations, check the scale of the features or consider increasing regularisation. Duality gap: 8.334e+04, tolerance: 3.789e+02\n",
      "  model = cd_fast.enet_coordinate_descent(\n",
      "/usr/local/lib/python3.11/dist-packages/sklearn/linear_model/_coordinate_descent.py:631: ConvergenceWarning: Objective did not converge. You might want to increase the number of iterations, check the scale of the features or consider increasing regularisation. Duality gap: 7.143e+05, tolerance: 2.707e+03\n",
      "  model = cd_fast.enet_coordinate_descent(\n",
      "/usr/local/lib/python3.11/dist-packages/sklearn/linear_model/_coordinate_descent.py:631: ConvergenceWarning: Objective did not converge. You might want to increase the number of iterations, check the scale of the features or consider increasing regularisation. Duality gap: 2.871e+05, tolerance: 9.795e+02\n",
      "  model = cd_fast.enet_coordinate_descent(\n",
      "/usr/local/lib/python3.11/dist-packages/sklearn/linear_model/_coordinate_descent.py:631: ConvergenceWarning: Objective did not converge. You might want to increase the number of iterations, check the scale of the features or consider increasing regularisation. Duality gap: 2.145e+05, tolerance: 3.765e+03\n",
      "  model = cd_fast.enet_coordinate_descent(\n",
      "/usr/local/lib/python3.11/dist-packages/sklearn/linear_model/_coordinate_descent.py:631: ConvergenceWarning: Objective did not converge. You might want to increase the number of iterations, check the scale of the features or consider increasing regularisation. Duality gap: 1.381e+05, tolerance: 8.590e+02\n",
      "  model = cd_fast.enet_coordinate_descent(\n",
      "/usr/local/lib/python3.11/dist-packages/sklearn/linear_model/_coordinate_descent.py:631: ConvergenceWarning: Objective did not converge. You might want to increase the number of iterations, check the scale of the features or consider increasing regularisation. Duality gap: 7.257e+04, tolerance: 3.789e+02\n",
      "  model = cd_fast.enet_coordinate_descent(\n",
      "/usr/local/lib/python3.11/dist-packages/sklearn/linear_model/_coordinate_descent.py:631: ConvergenceWarning: Objective did not converge. You might want to increase the number of iterations, check the scale of the features or consider increasing regularisation. Duality gap: 5.958e+05, tolerance: 2.707e+03\n",
      "  model = cd_fast.enet_coordinate_descent(\n",
      "/usr/local/lib/python3.11/dist-packages/sklearn/linear_model/_coordinate_descent.py:631: ConvergenceWarning: Objective did not converge. You might want to increase the number of iterations, check the scale of the features or consider increasing regularisation. Duality gap: 2.370e+05, tolerance: 9.795e+02\n",
      "  model = cd_fast.enet_coordinate_descent(\n",
      "/usr/local/lib/python3.11/dist-packages/sklearn/linear_model/_coordinate_descent.py:631: ConvergenceWarning: Objective did not converge. You might want to increase the number of iterations, check the scale of the features or consider increasing regularisation. Duality gap: 1.908e+05, tolerance: 3.765e+03\n",
      "  model = cd_fast.enet_coordinate_descent(\n",
      "/usr/local/lib/python3.11/dist-packages/sklearn/linear_model/_sag.py:350: ConvergenceWarning: The max_iter was reached which means the coef_ did not converge\n",
      "  warnings.warn(\n"
     ]
    },
    {
     "name": "stdout",
     "output_type": "stream",
     "text": [
      "Classification dataset: page_blocks - completed (67 / 99) ✅\n"
     ]
    },
    {
     "name": "stderr",
     "output_type": "stream",
     "text": [
      "/usr/local/lib/python3.11/dist-packages/oikan/model.py:290: UserWarning: To copy construct from a tensor, it is recommended to use sourceTensor.clone().detach() or sourceTensor.clone().detach().requires_grad_(True), rather than torch.tensor(sourceTensor).\n",
      "  torch.tensor(y, dtype=torch.float32))\n"
     ]
    },
    {
     "name": "stdout",
     "output_type": "stream",
     "text": [
      "Classification dataset: parity5 - completed (68 / 99) ✅\n"
     ]
    },
    {
     "name": "stderr",
     "output_type": "stream",
     "text": [
      "/usr/local/lib/python3.11/dist-packages/oikan/model.py:290: UserWarning: To copy construct from a tensor, it is recommended to use sourceTensor.clone().detach() or sourceTensor.clone().detach().requires_grad_(True), rather than torch.tensor(sourceTensor).\n",
      "  torch.tensor(y, dtype=torch.float32))\n"
     ]
    },
    {
     "name": "stdout",
     "output_type": "stream",
     "text": [
      "Classification dataset: parity5+5 - completed (69 / 99) ✅\n"
     ]
    },
    {
     "name": "stderr",
     "output_type": "stream",
     "text": [
      "/usr/local/lib/python3.11/dist-packages/oikan/model.py:290: UserWarning: To copy construct from a tensor, it is recommended to use sourceTensor.clone().detach() or sourceTensor.clone().detach().requires_grad_(True), rather than torch.tensor(sourceTensor).\n",
      "  torch.tensor(y, dtype=torch.float32))\n"
     ]
    },
    {
     "name": "stdout",
     "output_type": "stream",
     "text": [
      "Classification dataset: phoneme - completed (70 / 99) ✅\n",
      "Error benchmarking classification dataset pima: Dataset not found in PMLB.\n",
      "Error benchmarking classification dataset postoperative: Dataset not found in PMLB.\n"
     ]
    },
    {
     "name": "stderr",
     "output_type": "stream",
     "text": [
      "/usr/local/lib/python3.11/dist-packages/oikan/model.py:290: UserWarning: To copy construct from a tensor, it is recommended to use sourceTensor.clone().detach() or sourceTensor.clone().detach().requires_grad_(True), rather than torch.tensor(sourceTensor).\n",
      "  torch.tensor(y, dtype=torch.float32))\n",
      "/usr/local/lib/python3.11/dist-packages/sklearn/linear_model/_coordinate_descent.py:631: ConvergenceWarning: Objective did not converge. You might want to increase the number of iterations, check the scale of the features or consider increasing regularisation. Duality gap: 1.245e+02, tolerance: 1.002e+00\n",
      "  model = cd_fast.enet_coordinate_descent(\n",
      "/usr/local/lib/python3.11/dist-packages/sklearn/linear_model/_coordinate_descent.py:631: ConvergenceWarning: Objective did not converge. You might want to increase the number of iterations, check the scale of the features or consider increasing regularisation. Duality gap: 1.106e+02, tolerance: 1.024e+00\n",
      "  model = cd_fast.enet_coordinate_descent(\n",
      "/usr/local/lib/python3.11/dist-packages/sklearn/linear_model/_coordinate_descent.py:631: ConvergenceWarning: Objective did not converge. You might want to increase the number of iterations, check the scale of the features or consider increasing regularisation. Duality gap: 1.318e+02, tolerance: 1.002e+00\n",
      "  model = cd_fast.enet_coordinate_descent(\n",
      "/usr/local/lib/python3.11/dist-packages/sklearn/linear_model/_coordinate_descent.py:631: ConvergenceWarning: Objective did not converge. You might want to increase the number of iterations, check the scale of the features or consider increasing regularisation. Duality gap: 1.164e+02, tolerance: 1.024e+00\n",
      "  model = cd_fast.enet_coordinate_descent(\n",
      "/usr/local/lib/python3.11/dist-packages/sklearn/linear_model/_sag.py:350: ConvergenceWarning: The max_iter was reached which means the coef_ did not converge\n",
      "  warnings.warn(\n"
     ]
    },
    {
     "name": "stdout",
     "output_type": "stream",
     "text": [
      "Classification dataset: prnn_crabs - completed (73 / 99) ✅\n",
      "Error benchmarking classification dataset prnn_fglass: Dataset not found in PMLB.\n"
     ]
    },
    {
     "name": "stderr",
     "output_type": "stream",
     "text": [
      "/usr/local/lib/python3.11/dist-packages/oikan/model.py:290: UserWarning: To copy construct from a tensor, it is recommended to use sourceTensor.clone().detach() or sourceTensor.clone().detach().requires_grad_(True), rather than torch.tensor(sourceTensor).\n",
      "  torch.tensor(y, dtype=torch.float32))\n"
     ]
    },
    {
     "name": "stdout",
     "output_type": "stream",
     "text": [
      "Classification dataset: prnn_synth - completed (75 / 99) ✅\n"
     ]
    },
    {
     "name": "stderr",
     "output_type": "stream",
     "text": [
      "/usr/local/lib/python3.11/dist-packages/oikan/model.py:290: UserWarning: To copy construct from a tensor, it is recommended to use sourceTensor.clone().detach() or sourceTensor.clone().detach().requires_grad_(True), rather than torch.tensor(sourceTensor).\n",
      "  torch.tensor(y, dtype=torch.float32))\n",
      "/usr/local/lib/python3.11/dist-packages/sklearn/linear_model/_coordinate_descent.py:631: ConvergenceWarning: Objective did not converge. You might want to increase the number of iterations, check the scale of the features or consider increasing regularisation. Duality gap: 1.451e+06, tolerance: 6.727e+02\n",
      "  model = cd_fast.enet_coordinate_descent(\n",
      "/usr/local/lib/python3.11/dist-packages/sklearn/linear_model/_coordinate_descent.py:631: ConvergenceWarning: Objective did not converge. You might want to increase the number of iterations, check the scale of the features or consider increasing regularisation. Duality gap: 4.410e+04, tolerance: 1.728e+03\n",
      "  model = cd_fast.enet_coordinate_descent(\n"
     ]
    },
    {
     "name": "stdout",
     "output_type": "stream",
     "text": [
      "Classification dataset: ring - completed (76 / 99) ✅\n"
     ]
    },
    {
     "name": "stderr",
     "output_type": "stream",
     "text": [
      "/usr/local/lib/python3.11/dist-packages/oikan/model.py:290: UserWarning: To copy construct from a tensor, it is recommended to use sourceTensor.clone().detach() or sourceTensor.clone().detach().requires_grad_(True), rather than torch.tensor(sourceTensor).\n",
      "  torch.tensor(y, dtype=torch.float32))\n",
      "/usr/local/lib/python3.11/dist-packages/sklearn/linear_model/_coordinate_descent.py:631: ConvergenceWarning: Objective did not converge. You might want to increase the number of iterations, check the scale of the features or consider increasing regularisation. Duality gap: 2.374e+02, tolerance: 3.385e-01\n",
      "  model = cd_fast.enet_coordinate_descent(\n",
      "/usr/local/lib/python3.11/dist-packages/sklearn/linear_model/_coordinate_descent.py:631: ConvergenceWarning: Objective did not converge. You might want to increase the number of iterations, check the scale of the features or consider increasing regularisation. Duality gap: 1.818e+02, tolerance: 7.665e-01\n",
      "  model = cd_fast.enet_coordinate_descent(\n",
      "/usr/local/lib/python3.11/dist-packages/sklearn/linear_model/_coordinate_descent.py:631: ConvergenceWarning: Objective did not converge. You might want to increase the number of iterations, check the scale of the features or consider increasing regularisation. Duality gap: 2.134e+02, tolerance: 3.385e-01\n",
      "  model = cd_fast.enet_coordinate_descent(\n",
      "/usr/local/lib/python3.11/dist-packages/sklearn/linear_model/_coordinate_descent.py:631: ConvergenceWarning: Objective did not converge. You might want to increase the number of iterations, check the scale of the features or consider increasing regularisation. Duality gap: 1.726e+02, tolerance: 7.665e-01\n",
      "  model = cd_fast.enet_coordinate_descent(\n",
      "/usr/local/lib/python3.11/dist-packages/sklearn/linear_model/_sag.py:350: ConvergenceWarning: The max_iter was reached which means the coef_ did not converge\n",
      "  warnings.warn(\n"
     ]
    },
    {
     "name": "stdout",
     "output_type": "stream",
     "text": [
      "Classification dataset: saheart - completed (77 / 99) ✅\n"
     ]
    },
    {
     "name": "stderr",
     "output_type": "stream",
     "text": [
      "/usr/local/lib/python3.11/dist-packages/oikan/model.py:290: UserWarning: To copy construct from a tensor, it is recommended to use sourceTensor.clone().detach() or sourceTensor.clone().detach().requires_grad_(True), rather than torch.tensor(sourceTensor).\n",
      "  torch.tensor(y, dtype=torch.float32))\n",
      "/usr/local/lib/python3.11/dist-packages/sklearn/linear_model/_coordinate_descent.py:631: ConvergenceWarning: Objective did not converge. You might want to increase the number of iterations, check the scale of the features or consider increasing regularisation. Duality gap: 5.357e+03, tolerance: 1.295e+01\n",
      "  model = cd_fast.enet_coordinate_descent(\n",
      "/usr/local/lib/python3.11/dist-packages/sklearn/linear_model/_coordinate_descent.py:631: ConvergenceWarning: Objective did not converge. You might want to increase the number of iterations, check the scale of the features or consider increasing regularisation. Duality gap: 3.792e+03, tolerance: 5.080e+00\n",
      "  model = cd_fast.enet_coordinate_descent(\n",
      "/usr/local/lib/python3.11/dist-packages/sklearn/linear_model/_coordinate_descent.py:631: ConvergenceWarning: Objective did not converge. You might want to increase the number of iterations, check the scale of the features or consider increasing regularisation. Duality gap: 2.987e+03, tolerance: 6.123e+00\n",
      "  model = cd_fast.enet_coordinate_descent(\n",
      "/usr/local/lib/python3.11/dist-packages/sklearn/linear_model/_coordinate_descent.py:631: ConvergenceWarning: Objective did not converge. You might want to increase the number of iterations, check the scale of the features or consider increasing regularisation. Duality gap: 5.251e+03, tolerance: 1.295e+01\n",
      "  model = cd_fast.enet_coordinate_descent(\n",
      "/usr/local/lib/python3.11/dist-packages/sklearn/linear_model/_coordinate_descent.py:631: ConvergenceWarning: Objective did not converge. You might want to increase the number of iterations, check the scale of the features or consider increasing regularisation. Duality gap: 3.652e+03, tolerance: 5.080e+00\n",
      "  model = cd_fast.enet_coordinate_descent(\n",
      "/usr/local/lib/python3.11/dist-packages/sklearn/linear_model/_coordinate_descent.py:631: ConvergenceWarning: Objective did not converge. You might want to increase the number of iterations, check the scale of the features or consider increasing regularisation. Duality gap: 3.045e+03, tolerance: 6.123e+00\n",
      "  model = cd_fast.enet_coordinate_descent(\n",
      "/usr/local/lib/python3.11/dist-packages/sklearn/linear_model/_sag.py:350: ConvergenceWarning: The max_iter was reached which means the coef_ did not converge\n",
      "  warnings.warn(\n"
     ]
    },
    {
     "name": "stdout",
     "output_type": "stream",
     "text": [
      "Classification dataset: schizo - completed (78 / 99) ✅\n",
      "Error benchmarking classification dataset shuttle_landing: Dataset not found in PMLB.\n",
      "Error benchmarking classification dataset solar_flare_1: Dataset not found in PMLB.\n",
      "Error benchmarking classification dataset solar_flare_2: Dataset not found in PMLB.\n"
     ]
    },
    {
     "name": "stderr",
     "output_type": "stream",
     "text": [
      "/usr/local/lib/python3.11/dist-packages/oikan/model.py:290: UserWarning: To copy construct from a tensor, it is recommended to use sourceTensor.clone().detach() or sourceTensor.clone().detach().requires_grad_(True), rather than torch.tensor(sourceTensor).\n",
      "  torch.tensor(y, dtype=torch.float32))\n"
     ]
    },
    {
     "name": "stdout",
     "output_type": "stream",
     "text": [
      "Classification dataset: sonar - completed (82 / 99) ✅\n"
     ]
    }
   ],
   "source": [
    "# Benchmark classification datasets\n",
    "classification_results = []\n",
    "for idx, dataset in enumerate(classification_datasets, 1):\n",
    "    result = benchmark_classification_dataset(dataset, counter=idx, total=len(classification_datasets))\n",
    "    if result:\n",
    "        classification_results.append(result)\n",
    "        if len(classification_results) == 60:\n",
    "            break\n",
    "classification_df = pd.DataFrame(classification_results)"
   ]
  },
  {
   "cell_type": "code",
   "execution_count": 11,
   "id": "abcfa79e",
   "metadata": {
    "execution": {
     "iopub.execute_input": "2025-05-28T16:39:07.238649Z",
     "iopub.status.busy": "2025-05-28T16:39:07.238206Z",
     "iopub.status.idle": "2025-05-28T17:15:42.511371Z",
     "shell.execute_reply": "2025-05-28T17:15:42.510451Z"
    },
    "papermill": {
     "duration": 2195.313349,
     "end_time": "2025-05-28T17:15:42.512701",
     "exception": false,
     "start_time": "2025-05-28T16:39:07.199352",
     "status": "completed"
    },
    "tags": []
   },
   "outputs": [
    {
     "name": "stderr",
     "output_type": "stream",
     "text": [
      "/usr/local/lib/python3.11/dist-packages/sklearn/linear_model/_coordinate_descent.py:631: ConvergenceWarning: Objective did not converge. You might want to increase the number of iterations, check the scale of the features or consider increasing regularisation. Duality gap: 1.269e+02, tolerance: 1.122e+01\n",
      "  model = cd_fast.enet_coordinate_descent(\n"
     ]
    },
    {
     "name": "stdout",
     "output_type": "stream",
     "text": [
      "Regression dataset: 1027_ESL - completed (1 / 100) ✅\n"
     ]
    },
    {
     "name": "stderr",
     "output_type": "stream",
     "text": [
      "/usr/local/lib/python3.11/dist-packages/sklearn/linear_model/_coordinate_descent.py:631: ConvergenceWarning: Objective did not converge. You might want to increase the number of iterations, check the scale of the features or consider increasing regularisation. Duality gap: 2.135e+02, tolerance: 1.202e+01\n",
      "  model = cd_fast.enet_coordinate_descent(\n"
     ]
    },
    {
     "name": "stdout",
     "output_type": "stream",
     "text": [
      "Regression dataset: 1028_SWD - completed (2 / 100) ✅\n"
     ]
    },
    {
     "name": "stderr",
     "output_type": "stream",
     "text": [
      "/usr/local/lib/python3.11/dist-packages/sklearn/linear_model/_coordinate_descent.py:631: ConvergenceWarning: Objective did not converge. You might want to increase the number of iterations, check the scale of the features or consider increasing regularisation. Duality gap: 3.249e+00, tolerance: 2.539e+00\n",
      "  model = cd_fast.enet_coordinate_descent(\n"
     ]
    },
    {
     "name": "stdout",
     "output_type": "stream",
     "text": [
      "Regression dataset: 1029_LEV - completed (3 / 100) ✅\n"
     ]
    },
    {
     "name": "stderr",
     "output_type": "stream",
     "text": [
      "/usr/local/lib/python3.11/dist-packages/sklearn/linear_model/_coordinate_descent.py:631: ConvergenceWarning: Objective did not converge. You might want to increase the number of iterations, check the scale of the features or consider increasing regularisation. Duality gap: 3.179e+02, tolerance: 1.362e+01\n",
      "  model = cd_fast.enet_coordinate_descent(\n"
     ]
    },
    {
     "name": "stdout",
     "output_type": "stream",
     "text": [
      "Regression dataset: 1030_ERA - completed (4 / 100) ✅\n",
      "Regression dataset: 1089_USCrime - completed (5 / 100) ✅\n",
      "Regression dataset: 1096_FacultySalaries - completed (6 / 100) ✅\n"
     ]
    },
    {
     "name": "stderr",
     "output_type": "stream",
     "text": [
      "/usr/local/lib/python3.11/dist-packages/sklearn/linear_model/_coordinate_descent.py:631: ConvergenceWarning: Objective did not converge. You might want to increase the number of iterations, check the scale of the features or consider increasing regularisation. Duality gap: 1.654e+02, tolerance: 3.441e+01\n",
      "  model = cd_fast.enet_coordinate_descent(\n"
     ]
    },
    {
     "name": "stdout",
     "output_type": "stream",
     "text": [
      "Regression dataset: 192_vineyard - completed (7 / 100) ✅\n"
     ]
    },
    {
     "name": "stderr",
     "output_type": "stream",
     "text": [
      "/usr/local/lib/python3.11/dist-packages/sklearn/linear_model/_coordinate_descent.py:631: ConvergenceWarning: Objective did not converge. You might want to increase the number of iterations, check the scale of the features or consider increasing regularisation. Duality gap: 4.889e+05, tolerance: 3.377e+04\n",
      "  model = cd_fast.enet_coordinate_descent(\n",
      "/usr/local/lib/python3.11/dist-packages/sklearn/linear_model/_coordinate_descent.py:631: ConvergenceWarning: Objective did not converge. You might want to increase the number of iterations, check the scale of the features or consider increasing regularisation. Duality gap: 4.933e+05, tolerance: 3.377e+04\n",
      "  model = cd_fast.enet_coordinate_descent(\n"
     ]
    },
    {
     "name": "stdout",
     "output_type": "stream",
     "text": [
      "Regression dataset: 197_cpu_act - completed (8 / 100) ✅\n"
     ]
    },
    {
     "name": "stderr",
     "output_type": "stream",
     "text": [
      "/usr/local/lib/python3.11/dist-packages/sklearn/linear_model/_coordinate_descent.py:631: ConvergenceWarning: Objective did not converge. You might want to increase the number of iterations, check the scale of the features or consider increasing regularisation. Duality gap: 2.417e+07, tolerance: 2.585e+04\n",
      "  model = cd_fast.enet_coordinate_descent(\n",
      "/usr/local/lib/python3.11/dist-packages/sklearn/linear_model/_coordinate_descent.py:631: ConvergenceWarning: Objective did not converge. You might want to increase the number of iterations, check the scale of the features or consider increasing regularisation. Duality gap: 2.400e+07, tolerance: 2.585e+04\n",
      "  model = cd_fast.enet_coordinate_descent(\n"
     ]
    },
    {
     "name": "stdout",
     "output_type": "stream",
     "text": [
      "Regression dataset: 201_pol - completed (9 / 100) ✅\n",
      "Regression dataset: 210_cloud - completed (10 / 100) ✅\n",
      "Regression dataset: 215_2dplanes - completed (11 / 100) ✅\n"
     ]
    },
    {
     "name": "stderr",
     "output_type": "stream",
     "text": [
      "/usr/local/lib/python3.11/dist-packages/sklearn/linear_model/_coordinate_descent.py:631: ConvergenceWarning: Objective did not converge. You might want to increase the number of iterations, check the scale of the features or consider increasing regularisation. Duality gap: 1.047e+13, tolerance: 2.986e+10\n",
      "  model = cd_fast.enet_coordinate_descent(\n",
      "/usr/local/lib/python3.11/dist-packages/sklearn/linear_model/_coordinate_descent.py:631: ConvergenceWarning: Objective did not converge. You might want to increase the number of iterations, check the scale of the features or consider increasing regularisation. Duality gap: 9.730e+12, tolerance: 2.986e+10\n",
      "  model = cd_fast.enet_coordinate_descent(\n"
     ]
    },
    {
     "name": "stdout",
     "output_type": "stream",
     "text": [
      "Regression dataset: 218_house_8L - completed (12 / 100) ✅\n",
      "Regression dataset: 225_puma8NH - completed (13 / 100) ✅\n"
     ]
    },
    {
     "name": "stderr",
     "output_type": "stream",
     "text": [
      "/usr/local/lib/python3.11/dist-packages/sklearn/linear_model/_coordinate_descent.py:631: ConvergenceWarning: Objective did not converge. You might want to increase the number of iterations, check the scale of the features or consider increasing regularisation. Duality gap: 1.436e+07, tolerance: 3.878e+05\n",
      "  model = cd_fast.enet_coordinate_descent(\n",
      "/usr/local/lib/python3.11/dist-packages/sklearn/linear_model/_coordinate_descent.py:631: ConvergenceWarning: Objective did not converge. You might want to increase the number of iterations, check the scale of the features or consider increasing regularisation. Duality gap: 1.418e+07, tolerance: 3.878e+05\n",
      "  model = cd_fast.enet_coordinate_descent(\n"
     ]
    },
    {
     "name": "stdout",
     "output_type": "stream",
     "text": [
      "Regression dataset: 227_cpu_small - completed (14 / 100) ✅\n",
      "Regression dataset: 228_elusage - completed (15 / 100) ✅\n",
      "Regression dataset: 229_pwLinear - completed (16 / 100) ✅\n"
     ]
    },
    {
     "name": "stderr",
     "output_type": "stream",
     "text": [
      "/usr/local/lib/python3.11/dist-packages/sklearn/linear_model/_coordinate_descent.py:631: ConvergenceWarning: Objective did not converge. You might want to increase the number of iterations, check the scale of the features or consider increasing regularisation. Duality gap: 3.629e+04, tolerance: 4.706e+03\n",
      "  model = cd_fast.enet_coordinate_descent(\n",
      "/usr/local/lib/python3.11/dist-packages/sklearn/linear_model/_coordinate_descent.py:631: ConvergenceWarning: Objective did not converge. You might want to increase the number of iterations, check the scale of the features or consider increasing regularisation. Duality gap: 3.692e+04, tolerance: 4.706e+03\n",
      "  model = cd_fast.enet_coordinate_descent(\n"
     ]
    },
    {
     "name": "stdout",
     "output_type": "stream",
     "text": [
      "Regression dataset: 230_machine_cpu - completed (17 / 100) ✅\n"
     ]
    },
    {
     "name": "stderr",
     "output_type": "stream",
     "text": [
      "/usr/local/lib/python3.11/dist-packages/sklearn/linear_model/_coordinate_descent.py:631: ConvergenceWarning: Objective did not converge. You might want to increase the number of iterations, check the scale of the features or consider increasing regularisation. Duality gap: 1.010e+04, tolerance: 8.275e+01\n",
      "  model = cd_fast.enet_coordinate_descent(\n",
      "/usr/local/lib/python3.11/dist-packages/sklearn/linear_model/_coordinate_descent.py:631: ConvergenceWarning: Objective did not converge. You might want to increase the number of iterations, check the scale of the features or consider increasing regularisation. Duality gap: 9.597e+03, tolerance: 8.275e+01\n",
      "  model = cd_fast.enet_coordinate_descent(\n"
     ]
    },
    {
     "name": "stdout",
     "output_type": "stream",
     "text": [
      "Regression dataset: 294_satellite_image - completed (18 / 100) ✅\n"
     ]
    },
    {
     "name": "stderr",
     "output_type": "stream",
     "text": [
      "/usr/local/lib/python3.11/dist-packages/sklearn/linear_model/_coordinate_descent.py:631: ConvergenceWarning: Objective did not converge. You might want to increase the number of iterations, check the scale of the features or consider increasing regularisation. Duality gap: 1.955e+05, tolerance: 1.910e+03\n",
      "  model = cd_fast.enet_coordinate_descent(\n",
      "/usr/local/lib/python3.11/dist-packages/sklearn/linear_model/_coordinate_descent.py:631: ConvergenceWarning: Objective did not converge. You might want to increase the number of iterations, check the scale of the features or consider increasing regularisation. Duality gap: 1.794e+05, tolerance: 1.910e+03\n",
      "  model = cd_fast.enet_coordinate_descent(\n"
     ]
    },
    {
     "name": "stdout",
     "output_type": "stream",
     "text": [
      "Regression dataset: 344_mv - completed (19 / 100) ✅\n"
     ]
    },
    {
     "name": "stderr",
     "output_type": "stream",
     "text": [
      "/usr/local/lib/python3.11/dist-packages/sklearn/linear_model/_coordinate_descent.py:631: ConvergenceWarning: Objective did not converge. You might want to increase the number of iterations, check the scale of the features or consider increasing regularisation. Duality gap: 3.737e+00, tolerance: 8.923e-01\n",
      "  model = cd_fast.enet_coordinate_descent(\n"
     ]
    },
    {
     "name": "stdout",
     "output_type": "stream",
     "text": [
      "Regression dataset: 4544_GeographicalOriginalofMusic - completed (20 / 100) ✅\n"
     ]
    },
    {
     "name": "stderr",
     "output_type": "stream",
     "text": [
      "/usr/local/lib/python3.11/dist-packages/sklearn/linear_model/_coordinate_descent.py:631: ConvergenceWarning: Objective did not converge. You might want to increase the number of iterations, check the scale of the features or consider increasing regularisation. Duality gap: 3.759e+04, tolerance: 5.201e+03\n",
      "  model = cd_fast.enet_coordinate_descent(\n"
     ]
    },
    {
     "name": "stdout",
     "output_type": "stream",
     "text": [
      "Regression dataset: 485_analcatdata_vehicle - completed (21 / 100) ✅\n",
      "Error benchmarking regression dataset 519_vineyard: Dataset not found in PMLB.\n"
     ]
    },
    {
     "name": "stderr",
     "output_type": "stream",
     "text": [
      "/usr/local/lib/python3.11/dist-packages/sklearn/linear_model/_coordinate_descent.py:631: ConvergenceWarning: Objective did not converge. You might want to increase the number of iterations, check the scale of the features or consider increasing regularisation. Duality gap: 1.589e+02, tolerance: 4.284e+00\n",
      "  model = cd_fast.enet_coordinate_descent(\n",
      "/usr/local/lib/python3.11/dist-packages/sklearn/linear_model/_coordinate_descent.py:631: ConvergenceWarning: Objective did not converge. You might want to increase the number of iterations, check the scale of the features or consider increasing regularisation. Duality gap: 1.331e+02, tolerance: 4.284e+00\n",
      "  model = cd_fast.enet_coordinate_descent(\n"
     ]
    },
    {
     "name": "stdout",
     "output_type": "stream",
     "text": [
      "Regression dataset: 522_pm10 - completed (23 / 100) ✅\n"
     ]
    },
    {
     "name": "stderr",
     "output_type": "stream",
     "text": [
      "/usr/local/lib/python3.11/dist-packages/sklearn/linear_model/_coordinate_descent.py:631: ConvergenceWarning: Objective did not converge. You might want to increase the number of iterations, check the scale of the features or consider increasing regularisation. Duality gap: 9.976e+00, tolerance: 5.223e+00\n",
      "  model = cd_fast.enet_coordinate_descent(\n",
      "/usr/local/lib/python3.11/dist-packages/sklearn/linear_model/_coordinate_descent.py:631: ConvergenceWarning: Objective did not converge. You might want to increase the number of iterations, check the scale of the features or consider increasing regularisation. Duality gap: 4.231e+01, tolerance: 5.223e+00\n",
      "  model = cd_fast.enet_coordinate_descent(\n"
     ]
    },
    {
     "name": "stdout",
     "output_type": "stream",
     "text": [
      "Regression dataset: 523_analcatdata_neavote - completed (24 / 100) ✅\n"
     ]
    },
    {
     "name": "stderr",
     "output_type": "stream",
     "text": [
      "/usr/local/lib/python3.11/dist-packages/sklearn/linear_model/_coordinate_descent.py:631: ConvergenceWarning: Objective did not converge. You might want to increase the number of iterations, check the scale of the features or consider increasing regularisation. Duality gap: 2.092e+07, tolerance: 1.371e+07\n",
      "  model = cd_fast.enet_coordinate_descent(\n"
     ]
    },
    {
     "name": "stdout",
     "output_type": "stream",
     "text": [
      "Regression dataset: 527_analcatdata_election2000 - completed (25 / 100) ✅\n",
      "Regression dataset: 529_pollen - completed (26 / 100) ✅\n",
      "Regression dataset: 542_pollution - completed (27 / 100) ✅\n"
     ]
    },
    {
     "name": "stderr",
     "output_type": "stream",
     "text": [
      "/usr/local/lib/python3.11/dist-packages/sklearn/linear_model/_coordinate_descent.py:631: ConvergenceWarning: Objective did not converge. You might want to increase the number of iterations, check the scale of the features or consider increasing regularisation. Duality gap: 1.281e+02, tolerance: 6.679e+00\n",
      "  model = cd_fast.enet_coordinate_descent(\n",
      "/usr/local/lib/python3.11/dist-packages/sklearn/linear_model/_coordinate_descent.py:631: ConvergenceWarning: Objective did not converge. You might want to increase the number of iterations, check the scale of the features or consider increasing regularisation. Duality gap: 1.212e+02, tolerance: 6.679e+00\n",
      "  model = cd_fast.enet_coordinate_descent(\n"
     ]
    },
    {
     "name": "stdout",
     "output_type": "stream",
     "text": [
      "Regression dataset: 547_no2 - completed (28 / 100) ✅\n"
     ]
    },
    {
     "name": "stderr",
     "output_type": "stream",
     "text": [
      "/usr/local/lib/python3.11/dist-packages/sklearn/linear_model/_coordinate_descent.py:631: ConvergenceWarning: Objective did not converge. You might want to increase the number of iterations, check the scale of the features or consider increasing regularisation. Duality gap: 8.735e+05, tolerance: 2.309e+05\n",
      "  model = cd_fast.enet_coordinate_descent(\n"
     ]
    },
    {
     "name": "stdout",
     "output_type": "stream",
     "text": [
      "Regression dataset: 556_analcatdata_apnea2 - completed (29 / 100) ✅\n"
     ]
    },
    {
     "name": "stderr",
     "output_type": "stream",
     "text": [
      "/usr/local/lib/python3.11/dist-packages/sklearn/linear_model/_coordinate_descent.py:631: ConvergenceWarning: Objective did not converge. You might want to increase the number of iterations, check the scale of the features or consider increasing regularisation. Duality gap: 8.614e+05, tolerance: 2.565e+05\n",
      "  model = cd_fast.enet_coordinate_descent(\n"
     ]
    },
    {
     "name": "stdout",
     "output_type": "stream",
     "text": [
      "Regression dataset: 557_analcatdata_apnea1 - completed (30 / 100) ✅\n",
      "Error benchmarking regression dataset 559_bodyfat: Dataset not found in PMLB.\n"
     ]
    },
    {
     "name": "stderr",
     "output_type": "stream",
     "text": [
      "/usr/local/lib/python3.11/dist-packages/sklearn/linear_model/_coordinate_descent.py:631: ConvergenceWarning: Objective did not converge. You might want to increase the number of iterations, check the scale of the features or consider increasing regularisation. Duality gap: 2.062e+04, tolerance: 2.633e+03\n",
      "  model = cd_fast.enet_coordinate_descent(\n",
      "/usr/local/lib/python3.11/dist-packages/sklearn/linear_model/_coordinate_descent.py:631: ConvergenceWarning: Objective did not converge. You might want to increase the number of iterations, check the scale of the features or consider increasing regularisation. Duality gap: 1.850e+04, tolerance: 2.633e+03\n",
      "  model = cd_fast.enet_coordinate_descent(\n"
     ]
    },
    {
     "name": "stdout",
     "output_type": "stream",
     "text": [
      "Regression dataset: 561_cpu - completed (32 / 100) ✅\n"
     ]
    },
    {
     "name": "stderr",
     "output_type": "stream",
     "text": [
      "/usr/local/lib/python3.11/dist-packages/sklearn/linear_model/_coordinate_descent.py:631: ConvergenceWarning: Objective did not converge. You might want to increase the number of iterations, check the scale of the features or consider increasing regularisation. Duality gap: 2.746e+06, tolerance: 6.858e+03\n",
      "  model = cd_fast.enet_coordinate_descent(\n",
      "/usr/local/lib/python3.11/dist-packages/sklearn/linear_model/_coordinate_descent.py:631: ConvergenceWarning: Objective did not converge. You might want to increase the number of iterations, check the scale of the features or consider increasing regularisation. Duality gap: 2.727e+06, tolerance: 6.858e+03\n",
      "  model = cd_fast.enet_coordinate_descent(\n"
     ]
    },
    {
     "name": "stdout",
     "output_type": "stream",
     "text": [
      "Regression dataset: 562_cpu_small - completed (33 / 100) ✅\n",
      "Regression dataset: 564_fried - completed (34 / 100) ✅\n"
     ]
    },
    {
     "name": "stderr",
     "output_type": "stream",
     "text": [
      "/usr/local/lib/python3.11/dist-packages/sklearn/linear_model/_coordinate_descent.py:631: ConvergenceWarning: Objective did not converge. You might want to increase the number of iterations, check the scale of the features or consider increasing regularisation. Duality gap: 2.620e+06, tolerance: 2.940e+05\n",
      "  model = cd_fast.enet_coordinate_descent(\n",
      "/usr/local/lib/python3.11/dist-packages/sklearn/linear_model/_coordinate_descent.py:631: ConvergenceWarning: Objective did not converge. You might want to increase the number of iterations, check the scale of the features or consider increasing regularisation. Duality gap: 2.729e+06, tolerance: 2.940e+05\n",
      "  model = cd_fast.enet_coordinate_descent(\n"
     ]
    },
    {
     "name": "stdout",
     "output_type": "stream",
     "text": [
      "Regression dataset: 573_cpu_act - completed (35 / 100) ✅\n"
     ]
    },
    {
     "name": "stderr",
     "output_type": "stream",
     "text": [
      "/usr/local/lib/python3.11/dist-packages/sklearn/linear_model/_coordinate_descent.py:631: ConvergenceWarning: Objective did not converge. You might want to increase the number of iterations, check the scale of the features or consider increasing regularisation. Duality gap: 1.370e+13, tolerance: 2.593e+10\n",
      "  model = cd_fast.enet_coordinate_descent(\n",
      "/usr/local/lib/python3.11/dist-packages/sklearn/linear_model/_coordinate_descent.py:631: ConvergenceWarning: Objective did not converge. You might want to increase the number of iterations, check the scale of the features or consider increasing regularisation. Duality gap: 1.289e+13, tolerance: 2.593e+10\n",
      "  model = cd_fast.enet_coordinate_descent(\n"
     ]
    },
    {
     "name": "stdout",
     "output_type": "stream",
     "text": [
      "Regression dataset: 574_house_16H - completed (36 / 100) ✅\n",
      "Regression dataset: 579_fri_c0_250_5 - completed (37 / 100) ✅\n",
      "Regression dataset: 581_fri_c3_500_25 - completed (38 / 100) ✅\n",
      "Error benchmarking regression dataset 582_fri_c1_1000_50: Dataset not found in PMLB.\n",
      "Regression dataset: 583_fri_c1_1000_50 - completed (40 / 100) ✅\n",
      "Regression dataset: 586_fri_c3_1000_25 - completed (41 / 100) ✅\n",
      "Error benchmarking regression dataset 587_fri_c3_1000_50: Dataset not found in PMLB.\n",
      "Regression dataset: 588_fri_c4_1000_100 - completed (43 / 100) ✅\n",
      "Regression dataset: 589_fri_c2_1000_25 - completed (44 / 100) ✅\n",
      "Regression dataset: 590_fri_c0_1000_50 - completed (45 / 100) ✅\n",
      "Regression dataset: 591_fri_c1_100_10 - completed (46 / 100) ✅\n",
      "Regression dataset: 592_fri_c4_1000_25 - completed (47 / 100) ✅\n",
      "Error benchmarking regression dataset 593_fri_c1_500_10: Dataset not found in PMLB.\n",
      "Error benchmarking regression dataset 594_fri_c2_1000_25: Dataset not found in PMLB.\n",
      "Regression dataset: 595_fri_c0_1000_10 - completed (50 / 100) ✅\n",
      "Error benchmarking regression dataset 596_fri_c2_500_25: Dataset not found in PMLB.\n",
      "Error benchmarking regression dataset 597_fri_c3_250_25: Dataset not found in PMLB.\n",
      "Error benchmarking regression dataset 598_fri_c4_1000_50: Dataset not found in PMLB.\n",
      "Regression dataset: 599_fri_c2_1000_5 - completed (54 / 100) ✅\n",
      "Error benchmarking regression dataset 601_fri_c1_500_5: Dataset not found in PMLB.\n",
      "Error benchmarking regression dataset 602_fri_c3_1000_10: Dataset not found in PMLB.\n",
      "Error benchmarking regression dataset 603_fri_c0_500_50: Dataset not found in PMLB.\n",
      "Error benchmarking regression dataset 604_fri_c4_500_25: Dataset not found in PMLB.\n",
      "Regression dataset: 605_fri_c2_250_25 - completed (59 / 100) ✅\n",
      "Error benchmarking regression dataset 606_fri_c4_1000_100: Dataset not found in PMLB.\n",
      "Error benchmarking regression dataset 607_fri_c4_500_100: Dataset not found in PMLB.\n",
      "Error benchmarking regression dataset 608_fri_c3_1000_5: Dataset not found in PMLB.\n",
      "Regression dataset: 609_fri_c0_1000_5 - completed (63 / 100) ✅\n",
      "Regression dataset: 612_fri_c1_1000_5 - completed (64 / 100) ✅\n",
      "Error benchmarking regression dataset 613_fri_c2_500_5: Dataset not found in PMLB.\n",
      "Error benchmarking regression dataset 615_fri_c4_250_25: Dataset not found in PMLB.\n",
      "Regression dataset: 616_fri_c4_500_50 - completed (67 / 100) ✅\n",
      "Regression dataset: 617_fri_c3_500_5 - completed (68 / 100) ✅\n",
      "Error benchmarking regression dataset 618_fri_c0_100_50: Dataset not found in PMLB.\n",
      "Regression dataset: 620_fri_c1_1000_25 - completed (70 / 100) ✅\n",
      "Regression dataset: 621_fri_c0_100_10 - completed (71 / 100) ✅\n",
      "Regression dataset: 623_fri_c4_1000_10 - completed (72 / 100) ✅\n",
      "Regression dataset: 624_fri_c0_100_5 - completed (73 / 100) ✅\n",
      "Error benchmarking regression dataset 625_fri_c0_500_10: Dataset not found in PMLB.\n",
      "Error benchmarking regression dataset 626_fri_c2_500_10: Dataset not found in PMLB.\n",
      "Error benchmarking regression dataset 627_fri_c1_500_50: Dataset not found in PMLB.\n",
      "Error benchmarking regression dataset 628_fri_c3_1000_100: Dataset not found in PMLB.\n",
      "Error benchmarking regression dataset 629_fri_c1_250_50: Dataset not found in PMLB.\n",
      "Error benchmarking regression dataset 630_fri_c3_500_50: Dataset not found in PMLB.\n",
      "Error benchmarking regression dataset 631_fri_c1_500_25: Dataset not found in PMLB.\n",
      "Error benchmarking regression dataset 632_fri_c3_250_50: Dataset not found in PMLB.\n",
      "Error benchmarking regression dataset 633_fri_c2_100_25: Dataset not found in PMLB.\n",
      "Error benchmarking regression dataset 634_fri_c2_1000_50: Dataset not found in PMLB.\n",
      "Regression dataset: 635_fri_c0_250_10 - completed (84 / 100) ✅\n",
      "Error benchmarking regression dataset 636_fri_c2_100_10: Dataset not found in PMLB.\n",
      "Error benchmarking regression dataset 637_fri_c3_500_10: Dataset not found in PMLB.\n",
      "Error benchmarking regression dataset 638_fri_c1_250_25: Dataset not found in PMLB.\n",
      "Error benchmarking regression dataset 639_fri_c2_250_50: Dataset not found in PMLB.\n",
      "Error benchmarking regression dataset 641_fri_c1_250_10: Dataset not found in PMLB.\n",
      "Error benchmarking regression dataset 642_fri_c3_250_10: Dataset not found in PMLB.\n",
      "Error benchmarking regression dataset 643_fri_c2_250_10: Dataset not found in PMLB.\n",
      "Error benchmarking regression dataset 644_fri_c4_250_50: Dataset not found in PMLB.\n",
      "Error benchmarking regression dataset 645_fri_c3_100_25: Dataset not found in PMLB.\n",
      "Error benchmarking regression dataset 646_fri_c3_100_10: Dataset not found in PMLB.\n",
      "Error benchmarking regression dataset 647_fri_c1_100_25: Dataset not found in PMLB.\n",
      "Error benchmarking regression dataset 648_fri_c4_100_25: Dataset not found in PMLB.\n",
      "Regression dataset: 649_fri_c0_500_5 - completed (97 / 100) ✅\n",
      "Error benchmarking regression dataset 650_fri_c0_250_50: Dataset not found in PMLB.\n",
      "Error benchmarking regression dataset 651_fri_c0_1000_25: Dataset not found in PMLB.\n",
      "Error benchmarking regression dataset 652_fri_c2_100_5: Dataset not found in PMLB.\n"
     ]
    }
   ],
   "source": [
    "# Benchmark regression datasets\n",
    "regression_results = []\n",
    "for idx, dataset in enumerate(regression_datasets, 1):\n",
    "    result = benchmark_regression_dataset(dataset, counter=idx, total=len(regression_datasets))\n",
    "    if result:\n",
    "        regression_results.append(result)\n",
    "        if len(regression_results) == 60:\n",
    "            break\n",
    "regression_df = pd.DataFrame(regression_results)"
   ]
  },
  {
   "cell_type": "code",
   "execution_count": 12,
   "id": "f0d9a453",
   "metadata": {
    "execution": {
     "iopub.execute_input": "2025-05-28T17:15:42.599194Z",
     "iopub.status.busy": "2025-05-28T17:15:42.598948Z",
     "iopub.status.idle": "2025-05-28T17:15:42.606884Z",
     "shell.execute_reply": "2025-05-28T17:15:42.606141Z"
    },
    "papermill": {
     "duration": 0.052798,
     "end_time": "2025-05-28T17:15:42.608047",
     "exception": false,
     "start_time": "2025-05-28T17:15:42.555249",
     "status": "completed"
    },
    "tags": []
   },
   "outputs": [],
   "source": [
    "# Calculate and save summary statistics\n",
    "if not regression_df.empty:\n",
    "    regression_summary = calculate_summary_stats(regression_df, 'regression')\n",
    "    save_summary_to_txt(regression_summary, 'regression_summary.txt')\n",
    "if not classification_df.empty:\n",
    "    classification_summary = calculate_summary_stats(classification_df, 'classification')\n",
    "    save_summary_to_txt(classification_summary, 'classification_summary.txt')"
   ]
  },
  {
   "cell_type": "code",
   "execution_count": 13,
   "id": "524e168d",
   "metadata": {
    "execution": {
     "iopub.execute_input": "2025-05-28T17:15:42.692415Z",
     "iopub.status.busy": "2025-05-28T17:15:42.692214Z",
     "iopub.status.idle": "2025-05-28T17:15:42.715357Z",
     "shell.execute_reply": "2025-05-28T17:15:42.714532Z"
    },
    "papermill": {
     "duration": 0.067045,
     "end_time": "2025-05-28T17:15:42.716910",
     "exception": false,
     "start_time": "2025-05-28T17:15:42.649865",
     "status": "completed"
    },
    "tags": []
   },
   "outputs": [
    {
     "name": "stdout",
     "output_type": "stream",
     "text": [
      "\n",
      "Regression Benchmark Results:\n",
      "                         dataset device  num_features  num_augmented_rows  augmentation_factor  train_time  train_memory  predict_time  predict_memory   rmse_oikan    r2_oikan   mape_oikan  rmse_elasticnet  r2_elasticnet  mape_elasticnet\n",
      "                        1027_ESL   cuda             4                3900                   10    3.339949      5.539176      0.000971        0.018075     0.507197    0.836351 8.205285e-02         0.781992       0.610985     1.404951e-01\n",
      "                        1028_SWD   cuda            10                8000                   10    7.321452     29.553561      0.001886        0.048819     0.671735    0.306843 1.453503e-01         0.808703      -0.004647     1.895733e-01\n",
      "                        1029_LEV   cuda             4                8000                   10    6.510589     11.306452      0.000842        0.028516     0.718013    0.396037 2.963707e+14         0.871962       0.109282     5.274147e+14\n",
      "                        1030_ERA   cuda             4                8000                   10    6.585925     11.302455      0.001052        0.040011     1.607405    0.375906 4.246121e-01         1.641148       0.349429     4.694637e-01\n",
      "                    1089_USCrime   cuda            13                1036                   28    0.607549      5.518041      0.003634        0.010924    20.203838    0.662972 9.000564e-02        18.822920       0.707469     8.715786e-02\n",
      "            1096_FacultySalaries   cuda             4                1000                   25    0.539216      1.446123      0.000592        0.002961     1.935868    0.796632 3.580726e-02         1.906417       0.802773     3.656848e-02\n",
      "                    192_vineyard   cuda             2                1025                   25    0.504162      0.698593      0.000648        0.002281     2.502788    0.664555 1.380717e-01         2.454929       0.677262     1.484583e-01\n",
      "                     197_cpu_act   cuda            21               65530                   10   77.496038    602.563582      0.029200        2.597292    22.029933   -0.619560 1.187692e+15         8.917987       0.734598     4.298053e+15\n",
      "                         201_pol   cuda            48               96000                    8  235.942821   3885.825606      0.083577       16.249144    22.269700    0.708381 4.757863e+16        29.992567       0.471050     6.773365e+16\n",
      "                       210_cloud   cuda             5                1032                   12    0.765887      1.950108      0.000491        0.004161     0.352962    0.919675 4.074677e-01         0.828636       0.557285     2.746705e+00\n",
      "                    215_2dplanes   cuda            10               97842                    3  266.518567    301.576226      0.008420        1.827369     1.097914    0.936842 1.508735e+00         3.211894       0.459474     2.692004e+00\n",
      "                    218_house_8L   cuda             8               91135                    5  164.753170    218.753314      0.009175        2.444108 46944.468159    0.215496 2.710886e+17     47944.204559       0.181726     4.578626e+17\n",
      "                     225_puma8NH   cuda             8               65530                   10   55.507641    159.550411      0.005714        0.394473     4.264570    0.413463 2.799290e+00         4.665710       0.297930     2.446583e+00\n",
      "                   227_cpu_small   cuda            12               65530                   10   63.709933    258.116765      0.017617        0.997626   189.186249 -118.440011 4.235479e+15         9.301555       0.711277     4.452691e+15\n",
      "                     228_elusage   cuda             2                1012                   23    0.497771      0.691942      0.000370        0.002369    26.929131   -1.721492 5.893159e-01        12.821490       0.383065     2.639784e-01\n",
      "                    229_pwLinear   cuda            10                1600                   10    1.341410      5.944408      0.001583        0.017961     1.385514    0.861545 4.181383e-01         2.434435       0.572552     7.660357e-01\n",
      "                 230_machine_cpu   cuda             6                1670                   10    1.546834      3.613271      0.001116        0.014745    87.061982    0.851105 7.315828e-01        75.021519       0.889441     8.025939e-01\n",
      "             294_satellite_image   cuda            36               51480                   10  103.952677   1222.646844      0.062873        6.981832     1.073118    0.763208 3.598898e-01         1.211969       0.697967     4.298595e-01\n",
      "                          344_mv   cuda            10               97842                    3  282.833461    301.583616      0.013473        3.197361     0.950169    0.991730 2.772092e+00         5.806861       0.691114     1.120091e+01\n",
      "4544_GeographicalOriginalofMusic   cuda           117                8470                   10  121.029861   1926.686324      0.021627        0.279143     0.579529    0.597150 4.051285e+00         0.781244       0.267906     1.866507e+00\n",
      "         485_analcatdata_vehicle   cuda             4                1026                   27    0.509520      1.489338      0.001021        0.004379   373.732353   -0.432451 8.212945e-01       270.166361       0.251450     7.192398e-01\n",
      "                        522_pm10   cuda             7                4000                   10    3.649618      9.902746      0.001142        0.028313     0.914743   -0.150680 2.782019e-01         0.860241      -0.017645     2.571565e-01\n",
      "         523_analcatdata_neavote   cuda             2                1040                   13    0.805814      0.714556      0.000219        0.002401     0.884569    0.937702 4.458051e-01         2.040825       0.668394     1.202117e+00\n",
      "    527_analcatdata_election2000   cuda            14                1007                   19    0.711498      5.975156      0.003648        0.014971 96238.090331    0.343551 7.082192e-01     11984.983952       0.989819     9.840421e-02\n",
      "                      529_pollen   cuda             4               30780                   10   26.734877     43.379301      0.003809        0.142793     1.476869    0.785696 3.444541e+00         1.550442       0.763812     2.872937e+00\n",
      "                   542_pollution   cuda            15                1008                   21    0.674662      6.639413      0.004926        0.016448   267.911701   -9.175042 2.623350e-01        44.118566       0.724072     3.403980e-02\n",
      "                         547_no2   cuda             7                4000                   10    3.689255      9.904617      0.001250        0.031513     0.626576    0.301238 1.421039e-01         0.712442       0.096597     1.753237e-01\n",
      "          556_analcatdata_apnea2   cuda             3                3800                   10    3.159601      3.867735      0.000961        0.020611  4036.275784   -0.014886 1.850895e+18      4007.450151      -0.000441     1.842623e+18\n",
      "          557_analcatdata_apnea1   cuda             3                3800                   10    3.181608      3.872486      0.001103        0.020611  3925.899444   -0.001823 1.893914e+18      3905.710516       0.008455     1.883611e+18\n",
      "                         561_cpu   cuda             7                1670                   10    1.574931      4.158825      0.001455        0.018105   104.397025    0.797259 2.784980e-01        80.848472       0.878407     5.710173e-01\n",
      "                   562_cpu_small   cuda            12               65530                   10   62.503237    258.114972      0.004977        0.866506    48.786744   -6.942814 2.239517e+15         9.301555       0.711277     4.452691e+15\n",
      "                       564_fried   cuda            10               97842                    3  267.517108    301.578787      0.010173        2.806089     2.692936    0.704950 2.289854e-01         4.832383       0.049906     4.542110e-01\n",
      "                     573_cpu_act   cuda            21               65530                   10   78.803809    602.562301      0.019607        2.780860   164.099637  -88.864040 2.619258e+15         8.917987       0.734598     4.298053e+15\n",
      "                   574_house_16H   cuda            16               91135                    5  176.404687    539.557093      0.020742        6.380915 53044.147327   -0.001617 4.875835e+17     52493.385853       0.019075     5.594177e+17\n",
      "                579_fri_c0_250_5   cuda             5                2000                   10    1.680647      3.741007      0.000568        0.007507     0.439348    0.756819 2.837947e+00         0.912000      -0.047858     1.324726e+00\n",
      "               581_fri_c3_500_25   cuda            25                4000                   10    3.504413     57.043735      0.002556        0.031395     0.767558    0.493348 6.903898e+00         1.078842      -0.000930     1.305497e+00\n",
      "              583_fri_c1_1000_50   cuda            50                8000                   10    7.678309    357.328211      0.008215        0.087515     0.657072    0.529997 2.461562e+00         0.958579      -0.000299     1.001029e+00\n",
      "              586_fri_c3_1000_25   cuda            25                8000                   10    6.689280    106.005827      0.001394        0.032995     0.691374    0.569125 1.447805e+00         1.056909      -0.006933     1.190893e+00\n",
      "             588_fri_c4_1000_100   cuda           100                8000                   10   11.997384   1340.216999      0.007777        0.122595     0.678329    0.555110 1.224363e+00         1.017003      -0.000036     9.980167e-01\n",
      "              589_fri_c2_1000_25   cuda            25                8000                   10    6.805379    106.004115      0.001775        0.047395     0.634566    0.623184 9.522224e-01         1.034302      -0.001083     1.000562e+00\n",
      "              590_fri_c0_1000_50   cuda            50                8000                   10    7.389586    357.335544      0.001201        0.034715     0.399092    0.824531 1.034351e+00         0.921337       0.064829     1.088493e+00\n",
      "               591_fri_c1_100_10   cuda            10                1040                   13    0.740623      3.883320      0.000950        0.005961     0.687433    0.123538 1.454310e+00         0.735002      -0.001957     9.854406e-01\n",
      "              592_fri_c4_1000_25   cuda            25                8000                   10    7.189334    106.000301      0.001908        0.042595     0.612995    0.569659 1.322201e+00         0.941115      -0.014343     1.003768e+00\n",
      "              595_fri_c0_1000_10   cuda            10                8000                   10    6.397121     29.554667      0.000917        0.027779     0.386006    0.854751 9.582183e-01         0.990698       0.043226     9.546228e-01\n",
      "               599_fri_c2_1000_5   cuda             5                8000                   10    6.480792     14.825852      0.000614        0.029619     0.605372    0.670492 1.107931e+00         1.056113      -0.002863     9.981299e-01\n",
      "               605_fri_c2_250_25   cuda            25                2000                   10    1.790780     30.499856      0.005237        0.033403     0.686389    0.497616 1.126862e+00         0.975767      -0.015283     9.762449e-01\n",
      "               609_fri_c0_1000_5   cuda             5                8000                   10    6.389150     14.827882      0.000633        0.031099     0.438234    0.823458 1.495401e+00         1.018586       0.046260     1.007723e+00\n",
      "               612_fri_c1_1000_5   cuda             5                8000                   10    6.677768     14.825859      0.000637        0.031513     0.599532    0.614537 1.583561e+00         0.968489      -0.005882     1.020629e+00\n",
      "               616_fri_c4_500_50   cuda            50                4000                   10    4.010639    182.768222      0.008651        0.080995     0.691424    0.528061 1.073801e+00         1.013554      -0.014123     1.013499e+00\n",
      "                617_fri_c3_500_5   cuda             5                4000                   10    3.322611      7.435754      0.000530        0.012699     0.807709    0.416691 1.925346e+00         1.058226      -0.001256     1.012459e+00\n",
      "              620_fri_c1_1000_25   cuda            25                8000                   10    6.669280    106.002477      0.001277        0.034715     0.641611    0.592460 1.124701e+00         1.006593      -0.003079     1.005718e+00\n",
      "               621_fri_c0_100_10   cuda            10                1040                   13    0.747791      3.885097      0.000947        0.006041     0.588847    0.687342 8.098705e-01         1.099968      -0.091000     1.076516e+00\n",
      "              623_fri_c4_1000_10   cuda            10                8000                   10    6.390668     29.553310      0.001108        0.029793     0.617606    0.608931 1.610044e+00         0.987609      -0.000004     9.992137e-01\n",
      "                624_fri_c0_100_5   cuda             5                1040                   13    0.749582      1.963360      0.000622        0.004481     0.326943    0.875487 4.529815e-01         0.962121      -0.078282     1.009648e+00\n",
      "               635_fri_c0_250_10   cuda            10                2000                   10    1.748925      7.421729      0.000636        0.009801     0.478139    0.756863 2.842049e+00         0.940144       0.059993     1.014318e+00\n",
      "                649_fri_c0_500_5   cuda             5                4000                   10    3.215957      7.436934      0.000568        0.015219     0.381773    0.861637 2.155786e+00         1.023742       0.005074     1.577130e+00\n",
      "\n",
      "Classification Benchmark Results:\n",
      "                dataset device  num_features  num_augmented_rows  augmentation_factor  train_time  train_memory  predict_time  predict_memory  accuracy_oikan  precision_oikan  f1_oikan  accuracy_elasticnet  precision_elasticnet  f1_elasticnet\n",
      "                  adult   cuda            14               78146                    2  410.053932    409.513148      0.049174        9.926305        0.759955         0.738395  0.744993             0.795373              0.786906       0.750952\n",
      "               mushroom   cuda            22               64990                   10  100.765735    646.606993      0.029357        2.147108        1.000000         1.000000  1.000000             0.953231              0.953235       0.953220\n",
      "                   iris   cuda             4                1200                   10    1.146864      1.755940      0.001121        0.006761        1.000000         1.000000  1.000000             1.000000              1.000000       1.000000\n",
      "            tic_tac_toe   cuda             9                7660                   10    7.662412     24.941607      0.005609        0.071865        0.822917         0.822351  0.821132             0.661458              0.700886       0.602178\n",
      " analcatdata_authorship   cuda            70                6720                   10  131.616924    567.541689      0.062279        2.040632        1.000000         1.000000  1.000000             1.000000              1.000000       1.000000\n",
      "      analcatdata_fraud   cuda            11                1023                   31    0.584045      4.340202      0.000657        0.002139        0.555556         0.308642  0.396825             0.555556              0.308642       0.396825\n",
      "               penguins   cuda             7                2660                   10    2.932313      6.650886      0.002111        0.025715        0.537313         0.327273  0.395309             0.701493              0.527279       0.598566\n",
      "                  monk3   cuda             6                4430                   10    4.173263      9.544849      0.001419        0.025569        0.954955         0.956069  0.954799             0.702703              0.716642       0.702703\n",
      "          balance_scale   cuda             4                5000                   10    4.891535      7.276017      0.001591        0.029499        0.952000         0.954593  0.943667             0.840000              0.789772       0.804285\n",
      "         car_evaluation   cuda             6               13820                   10   14.807190     29.909743      0.008227        0.144937        0.887283         0.890987  0.884022             0.812139              0.801617       0.803303\n",
      "            dermatology   cuda            34                2920                   10   12.369812     70.325722      0.025871        0.182216        0.986486         0.987838  0.986392             0.986486              0.987838       0.986392\n",
      "             ionosphere   cuda            34                2800                   10    4.916776     67.643884      0.012140        0.092400        0.929577         0.931562  0.928771             0.859155              0.885729       0.851181\n",
      "               kr_vs_kp   cuda            36               25560                   10   48.078719    611.387308      0.022835        1.050810        0.946875         0.946875  0.946875             0.950000              0.951953       0.950049\n",
      "           lymphography   cuda            18                1180                   10    1.778915     10.393606      0.004182        0.022698        0.833333         0.851307  0.830714             0.866667              0.876603       0.863704\n",
      "    analcatdata_boxing1   cuda             3                1056                   11    0.859938      1.116024      0.000885        0.004281        0.500000         0.500000  0.500000             0.625000              0.555556       0.565111\n",
      "    analcatdata_boxing2   cuda             3                1050                   10    1.178734      1.109826      0.000641        0.003897        0.814815         0.812757  0.812587             0.777778              0.819292       0.781481\n",
      "analcatdata_creditscore   cuda             6                1040                   13    0.859413      2.276079      0.001071        0.005641        1.000000         1.000000  1.000000             0.950000              0.960000       0.951971\n",
      "       analcatdata_dmft   cuda             4                6370                   10    6.122425      9.272726      0.001643        0.038715        0.181250         0.194945  0.169125             0.212500              0.233628       0.195489\n",
      "    analcatdata_lawsuit   cuda             4                2110                   10    2.003051      3.035777      0.001085        0.011601        0.924528         0.914214  0.915864             0.943396              0.946726       0.932124\n",
      "           appendicitis   cuda             7                1008                   12    0.899196      2.639801      0.003138        0.006857        0.727273         0.528926  0.612440             0.818182              0.854545       0.782828\n",
      "               backache   cuda            32                1440                   10    2.655422     34.219354      0.010419        0.029288        0.888889         0.901961  0.864583             0.833333              0.694444       0.757576\n",
      "                 biomed   cuda             8                1670                   10    1.834889      4.796212      0.002211        0.023240        0.785714         0.835165  0.735404             0.690476              0.653061       0.661654\n",
      "                   bupa   cuda             5                2760                   10    2.668676      5.273838      0.001354        0.017561        0.434783         0.189036  0.263505             0.579710              0.599777       0.579710\n",
      "                 clean1   cuda           168                3800                   10  277.463523   1765.348098      0.420286        7.984968        0.947917         0.948226  0.947968             0.927083              0.935590       0.926111\n",
      "                 clean2   cuda           168               52780                   10 2944.119865  24386.305821      1.165276      149.450168        1.000000         1.000000  1.000000             0.999242              0.999246       0.999243\n",
      "               coil2000   cuda            85               78570                   10  595.197984   9532.018125      0.094018       12.435760        0.909415         0.891784  0.900219             0.937405              0.892946       0.910041\n",
      "                collins   cuda            23                3880                   10   21.468825     49.628136      0.016851        0.152512        0.597938         0.605075  0.556590             0.556701              0.508245       0.479845\n",
      "             confidence   cuda             3                1026                   18    0.648633      1.123794      0.000978        0.004488        0.800000         0.777778  0.774603             0.866667              0.922222       0.862222\n",
      "                 corral   cuda             6                1280                   10    1.113222      2.787603      0.001650        0.012473        1.000000         1.000000  1.000000             0.937500              0.943750       0.936741\n",
      "                    dis   cuda            29               30170                   10   55.173353    488.690101      0.021443        1.070292        0.974834         0.960556  0.967642             0.980132              0.960660       0.970298\n",
      "                  ecoli   cuda             7                2610                   10    2.562697      6.564746      0.001730        0.027808        0.833333         0.810958  0.790791             0.878788              0.896019       0.866081\n",
      "                  flags   cuda            43                1420                   10    6.841441     54.917028      0.014283        0.055320        0.472222         0.486912  0.462418             0.444444              0.472527       0.442130\n",
      "               haberman   cuda             3                2440                   10    2.168902      2.593605      0.000970        0.009929        0.645161         0.592060  0.609255             0.693548              0.640553       0.643154\n",
      "             hayes_roth   cuda             4                1280                   10    1.163334      1.866426      0.001268        0.008425        0.718750         0.752604  0.710027             0.406250              0.473214       0.425000\n",
      "              hepatitis   cuda            19                1240                   10    1.592368     11.893784      0.004557        0.029488        0.741935         0.741935  0.741935             0.806452              0.806452       0.806452\n",
      "            hypothyroid   cuda            25               25300                   10   41.106731    317.995868      0.017834        0.836771        0.960506         0.957481  0.958558             0.944708              0.947775       0.920686\n",
      "                  labor   cuda            16                1035                   23    0.826680      7.541662      0.003732        0.008328        0.750000         0.771429  0.755556             1.000000              1.000000       1.000000\n",
      "                   led7   cuda             7               25600                   10   27.383252     61.526070      0.005702        0.318441        0.734375         0.742859  0.729761             0.735938              0.742621       0.729978\n",
      "                  lupus   cuda             3                1035                   15    0.844056      1.096991      0.000769        0.003129        0.777778         0.781197  0.768519             0.722222              0.728175       0.701010\n",
      "          mfeat_factors   cuda           216               16000                   10 5980.858833  12166.961922      0.898536       59.125224        0.385000         0.521059  0.346064             0.972500              0.972986       0.972296\n",
      "          mfeat_fourier   cuda            76               16000                   10  141.372731   1570.264085      0.035118        1.672744        0.670000         0.731366  0.632757             0.807500              0.806327       0.805392\n",
      "         mfeat_karhunen   cuda            64               16000                   10  426.694046   1129.189847      0.070736        5.215144        0.972500         0.973259  0.972438             0.955000              0.956181       0.954975\n",
      "    mfeat_morphological   cuda             6               16000                   10   18.852928     35.406230      0.003994        0.113001        0.445000         0.330561  0.356715             0.370000              0.251040       0.270188\n",
      "            mfeat_pixel   cuda           240               16000                   10 4278.023408  14991.723751      0.590683       40.448904        0.967500         0.968466  0.967452             0.965000              0.966244       0.965009\n",
      "          mfeat_zernike   cuda            47               16000                   10  293.331870    630.603285      0.048956        3.516104        0.860000         0.861727  0.850742             0.805000              0.801349       0.801426\n",
      "                  monk1   cuda             6                4440                   10    4.011716      9.573442      0.001416        0.030777        0.651786         0.649579  0.649371             0.607143              0.628600       0.605136\n",
      "                  monk2   cuda             6                4800                   10    4.396212     10.345671      0.001376        0.027345        0.619835         0.392562  0.480688             0.595041              0.386523       0.468634\n",
      "        movement_libras   cuda            90                2880                   10  256.893744    400.099476      0.101157        1.752864        0.555556         0.687219  0.588495             0.583333              0.701389       0.600845\n",
      "            new_thyroid   cuda             5                1720                   10    1.649930      3.265071      0.001252        0.011665        0.976744         0.977546  0.976054             0.953488              0.956589       0.952621\n",
      "              optdigits   cuda            64               44960                   10 1042.342079   3157.349796      0.078110       13.036408        0.984875         0.985001  0.984884             0.964413              0.964887       0.964507\n",
      "            page_blocks   cuda            10               43780                   10   54.460200    140.837467      0.016039        0.684281        0.944292         0.944525  0.937158             0.892237              0.843657       0.855034\n",
      "                parity5   cuda             5                1000                   40    0.287031      1.899537      0.000543        0.002305        0.285714         0.081633  0.126984             0.285714              0.081633       0.126984\n",
      "              parity5+5   cuda            10                8990                   10    7.889421     33.288920      0.003892        0.031758        0.417778         0.421317  0.405352             0.448889              0.456076       0.427362\n",
      "                phoneme   cuda             5               43230                   10   38.545089     74.134854      0.004421        0.217201        0.765032         0.754332  0.733722             0.754857              0.741037       0.743586\n",
      "             prnn_crabs   cuda             7                1600                   10    1.386680      4.004390      0.001550        0.014121        1.000000         1.000000  1.000000             1.000000              1.000000       1.000000\n",
      "             prnn_synth   cuda             2                2000                   10    1.758076      1.351876      0.000598        0.007801        0.880000         0.880000  0.880000             0.900000              0.900325       0.899798\n",
      "                   ring   cuda            20               59200                   10   77.061474    503.506936      0.007697        0.450921        0.585135         0.777818  0.510926             0.716892              0.801141       0.700130\n",
      "                saheart   cuda             9                3690                   10    3.805749     12.037396      0.002168        0.043409        0.655914         0.687628  0.554964             0.709677              0.700641       0.694042\n",
      "                 schizo   cuda            14                2720                   10    4.063074     16.103415      0.004378        0.070536        0.220588         0.337836  0.190330             0.602941              0.534240       0.555849\n",
      "                  sonar   cuda            60                1660                   10    3.661161    110.947542      0.007927        0.041896        0.714286         0.716247  0.713636             0.761905              0.785185       0.756944\n"
     ]
    }
   ],
   "source": [
    "# Display results\n",
    "print(\"\\nRegression Benchmark Results:\")\n",
    "print(regression_df.to_string(index=False))\n",
    "\n",
    "print(\"\\nClassification Benchmark Results:\")\n",
    "print(classification_df.to_string(index=False))"
   ]
  },
  {
   "cell_type": "code",
   "execution_count": 14,
   "id": "3f5cebb7",
   "metadata": {
    "execution": {
     "iopub.execute_input": "2025-05-28T17:15:42.803381Z",
     "iopub.status.busy": "2025-05-28T17:15:42.803164Z",
     "iopub.status.idle": "2025-05-28T17:15:42.814456Z",
     "shell.execute_reply": "2025-05-28T17:15:42.813699Z"
    },
    "papermill": {
     "duration": 0.054768,
     "end_time": "2025-05-28T17:15:42.815640",
     "exception": false,
     "start_time": "2025-05-28T17:15:42.760872",
     "status": "completed"
    },
    "tags": []
   },
   "outputs": [
    {
     "name": "stdout",
     "output_type": "stream",
     "text": [
      "\n",
      "Benchmarking completed. Results saved to 'regression_benchmark_results.csv' and 'classification_benchmark_results.csv'.\n",
      "Summary statistics saved to 'regression_summary.txt' and 'classification_summary.txt'.\n"
     ]
    }
   ],
   "source": [
    "# Save results to CSV files\n",
    "regression_df.to_csv('regression_benchmark_results.csv', index=False)\n",
    "classification_df.to_csv('classification_benchmark_results.csv', index=False)\n",
    "\n",
    "print(\"\\nBenchmarking completed. Results saved to 'regression_benchmark_results.csv' and 'classification_benchmark_results.csv'.\")\n",
    "print(\"Summary statistics saved to 'regression_summary.txt' and 'classification_summary.txt'.\")"
   ]
  }
 ],
 "metadata": {
  "kaggle": {
   "accelerator": "gpu",
   "dataSources": [],
   "dockerImageVersionId": 31011,
   "isGpuEnabled": true,
   "isInternetEnabled": true,
   "language": "python",
   "sourceType": "notebook"
  },
  "kernelspec": {
   "display_name": "Python 3",
   "language": "python",
   "name": "python3"
  },
  "language_info": {
   "codemirror_mode": {
    "name": "ipython",
    "version": 3
   },
   "file_extension": ".py",
   "mimetype": "text/x-python",
   "name": "python",
   "nbconvert_exporter": "python",
   "pygments_lexer": "ipython3",
   "version": "3.11.11"
  },
  "papermill": {
   "default_parameters": {},
   "duration": 19913.122159,
   "end_time": "2025-05-28T17:15:45.282865",
   "environment_variables": {},
   "exception": null,
   "input_path": "__notebook__.ipynb",
   "output_path": "__notebook__.ipynb",
   "parameters": {},
   "start_time": "2025-05-28T11:43:52.160706",
   "version": "2.6.0"
  }
 },
 "nbformat": 4,
 "nbformat_minor": 5
}
