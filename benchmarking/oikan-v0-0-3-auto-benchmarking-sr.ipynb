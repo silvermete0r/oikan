{
 "cells": [
  {
   "cell_type": "code",
   "execution_count": 1,
   "id": "74c84db5",
   "metadata": {
    "_cell_guid": "b1076dfc-b9ad-4769-8c92-a6c4dae69d19",
    "_uuid": "8f2839f25d086af736a60e9eeb907d3b93b6e0e5",
    "execution": {
     "iopub.execute_input": "2025-05-11T13:16:15.497428Z",
     "iopub.status.busy": "2025-05-11T13:16:15.497197Z",
     "iopub.status.idle": "2025-05-11T13:16:20.805890Z",
     "shell.execute_reply": "2025-05-11T13:16:20.799120Z"
    },
    "papermill": {
     "duration": 5.317929,
     "end_time": "2025-05-11T13:16:20.808541",
     "exception": false,
     "start_time": "2025-05-11T13:16:15.490612",
     "status": "completed"
    },
    "tags": []
   },
   "outputs": [
    {
     "name": "stdout",
     "output_type": "stream",
     "text": [
      "\u001b[33mWARNING: Running pip as the 'root' user can result in broken permissions and conflicting behaviour with the system package manager. It is recommended to use a virtual environment instead: https://pip.pypa.io/warnings/venv\u001b[0m\u001b[33m\r\n",
      "\u001b[0m"
     ]
    },
    {
     "name": "stdout",
     "output_type": "stream",
     "text": [
      "\r\n",
      "\u001b[1m[\u001b[0m\u001b[34;49mnotice\u001b[0m\u001b[1;39;49m]\u001b[0m\u001b[39;49m A new release of pip is available: \u001b[0m\u001b[31;49m23.0.1\u001b[0m\u001b[39;49m -> \u001b[0m\u001b[32;49m25.1.1\u001b[0m\r\n",
      "\u001b[1m[\u001b[0m\u001b[34;49mnotice\u001b[0m\u001b[1;39;49m]\u001b[0m\u001b[39;49m To update, run: \u001b[0m\u001b[32;49mpip install --upgrade pip\u001b[0m\r\n"
     ]
    }
   ],
   "source": [
    "!pip install -qU oikan"
   ]
  },
  {
   "cell_type": "code",
   "execution_count": 2,
   "id": "574ece00",
   "metadata": {
    "execution": {
     "iopub.execute_input": "2025-05-11T13:16:20.818865Z",
     "iopub.status.busy": "2025-05-11T13:16:20.818592Z",
     "iopub.status.idle": "2025-05-11T13:16:24.447465Z",
     "shell.execute_reply": "2025-05-11T13:16:24.441583Z"
    },
    "papermill": {
     "duration": 3.638267,
     "end_time": "2025-05-11T13:16:24.450226",
     "exception": false,
     "start_time": "2025-05-11T13:16:20.811959",
     "status": "completed"
    },
    "tags": []
   },
   "outputs": [
    {
     "name": "stdout",
     "output_type": "stream",
     "text": [
      "\u001b[33mWARNING: Running pip as the 'root' user can result in broken permissions and conflicting behaviour with the system package manager. It is recommended to use a virtual environment instead: https://pip.pypa.io/warnings/venv\u001b[0m\u001b[33m\r\n",
      "\u001b[0m\r\n",
      "\u001b[1m[\u001b[0m\u001b[34;49mnotice\u001b[0m\u001b[1;39;49m]\u001b[0m\u001b[39;49m A new release of pip is available: \u001b[0m\u001b[31;49m23.0.1\u001b[0m\u001b[39;49m -> \u001b[0m\u001b[32;49m25.1.1\u001b[0m\r\n",
      "\u001b[1m[\u001b[0m\u001b[34;49mnotice\u001b[0m\u001b[1;39;49m]\u001b[0m\u001b[39;49m To update, run: \u001b[0m\u001b[32;49mpip install --upgrade pip\u001b[0m\r\n"
     ]
    }
   ],
   "source": [
    "!pip install -qU oikan"
   ]
  },
  {
   "cell_type": "code",
   "execution_count": 3,
   "id": "9acc0c72",
   "metadata": {
    "execution": {
     "iopub.execute_input": "2025-05-11T13:16:24.460196Z",
     "iopub.status.busy": "2025-05-11T13:16:24.459952Z",
     "iopub.status.idle": "2025-05-11T13:16:28.319017Z",
     "shell.execute_reply": "2025-05-11T13:16:28.313885Z"
    },
    "papermill": {
     "duration": 3.868354,
     "end_time": "2025-05-11T13:16:28.321803",
     "exception": false,
     "start_time": "2025-05-11T13:16:24.453449",
     "status": "completed"
    },
    "tags": []
   },
   "outputs": [
    {
     "name": "stdout",
     "output_type": "stream",
     "text": [
      "\u001b[33mWARNING: Running pip as the 'root' user can result in broken permissions and conflicting behaviour with the system package manager. It is recommended to use a virtual environment instead: https://pip.pypa.io/warnings/venv\u001b[0m\u001b[33m\r\n",
      "\u001b[0m\r\n",
      "\u001b[1m[\u001b[0m\u001b[34;49mnotice\u001b[0m\u001b[1;39;49m]\u001b[0m\u001b[39;49m A new release of pip is available: \u001b[0m\u001b[31;49m23.0.1\u001b[0m\u001b[39;49m -> \u001b[0m\u001b[32;49m25.1.1\u001b[0m\r\n",
      "\u001b[1m[\u001b[0m\u001b[34;49mnotice\u001b[0m\u001b[1;39;49m]\u001b[0m\u001b[39;49m To update, run: \u001b[0m\u001b[32;49mpip install --upgrade pip\u001b[0m\r\n"
     ]
    }
   ],
   "source": [
    "!pip install -qU pmlb"
   ]
  },
  {
   "cell_type": "code",
   "execution_count": 4,
   "id": "629eecf9",
   "metadata": {
    "execution": {
     "iopub.execute_input": "2025-05-11T13:16:28.331891Z",
     "iopub.status.busy": "2025-05-11T13:16:28.331635Z",
     "iopub.status.idle": "2025-05-11T13:17:00.253960Z",
     "shell.execute_reply": "2025-05-11T13:17:00.247593Z"
    },
    "papermill": {
     "duration": 31.932181,
     "end_time": "2025-05-11T13:17:00.257477",
     "exception": false,
     "start_time": "2025-05-11T13:16:28.325296",
     "status": "completed"
    },
    "tags": []
   },
   "outputs": [],
   "source": [
    "import numpy as np\n",
    "import torch\n",
    "import time\n",
    "import tracemalloc\n",
    "import pandas as pd\n",
    "from sklearn.model_selection import train_test_split\n",
    "from sklearn.metrics import mean_squared_error, r2_score, accuracy_score\n",
    "from pmlb import fetch_data\n",
    "from oikan import OIKANRegressor, OIKANClassifier\n",
    "\n",
    "# Set random seeds for reproducibility\n",
    "np.random.seed(42)\n",
    "torch.manual_seed(42)\n",
    "\n",
    "# Determine device (CPU or GPU)\n",
    "device = 'cuda' if torch.cuda.is_available() else 'cpu'"
   ]
  },
  {
   "cell_type": "code",
   "execution_count": 5,
   "id": "4955888c",
   "metadata": {
    "execution": {
     "iopub.execute_input": "2025-05-11T13:17:00.269054Z",
     "iopub.status.busy": "2025-05-11T13:17:00.268651Z",
     "iopub.status.idle": "2025-05-11T13:17:00.279288Z",
     "shell.execute_reply": "2025-05-11T13:17:00.274748Z"
    },
    "papermill": {
     "duration": 0.021344,
     "end_time": "2025-05-11T13:17:00.282160",
     "exception": false,
     "start_time": "2025-05-11T13:17:00.260816",
     "status": "completed"
    },
    "tags": []
   },
   "outputs": [],
   "source": [
    "def adjust_augmentation_factor(n_samples, augmentation_factor=10, min_augmented_size=1000, max_augmented_size=100000):\n",
    "    augmented_size = augmentation_factor * n_samples\n",
    "    if augmented_size < min_augmented_size:\n",
    "        augmentation_factor = max(augmentation_factor, (min_augmented_size + n_samples - 1) // n_samples)\n",
    "    elif augmented_size > max_augmented_size:\n",
    "        augmentation_factor = max(1, max_augmented_size // n_samples)\n",
    "    return augmentation_factor"
   ]
  },
  {
   "cell_type": "code",
   "execution_count": 6,
   "id": "58b914a2",
   "metadata": {
    "execution": {
     "iopub.execute_input": "2025-05-11T13:17:00.291920Z",
     "iopub.status.busy": "2025-05-11T13:17:00.291685Z",
     "iopub.status.idle": "2025-05-11T13:17:00.308126Z",
     "shell.execute_reply": "2025-05-11T13:17:00.302254Z"
    },
    "papermill": {
     "duration": 0.025345,
     "end_time": "2025-05-11T13:17:00.310467",
     "exception": false,
     "start_time": "2025-05-11T13:17:00.285122",
     "status": "completed"
    },
    "tags": []
   },
   "outputs": [],
   "source": [
    "def benchmark_regression_dataset(dataset_name, counter, total=20):\n",
    "    \"\"\"Benchmark OIKANRegressor on a regression dataset.\"\"\"\n",
    "    try:\n",
    "        # Fetch data\n",
    "        data = fetch_data(dataset_name)\n",
    "        X = data.drop('target', axis=1).values\n",
    "        y = data['target'].values\n",
    "        \n",
    "        # Split data\n",
    "        X_train, X_test, y_train, y_test = train_test_split(X, y, test_size=0.2, random_state=42)\n",
    "        \n",
    "        # Adjust augmentation factor\n",
    "        augmentation_factor = adjust_augmentation_factor(len(X_train))\n",
    "        num_augmented_rows = augmentation_factor * len(X_train)\n",
    "        num_features = X.shape[1]\n",
    "        \n",
    "        # Initialize model\n",
    "        model = OIKANRegressor(augmentation_factor=augmentation_factor, verbose=False)\n",
    "        \n",
    "        # Training benchmark\n",
    "        tracemalloc.start()\n",
    "        start_time = time.time()\n",
    "        model.fit(X_train, y_train)\n",
    "        train_time = time.time() - start_time\n",
    "        _, train_memory = tracemalloc.get_traced_memory()\n",
    "        tracemalloc.stop()\n",
    "        \n",
    "        # Prediction benchmark\n",
    "        tracemalloc.start()\n",
    "        start_time = time.time()\n",
    "        y_pred = model.predict(X_test)\n",
    "        predict_time = time.time() - start_time\n",
    "        _, predict_memory = tracemalloc.get_traced_memory()\n",
    "        tracemalloc.stop()\n",
    "        \n",
    "        # Metrics\n",
    "        mse = mean_squared_error(y_test, y_pred)\n",
    "        r2 = r2_score(y_test, y_pred)\n",
    "        \n",
    "        # Print progress\n",
    "        print(f\"Regression dataset: {dataset_name} - completed ({counter} / {total}) ✅\")\n",
    "        \n",
    "        return {\n",
    "            'dataset': dataset_name,\n",
    "            'device': device,\n",
    "            'num_features': num_features,\n",
    "            'num_augmented_rows': num_augmented_rows,\n",
    "            'augmentation_factor': augmentation_factor,\n",
    "            'train_time': train_time,\n",
    "            'train_memory': train_memory / 10**6,  # Convert to MB\n",
    "            'predict_time': predict_time,\n",
    "            'predict_memory': predict_memory / 10**6,  # Convert to MB\n",
    "            'MSE': mse,\n",
    "            'R2': r2\n",
    "        }\n",
    "    except Exception as e:\n",
    "        print(f\"Error benchmarking regression dataset {dataset_name}: {e}\")\n",
    "        return None"
   ]
  },
  {
   "cell_type": "code",
   "execution_count": 7,
   "id": "cbb7d23e",
   "metadata": {
    "execution": {
     "iopub.execute_input": "2025-05-11T13:17:00.320008Z",
     "iopub.status.busy": "2025-05-11T13:17:00.319791Z",
     "iopub.status.idle": "2025-05-11T13:17:00.335354Z",
     "shell.execute_reply": "2025-05-11T13:17:00.329756Z"
    },
    "papermill": {
     "duration": 0.024262,
     "end_time": "2025-05-11T13:17:00.337703",
     "exception": false,
     "start_time": "2025-05-11T13:17:00.313441",
     "status": "completed"
    },
    "tags": []
   },
   "outputs": [],
   "source": [
    "def benchmark_classification_dataset(dataset_name, counter, total=20):\n",
    "    \"\"\"Benchmark OIKANClassifier on a classification dataset.\"\"\"\n",
    "    try:\n",
    "        # Fetch data\n",
    "        data = fetch_data(dataset_name)\n",
    "        X = data.drop('target', axis=1).values\n",
    "        y = data['target'].values\n",
    "        \n",
    "        # Split data\n",
    "        X_train, X_test, y_train, y_test = train_test_split(X, y, test_size=0.2, random_state=42)\n",
    "        \n",
    "        # Adjust augmentation factor\n",
    "        augmentation_factor = adjust_augmentation_factor(len(X_train))\n",
    "        num_augmented_rows = augmentation_factor * len(X_train)\n",
    "        num_features = X.shape[1]\n",
    "        \n",
    "        # Initialize model\n",
    "        model = OIKANClassifier(augmentation_factor=augmentation_factor, verbose=False)\n",
    "        \n",
    "        # Training benchmark\n",
    "        tracemalloc.start()\n",
    "        start_time = time.time()\n",
    "        model.fit(X_train, y_train)\n",
    "        train_time = time.time() - start_time\n",
    "        _, train_memory = tracemalloc.get_traced_memory()\n",
    "        tracemalloc.stop()\n",
    "        \n",
    "        # Prediction benchmark\n",
    "        tracemalloc.start()\n",
    "        start_time = time.time()\n",
    "        y_pred = model.predict(X_test)\n",
    "        predict_time = time.time() - start_time\n",
    "        _, predict_memory = tracemalloc.get_traced_memory()\n",
    "        tracemalloc.stop()\n",
    "        \n",
    "        # Metrics\n",
    "        accuracy = accuracy_score(y_test, y_pred)\n",
    "        \n",
    "        # Print progress\n",
    "        print(f\"Classification dataset: {dataset_name} - completed ({counter} / {total}) ✅\")\n",
    "        \n",
    "        return {\n",
    "            'dataset': dataset_name,\n",
    "            'device': device,\n",
    "            'num_features': num_features,\n",
    "            'num_augmented_rows': num_augmented_rows,\n",
    "            'augmentation_factor': augmentation_factor,\n",
    "            'train_time': train_time,\n",
    "            'train_memory': train_memory / 10**6,  # Convert to MB\n",
    "            'predict_time': predict_time,\n",
    "            'predict_memory': predict_memory / 10**6,  # Convert to MB\n",
    "            'accuracy': accuracy\n",
    "        }\n",
    "    except Exception as e:\n",
    "        print(f\"Error benchmarking classification dataset {dataset_name}: {e}\")\n",
    "        return None"
   ]
  },
  {
   "cell_type": "code",
   "execution_count": 8,
   "id": "b429b2e7",
   "metadata": {
    "execution": {
     "iopub.execute_input": "2025-05-11T13:17:00.347545Z",
     "iopub.status.busy": "2025-05-11T13:17:00.347268Z",
     "iopub.status.idle": "2025-05-11T13:17:00.359790Z",
     "shell.execute_reply": "2025-05-11T13:17:00.353840Z"
    },
    "papermill": {
     "duration": 0.021492,
     "end_time": "2025-05-11T13:17:00.362302",
     "exception": false,
     "start_time": "2025-05-11T13:17:00.340810",
     "status": "completed"
    },
    "tags": []
   },
   "outputs": [],
   "source": [
    "def calculate_summary_stats(df, task):\n",
    "    \"\"\"Calculate AVG, BEST, WORST for key metrics.\"\"\"\n",
    "    if task == 'regression':\n",
    "        metrics = ['MSE', 'R2']\n",
    "        best_worst = {'MSE': ('min', 'max'), 'R2': ('max', 'min')}\n",
    "    else:  # classification\n",
    "        metrics = ['accuracy']\n",
    "        best_worst = {'accuracy': ('max', 'min')}\n",
    "    \n",
    "    summary = {}\n",
    "    for metric in metrics:\n",
    "        avg = df[metric].mean()\n",
    "        best = df[metric].agg(best_worst[metric][0])\n",
    "        worst = df[metric].agg(best_worst[metric][1])\n",
    "        summary[metric] = {'AVG': avg, 'BEST': best, 'WORST': worst}\n",
    "    return summary"
   ]
  },
  {
   "cell_type": "code",
   "execution_count": 9,
   "id": "fdbafbf5",
   "metadata": {
    "execution": {
     "iopub.execute_input": "2025-05-11T13:17:00.372026Z",
     "iopub.status.busy": "2025-05-11T13:17:00.371801Z",
     "iopub.status.idle": "2025-05-11T13:17:00.383050Z",
     "shell.execute_reply": "2025-05-11T13:17:00.378405Z"
    },
    "papermill": {
     "duration": 0.020298,
     "end_time": "2025-05-11T13:17:00.385494",
     "exception": false,
     "start_time": "2025-05-11T13:17:00.365196",
     "status": "completed"
    },
    "tags": []
   },
   "outputs": [],
   "source": [
    "def save_summary_to_txt(summary, filename):\n",
    "    \"\"\"Save summary statistics to a .txt file.\"\"\"\n",
    "    with open(filename, 'w') as f:\n",
    "        for metric, stats in summary.items():\n",
    "            f.write(f\"{metric}:\\n\")\n",
    "            for key, value in stats.items():\n",
    "                f.write(f\"  {key}: {value:.4f}\\n\")\n",
    "            f.write(\"\\n\")"
   ]
  },
  {
   "cell_type": "code",
   "execution_count": 10,
   "id": "95b4a7ef",
   "metadata": {
    "execution": {
     "iopub.execute_input": "2025-05-11T13:17:00.395104Z",
     "iopub.status.busy": "2025-05-11T13:17:00.394875Z",
     "iopub.status.idle": "2025-05-11T13:36:38.951834Z",
     "shell.execute_reply": "2025-05-11T13:36:38.945239Z"
    },
    "papermill": {
     "duration": 1178.56687,
     "end_time": "2025-05-11T13:36:38.955676",
     "exception": false,
     "start_time": "2025-05-11T13:17:00.388806",
     "status": "completed"
    },
    "tags": []
   },
   "outputs": [
    {
     "name": "stdout",
     "output_type": "stream",
     "text": [
      "Starting OIKAN Advanced Auto-Benchmarking based on PMLB Datasets...\n",
      "\n"
     ]
    },
    {
     "name": "stderr",
     "output_type": "stream",
     "text": [
      "/usr/local/lib/python3.10/site-packages/sklearn/linear_model/_coordinate_descent.py:695: ConvergenceWarning: Objective did not converge. You might want to increase the number of iterations, check the scale of the features or consider increasing regularisation. Duality gap: 1.330e+02, tolerance: 1.157e+01\n",
      "  model = cd_fast.enet_coordinate_descent(\n"
     ]
    },
    {
     "name": "stdout",
     "output_type": "stream",
     "text": [
      "Regression dataset: 1027_ESL - completed (1 / 20) ✅"
     ]
    },
    {
     "name": "stdout",
     "output_type": "stream",
     "text": [
      "\n"
     ]
    },
    {
     "name": "stderr",
     "output_type": "stream",
     "text": [
      "/usr/local/lib/python3.10/site-packages/sklearn/linear_model/_coordinate_descent.py:695: ConvergenceWarning: Objective did not converge. You might want to increase the number of iterations, check the scale of the features or consider increasing regularisation. Duality gap: 1.644e+02, tolerance: 1.226e+01\n",
      "  model = cd_fast.enet_coordinate_descent(\n"
     ]
    },
    {
     "name": "stdout",
     "output_type": "stream",
     "text": [
      "Regression dataset: 1028_SWD - completed (2 / 20) ✅\n"
     ]
    },
    {
     "name": "stderr",
     "output_type": "stream",
     "text": [
      "/usr/local/lib/python3.10/site-packages/sklearn/linear_model/_coordinate_descent.py:695: ConvergenceWarning: Objective did not converge. You might want to increase the number of iterations, check the scale of the features or consider increasing regularisation. Duality gap: 5.971e+00, tolerance: 2.965e+00\n",
      "  model = cd_fast.enet_coordinate_descent(\n"
     ]
    },
    {
     "name": "stdout",
     "output_type": "stream",
     "text": [
      "Regression dataset: 1029_LEV - completed (3 / 20) ✅"
     ]
    },
    {
     "name": "stdout",
     "output_type": "stream",
     "text": [
      "\n"
     ]
    },
    {
     "name": "stderr",
     "output_type": "stream",
     "text": [
      "/usr/local/lib/python3.10/site-packages/sklearn/linear_model/_coordinate_descent.py:695: ConvergenceWarning: Objective did not converge. You might want to increase the number of iterations, check the scale of the features or consider increasing regularisation. Duality gap: 3.799e+02, tolerance: 1.321e+01\n",
      "  model = cd_fast.enet_coordinate_descent(\n"
     ]
    },
    {
     "name": "stdout",
     "output_type": "stream",
     "text": [
      "Regression dataset: 1030_ERA - completed (4 / 20) ✅\n"
     ]
    },
    {
     "name": "stdout",
     "output_type": "stream",
     "text": [
      "Regression dataset: 1089_USCrime - completed (5 / 20) ✅\n"
     ]
    },
    {
     "name": "stdout",
     "output_type": "stream",
     "text": [
      "Regression dataset: 1096_FacultySalaries - completed (6 / 20) ✅\n"
     ]
    },
    {
     "name": "stdout",
     "output_type": "stream",
     "text": [
      "Regression dataset: 228_elusage - completed (7 / 20) ✅\n"
     ]
    },
    {
     "name": "stdout",
     "output_type": "stream",
     "text": [
      "Regression dataset: 229_pwLinear - completed (8 / 20) ✅\n"
     ]
    },
    {
     "name": "stderr",
     "output_type": "stream",
     "text": [
      "/usr/local/lib/python3.10/site-packages/sklearn/linear_model/_coordinate_descent.py:695: ConvergenceWarning: Objective did not converge. You might want to increase the number of iterations, check the scale of the features or consider increasing regularisation. Duality gap: 3.284e+05, tolerance: 2.284e+03\n",
      "  model = cd_fast.enet_coordinate_descent(\n"
     ]
    },
    {
     "name": "stderr",
     "output_type": "stream",
     "text": [
      "/usr/local/lib/python3.10/site-packages/sklearn/linear_model/_coordinate_descent.py:695: ConvergenceWarning: Objective did not converge. You might want to increase the number of iterations, check the scale of the features or consider increasing regularisation. Duality gap: 2.670e+05, tolerance: 2.284e+03\n",
      "  model = cd_fast.enet_coordinate_descent(\n"
     ]
    },
    {
     "name": "stdout",
     "output_type": "stream",
     "text": [
      "Regression dataset: 230_machine_cpu - completed (9 / 20) ✅\n"
     ]
    },
    {
     "name": "stderr",
     "output_type": "stream",
     "text": [
      "/usr/local/lib/python3.10/site-packages/sklearn/linear_model/_coordinate_descent.py:695: ConvergenceWarning: Objective did not converge. You might want to increase the number of iterations, check the scale of the features or consider increasing regularisation. Duality gap: 4.858e+04, tolerance: 6.419e+03\n",
      "  model = cd_fast.enet_coordinate_descent(\n"
     ]
    },
    {
     "name": "stdout",
     "output_type": "stream",
     "text": [
      "Regression dataset: 485_analcatdata_vehicle - completed (10 / 20) ✅\n"
     ]
    },
    {
     "name": "stdout",
     "output_type": "stream",
     "text": [
      "Regression dataset: 529_pollen - completed (11 / 20) ✅\n"
     ]
    },
    {
     "name": "stderr",
     "output_type": "stream",
     "text": [
      "/usr/local/lib/python3.10/site-packages/sklearn/linear_model/_coordinate_descent.py:695: ConvergenceWarning: Objective did not converge. You might want to increase the number of iterations, check the scale of the features or consider increasing regularisation. Duality gap: 1.143e+06, tolerance: 2.363e+05\n",
      "  model = cd_fast.enet_coordinate_descent(\n"
     ]
    },
    {
     "name": "stdout",
     "output_type": "stream",
     "text": [
      "Regression dataset: 556_analcatdata_apnea2 - completed (12 / 20) ✅\n",
      "Error benchmarking regression dataset 559_bodyfat: Dataset not found in PMLB.\n"
     ]
    },
    {
     "name": "stderr",
     "output_type": "stream",
     "text": [
      "/usr/local/lib/python3.10/site-packages/sklearn/linear_model/_coordinate_descent.py:695: ConvergenceWarning: Objective did not converge. You might want to increase the number of iterations, check the scale of the features or consider increasing regularisation. Duality gap: 1.709e+06, tolerance: 9.267e+04\n",
      "  model = cd_fast.enet_coordinate_descent(\n"
     ]
    },
    {
     "name": "stderr",
     "output_type": "stream",
     "text": [
      "/usr/local/lib/python3.10/site-packages/sklearn/linear_model/_coordinate_descent.py:695: ConvergenceWarning: Objective did not converge. You might want to increase the number of iterations, check the scale of the features or consider increasing regularisation. Duality gap: 1.732e+06, tolerance: 9.267e+04\n",
      "  model = cd_fast.enet_coordinate_descent(\n"
     ]
    },
    {
     "name": "stdout",
     "output_type": "stream",
     "text": [
      "Regression dataset: 573_cpu_act - completed (14 / 20) ✅\n"
     ]
    },
    {
     "name": "stderr",
     "output_type": "stream",
     "text": [
      "/usr/local/lib/python3.10/site-packages/sklearn/linear_model/_coordinate_descent.py:695: ConvergenceWarning: Objective did not converge. You might want to increase the number of iterations, check the scale of the features or consider increasing regularisation. Duality gap: 7.467e+11, tolerance: 1.164e+10\n",
      "  model = cd_fast.enet_coordinate_descent(\n"
     ]
    },
    {
     "name": "stderr",
     "output_type": "stream",
     "text": [
      "/usr/local/lib/python3.10/site-packages/sklearn/linear_model/_coordinate_descent.py:695: ConvergenceWarning: Objective did not converge. You might want to increase the number of iterations, check the scale of the features or consider increasing regularisation. Duality gap: 4.522e+11, tolerance: 1.164e+10\n",
      "  model = cd_fast.enet_coordinate_descent(\n"
     ]
    },
    {
     "name": "stdout",
     "output_type": "stream",
     "text": [
      "Regression dataset: 574_house_16H - completed (15 / 20) ✅\n"
     ]
    },
    {
     "name": "stdout",
     "output_type": "stream",
     "text": [
      "Regression dataset: 583_fri_c1_1000_50 - completed (16 / 20) ✅\n"
     ]
    },
    {
     "name": "stdout",
     "output_type": "stream",
     "text": [
      "Error benchmarking regression dataset 594_fri_c2_1000_25: Dataset not found in PMLB.\n",
      "Error benchmarking regression dataset 596_fri_c2_500_25: Dataset not found in PMLB.\n",
      "Error benchmarking regression dataset 597_fri_c3_250_25: Dataset not found in PMLB.\n",
      "Error benchmarking regression dataset 606_fri_c4_1000_100: Dataset not found in PMLB.\n"
     ]
    },
    {
     "name": "stderr",
     "output_type": "stream",
     "text": [
      "/usr/local/lib/python3.10/site-packages/oikan/model.py:290: UserWarning: To copy construct from a tensor, it is recommended to use sourceTensor.clone().detach() or sourceTensor.clone().detach().requires_grad_(True), rather than torch.tensor(sourceTensor).\n",
      "  torch.tensor(y, dtype=torch.float32))\n"
     ]
    },
    {
     "name": "stderr",
     "output_type": "stream",
     "text": [
      "/usr/local/lib/python3.10/site-packages/sklearn/linear_model/_coordinate_descent.py:695: ConvergenceWarning: Objective did not converge. You might want to increase the number of iterations, check the scale of the features or consider increasing regularisation. Duality gap: 1.104e+08, tolerance: 8.896e+04\n",
      "  model = cd_fast.enet_coordinate_descent(\n"
     ]
    },
    {
     "name": "stderr",
     "output_type": "stream",
     "text": [
      "/usr/local/lib/python3.10/site-packages/sklearn/linear_model/_coordinate_descent.py:695: ConvergenceWarning: Objective did not converge. You might want to increase the number of iterations, check the scale of the features or consider increasing regularisation. Duality gap: 1.884e+07, tolerance: 2.365e+04\n",
      "  model = cd_fast.enet_coordinate_descent(\n"
     ]
    },
    {
     "name": "stderr",
     "output_type": "stream",
     "text": [
      "/usr/local/lib/python3.10/site-packages/sklearn/linear_model/_coordinate_descent.py:695: ConvergenceWarning: Objective did not converge. You might want to increase the number of iterations, check the scale of the features or consider increasing regularisation. Duality gap: 1.103e+08, tolerance: 8.896e+04\n",
      "  model = cd_fast.enet_coordinate_descent(\n"
     ]
    },
    {
     "name": "stderr",
     "output_type": "stream",
     "text": [
      "/usr/local/lib/python3.10/site-packages/sklearn/linear_model/_coordinate_descent.py:695: ConvergenceWarning: Objective did not converge. You might want to increase the number of iterations, check the scale of the features or consider increasing regularisation. Duality gap: 1.884e+07, tolerance: 2.365e+04\n",
      "  model = cd_fast.enet_coordinate_descent(\n"
     ]
    },
    {
     "name": "stdout",
     "output_type": "stream",
     "text": [
      "Classification dataset: adult - completed (1 / 20) ✅\n"
     ]
    },
    {
     "name": "stderr",
     "output_type": "stream",
     "text": [
      "/usr/local/lib/python3.10/site-packages/oikan/model.py:290: UserWarning: To copy construct from a tensor, it is recommended to use sourceTensor.clone().detach() or sourceTensor.clone().detach().requires_grad_(True), rather than torch.tensor(sourceTensor).\n",
      "  torch.tensor(y, dtype=torch.float32))\n"
     ]
    },
    {
     "name": "stderr",
     "output_type": "stream",
     "text": [
      "/usr/local/lib/python3.10/site-packages/sklearn/linear_model/_coordinate_descent.py:695: ConvergenceWarning: Objective did not converge. You might want to increase the number of iterations, check the scale of the features or consider increasing regularisation. Duality gap: 1.380e+05, tolerance: 1.239e+03\n",
      "  model = cd_fast.enet_coordinate_descent(\n"
     ]
    },
    {
     "name": "stderr",
     "output_type": "stream",
     "text": [
      "/usr/local/lib/python3.10/site-packages/sklearn/linear_model/_coordinate_descent.py:695: ConvergenceWarning: Objective did not converge. You might want to increase the number of iterations, check the scale of the features or consider increasing regularisation. Duality gap: 1.305e+05, tolerance: 1.176e+03\n",
      "  model = cd_fast.enet_coordinate_descent(\n"
     ]
    },
    {
     "name": "stderr",
     "output_type": "stream",
     "text": [
      "/usr/local/lib/python3.10/site-packages/sklearn/linear_model/_coordinate_descent.py:695: ConvergenceWarning: Objective did not converge. You might want to increase the number of iterations, check the scale of the features or consider increasing regularisation. Duality gap: 1.461e+05, tolerance: 1.239e+03\n",
      "  model = cd_fast.enet_coordinate_descent(\n"
     ]
    },
    {
     "name": "stderr",
     "output_type": "stream",
     "text": [
      "/usr/local/lib/python3.10/site-packages/sklearn/linear_model/_coordinate_descent.py:695: ConvergenceWarning: Objective did not converge. You might want to increase the number of iterations, check the scale of the features or consider increasing regularisation. Duality gap: 1.379e+05, tolerance: 1.176e+03\n",
      "  model = cd_fast.enet_coordinate_descent(\n"
     ]
    },
    {
     "name": "stdout",
     "output_type": "stream",
     "text": [
      "Classification dataset: mushroom - completed (2 / 20) ✅\n"
     ]
    },
    {
     "name": "stderr",
     "output_type": "stream",
     "text": [
      "/usr/local/lib/python3.10/site-packages/oikan/model.py:290: UserWarning: To copy construct from a tensor, it is recommended to use sourceTensor.clone().detach() or sourceTensor.clone().detach().requires_grad_(True), rather than torch.tensor(sourceTensor).\n",
      "  torch.tensor(y, dtype=torch.float32))\n"
     ]
    },
    {
     "name": "stderr",
     "output_type": "stream",
     "text": [
      "/usr/local/lib/python3.10/site-packages/sklearn/linear_model/_coordinate_descent.py:695: ConvergenceWarning: Objective did not converge. You might want to increase the number of iterations, check the scale of the features or consider increasing regularisation. Duality gap: 1.239e+02, tolerance: 6.393e+00\n",
      "  model = cd_fast.enet_coordinate_descent(\n"
     ]
    },
    {
     "name": "stderr",
     "output_type": "stream",
     "text": [
      "/usr/local/lib/python3.10/site-packages/sklearn/linear_model/_coordinate_descent.py:695: ConvergenceWarning: Objective did not converge. You might want to increase the number of iterations, check the scale of the features or consider increasing regularisation. Duality gap: 4.320e+01, tolerance: 4.983e-01\n",
      "  model = cd_fast.enet_coordinate_descent(\n"
     ]
    },
    {
     "name": "stderr",
     "output_type": "stream",
     "text": [
      "/usr/local/lib/python3.10/site-packages/sklearn/linear_model/_coordinate_descent.py:695: ConvergenceWarning: Objective did not converge. You might want to increase the number of iterations, check the scale of the features or consider increasing regularisation. Duality gap: 9.030e+01, tolerance: 6.016e+00\n",
      "  model = cd_fast.enet_coordinate_descent(\n"
     ]
    },
    {
     "name": "stderr",
     "output_type": "stream",
     "text": [
      "/usr/local/lib/python3.10/site-packages/sklearn/linear_model/_coordinate_descent.py:695: ConvergenceWarning: Objective did not converge. You might want to increase the number of iterations, check the scale of the features or consider increasing regularisation. Duality gap: 2.107e+02, tolerance: 6.393e+00\n",
      "  model = cd_fast.enet_coordinate_descent(\n"
     ]
    },
    {
     "name": "stderr",
     "output_type": "stream",
     "text": [
      "/usr/local/lib/python3.10/site-packages/sklearn/linear_model/_coordinate_descent.py:695: ConvergenceWarning: Objective did not converge. You might want to increase the number of iterations, check the scale of the features or consider increasing regularisation. Duality gap: 5.033e+01, tolerance: 4.983e-01\n",
      "  model = cd_fast.enet_coordinate_descent(\n"
     ]
    },
    {
     "name": "stderr",
     "output_type": "stream",
     "text": [
      "/usr/local/lib/python3.10/site-packages/sklearn/linear_model/_coordinate_descent.py:695: ConvergenceWarning: Objective did not converge. You might want to increase the number of iterations, check the scale of the features or consider increasing regularisation. Duality gap: 2.538e+02, tolerance: 6.016e+00\n",
      "  model = cd_fast.enet_coordinate_descent(\n"
     ]
    },
    {
     "name": "stdout",
     "output_type": "stream",
     "text": [
      "Classification dataset: iris - completed (3 / 20) ✅\n"
     ]
    },
    {
     "name": "stderr",
     "output_type": "stream",
     "text": [
      "/usr/local/lib/python3.10/site-packages/oikan/model.py:290: UserWarning: To copy construct from a tensor, it is recommended to use sourceTensor.clone().detach() or sourceTensor.clone().detach().requires_grad_(True), rather than torch.tensor(sourceTensor).\n",
      "  torch.tensor(y, dtype=torch.float32))\n"
     ]
    },
    {
     "name": "stderr",
     "output_type": "stream",
     "text": [
      "/usr/local/lib/python3.10/site-packages/sklearn/linear_model/_coordinate_descent.py:695: ConvergenceWarning: Objective did not converge. You might want to increase the number of iterations, check the scale of the features or consider increasing regularisation. Duality gap: 4.164e+01, tolerance: 1.971e+00\n",
      "  model = cd_fast.enet_coordinate_descent(\n"
     ]
    },
    {
     "name": "stderr",
     "output_type": "stream",
     "text": [
      "/usr/local/lib/python3.10/site-packages/sklearn/linear_model/_coordinate_descent.py:695: ConvergenceWarning: Objective did not converge. You might want to increase the number of iterations, check the scale of the features or consider increasing regularisation. Duality gap: 2.141e+01, tolerance: 3.221e+00\n",
      "  model = cd_fast.enet_coordinate_descent(\n"
     ]
    },
    {
     "name": "stderr",
     "output_type": "stream",
     "text": [
      "/usr/local/lib/python3.10/site-packages/sklearn/linear_model/_coordinate_descent.py:695: ConvergenceWarning: Objective did not converge. You might want to increase the number of iterations, check the scale of the features or consider increasing regularisation. Duality gap: 2.302e+01, tolerance: 4.282e+00\n",
      "  model = cd_fast.enet_coordinate_descent(\n"
     ]
    },
    {
     "name": "stderr",
     "output_type": "stream",
     "text": [
      "/usr/local/lib/python3.10/site-packages/sklearn/linear_model/_coordinate_descent.py:695: ConvergenceWarning: Objective did not converge. You might want to increase the number of iterations, check the scale of the features or consider increasing regularisation. Duality gap: 4.118e+01, tolerance: 1.971e+00\n",
      "  model = cd_fast.enet_coordinate_descent(\n"
     ]
    },
    {
     "name": "stderr",
     "output_type": "stream",
     "text": [
      "/usr/local/lib/python3.10/site-packages/sklearn/linear_model/_coordinate_descent.py:695: ConvergenceWarning: Objective did not converge. You might want to increase the number of iterations, check the scale of the features or consider increasing regularisation. Duality gap: 2.507e+01, tolerance: 3.221e+00\n",
      "  model = cd_fast.enet_coordinate_descent(\n"
     ]
    },
    {
     "name": "stderr",
     "output_type": "stream",
     "text": [
      "/usr/local/lib/python3.10/site-packages/sklearn/linear_model/_coordinate_descent.py:695: ConvergenceWarning: Objective did not converge. You might want to increase the number of iterations, check the scale of the features or consider increasing regularisation. Duality gap: 2.272e+01, tolerance: 4.282e+00\n",
      "  model = cd_fast.enet_coordinate_descent(\n"
     ]
    },
    {
     "name": "stdout",
     "output_type": "stream",
     "text": [
      "Classification dataset: wine_recognition - completed (4 / 20) ✅\n"
     ]
    },
    {
     "name": "stdout",
     "output_type": "stream",
     "text": [
      "Error benchmarking classification dataset breast_cancer_wisconsin: Dataset not found in PMLB.\n"
     ]
    },
    {
     "name": "stderr",
     "output_type": "stream",
     "text": [
      "/usr/local/lib/python3.10/site-packages/oikan/model.py:290: UserWarning: To copy construct from a tensor, it is recommended to use sourceTensor.clone().detach() or sourceTensor.clone().detach().requires_grad_(True), rather than torch.tensor(sourceTensor).\n",
      "  torch.tensor(y, dtype=torch.float32))\n"
     ]
    },
    {
     "name": "stdout",
     "output_type": "stream",
     "text": [
      "Classification dataset: tic_tac_toe - completed (6 / 20) ✅\n"
     ]
    },
    {
     "name": "stderr",
     "output_type": "stream",
     "text": [
      "/usr/local/lib/python3.10/site-packages/oikan/model.py:290: UserWarning: To copy construct from a tensor, it is recommended to use sourceTensor.clone().detach() or sourceTensor.clone().detach().requires_grad_(True), rather than torch.tensor(sourceTensor).\n",
      "  torch.tensor(y, dtype=torch.float32))\n"
     ]
    },
    {
     "name": "stderr",
     "output_type": "stream",
     "text": [
      "/usr/local/lib/python3.10/site-packages/sklearn/linear_model/_coordinate_descent.py:695: ConvergenceWarning: Objective did not converge. You might want to increase the number of iterations, check the scale of the features or consider increasing regularisation. Duality gap: 3.957e+02, tolerance: 6.356e+01\n",
      "  model = cd_fast.enet_coordinate_descent(\n"
     ]
    },
    {
     "name": "stderr",
     "output_type": "stream",
     "text": [
      "/usr/local/lib/python3.10/site-packages/sklearn/linear_model/_coordinate_descent.py:695: ConvergenceWarning: Objective did not converge. You might want to increase the number of iterations, check the scale of the features or consider increasing regularisation. Duality gap: 4.049e+02, tolerance: 7.751e+01\n",
      "  model = cd_fast.enet_coordinate_descent(\n"
     ]
    },
    {
     "name": "stderr",
     "output_type": "stream",
     "text": [
      "/usr/local/lib/python3.10/site-packages/sklearn/linear_model/_coordinate_descent.py:695: ConvergenceWarning: Objective did not converge. You might want to increase the number of iterations, check the scale of the features or consider increasing regularisation. Duality gap: 2.589e+02, tolerance: 7.420e+01\n",
      "  model = cd_fast.enet_coordinate_descent(\n"
     ]
    },
    {
     "name": "stderr",
     "output_type": "stream",
     "text": [
      "/usr/local/lib/python3.10/site-packages/sklearn/linear_model/_coordinate_descent.py:695: ConvergenceWarning: Objective did not converge. You might want to increase the number of iterations, check the scale of the features or consider increasing regularisation. Duality gap: 4.388e+02, tolerance: 8.113e+01\n",
      "  model = cd_fast.enet_coordinate_descent(\n"
     ]
    },
    {
     "name": "stderr",
     "output_type": "stream",
     "text": [
      "/usr/local/lib/python3.10/site-packages/sklearn/linear_model/_coordinate_descent.py:695: ConvergenceWarning: Objective did not converge. You might want to increase the number of iterations, check the scale of the features or consider increasing regularisation. Duality gap: 3.987e+02, tolerance: 6.356e+01\n",
      "  model = cd_fast.enet_coordinate_descent(\n"
     ]
    },
    {
     "name": "stderr",
     "output_type": "stream",
     "text": [
      "/usr/local/lib/python3.10/site-packages/sklearn/linear_model/_coordinate_descent.py:695: ConvergenceWarning: Objective did not converge. You might want to increase the number of iterations, check the scale of the features or consider increasing regularisation. Duality gap: 4.037e+02, tolerance: 7.751e+01\n",
      "  model = cd_fast.enet_coordinate_descent(\n"
     ]
    },
    {
     "name": "stderr",
     "output_type": "stream",
     "text": [
      "/usr/local/lib/python3.10/site-packages/sklearn/linear_model/_coordinate_descent.py:695: ConvergenceWarning: Objective did not converge. You might want to increase the number of iterations, check the scale of the features or consider increasing regularisation. Duality gap: 2.706e+02, tolerance: 7.420e+01\n",
      "  model = cd_fast.enet_coordinate_descent(\n"
     ]
    },
    {
     "name": "stderr",
     "output_type": "stream",
     "text": [
      "/usr/local/lib/python3.10/site-packages/sklearn/linear_model/_coordinate_descent.py:695: ConvergenceWarning: Objective did not converge. You might want to increase the number of iterations, check the scale of the features or consider increasing regularisation. Duality gap: 4.600e+02, tolerance: 8.113e+01\n",
      "  model = cd_fast.enet_coordinate_descent(\n"
     ]
    },
    {
     "name": "stdout",
     "output_type": "stream",
     "text": [
      "Classification dataset: analcatdata_authorship - completed (7 / 20) ✅\n"
     ]
    },
    {
     "name": "stderr",
     "output_type": "stream",
     "text": [
      "/usr/local/lib/python3.10/site-packages/oikan/model.py:290: UserWarning: To copy construct from a tensor, it is recommended to use sourceTensor.clone().detach() or sourceTensor.clone().detach().requires_grad_(True), rather than torch.tensor(sourceTensor).\n",
      "  torch.tensor(y, dtype=torch.float32))\n"
     ]
    },
    {
     "name": "stderr",
     "output_type": "stream",
     "text": [
      "/usr/local/lib/python3.10/site-packages/sklearn/linear_model/_coordinate_descent.py:695: ConvergenceWarning: Objective did not converge. You might want to increase the number of iterations, check the scale of the features or consider increasing regularisation. Duality gap: 7.553e+00, tolerance: 3.642e-02\n",
      "  model = cd_fast.enet_coordinate_descent(\n"
     ]
    },
    {
     "name": "stderr",
     "output_type": "stream",
     "text": [
      "/usr/local/lib/python3.10/site-packages/sklearn/linear_model/_coordinate_descent.py:695: ConvergenceWarning: Objective did not converge. You might want to increase the number of iterations, check the scale of the features or consider increasing regularisation. Duality gap: 8.286e+00, tolerance: 1.018e-01\n",
      "  model = cd_fast.enet_coordinate_descent(\n"
     ]
    },
    {
     "name": "stdout",
     "output_type": "stream",
     "text": [
      "Classification dataset: analcatdata_fraud - completed (8 / 20) ✅\n"
     ]
    },
    {
     "name": "stderr",
     "output_type": "stream",
     "text": [
      "/usr/local/lib/python3.10/site-packages/oikan/model.py:290: UserWarning: To copy construct from a tensor, it is recommended to use sourceTensor.clone().detach() or sourceTensor.clone().detach().requires_grad_(True), rather than torch.tensor(sourceTensor).\n",
      "  torch.tensor(y, dtype=torch.float32))\n"
     ]
    },
    {
     "name": "stdout",
     "output_type": "stream",
     "text": [
      "Classification dataset: penguins - completed (9 / 20) ✅\n"
     ]
    },
    {
     "name": "stderr",
     "output_type": "stream",
     "text": [
      "/usr/local/lib/python3.10/site-packages/oikan/model.py:290: UserWarning: To copy construct from a tensor, it is recommended to use sourceTensor.clone().detach() or sourceTensor.clone().detach().requires_grad_(True), rather than torch.tensor(sourceTensor).\n",
      "  torch.tensor(y, dtype=torch.float32))\n"
     ]
    },
    {
     "name": "stdout",
     "output_type": "stream",
     "text": [
      "Classification dataset: monk3 - completed (10 / 20) ✅\n"
     ]
    },
    {
     "name": "stderr",
     "output_type": "stream",
     "text": [
      "/usr/local/lib/python3.10/site-packages/oikan/model.py:290: UserWarning: To copy construct from a tensor, it is recommended to use sourceTensor.clone().detach() or sourceTensor.clone().detach().requires_grad_(True), rather than torch.tensor(sourceTensor).\n",
      "  torch.tensor(y, dtype=torch.float32))\n"
     ]
    },
    {
     "name": "stderr",
     "output_type": "stream",
     "text": [
      "/usr/local/lib/python3.10/site-packages/sklearn/linear_model/_coordinate_descent.py:695: ConvergenceWarning: Objective did not converge. You might want to increase the number of iterations, check the scale of the features or consider increasing regularisation. Duality gap: 2.614e+02, tolerance: 1.445e+00\n",
      "  model = cd_fast.enet_coordinate_descent(\n"
     ]
    },
    {
     "name": "stderr",
     "output_type": "stream",
     "text": [
      "/usr/local/lib/python3.10/site-packages/sklearn/linear_model/_coordinate_descent.py:695: ConvergenceWarning: Objective did not converge. You might want to increase the number of iterations, check the scale of the features or consider increasing regularisation. Duality gap: 1.754e+04, tolerance: 1.698e+02\n",
      "  model = cd_fast.enet_coordinate_descent(\n"
     ]
    },
    {
     "name": "stderr",
     "output_type": "stream",
     "text": [
      "/usr/local/lib/python3.10/site-packages/sklearn/linear_model/_coordinate_descent.py:695: ConvergenceWarning: Objective did not converge. You might want to increase the number of iterations, check the scale of the features or consider increasing regularisation. Duality gap: 1.618e+04, tolerance: 1.502e+02\n",
      "  model = cd_fast.enet_coordinate_descent(\n"
     ]
    },
    {
     "name": "stdout",
     "output_type": "stream",
     "text": [
      "Classification dataset: balance_scale - completed (11 / 20) ✅\n"
     ]
    },
    {
     "name": "stderr",
     "output_type": "stream",
     "text": [
      "/usr/local/lib/python3.10/site-packages/oikan/model.py:290: UserWarning: To copy construct from a tensor, it is recommended to use sourceTensor.clone().detach() or sourceTensor.clone().detach().requires_grad_(True), rather than torch.tensor(sourceTensor).\n",
      "  torch.tensor(y, dtype=torch.float32))\n"
     ]
    },
    {
     "name": "stderr",
     "output_type": "stream",
     "text": [
      "/usr/local/lib/python3.10/site-packages/sklearn/linear_model/_coordinate_descent.py:695: ConvergenceWarning: Objective did not converge. You might want to increase the number of iterations, check the scale of the features or consider increasing regularisation. Duality gap: 3.866e+04, tolerance: 3.608e+02\n",
      "  model = cd_fast.enet_coordinate_descent(\n"
     ]
    },
    {
     "name": "stderr",
     "output_type": "stream",
     "text": [
      "/usr/local/lib/python3.10/site-packages/sklearn/linear_model/_coordinate_descent.py:695: ConvergenceWarning: Objective did not converge. You might want to increase the number of iterations, check the scale of the features or consider increasing regularisation. Duality gap: 5.072e+03, tolerance: 4.555e+01\n",
      "  model = cd_fast.enet_coordinate_descent(\n"
     ]
    },
    {
     "name": "stderr",
     "output_type": "stream",
     "text": [
      "/usr/local/lib/python3.10/site-packages/sklearn/linear_model/_coordinate_descent.py:695: ConvergenceWarning: Objective did not converge. You might want to increase the number of iterations, check the scale of the features or consider increasing regularisation. Duality gap: 3.145e+04, tolerance: 1.414e+03\n",
      "  model = cd_fast.enet_coordinate_descent(\n"
     ]
    },
    {
     "name": "stderr",
     "output_type": "stream",
     "text": [
      "/usr/local/lib/python3.10/site-packages/sklearn/linear_model/_coordinate_descent.py:695: ConvergenceWarning: Objective did not converge. You might want to increase the number of iterations, check the scale of the features or consider increasing regularisation. Duality gap: 1.148e+05, tolerance: 2.367e+03\n",
      "  model = cd_fast.enet_coordinate_descent(\n"
     ]
    },
    {
     "name": "stdout",
     "output_type": "stream",
     "text": [
      "Classification dataset: car_evaluation - completed (12 / 20) ✅\n"
     ]
    },
    {
     "name": "stdout",
     "output_type": "stream",
     "text": [
      "Error benchmarking classification dataset credit_g: Dataset not found in PMLB.\n"
     ]
    },
    {
     "name": "stderr",
     "output_type": "stream",
     "text": [
      "/usr/local/lib/python3.10/site-packages/oikan/model.py:290: UserWarning: To copy construct from a tensor, it is recommended to use sourceTensor.clone().detach() or sourceTensor.clone().detach().requires_grad_(True), rather than torch.tensor(sourceTensor).\n",
      "  torch.tensor(y, dtype=torch.float32))\n"
     ]
    },
    {
     "name": "stderr",
     "output_type": "stream",
     "text": [
      "/usr/local/lib/python3.10/site-packages/sklearn/linear_model/_coordinate_descent.py:695: ConvergenceWarning: Objective did not converge. You might want to increase the number of iterations, check the scale of the features or consider increasing regularisation. Duality gap: 6.704e+01, tolerance: 2.215e+01\n",
      "  model = cd_fast.enet_coordinate_descent(\n"
     ]
    },
    {
     "name": "stderr",
     "output_type": "stream",
     "text": [
      "/usr/local/lib/python3.10/site-packages/sklearn/linear_model/_coordinate_descent.py:695: ConvergenceWarning: Objective did not converge. You might want to increase the number of iterations, check the scale of the features or consider increasing regularisation. Duality gap: 1.682e+02, tolerance: 9.076e+00\n",
      "  model = cd_fast.enet_coordinate_descent(\n"
     ]
    },
    {
     "name": "stderr",
     "output_type": "stream",
     "text": [
      "/usr/local/lib/python3.10/site-packages/sklearn/linear_model/_coordinate_descent.py:695: ConvergenceWarning: Objective did not converge. You might want to increase the number of iterations, check the scale of the features or consider increasing regularisation. Duality gap: 2.476e+02, tolerance: 1.917e+01\n",
      "  model = cd_fast.enet_coordinate_descent(\n"
     ]
    },
    {
     "name": "stderr",
     "output_type": "stream",
     "text": [
      "/usr/local/lib/python3.10/site-packages/sklearn/linear_model/_coordinate_descent.py:695: ConvergenceWarning: Objective did not converge. You might want to increase the number of iterations, check the scale of the features or consider increasing regularisation. Duality gap: 7.994e+02, tolerance: 2.003e+01\n",
      "  model = cd_fast.enet_coordinate_descent(\n"
     ]
    },
    {
     "name": "stderr",
     "output_type": "stream",
     "text": [
      "/usr/local/lib/python3.10/site-packages/sklearn/linear_model/_coordinate_descent.py:695: ConvergenceWarning: Objective did not converge. You might want to increase the number of iterations, check the scale of the features or consider increasing regularisation. Duality gap: 8.364e+01, tolerance: 6.532e+00\n",
      "  model = cd_fast.enet_coordinate_descent(\n"
     ]
    },
    {
     "name": "stderr",
     "output_type": "stream",
     "text": [
      "/usr/local/lib/python3.10/site-packages/sklearn/linear_model/_coordinate_descent.py:695: ConvergenceWarning: Objective did not converge. You might want to increase the number of iterations, check the scale of the features or consider increasing regularisation. Duality gap: 4.529e+02, tolerance: 2.215e+01\n",
      "  model = cd_fast.enet_coordinate_descent(\n"
     ]
    },
    {
     "name": "stderr",
     "output_type": "stream",
     "text": [
      "/usr/local/lib/python3.10/site-packages/sklearn/linear_model/_coordinate_descent.py:695: ConvergenceWarning: Objective did not converge. You might want to increase the number of iterations, check the scale of the features or consider increasing regularisation. Duality gap: 7.873e+02, tolerance: 9.076e+00\n",
      "  model = cd_fast.enet_coordinate_descent(\n"
     ]
    },
    {
     "name": "stderr",
     "output_type": "stream",
     "text": [
      "/usr/local/lib/python3.10/site-packages/sklearn/linear_model/_coordinate_descent.py:695: ConvergenceWarning: Objective did not converge. You might want to increase the number of iterations, check the scale of the features or consider increasing regularisation. Duality gap: 6.614e+02, tolerance: 1.917e+01\n",
      "  model = cd_fast.enet_coordinate_descent(\n"
     ]
    },
    {
     "name": "stderr",
     "output_type": "stream",
     "text": [
      "/usr/local/lib/python3.10/site-packages/sklearn/linear_model/_coordinate_descent.py:695: ConvergenceWarning: Objective did not converge. You might want to increase the number of iterations, check the scale of the features or consider increasing regularisation. Duality gap: 3.153e+03, tolerance: 2.003e+01\n",
      "  model = cd_fast.enet_coordinate_descent(\n"
     ]
    },
    {
     "name": "stderr",
     "output_type": "stream",
     "text": [
      "/usr/local/lib/python3.10/site-packages/sklearn/linear_model/_coordinate_descent.py:695: ConvergenceWarning: Objective did not converge. You might want to increase the number of iterations, check the scale of the features or consider increasing regularisation. Duality gap: 5.541e+02, tolerance: 6.532e+00\n",
      "  model = cd_fast.enet_coordinate_descent(\n"
     ]
    },
    {
     "name": "stderr",
     "output_type": "stream",
     "text": [
      "/usr/local/lib/python3.10/site-packages/sklearn/linear_model/_coordinate_descent.py:695: ConvergenceWarning: Objective did not converge. You might want to increase the number of iterations, check the scale of the features or consider increasing regularisation. Duality gap: 5.852e+00, tolerance: 5.767e+00\n",
      "  model = cd_fast.enet_coordinate_descent(\n"
     ]
    },
    {
     "name": "stdout",
     "output_type": "stream",
     "text": [
      "Classification dataset: dermatology - completed (14 / 20) ✅\n"
     ]
    },
    {
     "name": "stdout",
     "output_type": "stream",
     "text": [
      "Error benchmarking classification dataset glass: Dataset not found in PMLB.\n"
     ]
    },
    {
     "name": "stdout",
     "output_type": "stream",
     "text": [
      "Error benchmarking classification dataset heart_c: Dataset not found in PMLB.\n"
     ]
    },
    {
     "name": "stderr",
     "output_type": "stream",
     "text": [
      "/usr/local/lib/python3.10/site-packages/oikan/model.py:290: UserWarning: To copy construct from a tensor, it is recommended to use sourceTensor.clone().detach() or sourceTensor.clone().detach().requires_grad_(True), rather than torch.tensor(sourceTensor).\n",
      "  torch.tensor(y, dtype=torch.float32))\n"
     ]
    },
    {
     "name": "stdout",
     "output_type": "stream",
     "text": [
      "Classification dataset: ionosphere - completed (17 / 20) ✅\n"
     ]
    },
    {
     "name": "stderr",
     "output_type": "stream",
     "text": [
      "/usr/local/lib/python3.10/site-packages/oikan/model.py:290: UserWarning: To copy construct from a tensor, it is recommended to use sourceTensor.clone().detach() or sourceTensor.clone().detach().requires_grad_(True), rather than torch.tensor(sourceTensor).\n",
      "  torch.tensor(y, dtype=torch.float32))\n"
     ]
    },
    {
     "name": "stdout",
     "output_type": "stream",
     "text": [
      "Classification dataset: kr_vs_kp - completed (18 / 20) ✅\n"
     ]
    },
    {
     "name": "stderr",
     "output_type": "stream",
     "text": [
      "/usr/local/lib/python3.10/site-packages/oikan/model.py:290: UserWarning: To copy construct from a tensor, it is recommended to use sourceTensor.clone().detach() or sourceTensor.clone().detach().requires_grad_(True), rather than torch.tensor(sourceTensor).\n",
      "  torch.tensor(y, dtype=torch.float32))\n"
     ]
    },
    {
     "name": "stderr",
     "output_type": "stream",
     "text": [
      "/usr/local/lib/python3.10/site-packages/sklearn/linear_model/_coordinate_descent.py:695: ConvergenceWarning: Objective did not converge. You might want to increase the number of iterations, check the scale of the features or consider increasing regularisation. Duality gap: 3.722e+00, tolerance: 1.298e+00\n",
      "  model = cd_fast.enet_coordinate_descent(\n"
     ]
    },
    {
     "name": "stderr",
     "output_type": "stream",
     "text": [
      "/usr/local/lib/python3.10/site-packages/sklearn/linear_model/_coordinate_descent.py:695: ConvergenceWarning: Objective did not converge. You might want to increase the number of iterations, check the scale of the features or consider increasing regularisation. Duality gap: 2.560e+00, tolerance: 1.602e+00\n",
      "  model = cd_fast.enet_coordinate_descent(\n"
     ]
    },
    {
     "name": "stderr",
     "output_type": "stream",
     "text": [
      "/usr/local/lib/python3.10/site-packages/sklearn/linear_model/_coordinate_descent.py:695: ConvergenceWarning: Objective did not converge. You might want to increase the number of iterations, check the scale of the features or consider increasing regularisation. Duality gap: 2.458e+01, tolerance: 1.185e+00\n",
      "  model = cd_fast.enet_coordinate_descent(\n"
     ]
    },
    {
     "name": "stderr",
     "output_type": "stream",
     "text": [
      "/usr/local/lib/python3.10/site-packages/sklearn/linear_model/_coordinate_descent.py:695: ConvergenceWarning: Objective did not converge. You might want to increase the number of iterations, check the scale of the features or consider increasing regularisation. Duality gap: 3.734e+00, tolerance: 2.702e+00\n",
      "  model = cd_fast.enet_coordinate_descent(\n"
     ]
    },
    {
     "name": "stderr",
     "output_type": "stream",
     "text": [
      "/usr/local/lib/python3.10/site-packages/sklearn/linear_model/_coordinate_descent.py:695: ConvergenceWarning: Objective did not converge. You might want to increase the number of iterations, check the scale of the features or consider increasing regularisation. Duality gap: 5.674e+01, tolerance: 1.298e+00\n",
      "  model = cd_fast.enet_coordinate_descent(\n"
     ]
    },
    {
     "name": "stderr",
     "output_type": "stream",
     "text": [
      "/usr/local/lib/python3.10/site-packages/sklearn/linear_model/_coordinate_descent.py:695: ConvergenceWarning: Objective did not converge. You might want to increase the number of iterations, check the scale of the features or consider increasing regularisation. Duality gap: 1.773e+02, tolerance: 1.602e+00\n",
      "  model = cd_fast.enet_coordinate_descent(\n"
     ]
    },
    {
     "name": "stderr",
     "output_type": "stream",
     "text": [
      "/usr/local/lib/python3.10/site-packages/sklearn/linear_model/_coordinate_descent.py:695: ConvergenceWarning: Objective did not converge. You might want to increase the number of iterations, check the scale of the features or consider increasing regularisation. Duality gap: 1.206e+02, tolerance: 1.185e+00\n",
      "  model = cd_fast.enet_coordinate_descent(\n"
     ]
    },
    {
     "name": "stderr",
     "output_type": "stream",
     "text": [
      "/usr/local/lib/python3.10/site-packages/sklearn/linear_model/_coordinate_descent.py:695: ConvergenceWarning: Objective did not converge. You might want to increase the number of iterations, check the scale of the features or consider increasing regularisation. Duality gap: 1.112e+02, tolerance: 2.702e+00\n",
      "  model = cd_fast.enet_coordinate_descent(\n"
     ]
    },
    {
     "name": "stdout",
     "output_type": "stream",
     "text": [
      "Classification dataset: lymphography - completed (19 / 20) ✅\n"
     ]
    },
    {
     "name": "stdout",
     "output_type": "stream",
     "text": [
      "Error benchmarking classification dataset zoo: Dataset not found in PMLB.\n"
     ]
    }
   ],
   "source": [
    "print(\"Starting OIKAN Advanced Auto-Benchmarking based on PMLB Datasets...\\n\")\n",
    "\n",
    "# Regression datasets (20)\n",
    "regression_datasets = [\n",
    "    '1027_ESL',\n",
    "    '1028_SWD',\n",
    "    '1029_LEV',\n",
    "    '1030_ERA',\n",
    "    '1089_USCrime',\n",
    "    '1096_FacultySalaries',\n",
    "    '228_elusage',\n",
    "    '229_pwLinear',\n",
    "    '230_machine_cpu',\n",
    "    '485_analcatdata_vehicle',\n",
    "    '529_pollen',\n",
    "    '556_analcatdata_apnea2',\n",
    "    '559_bodyfat',\n",
    "    '573_cpu_act',\n",
    "    '574_house_16H',\n",
    "    '583_fri_c1_1000_50',\n",
    "    '594_fri_c2_1000_25',\n",
    "    '596_fri_c2_500_25',\n",
    "    '597_fri_c3_250_25',\n",
    "    '606_fri_c4_1000_100'\n",
    "]\n",
    "\n",
    "# Classification datasets (20)\n",
    "classification_datasets = [\n",
    "    'adult',\n",
    "    'mushroom',\n",
    "    'iris',\n",
    "    'wine_recognition',\n",
    "    'breast_cancer_wisconsin',\n",
    "    'tic_tac_toe',\n",
    "    'analcatdata_authorship',\n",
    "    'analcatdata_fraud',\n",
    "    'penguins',\n",
    "    'monk3',\n",
    "    'balance_scale',\n",
    "    'car_evaluation',\n",
    "    'credit_g',\n",
    "    'dermatology',\n",
    "    'glass',\n",
    "    'heart_c',\n",
    "    'ionosphere',\n",
    "    'kr_vs_kp',\n",
    "    'lymphography',\n",
    "    'zoo'\n",
    "]\n",
    "\n",
    "# Benchmark regression datasets\n",
    "regression_results = []\n",
    "for idx, dataset in enumerate(regression_datasets, 1):\n",
    "    result = benchmark_regression_dataset(dataset, counter=idx, total=len(regression_datasets))\n",
    "    if result:\n",
    "        regression_results.append(result)\n",
    "regression_df = pd.DataFrame(regression_results)\n",
    "\n",
    "# Benchmark classification datasets\n",
    "classification_results = []\n",
    "for idx, dataset in enumerate(classification_datasets, 1):\n",
    "    result = benchmark_classification_dataset(dataset, counter=idx, total=len(classification_datasets))\n",
    "    if result:\n",
    "        classification_results.append(result)\n",
    "classification_df = pd.DataFrame(classification_results)"
   ]
  },
  {
   "cell_type": "code",
   "execution_count": 11,
   "id": "834e8493",
   "metadata": {
    "execution": {
     "iopub.execute_input": "2025-05-11T13:36:38.984359Z",
     "iopub.status.busy": "2025-05-11T13:36:38.984038Z",
     "iopub.status.idle": "2025-05-11T13:36:39.001339Z",
     "shell.execute_reply": "2025-05-11T13:36:38.994469Z"
    },
    "papermill": {
     "duration": 0.036562,
     "end_time": "2025-05-11T13:36:39.005221",
     "exception": false,
     "start_time": "2025-05-11T13:36:38.968659",
     "status": "completed"
    },
    "tags": []
   },
   "outputs": [],
   "source": [
    "# Calculate and save summary statistics\n",
    "if not regression_df.empty:\n",
    "    regression_summary = calculate_summary_stats(regression_df, 'regression')\n",
    "    save_summary_to_txt(regression_summary, 'regression_summary.txt')\n",
    "if not classification_df.empty:\n",
    "    classification_summary = calculate_summary_stats(classification_df, 'classification')\n",
    "    save_summary_to_txt(classification_summary, 'classification_summary.txt')"
   ]
  },
  {
   "cell_type": "code",
   "execution_count": 12,
   "id": "4d3dd050",
   "metadata": {
    "execution": {
     "iopub.execute_input": "2025-05-11T13:36:39.031152Z",
     "iopub.status.busy": "2025-05-11T13:36:39.030816Z",
     "iopub.status.idle": "2025-05-11T13:36:39.059473Z",
     "shell.execute_reply": "2025-05-11T13:36:39.054226Z"
    },
    "papermill": {
     "duration": 0.046248,
     "end_time": "2025-05-11T13:36:39.062496",
     "exception": false,
     "start_time": "2025-05-11T13:36:39.016248",
     "status": "completed"
    },
    "tags": []
   },
   "outputs": [
    {
     "name": "stdout",
     "output_type": "stream",
     "text": [
      "\n",
      "Regression Benchmark Results:\n"
     ]
    },
    {
     "name": "stdout",
     "output_type": "stream",
     "text": [
      "                dataset device  num_features  num_augmented_rows  augmentation_factor  train_time  train_memory  predict_time  predict_memory          MSE         R2\n",
      "               1027_ESL    cpu             4                3900                   10   17.618232     35.434843      0.000926        0.024442 2.667013e-01   0.830337\n",
      "               1028_SWD    cpu            10                8000                   10    7.720951     24.126501      0.005190        0.085729 4.568245e-01   0.298246\n",
      "               1029_LEV    cpu             4                8000                   10    7.095260      9.396125      0.002876        0.053922 4.846374e-01   0.432243\n",
      "               1030_ERA    cpu             4                8000                   10    7.130144      9.393130      0.002878        0.068443 2.617298e+00   0.367802\n",
      "           1089_USCrime    cpu            13                1036                   28    0.770772      4.551681      0.002154        0.011020 5.156592e+02   0.574244\n",
      "   1096_FacultySalaries    cpu             4                1000                   25    0.577324      1.270797      0.000410        0.003089 2.836989e+00   0.846047\n",
      "            228_elusage    cpu             2                1012                   23    0.556828      0.653340      0.000222        0.002449 7.097605e+02  -1.663632\n",
      "           229_pwLinear    cpu            10                1600                   10    1.415800      4.918715      0.001321        0.016537 1.792871e+00   0.870689\n",
      "        230_machine_cpu    cpu             6                1670                   10    1.670901      3.075104      0.002732        0.043075 6.237030e+04  -0.225185\n",
      "485_analcatdata_vehicle    cpu             4                1026                   27    0.544896      1.298389      0.001180        0.005920 1.317966e+05  -0.351645\n",
      "             529_pollen    cpu             4               30780                   10   28.077859     36.002504      0.001513        0.161409 2.194026e+00   0.784430\n",
      " 556_analcatdata_apnea2    cpu             3                3800                   10    3.438665      3.272159      0.000640        0.020465 1.623798e+07  -0.011550\n",
      "            573_cpu_act    cpu            21               65530                   10   87.385536    595.115330      0.010052        2.687832 3.716934e+03 -11.403824\n",
      "          574_house_16H    cpu            16               91135                    5  178.654946    532.316224      0.035084        6.415572 3.119274e+09  -0.110402\n",
      "     583_fri_c1_1000_50    cpu            50                8000                   10    8.120290    349.401825      0.001482        0.090851 4.364954e-01   0.524825\n",
      "\n",
      "Classification Benchmark Results:\n",
      "               dataset device  num_features  num_augmented_rows  augmentation_factor  train_time  train_memory  predict_time  predict_memory  accuracy\n",
      "                 adult    cpu            14               78146                    2  384.072135    374.332458      0.042582        9.101876  0.776640\n",
      "              mushroom    cpu            22               64990                   10  106.005109    639.678202      0.028440        1.909308  0.998154\n",
      "                  iris    cpu             4                1200                   10    1.235357      1.590256      0.004458        0.045570  0.966667\n",
      "      wine_recognition    cpu            13                1420                   10    2.103852      6.281135      0.003364        0.033500  0.916667\n",
      "           tic_tac_toe    cpu             9                7660                   10    8.086595     20.502848      0.001917        0.075073  0.833333\n",
      "analcatdata_authorship    cpu            70                6720                   10  140.395032    559.680939      0.048993        2.116747  1.000000\n",
      "     analcatdata_fraud    cpu            11                1023                   31    0.603832      3.640692      0.001027        0.003783  0.555556\n",
      "              penguins    cpu             7                2660                   10    2.987194      5.559306      0.001602        0.025793  0.671642\n",
      "                 monk3    cpu             6                4430                   10    4.086931      7.950810      0.001364        0.024817  0.954955\n",
      "         balance_scale    cpu             4                5000                   10    5.217635      6.079827      0.004388        0.066275  0.960000\n",
      "        car_evaluation    cpu             6               13820                   10   27.170278     25.074323      0.025126        0.182348  0.869942\n",
      "           dermatology    cpu            34                2920                   10   13.485450     62.501102      0.028314        0.197276  0.986486\n",
      "            ionosphere    cpu            34                2800                   10    6.100862     59.742280      0.023125        0.102472  0.957746\n",
      "              kr_vs_kp    cpu            36               25560                   10   88.244262    603.798570      0.016607        1.163587  0.956250\n",
      "          lymphography    cpu            18                1180                   10    2.055842      8.562061      0.008816        0.058906  0.866667\n"
     ]
    }
   ],
   "source": [
    "# Display results\n",
    "print(\"\\nRegression Benchmark Results:\")\n",
    "print(regression_df.to_string(index=False))\n",
    "\n",
    "print(\"\\nClassification Benchmark Results:\")\n",
    "print(classification_df.to_string(index=False))"
   ]
  },
  {
   "cell_type": "code",
   "execution_count": 13,
   "id": "dc44f403",
   "metadata": {
    "execution": {
     "iopub.execute_input": "2025-05-11T13:36:39.088068Z",
     "iopub.status.busy": "2025-05-11T13:36:39.087708Z",
     "iopub.status.idle": "2025-05-11T13:36:39.108575Z",
     "shell.execute_reply": "2025-05-11T13:36:39.102890Z"
    },
    "papermill": {
     "duration": 0.037311,
     "end_time": "2025-05-11T13:36:39.110957",
     "exception": false,
     "start_time": "2025-05-11T13:36:39.073646",
     "status": "completed"
    },
    "tags": []
   },
   "outputs": [
    {
     "name": "stdout",
     "output_type": "stream",
     "text": [
      "\n",
      "Benchmarking completed. Results saved to 'regression_benchmark_results.csv' and 'classification_benchmark_results.csv'.\n",
      "Summary statistics saved to 'regression_summary.txt' and 'classification_summary.txt'.\n"
     ]
    }
   ],
   "source": [
    "# Save results to CSV files\n",
    "regression_df.to_csv('regression_benchmark_results.csv', index=False)\n",
    "classification_df.to_csv('classification_benchmark_results.csv', index=False)\n",
    "\n",
    "print(\"\\nBenchmarking completed. Results saved to 'regression_benchmark_results.csv' and 'classification_benchmark_results.csv'.\")\n",
    "print(\"Summary statistics saved to 'regression_summary.txt' and 'classification_summary.txt'.\")"
   ]
  },
  {
   "cell_type": "code",
   "execution_count": null,
   "id": "2bfee8f5",
   "metadata": {
    "papermill": {
     "duration": 0.010477,
     "end_time": "2025-05-11T13:36:39.132392",
     "exception": false,
     "start_time": "2025-05-11T13:36:39.121915",
     "status": "completed"
    },
    "tags": []
   },
   "outputs": [],
   "source": []
  }
 ],
 "metadata": {
  "kaggle": {
   "accelerator": "tpu1vmV38",
   "dataSources": [],
   "dockerImageVersionId": 31011,
   "isGpuEnabled": false,
   "isInternetEnabled": true,
   "language": "python",
   "sourceType": "notebook"
  },
  "kernelspec": {
   "display_name": "Python 3",
   "language": "python",
   "name": "python3"
  },
  "language_info": {
   "codemirror_mode": {
    "name": "ipython",
    "version": 3
   },
   "file_extension": ".py",
   "mimetype": "text/x-python",
   "name": "python",
   "nbconvert_exporter": "python",
   "pygments_lexer": "ipython3",
   "version": "3.10.16"
  },
  "papermill": {
   "default_parameters": {},
   "duration": 1228.167201,
   "end_time": "2025-05-11T13:36:40.471024",
   "environment_variables": {},
   "exception": null,
   "input_path": "__notebook__.ipynb",
   "output_path": "__notebook__.ipynb",
   "parameters": {},
   "start_time": "2025-05-11T13:16:12.303823",
   "version": "2.6.0"
  }
 },
 "nbformat": 4,
 "nbformat_minor": 5
}
