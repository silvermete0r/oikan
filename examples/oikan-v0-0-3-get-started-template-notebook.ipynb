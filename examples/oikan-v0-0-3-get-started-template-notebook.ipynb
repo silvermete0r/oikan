{
 "cells": [
  {
   "cell_type": "markdown",
   "id": "68cdb063",
   "metadata": {
    "papermill": {
     "duration": 0.007749,
     "end_time": "2025-05-14T23:00:27.496394",
     "exception": false,
     "start_time": "2025-05-14T23:00:27.488645",
     "status": "completed"
    },
    "tags": []
   },
   "source": [
    "<div style=\"text-align: center;\">\n",
    "  <img src=\"https://github.com/silvermete0r/oikan/blob/main/docs/media/oikan_logo.png?raw=true\" width=\"120\">\n",
    "</div>\n",
    "\n",
    "# OIKAN: Neuro-Symbolic ML for Scientific Discovery\n",
    "\n",
    "OIKAN is a neuro-symbolic machine learning framework inspired by Kolmogorov-Arnold representation theorem. It combines the power of modern neural networks with techniques for extracting clear, interpretable symbolic formulas from data. OIKAN is designed to make machine learning models both accurate and Interpretable.\n",
    "\n",
    "* GitHub: https://github.com/silvermete0r/oikan\n",
    "* PyPI: https://pypi.org/project/oikan/\n",
    "\n",
    "## 👋 Welcome to the OIKAN Get Started Template!\n",
    "\n",
    "This notebook demonstrates how to use the OIKAN v0.0.3 library for both classification and regression tasks. It includes:\n",
    "* Classification using the Iris dataset with `OIKANClassifier`.\n",
    "* Regression using the California Housing dataset with `OIKANRegressor`.\n",
    "* Extracting symbolic formulas, feature importances, and saving/loading models.\n",
    "\n",
    "**`OIKAN v0.0.3` Usage Workflow:**\n",
    "\n",
    "<img src=\"https://github.com/silvermete0r/oikan/blob/main/docs/media/oikan_v0.0.3_%20Usage-workflow-diagram.png?raw=True\" width=\"600\" alt=\"OIKAN v0.0.3 Usage Workflow\">"
   ]
  },
  {
   "cell_type": "markdown",
   "id": "a52d8a99",
   "metadata": {
    "papermill": {
     "duration": 0.005838,
     "end_time": "2025-05-14T23:00:27.508911",
     "exception": false,
     "start_time": "2025-05-14T23:00:27.503073",
     "status": "completed"
    },
    "tags": []
   },
   "source": [
    "# 1. Setup and Installation"
   ]
  },
  {
   "cell_type": "code",
   "execution_count": 1,
   "id": "b511ef7c",
   "metadata": {
    "_cell_guid": "b1076dfc-b9ad-4769-8c92-a6c4dae69d19",
    "_uuid": "8f2839f25d086af736a60e9eeb907d3b93b6e0e5",
    "execution": {
     "iopub.execute_input": "2025-05-14T23:00:27.524779Z",
     "iopub.status.busy": "2025-05-14T23:00:27.523650Z",
     "iopub.status.idle": "2025-05-14T23:02:20.347322Z",
     "shell.execute_reply": "2025-05-14T23:02:20.345858Z"
    },
    "papermill": {
     "duration": 112.833371,
     "end_time": "2025-05-14T23:02:20.349854",
     "exception": false,
     "start_time": "2025-05-14T23:00:27.516483",
     "status": "completed"
    },
    "tags": []
   },
   "outputs": [
    {
     "name": "stdout",
     "output_type": "stream",
     "text": [
      "\u001b[2K   \u001b[90m━━━━━━━━━━━━━━━━━━━━━━━━━━━━━━━━━━━━━━━━\u001b[0m \u001b[32m363.4/363.4 MB\u001b[0m \u001b[31m4.1 MB/s\u001b[0m eta \u001b[36m0:00:00\u001b[0m\r\n",
      "\u001b[2K   \u001b[90m━━━━━━━━━━━━━━━━━━━━━━━━━━━━━━━━━━━━━━━━\u001b[0m \u001b[32m664.8/664.8 MB\u001b[0m \u001b[31m2.1 MB/s\u001b[0m eta \u001b[36m0:00:00\u001b[0m\r\n",
      "\u001b[2K   \u001b[90m━━━━━━━━━━━━━━━━━━━━━━━━━━━━━━━━━━━━━━━━\u001b[0m \u001b[32m211.5/211.5 MB\u001b[0m \u001b[31m1.8 MB/s\u001b[0m eta \u001b[36m0:00:00\u001b[0m\r\n",
      "\u001b[2K   \u001b[90m━━━━━━━━━━━━━━━━━━━━━━━━━━━━━━━━━━━━━━━━\u001b[0m \u001b[32m56.3/56.3 MB\u001b[0m \u001b[31m13.2 MB/s\u001b[0m eta \u001b[36m0:00:00\u001b[0m\r\n",
      "\u001b[2K   \u001b[90m━━━━━━━━━━━━━━━━━━━━━━━━━━━━━━━━━━━━━━━━\u001b[0m \u001b[32m127.9/127.9 MB\u001b[0m \u001b[31m6.6 MB/s\u001b[0m eta \u001b[36m0:00:00\u001b[0m\r\n",
      "\u001b[2K   \u001b[90m━━━━━━━━━━━━━━━━━━━━━━━━━━━━━━━━━━━━━━━━\u001b[0m \u001b[32m207.5/207.5 MB\u001b[0m \u001b[31m3.4 MB/s\u001b[0m eta \u001b[36m0:00:00\u001b[0m\r\n",
      "\u001b[2K   \u001b[90m━━━━━━━━━━━━━━━━━━━━━━━━━━━━━━━━━━━━━━━━\u001b[0m \u001b[32m21.1/21.1 MB\u001b[0m \u001b[31m27.8 MB/s\u001b[0m eta \u001b[36m0:00:00\u001b[0m\r\n",
      "\u001b[?25h\u001b[31mERROR: pip's dependency resolver does not currently take into account all the packages that are installed. This behaviour is the source of the following dependency conflicts.\r\n",
      "pylibcugraph-cu12 24.12.0 requires pylibraft-cu12==24.12.*, but you have pylibraft-cu12 25.2.0 which is incompatible.\r\n",
      "pylibcugraph-cu12 24.12.0 requires rmm-cu12==24.12.*, but you have rmm-cu12 25.2.0 which is incompatible.\u001b[0m\u001b[31m\r\n",
      "\u001b[0m"
     ]
    }
   ],
   "source": [
    "# Install OIKAN v0.0.3 quietly\n",
    "!pip install -qU oikan"
   ]
  },
  {
   "cell_type": "code",
   "execution_count": 2,
   "id": "1953e90f",
   "metadata": {
    "execution": {
     "iopub.execute_input": "2025-05-14T23:02:20.430331Z",
     "iopub.status.busy": "2025-05-14T23:02:20.429900Z",
     "iopub.status.idle": "2025-05-14T23:02:22.899173Z",
     "shell.execute_reply": "2025-05-14T23:02:22.897837Z"
    },
    "papermill": {
     "duration": 2.513259,
     "end_time": "2025-05-14T23:02:22.901268",
     "exception": false,
     "start_time": "2025-05-14T23:02:20.388009",
     "status": "completed"
    },
    "tags": []
   },
   "outputs": [
    {
     "name": "stdout",
     "output_type": "stream",
     "text": [
      "oikan==0.0.3.5\r\n"
     ]
    }
   ],
   "source": [
    "# (Optional) Verify installation\n",
    "!pip freeze | grep oikan"
   ]
  },
  {
   "cell_type": "code",
   "execution_count": 3,
   "id": "29453fa8",
   "metadata": {
    "execution": {
     "iopub.execute_input": "2025-05-14T23:02:23.116678Z",
     "iopub.status.busy": "2025-05-14T23:02:23.116209Z",
     "iopub.status.idle": "2025-05-14T23:02:23.251806Z",
     "shell.execute_reply": "2025-05-14T23:02:23.250492Z"
    },
    "papermill": {
     "duration": 0.299751,
     "end_time": "2025-05-14T23:02:23.253926",
     "exception": false,
     "start_time": "2025-05-14T23:02:22.954175",
     "status": "completed"
    },
    "tags": []
   },
   "outputs": [],
   "source": [
    "# (Optional) Create output directory for saving models\n",
    "!mkdir -p outputs"
   ]
  },
  {
   "cell_type": "markdown",
   "id": "16f4e1df",
   "metadata": {
    "papermill": {
     "duration": 0.038333,
     "end_time": "2025-05-14T23:02:23.331975",
     "exception": false,
     "start_time": "2025-05-14T23:02:23.293642",
     "status": "completed"
    },
    "tags": []
   },
   "source": [
    "# 2. Classification: Iris Dataset"
   ]
  },
  {
   "cell_type": "code",
   "execution_count": 4,
   "id": "a26dd221",
   "metadata": {
    "execution": {
     "iopub.execute_input": "2025-05-14T23:02:23.412383Z",
     "iopub.status.busy": "2025-05-14T23:02:23.411908Z",
     "iopub.status.idle": "2025-05-14T23:02:32.880489Z",
     "shell.execute_reply": "2025-05-14T23:02:32.879250Z"
    },
    "papermill": {
     "duration": 9.511139,
     "end_time": "2025-05-14T23:02:32.882385",
     "exception": false,
     "start_time": "2025-05-14T23:02:23.371246",
     "status": "completed"
    },
    "tags": []
   },
   "outputs": [],
   "source": [
    "# Import necessary libraries\n",
    "from sklearn.datasets import load_iris\n",
    "from sklearn.model_selection import train_test_split\n",
    "from sklearn.metrics import accuracy_score, classification_report\n",
    "from oikan import OIKANClassifier\n",
    "import matplotlib.pyplot as plt\n",
    "%matplotlib inline"
   ]
  },
  {
   "cell_type": "code",
   "execution_count": 5,
   "id": "3d6ed1e8",
   "metadata": {
    "execution": {
     "iopub.execute_input": "2025-05-14T23:02:32.967014Z",
     "iopub.status.busy": "2025-05-14T23:02:32.966492Z",
     "iopub.status.idle": "2025-05-14T23:02:32.977457Z",
     "shell.execute_reply": "2025-05-14T23:02:32.976280Z"
    },
    "papermill": {
     "duration": 0.055163,
     "end_time": "2025-05-14T23:02:32.979507",
     "exception": false,
     "start_time": "2025-05-14T23:02:32.924344",
     "status": "completed"
    },
    "tags": []
   },
   "outputs": [],
   "source": [
    "# Load Iris dataset\n",
    "data = load_iris()\n",
    "X, y = data.data, data.target\n",
    "feature_names = data.feature_names"
   ]
  },
  {
   "cell_type": "code",
   "execution_count": 6,
   "id": "61e384ef",
   "metadata": {
    "execution": {
     "iopub.execute_input": "2025-05-14T23:02:33.067777Z",
     "iopub.status.busy": "2025-05-14T23:02:33.067382Z",
     "iopub.status.idle": "2025-05-14T23:02:33.076918Z",
     "shell.execute_reply": "2025-05-14T23:02:33.075811Z"
    },
    "papermill": {
     "duration": 0.055552,
     "end_time": "2025-05-14T23:02:33.078647",
     "exception": false,
     "start_time": "2025-05-14T23:02:33.023095",
     "status": "completed"
    },
    "tags": []
   },
   "outputs": [],
   "source": [
    "# Split into training and testing sets\n",
    "X_train, X_test, y_train, y_test = train_test_split(X, y, test_size=0.2, random_state=42)"
   ]
  },
  {
   "cell_type": "code",
   "execution_count": 7,
   "id": "e48e211d",
   "metadata": {
    "execution": {
     "iopub.execute_input": "2025-05-14T23:02:33.160568Z",
     "iopub.status.busy": "2025-05-14T23:02:33.160230Z",
     "iopub.status.idle": "2025-05-14T23:02:33.166013Z",
     "shell.execute_reply": "2025-05-14T23:02:33.164984Z"
    },
    "papermill": {
     "duration": 0.048682,
     "end_time": "2025-05-14T23:02:33.168039",
     "exception": false,
     "start_time": "2025-05-14T23:02:33.119357",
     "status": "completed"
    },
    "tags": []
   },
   "outputs": [],
   "source": [
    "# Initialize OIKANClassifier\n",
    "model = OIKANClassifier(\n",
    "    hidden_sizes=[32, 32],\n",
    "    activation='relu',\n",
    "    augmentation_factor=10,\n",
    "    alpha=0.1,\n",
    "    sigma=0.1,\n",
    "    epochs=100,\n",
    "    lr=0.001,\n",
    "    batch_size=32,\n",
    "    top_k=10,\n",
    "    evaluate_nn=False,\n",
    "    verbose=True\n",
    ")"
   ]
  },
  {
   "cell_type": "code",
   "execution_count": 8,
   "id": "c3098193",
   "metadata": {
    "execution": {
     "iopub.execute_input": "2025-05-14T23:02:33.248102Z",
     "iopub.status.busy": "2025-05-14T23:02:33.247689Z",
     "iopub.status.idle": "2025-05-14T23:02:37.639373Z",
     "shell.execute_reply": "2025-05-14T23:02:37.638213Z"
    },
    "papermill": {
     "duration": 4.433479,
     "end_time": "2025-05-14T23:02:37.641209",
     "exception": false,
     "start_time": "2025-05-14T23:02:33.207730",
     "status": "completed"
    },
    "tags": []
   },
   "outputs": [
    {
     "name": "stderr",
     "output_type": "stream",
     "text": [
      "/usr/local/lib/python3.11/dist-packages/oikan/model.py:290: UserWarning: To copy construct from a tensor, it is recommended to use sourceTensor.clone().detach() or sourceTensor.clone().detach().requires_grad_(True), rather than torch.tensor(sourceTensor).\n",
      "  torch.tensor(y, dtype=torch.float32))\n",
      "Training: 100%|██████████| 100/100 [00:01<00:00, 87.37it/s, loss=0.1065]\n",
      "/usr/local/lib/python3.11/dist-packages/sklearn/linear_model/_coordinate_descent.py:631: ConvergenceWarning: Objective did not converge. You might want to increase the number of iterations, check the scale of the features or consider increasing regularisation. Duality gap: 9.116e+01, tolerance: 3.595e+00\n",
      "  model = cd_fast.enet_coordinate_descent(\n",
      "/usr/local/lib/python3.11/dist-packages/sklearn/linear_model/_coordinate_descent.py:631: ConvergenceWarning: Objective did not converge. You might want to increase the number of iterations, check the scale of the features or consider increasing regularisation. Duality gap: 1.589e+01, tolerance: 6.342e-01\n",
      "  model = cd_fast.enet_coordinate_descent(\n",
      "/usr/local/lib/python3.11/dist-packages/sklearn/linear_model/_coordinate_descent.py:631: ConvergenceWarning: Objective did not converge. You might want to increase the number of iterations, check the scale of the features or consider increasing regularisation. Duality gap: 4.060e+01, tolerance: 2.669e+00\n",
      "  model = cd_fast.enet_coordinate_descent(\n",
      "/usr/local/lib/python3.11/dist-packages/sklearn/linear_model/_coordinate_descent.py:631: ConvergenceWarning: Objective did not converge. You might want to increase the number of iterations, check the scale of the features or consider increasing regularisation. Duality gap: 1.464e+02, tolerance: 3.595e+00\n",
      "  model = cd_fast.enet_coordinate_descent(\n",
      "/usr/local/lib/python3.11/dist-packages/sklearn/linear_model/_coordinate_descent.py:631: ConvergenceWarning: Objective did not converge. You might want to increase the number of iterations, check the scale of the features or consider increasing regularisation. Duality gap: 2.929e+01, tolerance: 6.342e-01\n",
      "  model = cd_fast.enet_coordinate_descent(\n"
     ]
    },
    {
     "name": "stdout",
     "output_type": "stream",
     "text": [
      "Original data: features shape: (120, 4) | target shape: (120,)\n",
      "Augmented data: features shape: (1200, 4) | target shape: (1200, 3)\n"
     ]
    },
    {
     "name": "stderr",
     "output_type": "stream",
     "text": [
      "/usr/local/lib/python3.11/dist-packages/sklearn/linear_model/_coordinate_descent.py:631: ConvergenceWarning: Objective did not converge. You might want to increase the number of iterations, check the scale of the features or consider increasing regularisation. Duality gap: 1.239e+02, tolerance: 2.669e+00\n",
      "  model = cd_fast.enet_coordinate_descent(\n"
     ]
    }
   ],
   "source": [
    "# Fit the model\n",
    "model.fit(X_train, y_train)"
   ]
  },
  {
   "cell_type": "code",
   "execution_count": 9,
   "id": "cb1a1e3e",
   "metadata": {
    "execution": {
     "iopub.execute_input": "2025-05-14T23:02:37.732310Z",
     "iopub.status.busy": "2025-05-14T23:02:37.731969Z",
     "iopub.status.idle": "2025-05-14T23:02:37.749222Z",
     "shell.execute_reply": "2025-05-14T23:02:37.748305Z"
    },
    "papermill": {
     "duration": 0.064196,
     "end_time": "2025-05-14T23:02:37.750801",
     "exception": false,
     "start_time": "2025-05-14T23:02:37.686605",
     "status": "completed"
    },
    "tags": []
   },
   "outputs": [
    {
     "name": "stdout",
     "output_type": "stream",
     "text": [
      "[1 0 2 1 1 0 1 2 1 1 2 0 0 0 0 1 2 1 1 2 0 2 0 2 2 2 2 2 0 0]\n"
     ]
    }
   ],
   "source": [
    "# Make predictions\n",
    "y_pred = model.predict(X_test)\n",
    "print(y_pred)"
   ]
  },
  {
   "cell_type": "code",
   "execution_count": 10,
   "id": "4e63ac7b",
   "metadata": {
    "execution": {
     "iopub.execute_input": "2025-05-14T23:02:37.842644Z",
     "iopub.status.busy": "2025-05-14T23:02:37.841660Z",
     "iopub.status.idle": "2025-05-14T23:02:37.849390Z",
     "shell.execute_reply": "2025-05-14T23:02:37.848407Z"
    },
    "papermill": {
     "duration": 0.055539,
     "end_time": "2025-05-14T23:02:37.850949",
     "exception": false,
     "start_time": "2025-05-14T23:02:37.795410",
     "status": "completed"
    },
    "tags": []
   },
   "outputs": [
    {
     "name": "stdout",
     "output_type": "stream",
     "text": [
      "Accuracy: 1.0000\n"
     ]
    }
   ],
   "source": [
    "# Evaluate accuracy\n",
    "accuracy = accuracy_score(y_test, y_pred)\n",
    "print(f\"Accuracy: {accuracy:.4f}\")"
   ]
  },
  {
   "cell_type": "code",
   "execution_count": 11,
   "id": "23760254",
   "metadata": {
    "execution": {
     "iopub.execute_input": "2025-05-14T23:02:37.943495Z",
     "iopub.status.busy": "2025-05-14T23:02:37.943119Z",
     "iopub.status.idle": "2025-05-14T23:02:37.963668Z",
     "shell.execute_reply": "2025-05-14T23:02:37.962263Z"
    },
    "papermill": {
     "duration": 0.069239,
     "end_time": "2025-05-14T23:02:37.965513",
     "exception": false,
     "start_time": "2025-05-14T23:02:37.896274",
     "status": "completed"
    },
    "tags": []
   },
   "outputs": [
    {
     "name": "stdout",
     "output_type": "stream",
     "text": [
      "\n",
      "Classification Report:\n",
      "              precision    recall  f1-score   support\n",
      "\n",
      "           0       1.00      1.00      1.00        10\n",
      "           1       1.00      1.00      1.00         9\n",
      "           2       1.00      1.00      1.00        11\n",
      "\n",
      "    accuracy                           1.00        30\n",
      "   macro avg       1.00      1.00      1.00        30\n",
      "weighted avg       1.00      1.00      1.00        30\n",
      "\n"
     ]
    }
   ],
   "source": [
    "# Print classification report\n",
    "print(\"\\nClassification Report:\")\n",
    "print(classification_report(y_test, y_pred))"
   ]
  },
  {
   "cell_type": "code",
   "execution_count": 12,
   "id": "8aaae977",
   "metadata": {
    "execution": {
     "iopub.execute_input": "2025-05-14T23:02:38.057446Z",
     "iopub.status.busy": "2025-05-14T23:02:38.057074Z",
     "iopub.status.idle": "2025-05-14T23:02:38.062944Z",
     "shell.execute_reply": "2025-05-14T23:02:38.061916Z"
    },
    "papermill": {
     "duration": 0.052888,
     "end_time": "2025-05-14T23:02:38.064455",
     "exception": false,
     "start_time": "2025-05-14T23:02:38.011567",
     "status": "completed"
    },
    "tags": []
   },
   "outputs": [
    {
     "name": "stdout",
     "output_type": "stream",
     "text": [
      "\n",
      "Symbolic Formulas:\n",
      "Class 0: 0.274668*x0 + 0.076111*x0^2 + 0.048240*x0 x1 + -0.267496*x0 x2 + -0.173120*x0 x3 + 0.606642*x1^2 + -0.163064*x1 x2 + -0.188301*x2^2 + 0.005589*x2^3 + 0.005265*exp_x2 + 0.243424*sin_x2 + 0.011370*x0^3 + -0.000764*exp_x0 + 0.001960*x1^3 + -0.079094*exp_x1\n",
      "Class 1: 0.039987*x0^2 + 0.131826*x0 x2 + 0.161510*x1 x2 + -0.048085*x2^3 + 0.005046*exp_x2 + 0.000203*x0^3 + -0.000071*exp_x0 + -0.010228*x1^3 + -0.000807*exp_x1 + -0.070888*x3^3\n",
      "Class 2: -0.344981*x0 + -0.010224*x1 + -0.088667*x0^2 + -0.046945*x0 x1 + 0.129855*x0 x2 + 0.201329*x0 x3 + -0.359172*x1^2 + 0.220650*x2^2 + 0.037321*x2 x3 + 0.018206*x2^3 + -0.007576*exp_x2 + -0.010013*x0^3 + 0.000722*exp_x0 + -0.011198*x1^3 + 0.064336*exp_x1\n"
     ]
    }
   ],
   "source": [
    "# Get symbolic formulas for each class\n",
    "print(\"\\nSymbolic Formulas:\")\n",
    "formulas = model.get_formula()\n",
    "for formula in formulas:\n",
    "    print(formula)"
   ]
  },
  {
   "cell_type": "code",
   "execution_count": 13,
   "id": "d224481b",
   "metadata": {
    "execution": {
     "iopub.execute_input": "2025-05-14T23:02:38.156223Z",
     "iopub.status.busy": "2025-05-14T23:02:38.155888Z",
     "iopub.status.idle": "2025-05-14T23:02:38.161817Z",
     "shell.execute_reply": "2025-05-14T23:02:38.160631Z"
    },
    "papermill": {
     "duration": 0.053365,
     "end_time": "2025-05-14T23:02:38.163305",
     "exception": false,
     "start_time": "2025-05-14T23:02:38.109940",
     "status": "completed"
    },
    "tags": []
   },
   "outputs": [
    {
     "name": "stdout",
     "output_type": "stream",
     "text": [
      "\n",
      "Feature Importances:\n",
      "[0.3341444  0.28293799 0.29556912 0.08734849]\n"
     ]
    }
   ],
   "source": [
    "# Get feature importances\n",
    "print(\"\\nFeature Importances:\")\n",
    "importances = model.feature_importances()\n",
    "print(importances)"
   ]
  },
  {
   "cell_type": "code",
   "execution_count": 14,
   "id": "2387784a",
   "metadata": {
    "execution": {
     "iopub.execute_input": "2025-05-14T23:02:38.254309Z",
     "iopub.status.busy": "2025-05-14T23:02:38.253862Z",
     "iopub.status.idle": "2025-05-14T23:02:38.561941Z",
     "shell.execute_reply": "2025-05-14T23:02:38.561011Z"
    },
    "papermill": {
     "duration": 0.355324,
     "end_time": "2025-05-14T23:02:38.563571",
     "exception": false,
     "start_time": "2025-05-14T23:02:38.208247",
     "status": "completed"
    },
    "tags": []
   },
   "outputs": [
    {
     "data": {
      "image/png": "[encoded data removed]",
      "text/plain": [
       "<Figure size 800x600 with 1 Axes>"
      ]
     },
     "metadata": {},
     "output_type": "display_data"
    }
   ],
   "source": [
    "# Plot feature importances\n",
    "plt.figure(figsize=(8, 6))\n",
    "plt.bar(feature_names, importances, color='green')\n",
    "plt.xlabel('Features')\n",
    "plt.ylabel('Importance')\n",
    "plt.title('Feature Importances for Iris Dataset (OIKANClassifier)')\n",
    "plt.xticks(rotation=45, ha='right')\n",
    "plt.tight_layout()\n",
    "plt.show()"
   ]
  },
  {
   "cell_type": "code",
   "execution_count": 15,
   "id": "c4a657e1",
   "metadata": {
    "execution": {
     "iopub.execute_input": "2025-05-14T23:02:38.657430Z",
     "iopub.status.busy": "2025-05-14T23:02:38.657085Z",
     "iopub.status.idle": "2025-05-14T23:02:38.663139Z",
     "shell.execute_reply": "2025-05-14T23:02:38.662053Z"
    },
    "papermill": {
     "duration": 0.054065,
     "end_time": "2025-05-14T23:02:38.664647",
     "exception": false,
     "start_time": "2025-05-14T23:02:38.610582",
     "status": "completed"
    },
    "tags": []
   },
   "outputs": [
    {
     "name": "stdout",
     "output_type": "stream",
     "text": [
      "Model saved to outputs/iris_model.json\n"
     ]
    }
   ],
   "source": [
    "# Save the model\n",
    "model.save(\"outputs/iris_model.json\")"
   ]
  },
  {
   "cell_type": "code",
   "execution_count": 16,
   "id": "f364cf77",
   "metadata": {
    "execution": {
     "iopub.execute_input": "2025-05-14T23:02:38.758303Z",
     "iopub.status.busy": "2025-05-14T23:02:38.757972Z",
     "iopub.status.idle": "2025-05-14T23:02:38.763340Z",
     "shell.execute_reply": "2025-05-14T23:02:38.762403Z"
    },
    "papermill": {
     "duration": 0.05393,
     "end_time": "2025-05-14T23:02:38.765120",
     "exception": false,
     "start_time": "2025-05-14T23:02:38.711190",
     "status": "completed"
    },
    "tags": []
   },
   "outputs": [],
   "source": [
    "# Load the model\n",
    "loaded_model = OIKANClassifier()\n",
    "loaded_model.load(\"outputs/iris_model.json\")"
   ]
  },
  {
   "cell_type": "code",
   "execution_count": 17,
   "id": "df4b563f",
   "metadata": {
    "execution": {
     "iopub.execute_input": "2025-05-14T23:02:38.861233Z",
     "iopub.status.busy": "2025-05-14T23:02:38.860389Z",
     "iopub.status.idle": "2025-05-14T23:02:38.865972Z",
     "shell.execute_reply": "2025-05-14T23:02:38.864793Z"
    },
    "papermill": {
     "duration": 0.056255,
     "end_time": "2025-05-14T23:02:38.867564",
     "exception": false,
     "start_time": "2025-05-14T23:02:38.811309",
     "status": "completed"
    },
    "tags": []
   },
   "outputs": [
    {
     "name": "stdout",
     "output_type": "stream",
     "text": [
      "Original Formulas:\n",
      "Class 0: 0.274668*x0 + 0.076111*x0^2 + 0.048240*x0 x1 + -0.267496*x0 x2 + -0.173120*x0 x3 + 0.606642*x1^2 + -0.163064*x1 x2 + -0.188301*x2^2 + 0.005589*x2^3 + 0.005265*exp_x2 + 0.243424*sin_x2 + 0.011370*x0^3 + -0.000764*exp_x0 + 0.001960*x1^3 + -0.079094*exp_x1\n",
      "Class 1: 0.039987*x0^2 + 0.131826*x0 x2 + 0.161510*x1 x2 + -0.048085*x2^3 + 0.005046*exp_x2 + 0.000203*x0^3 + -0.000071*exp_x0 + -0.010228*x1^3 + -0.000807*exp_x1 + -0.070888*x3^3\n",
      "Class 2: -0.344981*x0 + -0.010224*x1 + -0.088667*x0^2 + -0.046945*x0 x1 + 0.129855*x0 x2 + 0.201329*x0 x3 + -0.359172*x1^2 + 0.220650*x2^2 + 0.037321*x2 x3 + 0.018206*x2^3 + -0.007576*exp_x2 + -0.010013*x0^3 + 0.000722*exp_x0 + -0.011198*x1^3 + 0.064336*exp_x1\n"
     ]
    }
   ],
   "source": [
    "# Original formulas\n",
    "print(\"Original Formulas:\")\n",
    "formulas_loaded = loaded_model.get_formula(type='original')\n",
    "for formula in formulas_loaded:\n",
    "    print(formula)"
   ]
  },
  {
   "cell_type": "code",
   "execution_count": 18,
   "id": "b630def9",
   "metadata": {
    "execution": {
     "iopub.execute_input": "2025-05-14T23:02:38.966112Z",
     "iopub.status.busy": "2025-05-14T23:02:38.965717Z",
     "iopub.status.idle": "2025-05-14T23:02:41.834978Z",
     "shell.execute_reply": "2025-05-14T23:02:41.833711Z"
    },
    "papermill": {
     "duration": 2.92115,
     "end_time": "2025-05-14T23:02:41.836608",
     "exception": false,
     "start_time": "2025-05-14T23:02:38.915458",
     "status": "completed"
    },
    "tags": []
   },
   "outputs": [
    {
     "name": "stdout",
     "output_type": "stream",
     "text": [
      "\n",
      "Simplified Formulas:\n",
      "Class 0: 0.24342*sin(x2) + 0.00196*x1**3 + 0.27467*x0 + 0.00527*exp(x2) + 0.01137*x0**3 + 0.60664*x1**2 + 0.07611*x0**2 + 0.00559*x2**3 - 0.18830*x2**2 - 0.07909*exp(x1) - 0.00076*exp(x0) + 0.04824*x0*x1 - 0.16306*x1*x2 - 0.26750*x0*x2 - 0.17312*x0*x3\n",
      "Class 1: 0.00020*x0**3 + 0.03999*x0**2 + 0.00505*exp(x2) - 0.00007*exp(x0) - 0.07089*x3**3 - 0.01023*x1**3 - 0.04809*x2**3 - 0.00081*exp(x1) + 0.16151*x1*x2 + 0.13183*x0*x2\n",
      "Class 2: 0.22065*x2**2 + 0.06434*exp(x1) + 0.01821*x2**3 + 0.00072*exp(x0) - 0.01120*x1**3 - 0.01001*x0**3 - 0.34498*x0 - 0.00758*exp(x2) - 0.01022*x1 - 0.08867*x0**2 - 0.35917*x1**2 + 0.03732*x2*x3 + 0.12985*x0*x2 + 0.20133*x0*x3 - 0.04694*x0*x1\n"
     ]
    }
   ],
   "source": [
    "# Simplified formulas\n",
    "print(\"\\nSimplified Formulas:\")\n",
    "simplified_formulas = loaded_model.get_formula(type='sympy')\n",
    "for formula in simplified_formulas:\n",
    "    print(formula)"
   ]
  },
  {
   "cell_type": "code",
   "execution_count": 19,
   "id": "68a59548",
   "metadata": {
    "execution": {
     "iopub.execute_input": "2025-05-14T23:02:41.931532Z",
     "iopub.status.busy": "2025-05-14T23:02:41.931159Z",
     "iopub.status.idle": "2025-05-14T23:02:41.985233Z",
     "shell.execute_reply": "2025-05-14T23:02:41.984148Z"
    },
    "papermill": {
     "duration": 0.103852,
     "end_time": "2025-05-14T23:02:41.987140",
     "exception": false,
     "start_time": "2025-05-14T23:02:41.883288",
     "status": "completed"
    },
    "tags": []
   },
   "outputs": [
    {
     "name": "stdout",
     "output_type": "stream",
     "text": [
      "\n",
      "LaTeX Formulas:\n",
      "Class 0: 0.01137 x_{0}^{3} + 0.07611 x_{0}^{2} + 0.04824 x_{0} x_{1} - 0.2675 x_{0} x_{2} - 0.17312 x_{0} x_{3} + 0.27467 x_{0} + 0.00196 x_{1}^{3} + 0.60664 x_{1}^{2} - 0.16306 x_{1} x_{2} + 0.00559 x_{2}^{3} - 0.1883 x_{2}^{2} - 0.00076 e^{x_{0}} - 0.07909 e^{x_{1}} + 0.00527 e^{x_{2}} + 0.24342 \\sin{\\left(x_{2} \\right)}\n",
      "Class 1: 0.0002 x_{0}^{3} + 0.03999 x_{0}^{2} + 0.13183 x_{0} x_{2} - 0.01023 x_{1}^{3} + 0.16151 x_{1} x_{2} - 0.04809 x_{2}^{3} - 0.07089 x_{3}^{3} - 7.0 \\cdot 10^{-5} e^{x_{0}} - 0.00081 e^{x_{1}} + 0.00505 e^{x_{2}}\n",
      "Class 2: - 0.01001 x_{0}^{3} - 0.08867 x_{0}^{2} - 0.04694 x_{0} x_{1} + 0.12985 x_{0} x_{2} + 0.20133 x_{0} x_{3} - 0.34498 x_{0} - 0.0112 x_{1}^{3} - 0.35917 x_{1}^{2} - 0.01022 x_{1} + 0.01821 x_{2}^{3} + 0.22065 x_{2}^{2} + 0.03732 x_{2} x_{3} + 0.00072 e^{x_{0}} + 0.06434 e^{x_{1}} - 0.00758 e^{x_{2}}\n"
     ]
    }
   ],
   "source": [
    "# LaTeX formulas\n",
    "print(\"\\nLaTeX Formulas:\")\n",
    "latex_formulas = loaded_model.get_formula(type='latex')\n",
    "for formula in latex_formulas:\n",
    "    print(formula)"
   ]
  },
  {
   "cell_type": "markdown",
   "id": "0300ae22",
   "metadata": {
    "papermill": {
     "duration": 0.045742,
     "end_time": "2025-05-14T23:02:42.080137",
     "exception": false,
     "start_time": "2025-05-14T23:02:42.034395",
     "status": "completed"
    },
    "tags": []
   },
   "source": [
    "# 3. Regression: California Housing Dataset"
   ]
  },
  {
   "cell_type": "code",
   "execution_count": 20,
   "id": "97ecf438",
   "metadata": {
    "execution": {
     "iopub.execute_input": "2025-05-14T23:02:42.174789Z",
     "iopub.status.busy": "2025-05-14T23:02:42.173642Z",
     "iopub.status.idle": "2025-05-14T23:02:42.180369Z",
     "shell.execute_reply": "2025-05-14T23:02:42.179251Z"
    },
    "papermill": {
     "duration": 0.055753,
     "end_time": "2025-05-14T23:02:42.181879",
     "exception": false,
     "start_time": "2025-05-14T23:02:42.126126",
     "status": "completed"
    },
    "tags": []
   },
   "outputs": [],
   "source": [
    "# Import necessary libraries\n",
    "from sklearn.datasets import fetch_california_housing\n",
    "from sklearn.model_selection import train_test_split\n",
    "from sklearn.metrics import mean_squared_error, r2_score\n",
    "from oikan import OIKANRegressor\n",
    "import matplotlib.pyplot as plt\n",
    "%matplotlib inline"
   ]
  },
  {
   "cell_type": "code",
   "execution_count": 21,
   "id": "bbea45ac",
   "metadata": {
    "execution": {
     "iopub.execute_input": "2025-05-14T23:02:42.278473Z",
     "iopub.status.busy": "2025-05-14T23:02:42.278122Z",
     "iopub.status.idle": "2025-05-14T23:02:43.519374Z",
     "shell.execute_reply": "2025-05-14T23:02:43.518480Z"
    },
    "papermill": {
     "duration": 1.292281,
     "end_time": "2025-05-14T23:02:43.521103",
     "exception": false,
     "start_time": "2025-05-14T23:02:42.228822",
     "status": "completed"
    },
    "tags": []
   },
   "outputs": [],
   "source": [
    "# Load California Housing dataset\n",
    "data = fetch_california_housing()\n",
    "X, y = data.data, data.target\n",
    "feature_names = data.feature_names"
   ]
  },
  {
   "cell_type": "code",
   "execution_count": 22,
   "id": "db365521",
   "metadata": {
    "execution": {
     "iopub.execute_input": "2025-05-14T23:02:43.624364Z",
     "iopub.status.busy": "2025-05-14T23:02:43.623808Z",
     "iopub.status.idle": "2025-05-14T23:02:43.633779Z",
     "shell.execute_reply": "2025-05-14T23:02:43.632755Z"
    },
    "papermill": {
     "duration": 0.065333,
     "end_time": "2025-05-14T23:02:43.636220",
     "exception": false,
     "start_time": "2025-05-14T23:02:43.570887",
     "status": "completed"
    },
    "tags": []
   },
   "outputs": [],
   "source": [
    "# Split into training and testing sets\n",
    "X_train, X_test, y_train, y_test = train_test_split(X, y, test_size=0.2, random_state=42)"
   ]
  },
  {
   "cell_type": "code",
   "execution_count": 23,
   "id": "1ab84f01",
   "metadata": {
    "execution": {
     "iopub.execute_input": "2025-05-14T23:02:43.735865Z",
     "iopub.status.busy": "2025-05-14T23:02:43.734815Z",
     "iopub.status.idle": "2025-05-14T23:02:43.741889Z",
     "shell.execute_reply": "2025-05-14T23:02:43.740627Z"
    },
    "papermill": {
     "duration": 0.058118,
     "end_time": "2025-05-14T23:02:43.744229",
     "exception": false,
     "start_time": "2025-05-14T23:02:43.686111",
     "status": "completed"
    },
    "tags": []
   },
   "outputs": [],
   "source": [
    "# Initialize OIKANRegressor\n",
    "from oikan import OIKANRegressor\n",
    "model = OIKANRegressor(\n",
    "    hidden_sizes=[32, 32],\n",
    "    activation='relu',\n",
    "    augmentation_factor=5,\n",
    "    alpha=0.1,\n",
    "    sigma=0.1,\n",
    "    epochs=100,\n",
    "    lr=0.001,\n",
    "    batch_size=32,\n",
    "    top_k=10,\n",
    "    evaluate_nn=False,\n",
    "    verbose=True\n",
    ")"
   ]
  },
  {
   "cell_type": "code",
   "execution_count": 24,
   "id": "80aaa9da",
   "metadata": {
    "execution": {
     "iopub.execute_input": "2025-05-14T23:02:43.852207Z",
     "iopub.status.busy": "2025-05-14T23:02:43.851825Z",
     "iopub.status.idle": "2025-05-14T23:04:19.420228Z",
     "shell.execute_reply": "2025-05-14T23:04:19.419276Z"
    },
    "papermill": {
     "duration": 95.61983,
     "end_time": "2025-05-14T23:04:19.422161",
     "exception": false,
     "start_time": "2025-05-14T23:02:43.802331",
     "status": "completed"
    },
    "tags": []
   },
   "outputs": [
    {
     "name": "stderr",
     "output_type": "stream",
     "text": [
      "Training: 100%|██████████| 100/100 [01:28<00:00,  1.13it/s, loss=0.4450]\n"
     ]
    },
    {
     "name": "stdout",
     "output_type": "stream",
     "text": [
      "Original data: features shape: (16512, 8) | target shape: (16512, 1)\n",
      "Augmented data: features shape: (82560, 8) | target shape: (82560, 1)\n"
     ]
    },
    {
     "name": "stderr",
     "output_type": "stream",
     "text": [
      "/usr/local/lib/python3.11/dist-packages/sklearn/linear_model/_coordinate_descent.py:631: ConvergenceWarning: Objective did not converge. You might want to increase the number of iterations, check the scale of the features or consider increasing regularisation. Duality gap: 6.753e+03, tolerance: 3.979e+01\n",
      "  model = cd_fast.enet_coordinate_descent(\n",
      "/usr/local/lib/python3.11/dist-packages/sklearn/linear_model/_coordinate_descent.py:631: ConvergenceWarning: Objective did not converge. You might want to increase the number of iterations, check the scale of the features or consider increasing regularisation. Duality gap: 5.079e+03, tolerance: 3.979e+01\n",
      "  model = cd_fast.enet_coordinate_descent(\n"
     ]
    }
   ],
   "source": [
    "# Fit the model\n",
    "model.fit(X_train, y_train)"
   ]
  },
  {
   "cell_type": "code",
   "execution_count": 25,
   "id": "06497b13",
   "metadata": {
    "execution": {
     "iopub.execute_input": "2025-05-14T23:04:19.587311Z",
     "iopub.status.busy": "2025-05-14T23:04:19.586908Z",
     "iopub.status.idle": "2025-05-14T23:04:19.595804Z",
     "shell.execute_reply": "2025-05-14T23:04:19.594830Z"
    },
    "papermill": {
     "duration": 0.075153,
     "end_time": "2025-05-14T23:04:19.597306",
     "exception": false,
     "start_time": "2025-05-14T23:04:19.522153",
     "status": "completed"
    },
    "tags": []
   },
   "outputs": [
    {
     "name": "stdout",
     "output_type": "stream",
     "text": [
      "[0.33575473 1.12348425 2.55532374 ... 3.94359974 1.06253175 1.42608905]\n"
     ]
    }
   ],
   "source": [
    "# Make predictions\n",
    "y_pred = model.predict(X_test)\n",
    "print(y_pred)"
   ]
  },
  {
   "cell_type": "code",
   "execution_count": 26,
   "id": "f79dd221",
   "metadata": {
    "execution": {
     "iopub.execute_input": "2025-05-14T23:04:19.715997Z",
     "iopub.status.busy": "2025-05-14T23:04:19.715638Z",
     "iopub.status.idle": "2025-05-14T23:04:19.723657Z",
     "shell.execute_reply": "2025-05-14T23:04:19.722624Z"
    },
    "papermill": {
     "duration": 0.067499,
     "end_time": "2025-05-14T23:04:19.725204",
     "exception": false,
     "start_time": "2025-05-14T23:04:19.657705",
     "status": "completed"
    },
    "tags": []
   },
   "outputs": [
    {
     "name": "stdout",
     "output_type": "stream",
     "text": [
      "Mean Squared Error: 0.7298\n",
      "R^2 Score: 0.4431\n"
     ]
    }
   ],
   "source": [
    "# Evaluate performance\n",
    "mse = mean_squared_error(y_test, y_pred)\n",
    "r2 = r2_score(y_test, y_pred)\n",
    "print(f\"Mean Squared Error: {mse:.4f}\")\n",
    "print(f\"R^2 Score: {r2:.4f}\")"
   ]
  },
  {
   "cell_type": "code",
   "execution_count": 27,
   "id": "8bc9c65a",
   "metadata": {
    "execution": {
     "iopub.execute_input": "2025-05-14T23:04:19.841807Z",
     "iopub.status.busy": "2025-05-14T23:04:19.841416Z",
     "iopub.status.idle": "2025-05-14T23:04:19.846941Z",
     "shell.execute_reply": "2025-05-14T23:04:19.845847Z"
    },
    "papermill": {
     "duration": 0.066312,
     "end_time": "2025-05-14T23:04:19.848592",
     "exception": false,
     "start_time": "2025-05-14T23:04:19.782280",
     "status": "completed"
    },
    "tags": []
   },
   "outputs": [
    {
     "name": "stdout",
     "output_type": "stream",
     "text": [
      "\n",
      "Symbolic Formula:\n",
      "0.023590*x1 + 0.000443*x4 + -0.004924*x7 + 0.058613*x0^2 + 0.002920*x0 x1 + 0.000023*x0 x4 + 0.006020*x0 x5 + 0.001722*x0 x6 + -0.000683*x0 x7 + -0.000947*x1^2 + -0.000761*x1 x2 + 0.000003*x1 x4 + -0.000956*x1 x5 + -0.000288*x1 x6 + -0.000064*x1 x7 + 0.002711*x2^2 + -0.000030*x2 x4 + -0.003952*x2 x6 + 0.000218*x2 x7 + 0.000014*x3 x4 + -0.003814*x3 x7 + 0.000015*x4 x5 + -0.000001*x4 x6 + 0.000003*x4 x7 + 0.000173*x5^2 + 0.000259*x5 x6 + 0.001149*x5 x7 + 0.000265*x6^2 + -0.000055*x6 x7 + 0.000018*x7^2 + 0.000015*x1^3 + 0.000002*exp_x1 + -0.003508*x0^3 + -0.000018*exp_x0 + 0.000047*exp_x5 + 0.206907*sin_x5 + -0.000007*x2^3 + 0.000014*exp_x2 + -0.000017*x6^3 + 0.000015*exp_x6 + -0.000788*x3^3 + -0.000060*exp_x3 + -0.000024*exp_x4\n"
     ]
    }
   ],
   "source": [
    "# Get symbolic formula\n",
    "print(\"\\nSymbolic Formula:\")\n",
    "formula = model.get_formula()\n",
    "print(formula)"
   ]
  },
  {
   "cell_type": "code",
   "execution_count": 28,
   "id": "00f52ba0",
   "metadata": {
    "execution": {
     "iopub.execute_input": "2025-05-14T23:04:19.965318Z",
     "iopub.status.busy": "2025-05-14T23:04:19.964700Z",
     "iopub.status.idle": "2025-05-14T23:04:19.970998Z",
     "shell.execute_reply": "2025-05-14T23:04:19.969834Z"
    },
    "papermill": {
     "duration": 0.066533,
     "end_time": "2025-05-14T23:04:19.972610",
     "exception": false,
     "start_time": "2025-05-14T23:04:19.906077",
     "status": "completed"
    },
    "tags": []
   },
   "outputs": [
    {
     "name": "stdout",
     "output_type": "stream",
     "text": [
      "\n",
      "Feature Importances:\n",
      "[0.21061665 0.08466014 0.02204204 0.01339852 0.00159237 0.61753723\n",
      " 0.01884272 0.03131033]\n"
     ]
    }
   ],
   "source": [
    "# Get feature importances\n",
    "print(\"\\nFeature Importances:\")\n",
    "importances = model.feature_importances()\n",
    "print(importances)"
   ]
  },
  {
   "cell_type": "code",
   "execution_count": 29,
   "id": "b3693e18",
   "metadata": {
    "execution": {
     "iopub.execute_input": "2025-05-14T23:04:20.090231Z",
     "iopub.status.busy": "2025-05-14T23:04:20.089413Z",
     "iopub.status.idle": "2025-05-14T23:04:20.310057Z",
     "shell.execute_reply": "2025-05-14T23:04:20.309019Z"
    },
    "papermill": {
     "duration": 0.281049,
     "end_time": "2025-05-14T23:04:20.311824",
     "exception": false,
     "start_time": "2025-05-14T23:04:20.030775",
     "status": "completed"
    },
    "tags": []
   },
   "outputs": [
    {
     "data": {
      "image/png": "[encoded data removed]",
      "text/plain": [
       "<Figure size 800x600 with 1 Axes>"
      ]
     },
     "metadata": {},
     "output_type": "display_data"
    }
   ],
   "source": [
    "# Plot feature importances\n",
    "plt.figure(figsize=(8, 6))\n",
    "plt.bar(feature_names, importances, color='green')\n",
    "plt.xlabel('Features')\n",
    "plt.ylabel('Importance')\n",
    "plt.title('Feature Importances for California Housing Dataset (OIKANRegressor)')\n",
    "plt.xticks(rotation=45, ha='right')\n",
    "plt.tight_layout()\n",
    "plt.show()"
   ]
  },
  {
   "cell_type": "code",
   "execution_count": 30,
   "id": "6d979615",
   "metadata": {
    "execution": {
     "iopub.execute_input": "2025-05-14T23:04:20.431911Z",
     "iopub.status.busy": "2025-05-14T23:04:20.431534Z",
     "iopub.status.idle": "2025-05-14T23:04:20.437571Z",
     "shell.execute_reply": "2025-05-14T23:04:20.436691Z"
    },
    "papermill": {
     "duration": 0.068596,
     "end_time": "2025-05-14T23:04:20.439289",
     "exception": false,
     "start_time": "2025-05-14T23:04:20.370693",
     "status": "completed"
    },
    "tags": []
   },
   "outputs": [
    {
     "name": "stdout",
     "output_type": "stream",
     "text": [
      "Model saved to outputs/california_housing_model.json\n"
     ]
    }
   ],
   "source": [
    "# Save the model\n",
    "model.save(\"outputs/california_housing_model.json\")"
   ]
  },
  {
   "cell_type": "code",
   "execution_count": 31,
   "id": "70dabbfa",
   "metadata": {
    "execution": {
     "iopub.execute_input": "2025-05-14T23:04:20.560017Z",
     "iopub.status.busy": "2025-05-14T23:04:20.559642Z",
     "iopub.status.idle": "2025-05-14T23:04:20.565487Z",
     "shell.execute_reply": "2025-05-14T23:04:20.564475Z"
    },
    "papermill": {
     "duration": 0.068896,
     "end_time": "2025-05-14T23:04:20.567548",
     "exception": false,
     "start_time": "2025-05-14T23:04:20.498652",
     "status": "completed"
    },
    "tags": []
   },
   "outputs": [],
   "source": [
    "# Load the model\n",
    "loaded_model = OIKANRegressor()\n",
    "loaded_model.load(\"outputs/california_housing_model.json\")"
   ]
  },
  {
   "cell_type": "code",
   "execution_count": 32,
   "id": "1fa12c4d",
   "metadata": {
    "execution": {
     "iopub.execute_input": "2025-05-14T23:04:20.690430Z",
     "iopub.status.busy": "2025-05-14T23:04:20.690098Z",
     "iopub.status.idle": "2025-05-14T23:04:20.696023Z",
     "shell.execute_reply": "2025-05-14T23:04:20.695057Z"
    },
    "papermill": {
     "duration": 0.068793,
     "end_time": "2025-05-14T23:04:20.697606",
     "exception": false,
     "start_time": "2025-05-14T23:04:20.628813",
     "status": "completed"
    },
    "tags": []
   },
   "outputs": [
    {
     "name": "stdout",
     "output_type": "stream",
     "text": [
      "Original Formula:\n",
      "0.023590*x1 + 0.000443*x4 + -0.004924*x7 + 0.058613*x0^2 + 0.002920*x0 x1 + 0.000023*x0 x4 + 0.006020*x0 x5 + 0.001722*x0 x6 + -0.000683*x0 x7 + -0.000947*x1^2 + -0.000761*x1 x2 + 0.000003*x1 x4 + -0.000956*x1 x5 + -0.000288*x1 x6 + -0.000064*x1 x7 + 0.002711*x2^2 + -0.000030*x2 x4 + -0.003952*x2 x6 + 0.000218*x2 x7 + 0.000014*x3 x4 + -0.003814*x3 x7 + 0.000015*x4 x5 + -0.000001*x4 x6 + 0.000003*x4 x7 + 0.000173*x5^2 + 0.000259*x5 x6 + 0.001149*x5 x7 + 0.000265*x6^2 + -0.000055*x6 x7 + 0.000018*x7^2 + 0.000015*x1^3 + 0.000002*exp_x1 + -0.003508*x0^3 + -0.000018*exp_x0 + 0.000047*exp_x5 + 0.206907*sin_x5 + -0.000007*x2^3 + 0.000014*exp_x2 + -0.000017*x6^3 + 0.000015*exp_x6 + -0.000788*x3^3 + -0.000060*exp_x3 + -0.000024*exp_x4\n"
     ]
    }
   ],
   "source": [
    "# Original formula\n",
    "print(\"Original Formula:\")\n",
    "formula_loaded = loaded_model.get_formula(type='original')\n",
    "print(formula_loaded)"
   ]
  },
  {
   "cell_type": "code",
   "execution_count": 33,
   "id": "20f7f4a0",
   "metadata": {
    "execution": {
     "iopub.execute_input": "2025-05-14T23:04:20.819220Z",
     "iopub.status.busy": "2025-05-14T23:04:20.818893Z",
     "iopub.status.idle": "2025-05-14T23:04:27.282199Z",
     "shell.execute_reply": "2025-05-14T23:04:27.281295Z"
    },
    "papermill": {
     "duration": 6.52607,
     "end_time": "2025-05-14T23:04:27.283891",
     "exception": false,
     "start_time": "2025-05-14T23:04:20.757821",
     "status": "completed"
    },
    "tags": []
   },
   "outputs": [
    {
     "name": "stdout",
     "output_type": "stream",
     "text": [
      "\n",
      "Simplified Formula:\n",
      "0.20691*sin(x5) + 0.05861*x0**2 + 0.00027*x6**2 + 0.00271*x2**2 + 0.00017*x5**2 + 0.02359*x1 + 0.00044*x4 - 0.00351*x0**3 - 0.00095*x1**2 - 0.00492*x7 - 0.00079*x3**3 - 0.00006*exp(x3) + 0.00022*x2*x7 + 0.00026*x5*x6 + 0.00172*x0*x6 + 0.00115*x5*x7 + 0.00292*x0*x1 + 0.00602*x0*x5 - 0.00006*x1*x7 - 0.00381*x3*x7 - 0.00096*x1*x5 - 0.00029*x1*x6 - 0.00006*x6*x7 - 0.00395*x2*x6 - 0.00068*x0*x7 - 0.00076*x1*x2\n"
     ]
    }
   ],
   "source": [
    "# Simplified formula\n",
    "print(\"\\nSimplified Formula:\")\n",
    "simplified_formula = loaded_model.get_formula(type='sympy')\n",
    "print(simplified_formula)"
   ]
  },
  {
   "cell_type": "code",
   "execution_count": 34,
   "id": "0edd0e72",
   "metadata": {
    "execution": {
     "iopub.execute_input": "2025-05-14T23:04:27.411318Z",
     "iopub.status.busy": "2025-05-14T23:04:27.410961Z",
     "iopub.status.idle": "2025-05-14T23:04:27.448477Z",
     "shell.execute_reply": "2025-05-14T23:04:27.447287Z"
    },
    "papermill": {
     "duration": 0.102224,
     "end_time": "2025-05-14T23:04:27.450236",
     "exception": false,
     "start_time": "2025-05-14T23:04:27.348012",
     "status": "completed"
    },
    "tags": []
   },
   "outputs": [
    {
     "name": "stdout",
     "output_type": "stream",
     "text": [
      "\n",
      "LaTeX Formula:\n",
      "- 0.00351 x_{0}^{3} + 0.05861 x_{0}^{2} + 0.00292 x_{0} x_{1} + 0.00602 x_{0} x_{5} + 0.00172 x_{0} x_{6} - 0.00068 x_{0} x_{7} - 0.00095 x_{1}^{2} - 0.00076 x_{1} x_{2} - 0.00096 x_{1} x_{5} - 0.00029 x_{1} x_{6} - 6.0 \\cdot 10^{-5} x_{1} x_{7} + 0.02359 x_{1} + 0.00271 x_{2}^{2} - 0.00395 x_{2} x_{6} + 0.00022 x_{2} x_{7} - 0.00079 x_{3}^{3} - 0.00381 x_{3} x_{7} + 0.00044 x_{4} + 0.00017 x_{5}^{2} + 0.00026 x_{5} x_{6} + 0.00115 x_{5} x_{7} + 0.00027 x_{6}^{2} - 6.0 \\cdot 10^{-5} x_{6} x_{7} - 0.00492 x_{7} - 6.0 \\cdot 10^{-5} e^{x_{3}} + 0.20691 \\sin{\\left(x_{5} \\right)}\n"
     ]
    }
   ],
   "source": [
    "# LaTeX formula\n",
    "print(\"\\nLaTeX Formula:\")\n",
    "latex_formula = loaded_model.get_formula(type='latex')\n",
    "print(latex_formula)"
   ]
  },
  {
   "cell_type": "markdown",
   "id": "e89179de",
   "metadata": {
    "papermill": {
     "duration": 0.058983,
     "end_time": "2025-05-14T23:04:27.569500",
     "exception": false,
     "start_time": "2025-05-14T23:04:27.510517",
     "status": "completed"
    },
    "tags": []
   },
   "source": [
    "### Potential Improvements:\n",
    "\n",
    "* Add data preprocessing & feature engineering steps;\n",
    "* Make visualizations using `matplotlib` / `seaborn`;\n",
    "* Experiment with different hyperparameter values for better performance.\n",
    "\n",
    "\n",
    "🙌 Thank you for using `OIKAN`! "
   ]
  }
 ],
 "metadata": {
  "kaggle": {
   "accelerator": "none",
   "dataSources": [],
   "dockerImageVersionId": 31012,
   "isGpuEnabled": false,
   "isInternetEnabled": true,
   "language": "python",
   "sourceType": "notebook"
  },
  "kernelspec": {
   "display_name": "Python 3",
   "language": "python",
   "name": "python3"
  },
  "language_info": {
   "codemirror_mode": {
    "name": "ipython",
    "version": 3
   },
   "file_extension": ".py",
   "mimetype": "text/x-python",
   "name": "python",
   "nbconvert_exporter": "python",
   "pygments_lexer": "ipython3",
   "version": "3.11.11"
  },
  "papermill": {
   "default_parameters": {},
   "duration": 249.107107,
   "end_time": "2025-05-14T23:04:30.510123",
   "environment_variables": {},
   "exception": null,
   "input_path": "__notebook__.ipynb",
   "output_path": "__notebook__.ipynb",
   "parameters": {},
   "start_time": "2025-05-14T23:00:21.403016",
   "version": "2.6.0"
  }
 },
 "nbformat": 4,
 "nbformat_minor": 5
}
