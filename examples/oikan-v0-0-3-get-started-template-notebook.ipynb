{
 "cells": [
  {
   "cell_type": "markdown",
   "id": "0bbebcb2",
   "metadata": {
    "papermill": {
     "duration": 0.007282,
     "end_time": "2025-05-11T18:48:18.070610",
     "exception": false,
     "start_time": "2025-05-11T18:48:18.063328",
     "status": "completed"
    },
    "tags": []
   },
   "source": [
    "<div style=\"text-align: center;\">\n",
    "  <img src=\"https://github.com/silvermete0r/oikan/blob/main/docs/media/oikan_logo.png?raw=true\" width=\"120\">\n",
    "</div>\n",
    "\n",
    "# OIKAN: Neuro-Symbolic ML for Scientific Discovery\n",
    "\n",
    "OIKAN is a neuro-symbolic machine learning framework inspired by Kolmogorov-Arnold representation theorem. It combines the power of modern neural networks with techniques for extracting clear, interpretable symbolic formulas from data. OIKAN is designed to make machine learning models both accurate and Interpretable.\n",
    "\n",
    "* GitHub: https://github.com/silvermete0r/oikan\n",
    "* PyPI: https://pypi.org/project/oikan/\n",
    "\n",
    "## 👋 Welcome to the OIKAN Get Started Template!\n",
    "\n",
    "This notebook demonstrates how to use the OIKAN v0.0.3 library for both classification and regression tasks. It includes:\n",
    "* Classification using the Iris dataset with `OIKANClassifier`.\n",
    "* Regression using the California Housing dataset with `OIKANRegressor`.\n",
    "* Extracting symbolic formulas, feature importances, and saving/loading models."
   ]
  },
  {
   "cell_type": "markdown",
   "id": "088a9edd",
   "metadata": {
    "papermill": {
     "duration": 0.005634,
     "end_time": "2025-05-11T18:48:18.082589",
     "exception": false,
     "start_time": "2025-05-11T18:48:18.076955",
     "status": "completed"
    },
    "tags": []
   },
   "source": [
    "# 1. Setup and Installation"
   ]
  },
  {
   "cell_type": "code",
   "execution_count": 1,
   "id": "5ad3b083",
   "metadata": {
    "_cell_guid": "b1076dfc-b9ad-4769-8c92-a6c4dae69d19",
    "_uuid": "8f2839f25d086af736a60e9eeb907d3b93b6e0e5",
    "execution": {
     "iopub.execute_input": "2025-05-11T18:48:18.097276Z",
     "iopub.status.busy": "2025-05-11T18:48:18.096908Z",
     "iopub.status.idle": "2025-05-11T18:50:00.953567Z",
     "shell.execute_reply": "2025-05-11T18:50:00.951865Z"
    },
    "papermill": {
     "duration": 102.866434,
     "end_time": "2025-05-11T18:50:00.956317",
     "exception": false,
     "start_time": "2025-05-11T18:48:18.089883",
     "status": "completed"
    },
    "tags": []
   },
   "outputs": [
    {
     "name": "stdout",
     "output_type": "stream",
     "text": [
      "\u001b[2K   \u001b[90m━━━━━━━━━━━━━━━━━━━━━━━━━━━━━━━━━━━━━━━━\u001b[0m \u001b[32m363.4/363.4 MB\u001b[0m \u001b[31m3.7 MB/s\u001b[0m eta \u001b[36m0:00:00\u001b[0m\r\n",
      "\u001b[2K   \u001b[90m━━━━━━━━━━━━━━━━━━━━━━━━━━━━━━━━━━━━━━━━\u001b[0m \u001b[32m664.8/664.8 MB\u001b[0m \u001b[31m1.7 MB/s\u001b[0m eta \u001b[36m0:00:00\u001b[0m\r\n",
      "\u001b[2K   \u001b[90m━━━━━━━━━━━━━━━━━━━━━━━━━━━━━━━━━━━━━━━━\u001b[0m \u001b[32m211.5/211.5 MB\u001b[0m \u001b[31m7.2 MB/s\u001b[0m eta \u001b[36m0:00:00\u001b[0m\r\n",
      "\u001b[2K   \u001b[90m━━━━━━━━━━━━━━━━━━━━━━━━━━━━━━━━━━━━━━━━\u001b[0m \u001b[32m56.3/56.3 MB\u001b[0m \u001b[31m24.1 MB/s\u001b[0m eta \u001b[36m0:00:00\u001b[0m\r\n",
      "\u001b[2K   \u001b[90m━━━━━━━━━━━━━━━━━━━━━━━━━━━━━━━━━━━━━━━━\u001b[0m \u001b[32m127.9/127.9 MB\u001b[0m \u001b[31m12.7 MB/s\u001b[0m eta \u001b[36m0:00:00\u001b[0m\r\n",
      "\u001b[2K   \u001b[90m━━━━━━━━━━━━━━━━━━━━━━━━━━━━━━━━━━━━━━━━\u001b[0m \u001b[32m207.5/207.5 MB\u001b[0m \u001b[31m7.1 MB/s\u001b[0m eta \u001b[36m0:00:00\u001b[0m\r\n",
      "\u001b[2K   \u001b[90m━━━━━━━━━━━━━━━━━━━━━━━━━━━━━━━━━━━━━━━━\u001b[0m \u001b[32m21.1/21.1 MB\u001b[0m \u001b[31m58.7 MB/s\u001b[0m eta \u001b[36m0:00:00\u001b[0m\r\n",
      "\u001b[?25h\u001b[31mERROR: pip's dependency resolver does not currently take into account all the packages that are installed. This behaviour is the source of the following dependency conflicts.\r\n",
      "pylibcugraph-cu12 24.12.0 requires pylibraft-cu12==24.12.*, but you have pylibraft-cu12 25.2.0 which is incompatible.\r\n",
      "pylibcugraph-cu12 24.12.0 requires rmm-cu12==24.12.*, but you have rmm-cu12 25.2.0 which is incompatible.\u001b[0m\u001b[31m\r\n",
      "\u001b[0m"
     ]
    }
   ],
   "source": [
    "# Install OIKAN v0.0.3 quietly\n",
    "!pip install -qU oikan"
   ]
  },
  {
   "cell_type": "code",
   "execution_count": 2,
   "id": "f48facc3",
   "metadata": {
    "execution": {
     "iopub.execute_input": "2025-05-11T18:50:01.029135Z",
     "iopub.status.busy": "2025-05-11T18:50:01.028650Z",
     "iopub.status.idle": "2025-05-11T18:50:03.545366Z",
     "shell.execute_reply": "2025-05-11T18:50:03.544058Z"
    },
    "papermill": {
     "duration": 2.55617,
     "end_time": "2025-05-11T18:50:03.547441",
     "exception": false,
     "start_time": "2025-05-11T18:50:00.991271",
     "status": "completed"
    },
    "tags": []
   },
   "outputs": [
    {
     "name": "stdout",
     "output_type": "stream",
     "text": [
      "oikan==0.0.3.5\r\n"
     ]
    }
   ],
   "source": [
    "# (Optional) Verify installation\n",
    "!pip freeze | grep oikan"
   ]
  },
  {
   "cell_type": "code",
   "execution_count": 3,
   "id": "3a4edc3b",
   "metadata": {
    "execution": {
     "iopub.execute_input": "2025-05-11T18:50:03.613825Z",
     "iopub.status.busy": "2025-05-11T18:50:03.613454Z",
     "iopub.status.idle": "2025-05-11T18:50:03.738380Z",
     "shell.execute_reply": "2025-05-11T18:50:03.736815Z"
    },
    "papermill": {
     "duration": 0.160528,
     "end_time": "2025-05-11T18:50:03.740367",
     "exception": false,
     "start_time": "2025-05-11T18:50:03.579839",
     "status": "completed"
    },
    "tags": []
   },
   "outputs": [],
   "source": [
    "# (Optional) Create output directory for saving models\n",
    "!mkdir -p outputs"
   ]
  },
  {
   "cell_type": "markdown",
   "id": "2afe7067",
   "metadata": {
    "papermill": {
     "duration": 0.031637,
     "end_time": "2025-05-11T18:50:03.804957",
     "exception": false,
     "start_time": "2025-05-11T18:50:03.773320",
     "status": "completed"
    },
    "tags": []
   },
   "source": [
    "# 2. Classification: Iris Dataset"
   ]
  },
  {
   "cell_type": "code",
   "execution_count": 4,
   "id": "01582de8",
   "metadata": {
    "execution": {
     "iopub.execute_input": "2025-05-11T18:50:03.872196Z",
     "iopub.status.busy": "2025-05-11T18:50:03.871826Z",
     "iopub.status.idle": "2025-05-11T18:50:13.649631Z",
     "shell.execute_reply": "2025-05-11T18:50:13.648640Z"
    },
    "papermill": {
     "duration": 9.814823,
     "end_time": "2025-05-11T18:50:13.651488",
     "exception": false,
     "start_time": "2025-05-11T18:50:03.836665",
     "status": "completed"
    },
    "tags": []
   },
   "outputs": [],
   "source": [
    "# Import necessary libraries\n",
    "from sklearn.datasets import load_iris\n",
    "from sklearn.model_selection import train_test_split\n",
    "from sklearn.metrics import accuracy_score, classification_report\n",
    "from oikan import OIKANClassifier\n",
    "import matplotlib.pyplot as plt\n",
    "%matplotlib inline"
   ]
  },
  {
   "cell_type": "code",
   "execution_count": 5,
   "id": "adea9737",
   "metadata": {
    "execution": {
     "iopub.execute_input": "2025-05-11T18:50:13.839745Z",
     "iopub.status.busy": "2025-05-11T18:50:13.838711Z",
     "iopub.status.idle": "2025-05-11T18:50:13.852613Z",
     "shell.execute_reply": "2025-05-11T18:50:13.851434Z"
    },
    "papermill": {
     "duration": 0.051229,
     "end_time": "2025-05-11T18:50:13.854562",
     "exception": false,
     "start_time": "2025-05-11T18:50:13.803333",
     "status": "completed"
    },
    "tags": []
   },
   "outputs": [],
   "source": [
    "# Load Iris dataset\n",
    "data = load_iris()\n",
    "X, y = data.data, data.target\n",
    "feature_names = data.feature_names"
   ]
  },
  {
   "cell_type": "code",
   "execution_count": 6,
   "id": "388c0fa4",
   "metadata": {
    "execution": {
     "iopub.execute_input": "2025-05-11T18:50:13.923494Z",
     "iopub.status.busy": "2025-05-11T18:50:13.923064Z",
     "iopub.status.idle": "2025-05-11T18:50:13.934922Z",
     "shell.execute_reply": "2025-05-11T18:50:13.934043Z"
    },
    "papermill": {
     "duration": 0.04892,
     "end_time": "2025-05-11T18:50:13.936691",
     "exception": false,
     "start_time": "2025-05-11T18:50:13.887771",
     "status": "completed"
    },
    "tags": []
   },
   "outputs": [],
   "source": [
    "# Split into training and testing sets\n",
    "X_train, X_test, y_train, y_test = train_test_split(X, y, test_size=0.2, random_state=42)"
   ]
  },
  {
   "cell_type": "code",
   "execution_count": 7,
   "id": "e6e87abb",
   "metadata": {
    "execution": {
     "iopub.execute_input": "2025-05-11T18:50:14.004915Z",
     "iopub.status.busy": "2025-05-11T18:50:14.004504Z",
     "iopub.status.idle": "2025-05-11T18:50:14.011049Z",
     "shell.execute_reply": "2025-05-11T18:50:14.010131Z"
    },
    "papermill": {
     "duration": 0.043105,
     "end_time": "2025-05-11T18:50:14.012640",
     "exception": false,
     "start_time": "2025-05-11T18:50:13.969535",
     "status": "completed"
    },
    "tags": []
   },
   "outputs": [],
   "source": [
    "# Initialize OIKANClassifier\n",
    "model = OIKANClassifier(\n",
    "    hidden_sizes=[32, 32],\n",
    "    activation='relu',\n",
    "    augmentation_factor=10,\n",
    "    alpha=0.1,\n",
    "    sigma=0.1,\n",
    "    epochs=100,\n",
    "    lr=0.001,\n",
    "    batch_size=32,\n",
    "    top_k=10,\n",
    "    evaluate_nn=False,\n",
    "    verbose=True\n",
    ")"
   ]
  },
  {
   "cell_type": "code",
   "execution_count": 8,
   "id": "ac8ddd04",
   "metadata": {
    "execution": {
     "iopub.execute_input": "2025-05-11T18:50:14.080685Z",
     "iopub.status.busy": "2025-05-11T18:50:14.080227Z",
     "iopub.status.idle": "2025-05-11T18:50:18.467062Z",
     "shell.execute_reply": "2025-05-11T18:50:18.465933Z"
    },
    "papermill": {
     "duration": 4.422406,
     "end_time": "2025-05-11T18:50:18.468791",
     "exception": false,
     "start_time": "2025-05-11T18:50:14.046385",
     "status": "completed"
    },
    "tags": []
   },
   "outputs": [
    {
     "name": "stderr",
     "output_type": "stream",
     "text": [
      "/usr/local/lib/python3.11/dist-packages/oikan/model.py:290: UserWarning: To copy construct from a tensor, it is recommended to use sourceTensor.clone().detach() or sourceTensor.clone().detach().requires_grad_(True), rather than torch.tensor(sourceTensor).\n",
      "  torch.tensor(y, dtype=torch.float32))\n",
      "Training: 100%|██████████| 100/100 [00:01<00:00, 88.25it/s, loss=0.0845]\n",
      "/usr/local/lib/python3.11/dist-packages/sklearn/linear_model/_coordinate_descent.py:631: ConvergenceWarning: Objective did not converge. You might want to increase the number of iterations, check the scale of the features or consider increasing regularisation. Duality gap: 2.006e+02, tolerance: 5.915e+00\n",
      "  model = cd_fast.enet_coordinate_descent(\n",
      "/usr/local/lib/python3.11/dist-packages/sklearn/linear_model/_coordinate_descent.py:631: ConvergenceWarning: Objective did not converge. You might want to increase the number of iterations, check the scale of the features or consider increasing regularisation. Duality gap: 7.844e+00, tolerance: 1.491e+00\n",
      "  model = cd_fast.enet_coordinate_descent(\n",
      "/usr/local/lib/python3.11/dist-packages/sklearn/linear_model/_coordinate_descent.py:631: ConvergenceWarning: Objective did not converge. You might want to increase the number of iterations, check the scale of the features or consider increasing regularisation. Duality gap: 2.258e+02, tolerance: 7.014e+00\n",
      "  model = cd_fast.enet_coordinate_descent(\n",
      "/usr/local/lib/python3.11/dist-packages/sklearn/linear_model/_coordinate_descent.py:631: ConvergenceWarning: Objective did not converge. You might want to increase the number of iterations, check the scale of the features or consider increasing regularisation. Duality gap: 2.764e+02, tolerance: 5.915e+00\n",
      "  model = cd_fast.enet_coordinate_descent(\n",
      "/usr/local/lib/python3.11/dist-packages/sklearn/linear_model/_coordinate_descent.py:631: ConvergenceWarning: Objective did not converge. You might want to increase the number of iterations, check the scale of the features or consider increasing regularisation. Duality gap: 5.375e+01, tolerance: 1.491e+00\n",
      "  model = cd_fast.enet_coordinate_descent(\n"
     ]
    },
    {
     "name": "stdout",
     "output_type": "stream",
     "text": [
      "Original data: features shape: (120, 4) | target shape: (120,)\n",
      "Augmented data: features shape: (1200, 4) | target shape: (1200, 3)\n"
     ]
    },
    {
     "name": "stderr",
     "output_type": "stream",
     "text": [
      "/usr/local/lib/python3.11/dist-packages/sklearn/linear_model/_coordinate_descent.py:631: ConvergenceWarning: Objective did not converge. You might want to increase the number of iterations, check the scale of the features or consider increasing regularisation. Duality gap: 2.970e+02, tolerance: 7.014e+00\n",
      "  model = cd_fast.enet_coordinate_descent(\n"
     ]
    }
   ],
   "source": [
    "# Fit the model\n",
    "model.fit(X_train, y_train)"
   ]
  },
  {
   "cell_type": "code",
   "execution_count": 9,
   "id": "17641a38",
   "metadata": {
    "execution": {
     "iopub.execute_input": "2025-05-11T18:50:18.550839Z",
     "iopub.status.busy": "2025-05-11T18:50:18.550476Z",
     "iopub.status.idle": "2025-05-11T18:50:18.566406Z",
     "shell.execute_reply": "2025-05-11T18:50:18.565458Z"
    },
    "papermill": {
     "duration": 0.060073,
     "end_time": "2025-05-11T18:50:18.568228",
     "exception": false,
     "start_time": "2025-05-11T18:50:18.508155",
     "status": "completed"
    },
    "tags": []
   },
   "outputs": [],
   "source": [
    "# Make predictions\n",
    "y_pred = model.predict(X_test)"
   ]
  },
  {
   "cell_type": "code",
   "execution_count": 10,
   "id": "01411142",
   "metadata": {
    "execution": {
     "iopub.execute_input": "2025-05-11T18:50:18.650024Z",
     "iopub.status.busy": "2025-05-11T18:50:18.649339Z",
     "iopub.status.idle": "2025-05-11T18:50:18.656176Z",
     "shell.execute_reply": "2025-05-11T18:50:18.655242Z"
    },
    "papermill": {
     "duration": 0.050736,
     "end_time": "2025-05-11T18:50:18.657657",
     "exception": false,
     "start_time": "2025-05-11T18:50:18.606921",
     "status": "completed"
    },
    "tags": []
   },
   "outputs": [
    {
     "name": "stdout",
     "output_type": "stream",
     "text": [
      "Accuracy: 1.0000\n"
     ]
    }
   ],
   "source": [
    "# Evaluate accuracy\n",
    "accuracy = accuracy_score(y_test, y_pred)\n",
    "print(f\"Accuracy: {accuracy:.4f}\")"
   ]
  },
  {
   "cell_type": "code",
   "execution_count": 11,
   "id": "805eba2d",
   "metadata": {
    "execution": {
     "iopub.execute_input": "2025-05-11T18:50:18.741850Z",
     "iopub.status.busy": "2025-05-11T18:50:18.741495Z",
     "iopub.status.idle": "2025-05-11T18:50:18.758555Z",
     "shell.execute_reply": "2025-05-11T18:50:18.757338Z"
    },
    "papermill": {
     "duration": 0.06075,
     "end_time": "2025-05-11T18:50:18.760186",
     "exception": false,
     "start_time": "2025-05-11T18:50:18.699436",
     "status": "completed"
    },
    "tags": []
   },
   "outputs": [
    {
     "name": "stdout",
     "output_type": "stream",
     "text": [
      "\n",
      "Classification Report:\n",
      "              precision    recall  f1-score   support\n",
      "\n",
      "           0       1.00      1.00      1.00        10\n",
      "           1       1.00      1.00      1.00         9\n",
      "           2       1.00      1.00      1.00        11\n",
      "\n",
      "    accuracy                           1.00        30\n",
      "   macro avg       1.00      1.00      1.00        30\n",
      "weighted avg       1.00      1.00      1.00        30\n",
      "\n"
     ]
    }
   ],
   "source": [
    "# Print classification report\n",
    "print(\"\\nClassification Report:\")\n",
    "print(classification_report(y_test, y_pred))"
   ]
  },
  {
   "cell_type": "code",
   "execution_count": 12,
   "id": "c8036870",
   "metadata": {
    "execution": {
     "iopub.execute_input": "2025-05-11T18:50:18.841819Z",
     "iopub.status.busy": "2025-05-11T18:50:18.841409Z",
     "iopub.status.idle": "2025-05-11T18:50:18.847513Z",
     "shell.execute_reply": "2025-05-11T18:50:18.846414Z"
    },
    "papermill": {
     "duration": 0.048565,
     "end_time": "2025-05-11T18:50:18.849086",
     "exception": false,
     "start_time": "2025-05-11T18:50:18.800521",
     "status": "completed"
    },
    "tags": []
   },
   "outputs": [
    {
     "name": "stdout",
     "output_type": "stream",
     "text": [
      "\n",
      "Symbolic Formulas:\n",
      "Class 0 Formula: Class 0: 0.502330*x0 + 0.047963*x1 + 0.068156*x0^2 + 0.060449*x0 x1 + -0.348062*x0 x2 + -0.302223*x0 x3 + 0.788278*x1^2 + -0.205325*x1 x2 + -0.123608*x1 x3 + -0.158860*x2^2 + 0.020679*x0^3 + -0.001237*exp_x0 + -0.104283*exp_x1 + 0.000461*x2^3 + 0.006598*exp_x2 + 0.370910*sin_x2 + 0.007158*x3^3\n",
      "Class 1 Formula: Class 1: 0.095236*x0 + 0.164205*x0^2 + 0.029835*x0 x1 + 0.002185*x0 x2 + 0.101242*x1 x2 + -0.016630*x2^2 + -0.123284*x2 x3 + -0.007198*x0^3 + -0.000386*exp_x0 + -0.003938*exp_x1 + -0.026264*x2^3 + 0.004455*exp_x2 + -0.037553*x3^3\n",
      "Class 2 Formula: Class 2: -0.713402*x0 + -0.156225*x1 + -0.109722*x0^2 + -0.039182*x0 x1 + 0.293238*x0 x2 + 0.401316*x0 x3 + -0.732060*x1^2 + 0.093550*x1 x2 + 0.104036*x1 x3 + 0.216042*x2^2 + -0.020035*x0^3 + 0.001268*exp_x0 + 0.100670*exp_x1 + 0.014878*x2^3 + -0.008931*exp_x2 + -0.299646*sin_x2\n"
     ]
    }
   ],
   "source": [
    "# Get symbolic formulas for each class\n",
    "print(\"\\nSymbolic Formulas:\")\n",
    "formulas = model.get_formula()\n",
    "for i, formula in enumerate(formulas):\n",
    "    print(f\"Class {i} Formula: {formula}\")"
   ]
  },
  {
   "cell_type": "code",
   "execution_count": 13,
   "id": "64f6189d",
   "metadata": {
    "execution": {
     "iopub.execute_input": "2025-05-11T18:50:18.928759Z",
     "iopub.status.busy": "2025-05-11T18:50:18.928423Z",
     "iopub.status.idle": "2025-05-11T18:50:18.934431Z",
     "shell.execute_reply": "2025-05-11T18:50:18.933386Z"
    },
    "papermill": {
     "duration": 0.048511,
     "end_time": "2025-05-11T18:50:18.936013",
     "exception": false,
     "start_time": "2025-05-11T18:50:18.887502",
     "status": "completed"
    },
    "tags": []
   },
   "outputs": [
    {
     "name": "stdout",
     "output_type": "stream",
     "text": [
      "\n",
      "Feature Importances:\n",
      "[0.34342276 0.29054357 0.24734127 0.1186924 ]\n"
     ]
    }
   ],
   "source": [
    "# Get feature importances\n",
    "print(\"\\nFeature Importances:\")\n",
    "importances = model.feature_importances()\n",
    "print(importances)"
   ]
  },
  {
   "cell_type": "code",
   "execution_count": 14,
   "id": "a511dd43",
   "metadata": {
    "execution": {
     "iopub.execute_input": "2025-05-11T18:50:19.014031Z",
     "iopub.status.busy": "2025-05-11T18:50:19.013661Z",
     "iopub.status.idle": "2025-05-11T18:50:19.304340Z",
     "shell.execute_reply": "2025-05-11T18:50:19.303323Z"
    },
    "papermill": {
     "duration": 0.331279,
     "end_time": "2025-05-11T18:50:19.306239",
     "exception": false,
     "start_time": "2025-05-11T18:50:18.974960",
     "status": "completed"
    },
    "tags": []
   },
   "outputs": [
    {
     "data": {
      "image/png": "[encoded data removed]",
      "text/plain": [
       "<Figure size 800x600 with 1 Axes>"
      ]
     },
     "metadata": {},
     "output_type": "display_data"
    }
   ],
   "source": [
    "# Plot feature importances\n",
    "plt.figure(figsize=(8, 6))\n",
    "plt.bar(feature_names, importances, color='green')\n",
    "plt.xlabel('Features')\n",
    "plt.ylabel('Importance')\n",
    "plt.title('Feature Importances for Iris Dataset (OIKANClassifier)')\n",
    "plt.xticks(rotation=45, ha='right')\n",
    "plt.tight_layout()\n",
    "plt.show()"
   ]
  },
  {
   "cell_type": "code",
   "execution_count": 15,
   "id": "d48506eb",
   "metadata": {
    "execution": {
     "iopub.execute_input": "2025-05-11T18:50:19.387688Z",
     "iopub.status.busy": "2025-05-11T18:50:19.387358Z",
     "iopub.status.idle": "2025-05-11T18:50:19.393063Z",
     "shell.execute_reply": "2025-05-11T18:50:19.392113Z"
    },
    "papermill": {
     "duration": 0.046972,
     "end_time": "2025-05-11T18:50:19.394517",
     "exception": false,
     "start_time": "2025-05-11T18:50:19.347545",
     "status": "completed"
    },
    "tags": []
   },
   "outputs": [
    {
     "name": "stdout",
     "output_type": "stream",
     "text": [
      "Model saved to outputs/iris_model.json\n"
     ]
    }
   ],
   "source": [
    "# Save the model\n",
    "model.save(\"outputs/iris_model.json\")"
   ]
  },
  {
   "cell_type": "code",
   "execution_count": 16,
   "id": "8e533860",
   "metadata": {
    "execution": {
     "iopub.execute_input": "2025-05-11T18:50:19.475788Z",
     "iopub.status.busy": "2025-05-11T18:50:19.474916Z",
     "iopub.status.idle": "2025-05-11T18:50:19.479763Z",
     "shell.execute_reply": "2025-05-11T18:50:19.478992Z"
    },
    "papermill": {
     "duration": 0.046966,
     "end_time": "2025-05-11T18:50:19.481626",
     "exception": false,
     "start_time": "2025-05-11T18:50:19.434660",
     "status": "completed"
    },
    "tags": []
   },
   "outputs": [],
   "source": [
    "# Load the model\n",
    "loaded_model = OIKANClassifier()\n",
    "loaded_model.load(\"outputs/iris_model.json\")"
   ]
  },
  {
   "cell_type": "code",
   "execution_count": 17,
   "id": "6b3a35fc",
   "metadata": {
    "execution": {
     "iopub.execute_input": "2025-05-11T18:50:19.564518Z",
     "iopub.status.busy": "2025-05-11T18:50:19.564152Z",
     "iopub.status.idle": "2025-05-11T18:50:19.570369Z",
     "shell.execute_reply": "2025-05-11T18:50:19.569186Z"
    },
    "papermill": {
     "duration": 0.050578,
     "end_time": "2025-05-11T18:50:19.571930",
     "exception": false,
     "start_time": "2025-05-11T18:50:19.521352",
     "status": "completed"
    },
    "tags": []
   },
   "outputs": [
    {
     "name": "stdout",
     "output_type": "stream",
     "text": [
      "Original Formulas:\n",
      "Class 0: Class 0: 0.502330*x0 + 0.047963*x1 + 0.068156*x0^2 + 0.060449*x0 x1 + -0.348062*x0 x2 + -0.302223*x0 x3 + 0.788278*x1^2 + -0.205325*x1 x2 + -0.123608*x1 x3 + -0.158860*x2^2 + 0.020679*x0^3 + -0.001237*exp_x0 + -0.104283*exp_x1 + 0.000461*x2^3 + 0.006598*exp_x2 + 0.370910*sin_x2 + 0.007158*x3^3\n",
      "Class 1: Class 1: 0.095236*x0 + 0.164205*x0^2 + 0.029835*x0 x1 + 0.002185*x0 x2 + 0.101242*x1 x2 + -0.016630*x2^2 + -0.123284*x2 x3 + -0.007198*x0^3 + -0.000386*exp_x0 + -0.003938*exp_x1 + -0.026264*x2^3 + 0.004455*exp_x2 + -0.037553*x3^3\n",
      "Class 2: Class 2: -0.713402*x0 + -0.156225*x1 + -0.109722*x0^2 + -0.039182*x0 x1 + 0.293238*x0 x2 + 0.401316*x0 x3 + -0.732060*x1^2 + 0.093550*x1 x2 + 0.104036*x1 x3 + 0.216042*x2^2 + -0.020035*x0^3 + 0.001268*exp_x0 + 0.100670*exp_x1 + 0.014878*x2^3 + -0.008931*exp_x2 + -0.299646*sin_x2\n"
     ]
    }
   ],
   "source": [
    "# Original formulas\n",
    "print(\"Original Formulas:\")\n",
    "formulas_loaded = loaded_model.get_formula(type='original')\n",
    "for i, formula in enumerate(formulas_loaded):\n",
    "    print(f\"Class {i}: {formula}\")"
   ]
  },
  {
   "cell_type": "code",
   "execution_count": 18,
   "id": "e0021c5f",
   "metadata": {
    "execution": {
     "iopub.execute_input": "2025-05-11T18:50:19.651564Z",
     "iopub.status.busy": "2025-05-11T18:50:19.651190Z",
     "iopub.status.idle": "2025-05-11T18:50:27.484441Z",
     "shell.execute_reply": "2025-05-11T18:50:27.483348Z"
    },
    "papermill": {
     "duration": 7.874978,
     "end_time": "2025-05-11T18:50:27.486170",
     "exception": false,
     "start_time": "2025-05-11T18:50:19.611192",
     "status": "completed"
    },
    "tags": []
   },
   "outputs": [
    {
     "name": "stdout",
     "output_type": "stream",
     "text": [
      "\n",
      "Simplified Formulas:\n",
      "Class 0: Class 0: 0.04796*x1 + 0.00046*x2**3 + 0.00660*exp(x2) + 0.00716*x3**3 + 0.06816*x0**2 + 0.02068*x0**3 + 0.50233*x0 + 0.37091*sin(x2) + 0.78828*x1**2 - 0.00124*exp(x0) - 0.10428*exp(x1) - 0.15886*x2**2 + 0.06045*x0*x1 - 0.30222*x0*x3 - 0.20533*x1*x2 - 0.34806*x0*x2 - 0.12361*x1*x3\n",
      "Class 1: Class 1: 0.00445*exp(x2) + 0.16421*x0**2 + 0.09524*x0 - 0.00394*exp(x1) - 0.02626*x2**3 - 0.00720*x0**3 - 0.01663*x2**2 - 0.03755*x3**3 - 0.00039*exp(x0) + 0.00218*x0*x2 + 0.10124*x1*x2 + 0.02983*x0*x1 - 0.12328*x2*x3\n",
      "Class 2: Class 2: 0.21604*x2**2 + 0.01488*x2**3 + 0.00127*exp(x0) + 0.10067*exp(x1) - 0.29965*sin(x2) - 0.00893*exp(x2) - 0.15623*x1 - 0.02004*x0**3 - 0.71340*x0 - 0.73206*x1**2 - 0.10972*x0**2 + 0.09355*x1*x2 + 0.10404*x1*x3 + 0.29324*x0*x2 + 0.40132*x0*x3 - 0.03918*x0*x1\n"
     ]
    }
   ],
   "source": [
    "# Simplified formulas\n",
    "print(\"\\nSimplified Formulas:\")\n",
    "simplified_formulas = loaded_model.get_formula(type='sympy')\n",
    "for i, formula in enumerate(simplified_formulas):\n",
    "    print(f\"Class {i}: {formula}\")"
   ]
  },
  {
   "cell_type": "code",
   "execution_count": 19,
   "id": "ad228ce1",
   "metadata": {
    "execution": {
     "iopub.execute_input": "2025-05-11T18:50:27.567295Z",
     "iopub.status.busy": "2025-05-11T18:50:27.566844Z",
     "iopub.status.idle": "2025-05-11T18:50:27.627224Z",
     "shell.execute_reply": "2025-05-11T18:50:27.625751Z"
    },
    "papermill": {
     "duration": 0.102968,
     "end_time": "2025-05-11T18:50:27.628905",
     "exception": false,
     "start_time": "2025-05-11T18:50:27.525937",
     "status": "completed"
    },
    "tags": []
   },
   "outputs": [
    {
     "name": "stdout",
     "output_type": "stream",
     "text": [
      "\n",
      "LaTeX Formulas:\n",
      "Class 0: Class 0: 0.02068 x_{0}^{3} + 0.06816 x_{0}^{2} + 0.06045 x_{0} x_{1} - 0.34806 x_{0} x_{2} - 0.30222 x_{0} x_{3} + 0.50233 x_{0} + 0.78828 x_{1}^{2} - 0.20533 x_{1} x_{2} - 0.12361 x_{1} x_{3} + 0.04796 x_{1} + 0.00046 x_{2}^{3} - 0.15886 x_{2}^{2} + 0.00716 x_{3}^{3} - 0.00124 e^{x_{0}} - 0.10428 e^{x_{1}} + 0.0066 e^{x_{2}} + 0.37091 \\sin{\\left(x_{2} \\right)}\n",
      "Class 1: Class 1: - 0.0072 x_{0}^{3} + 0.16421 x_{0}^{2} + 0.02983 x_{0} x_{1} + 0.00218 x_{0} x_{2} + 0.09524 x_{0} + 0.10124 x_{1} x_{2} - 0.02626 x_{2}^{3} - 0.01663 x_{2}^{2} - 0.12328 x_{2} x_{3} - 0.03755 x_{3}^{3} - 0.00039 e^{x_{0}} - 0.00394 e^{x_{1}} + 0.00445 e^{x_{2}}\n",
      "Class 2: Class 2: - 0.02004 x_{0}^{3} - 0.10972 x_{0}^{2} - 0.03918 x_{0} x_{1} + 0.29324 x_{0} x_{2} + 0.40132 x_{0} x_{3} - 0.7134 x_{0} - 0.73206 x_{1}^{2} + 0.09355 x_{1} x_{2} + 0.10404 x_{1} x_{3} - 0.15623 x_{1} + 0.01488 x_{2}^{3} + 0.21604 x_{2}^{2} + 0.00127 e^{x_{0}} + 0.10067 e^{x_{1}} - 0.00893 e^{x_{2}} - 0.29965 \\sin{\\left(x_{2} \\right)}\n"
     ]
    }
   ],
   "source": [
    "# LaTeX formulas\n",
    "print(\"\\nLaTeX Formulas:\")\n",
    "latex_formulas = loaded_model.get_formula(type='latex')\n",
    "for i, formula in enumerate(latex_formulas):\n",
    "    print(f\"Class {i}: {formula}\")"
   ]
  },
  {
   "cell_type": "markdown",
   "id": "1ce1885b",
   "metadata": {
    "papermill": {
     "duration": 0.039064,
     "end_time": "2025-05-11T18:50:27.707780",
     "exception": false,
     "start_time": "2025-05-11T18:50:27.668716",
     "status": "completed"
    },
    "tags": []
   },
   "source": [
    "# 3. Regression: California Housing Dataset"
   ]
  },
  {
   "cell_type": "code",
   "execution_count": 20,
   "id": "22ae1d2a",
   "metadata": {
    "execution": {
     "iopub.execute_input": "2025-05-11T18:50:27.787270Z",
     "iopub.status.busy": "2025-05-11T18:50:27.786868Z",
     "iopub.status.idle": "2025-05-11T18:50:27.792792Z",
     "shell.execute_reply": "2025-05-11T18:50:27.791965Z"
    },
    "papermill": {
     "duration": 0.047618,
     "end_time": "2025-05-11T18:50:27.794222",
     "exception": false,
     "start_time": "2025-05-11T18:50:27.746604",
     "status": "completed"
    },
    "tags": []
   },
   "outputs": [],
   "source": [
    "# Import necessary libraries\n",
    "from sklearn.datasets import fetch_california_housing\n",
    "from sklearn.model_selection import train_test_split\n",
    "from sklearn.metrics import mean_squared_error, r2_score\n",
    "from oikan import OIKANRegressor\n",
    "import matplotlib.pyplot as plt\n",
    "%matplotlib inline"
   ]
  },
  {
   "cell_type": "code",
   "execution_count": 21,
   "id": "24088888",
   "metadata": {
    "execution": {
     "iopub.execute_input": "2025-05-11T18:50:27.875028Z",
     "iopub.status.busy": "2025-05-11T18:50:27.874662Z",
     "iopub.status.idle": "2025-05-11T18:50:29.645499Z",
     "shell.execute_reply": "2025-05-11T18:50:29.643801Z"
    },
    "papermill": {
     "duration": 1.813817,
     "end_time": "2025-05-11T18:50:29.648255",
     "exception": false,
     "start_time": "2025-05-11T18:50:27.834438",
     "status": "completed"
    },
    "tags": []
   },
   "outputs": [],
   "source": [
    "# Load California Housing dataset\n",
    "data = fetch_california_housing()\n",
    "X, y = data.data, data.target\n",
    "feature_names = data.feature_names"
   ]
  },
  {
   "cell_type": "code",
   "execution_count": 22,
   "id": "92519e68",
   "metadata": {
    "execution": {
     "iopub.execute_input": "2025-05-11T18:50:29.743070Z",
     "iopub.status.busy": "2025-05-11T18:50:29.742712Z",
     "iopub.status.idle": "2025-05-11T18:50:29.750406Z",
     "shell.execute_reply": "2025-05-11T18:50:29.749543Z"
    },
    "papermill": {
     "duration": 0.049578,
     "end_time": "2025-05-11T18:50:29.751888",
     "exception": false,
     "start_time": "2025-05-11T18:50:29.702310",
     "status": "completed"
    },
    "tags": []
   },
   "outputs": [],
   "source": [
    "# Split into training and testing sets\n",
    "X_train, X_test, y_train, y_test = train_test_split(X, y, test_size=0.2, random_state=42)"
   ]
  },
  {
   "cell_type": "code",
   "execution_count": 23,
   "id": "75c51b6c",
   "metadata": {
    "execution": {
     "iopub.execute_input": "2025-05-11T18:50:29.832651Z",
     "iopub.status.busy": "2025-05-11T18:50:29.832252Z",
     "iopub.status.idle": "2025-05-11T18:50:29.838088Z",
     "shell.execute_reply": "2025-05-11T18:50:29.837293Z"
    },
    "papermill": {
     "duration": 0.048594,
     "end_time": "2025-05-11T18:50:29.839859",
     "exception": false,
     "start_time": "2025-05-11T18:50:29.791265",
     "status": "completed"
    },
    "tags": []
   },
   "outputs": [],
   "source": [
    "# Initialize OIKANRegressor\n",
    "model = OIKANRegressor(\n",
    "    hidden_sizes=[32, 32],\n",
    "    activation='relu',\n",
    "    augmentation_factor=1,\n",
    "    alpha=0.1,\n",
    "    sigma=0.1,\n",
    "    epochs=100,\n",
    "    lr=0.001,\n",
    "    batch_size=32,\n",
    "    top_k=10,\n",
    "    evaluate_nn=False,\n",
    "    verbose=True\n",
    ")"
   ]
  },
  {
   "cell_type": "code",
   "execution_count": 24,
   "id": "6d398539",
   "metadata": {
    "execution": {
     "iopub.execute_input": "2025-05-11T18:50:29.919605Z",
     "iopub.status.busy": "2025-05-11T18:50:29.919244Z",
     "iopub.status.idle": "2025-05-11T18:51:55.191017Z",
     "shell.execute_reply": "2025-05-11T18:51:55.188917Z"
    },
    "papermill": {
     "duration": 85.314024,
     "end_time": "2025-05-11T18:51:55.192875",
     "exception": false,
     "start_time": "2025-05-11T18:50:29.878851",
     "status": "completed"
    },
    "tags": []
   },
   "outputs": [
    {
     "name": "stderr",
     "output_type": "stream",
     "text": [
      "Training: 100%|██████████| 100/100 [01:24<00:00,  1.19it/s, loss=0.4432]\n"
     ]
    },
    {
     "name": "stdout",
     "output_type": "stream",
     "text": [
      "Original data: features shape: (16512, 8) | target shape: (16512, 1)\n",
      "Augmented data: features shape: (16512, 8) | target shape: (16512, 1)\n"
     ]
    },
    {
     "name": "stderr",
     "output_type": "stream",
     "text": [
      "/usr/local/lib/python3.11/dist-packages/sklearn/linear_model/_coordinate_descent.py:631: ConvergenceWarning: Objective did not converge. You might want to increase the number of iterations, check the scale of the features or consider increasing regularisation. Duality gap: 8.667e+02, tolerance: 6.691e+00\n",
      "  model = cd_fast.enet_coordinate_descent(\n",
      "/usr/local/lib/python3.11/dist-packages/sklearn/linear_model/_coordinate_descent.py:631: ConvergenceWarning: Objective did not converge. You might want to increase the number of iterations, check the scale of the features or consider increasing regularisation. Duality gap: 6.657e+02, tolerance: 6.691e+00\n",
      "  model = cd_fast.enet_coordinate_descent(\n"
     ]
    }
   ],
   "source": [
    "# Fit the model\n",
    "model.fit(X_train, y_train)"
   ]
  },
  {
   "cell_type": "code",
   "execution_count": 25,
   "id": "d60d4546",
   "metadata": {
    "execution": {
     "iopub.execute_input": "2025-05-11T18:51:55.341281Z",
     "iopub.status.busy": "2025-05-11T18:51:55.340909Z",
     "iopub.status.idle": "2025-05-11T18:51:55.347806Z",
     "shell.execute_reply": "2025-05-11T18:51:55.347028Z"
    },
    "papermill": {
     "duration": 0.069458,
     "end_time": "2025-05-11T18:51:55.349422",
     "exception": false,
     "start_time": "2025-05-11T18:51:55.279964",
     "status": "completed"
    },
    "tags": []
   },
   "outputs": [],
   "source": [
    "# Make predictions\n",
    "y_pred = model.predict(X_test)"
   ]
  },
  {
   "cell_type": "code",
   "execution_count": 26,
   "id": "243616bf",
   "metadata": {
    "execution": {
     "iopub.execute_input": "2025-05-11T18:51:55.450296Z",
     "iopub.status.busy": "2025-05-11T18:51:55.449902Z",
     "iopub.status.idle": "2025-05-11T18:51:55.457894Z",
     "shell.execute_reply": "2025-05-11T18:51:55.456956Z"
    },
    "papermill": {
     "duration": 0.059674,
     "end_time": "2025-05-11T18:51:55.459420",
     "exception": false,
     "start_time": "2025-05-11T18:51:55.399746",
     "status": "completed"
    },
    "tags": []
   },
   "outputs": [
    {
     "name": "stdout",
     "output_type": "stream",
     "text": [
      "Mean Squared Error: 0.8417\n",
      "R^2 Score: 0.3577\n"
     ]
    }
   ],
   "source": [
    "# Evaluate performance\n",
    "mse = mean_squared_error(y_test, y_pred)\n",
    "r2 = r2_score(y_test, y_pred)\n",
    "print(f\"Mean Squared Error: {mse:.4f}\")\n",
    "print(f\"R^2 Score: {r2:.4f}\")"
   ]
  },
  {
   "cell_type": "code",
   "execution_count": 27,
   "id": "523425d8",
   "metadata": {
    "execution": {
     "iopub.execute_input": "2025-05-11T18:51:55.559832Z",
     "iopub.status.busy": "2025-05-11T18:51:55.559486Z",
     "iopub.status.idle": "2025-05-11T18:51:55.564557Z",
     "shell.execute_reply": "2025-05-11T18:51:55.563619Z"
    },
    "papermill": {
     "duration": 0.056951,
     "end_time": "2025-05-11T18:51:55.566010",
     "exception": false,
     "start_time": "2025-05-11T18:51:55.509059",
     "status": "completed"
    },
    "tags": []
   },
   "outputs": [
    {
     "name": "stdout",
     "output_type": "stream",
     "text": [
      "\n",
      "Symbolic Formula:\n",
      "0.016541*x1 + 0.000361*x4 + -0.005436*x7 + 0.054910*x0^2 + 0.003279*x0 x1 + 0.000008*x0 x4 + 0.004007*x0 x5 + 0.000944*x0 x6 + -0.000631*x0 x7 + -0.000697*x1^2 + -0.001050*x1 x2 + 0.000003*x1 x4 + -0.000379*x1 x5 + -0.000428*x1 x6 + -0.000074*x1 x7 + 0.002858*x2^2 + -0.000023*x2 x4 + -0.003552*x2 x6 + 0.000169*x2 x7 + -0.000010*x3 x4 + 0.009420*x3 x5 + -0.003057*x3 x7 + 0.000011*x4 x5 + -0.000001*x4 x6 + 0.000003*x4 x7 + 0.000157*x5^2 + -0.000159*x5 x6 + 0.001021*x5 x7 + 0.000293*x6^2 + -0.000057*x6 x7 + 0.000018*x7^2 + 0.000030*exp_x5 + 0.049820*sin_x5 + -0.001212*x3^3 + -0.000013*exp_x3 + 0.000011*x1^3 + -0.003295*x0^3 + -0.000007*exp_x0 + -0.000005*x2^3 + 0.000014*exp_x2 + -0.000014*x6^3 + 0.000022*exp_x6 + -0.000017*exp_x4\n"
     ]
    }
   ],
   "source": [
    "# Get symbolic formula\n",
    "print(\"\\nSymbolic Formula:\")\n",
    "formula = model.get_formula()\n",
    "print(formula)"
   ]
  },
  {
   "cell_type": "code",
   "execution_count": 28,
   "id": "b44df04a",
   "metadata": {
    "execution": {
     "iopub.execute_input": "2025-05-11T18:51:55.666905Z",
     "iopub.status.busy": "2025-05-11T18:51:55.666560Z",
     "iopub.status.idle": "2025-05-11T18:51:55.672348Z",
     "shell.execute_reply": "2025-05-11T18:51:55.671282Z"
    },
    "papermill": {
     "duration": 0.057876,
     "end_time": "2025-05-11T18:51:55.673815",
     "exception": false,
     "start_time": "2025-05-11T18:51:55.615939",
     "status": "completed"
    },
    "tags": []
   },
   "outputs": [
    {
     "name": "stdout",
     "output_type": "stream",
     "text": [
      "\n",
      "Feature Importances:\n",
      "[0.34882481 0.11680076 0.03988492 0.07131129 0.00227446 0.33802762\n",
      " 0.0284463  0.05442985]\n"
     ]
    }
   ],
   "source": [
    "# Get feature importances\n",
    "print(\"\\nFeature Importances:\")\n",
    "importances = model.feature_importances()\n",
    "print(importances)"
   ]
  },
  {
   "cell_type": "code",
   "execution_count": 29,
   "id": "66129578",
   "metadata": {
    "execution": {
     "iopub.execute_input": "2025-05-11T18:51:55.776716Z",
     "iopub.status.busy": "2025-05-11T18:51:55.776391Z",
     "iopub.status.idle": "2025-05-11T18:51:56.002214Z",
     "shell.execute_reply": "2025-05-11T18:51:56.001078Z"
    },
    "papermill": {
     "duration": 0.278303,
     "end_time": "2025-05-11T18:51:56.003920",
     "exception": false,
     "start_time": "2025-05-11T18:51:55.725617",
     "status": "completed"
    },
    "tags": []
   },
   "outputs": [
    {
     "data": {
      "image/png": "[encoded data removed]",
      "text/plain": [
       "<Figure size 800x600 with 1 Axes>"
      ]
     },
     "metadata": {},
     "output_type": "display_data"
    }
   ],
   "source": [
    "# Plot feature importances\n",
    "plt.figure(figsize=(8, 6))\n",
    "plt.bar(feature_names, importances, color='green')\n",
    "plt.xlabel('Features')\n",
    "plt.ylabel('Importance')\n",
    "plt.title('Feature Importances for California Housing Dataset (OIKANRegressor)')\n",
    "plt.xticks(rotation=45, ha='right')\n",
    "plt.tight_layout()\n",
    "plt.show()"
   ]
  },
  {
   "cell_type": "code",
   "execution_count": 30,
   "id": "4b44d62e",
   "metadata": {
    "execution": {
     "iopub.execute_input": "2025-05-11T18:51:56.107827Z",
     "iopub.status.busy": "2025-05-11T18:51:56.107515Z",
     "iopub.status.idle": "2025-05-11T18:51:56.113601Z",
     "shell.execute_reply": "2025-05-11T18:51:56.112634Z"
    },
    "papermill": {
     "duration": 0.059425,
     "end_time": "2025-05-11T18:51:56.114968",
     "exception": false,
     "start_time": "2025-05-11T18:51:56.055543",
     "status": "completed"
    },
    "tags": []
   },
   "outputs": [
    {
     "name": "stdout",
     "output_type": "stream",
     "text": [
      "Model saved to outputs/california_housing_model.json\n"
     ]
    }
   ],
   "source": [
    "# Save the model\n",
    "model.save(\"outputs/california_housing_model.json\")"
   ]
  },
  {
   "cell_type": "code",
   "execution_count": 31,
   "id": "7a8263b8",
   "metadata": {
    "execution": {
     "iopub.execute_input": "2025-05-11T18:51:56.220386Z",
     "iopub.status.busy": "2025-05-11T18:51:56.220006Z",
     "iopub.status.idle": "2025-05-11T18:51:56.225598Z",
     "shell.execute_reply": "2025-05-11T18:51:56.224583Z"
    },
    "papermill": {
     "duration": 0.060836,
     "end_time": "2025-05-11T18:51:56.227533",
     "exception": false,
     "start_time": "2025-05-11T18:51:56.166697",
     "status": "completed"
    },
    "tags": []
   },
   "outputs": [],
   "source": [
    "# Load the model\n",
    "loaded_model = OIKANRegressor()\n",
    "loaded_model.load(\"outputs/california_housing_model.json\")"
   ]
  },
  {
   "cell_type": "code",
   "execution_count": 32,
   "id": "72e03f52",
   "metadata": {
    "execution": {
     "iopub.execute_input": "2025-05-11T18:51:56.333342Z",
     "iopub.status.busy": "2025-05-11T18:51:56.333015Z",
     "iopub.status.idle": "2025-05-11T18:51:56.338073Z",
     "shell.execute_reply": "2025-05-11T18:51:56.337067Z"
    },
    "papermill": {
     "duration": 0.059539,
     "end_time": "2025-05-11T18:51:56.339644",
     "exception": false,
     "start_time": "2025-05-11T18:51:56.280105",
     "status": "completed"
    },
    "tags": []
   },
   "outputs": [
    {
     "name": "stdout",
     "output_type": "stream",
     "text": [
      "Original Formula:\n",
      "0.016541*x1 + 0.000361*x4 + -0.005436*x7 + 0.054910*x0^2 + 0.003279*x0 x1 + 0.000008*x0 x4 + 0.004007*x0 x5 + 0.000944*x0 x6 + -0.000631*x0 x7 + -0.000697*x1^2 + -0.001050*x1 x2 + 0.000003*x1 x4 + -0.000379*x1 x5 + -0.000428*x1 x6 + -0.000074*x1 x7 + 0.002858*x2^2 + -0.000023*x2 x4 + -0.003552*x2 x6 + 0.000169*x2 x7 + -0.000010*x3 x4 + 0.009420*x3 x5 + -0.003057*x3 x7 + 0.000011*x4 x5 + -0.000001*x4 x6 + 0.000003*x4 x7 + 0.000157*x5^2 + -0.000159*x5 x6 + 0.001021*x5 x7 + 0.000293*x6^2 + -0.000057*x6 x7 + 0.000018*x7^2 + 0.000030*exp_x5 + 0.049820*sin_x5 + -0.001212*x3^3 + -0.000013*exp_x3 + 0.000011*x1^3 + -0.003295*x0^3 + -0.000007*exp_x0 + -0.000005*x2^3 + 0.000014*exp_x2 + -0.000014*x6^3 + 0.000022*exp_x6 + -0.000017*exp_x4\n"
     ]
    }
   ],
   "source": [
    "# Original formula\n",
    "print(\"Original Formula:\")\n",
    "formula_loaded = loaded_model.get_formula(type='original')\n",
    "print(formula_loaded)"
   ]
  },
  {
   "cell_type": "code",
   "execution_count": 33,
   "id": "5d353ff1",
   "metadata": {
    "execution": {
     "iopub.execute_input": "2025-05-11T18:51:56.446808Z",
     "iopub.status.busy": "2025-05-11T18:51:56.446482Z",
     "iopub.status.idle": "2025-05-11T18:52:07.999811Z",
     "shell.execute_reply": "2025-05-11T18:52:07.998594Z"
    },
    "papermill": {
     "duration": 11.609583,
     "end_time": "2025-05-11T18:52:08.001498",
     "exception": false,
     "start_time": "2025-05-11T18:51:56.391915",
     "status": "completed"
    },
    "tags": []
   },
   "outputs": [
    {
     "name": "stdout",
     "output_type": "stream",
     "text": [
      "\n",
      "Simplified Formula:\n",
      "0.00029*x6**2 + 0.04982*sin(x5) + 0.00286*x2**2 + 0.05491*x0**2 + 0.01654*x1 + 0.00016*x5**2 + 0.00036*x4 - 0.00070*x1**2 - 0.00544*x7 - 0.00330*x0**3 - 0.00121*x3**3 + 0.00102*x5*x7 + 0.00017*x2*x7 + 0.00094*x0*x6 + 0.00401*x0*x5 + 0.00942*x3*x5 + 0.00328*x0*x1 - 0.00006*x6*x7 - 0.00016*x5*x6 - 0.00355*x2*x6 - 0.00105*x1*x2 - 0.00007*x1*x7 - 0.00063*x0*x7 - 0.00038*x1*x5 - 0.00306*x3*x7 - 0.00043*x1*x6\n"
     ]
    }
   ],
   "source": [
    "# Simplified formula\n",
    "print(\"\\nSimplified Formula:\")\n",
    "simplified_formula = loaded_model.get_formula(type='sympy')\n",
    "print(simplified_formula)"
   ]
  },
  {
   "cell_type": "code",
   "execution_count": 34,
   "id": "63e03a39",
   "metadata": {
    "execution": {
     "iopub.execute_input": "2025-05-11T18:52:08.108263Z",
     "iopub.status.busy": "2025-05-11T18:52:08.107461Z",
     "iopub.status.idle": "2025-05-11T18:52:08.146097Z",
     "shell.execute_reply": "2025-05-11T18:52:08.144822Z"
    },
    "papermill": {
     "duration": 0.094054,
     "end_time": "2025-05-11T18:52:08.147678",
     "exception": false,
     "start_time": "2025-05-11T18:52:08.053624",
     "status": "completed"
    },
    "tags": []
   },
   "outputs": [
    {
     "name": "stdout",
     "output_type": "stream",
     "text": [
      "\n",
      "LaTeX Formula:\n",
      "- 0.0033 x_{0}^{3} + 0.05491 x_{0}^{2} + 0.00328 x_{0} x_{1} + 0.00401 x_{0} x_{5} + 0.00094 x_{0} x_{6} - 0.00063 x_{0} x_{7} - 0.0007 x_{1}^{2} - 0.00105 x_{1} x_{2} - 0.00038 x_{1} x_{5} - 0.00043 x_{1} x_{6} - 7.0 \\cdot 10^{-5} x_{1} x_{7} + 0.01654 x_{1} + 0.00286 x_{2}^{2} - 0.00355 x_{2} x_{6} + 0.00017 x_{2} x_{7} - 0.00121 x_{3}^{3} + 0.00942 x_{3} x_{5} - 0.00306 x_{3} x_{7} + 0.00036 x_{4} + 0.00016 x_{5}^{2} - 0.00016 x_{5} x_{6} + 0.00102 x_{5} x_{7} + 0.00029 x_{6}^{2} - 6.0 \\cdot 10^{-5} x_{6} x_{7} - 0.00544 x_{7} + 0.04982 \\sin{\\left(x_{5} \\right)}\n"
     ]
    }
   ],
   "source": [
    "# LaTeX formula\n",
    "print(\"\\nLaTeX Formula:\")\n",
    "latex_formula = loaded_model.get_formula(type='latex')\n",
    "print(latex_formula)"
   ]
  },
  {
   "cell_type": "markdown",
   "id": "d312ccba",
   "metadata": {
    "papermill": {
     "duration": 0.0523,
     "end_time": "2025-05-11T18:52:08.252759",
     "exception": false,
     "start_time": "2025-05-11T18:52:08.200459",
     "status": "completed"
    },
    "tags": []
   },
   "source": [
    "### Potential Improvements:\n",
    "\n",
    "* Add data preprocessing & feature engineering steps;\n",
    "* Make visualizations using `matplotlib` / `seaborn`;\n",
    "* Experiment with different hyperparameter values for better performance.\n",
    "\n",
    "\n",
    "🙌 Thank you for using `OIKAN`! "
   ]
  }
 ],
 "metadata": {
  "kaggle": {
   "accelerator": "none",
   "dataSources": [],
   "dockerImageVersionId": 31012,
   "isGpuEnabled": false,
   "isInternetEnabled": true,
   "language": "python",
   "sourceType": "notebook"
  },
  "kernelspec": {
   "display_name": "Python 3",
   "language": "python",
   "name": "python3"
  },
  "language_info": {
   "codemirror_mode": {
    "name": "ipython",
    "version": 3
   },
   "file_extension": ".py",
   "mimetype": "text/x-python",
   "name": "python",
   "nbconvert_exporter": "python",
   "pygments_lexer": "ipython3",
   "version": "3.11.11"
  },
  "papermill": {
   "default_parameters": {},
   "duration": 237.228317,
   "end_time": "2025-05-11T18:52:10.230716",
   "environment_variables": {},
   "exception": null,
   "input_path": "__notebook__.ipynb",
   "output_path": "__notebook__.ipynb",
   "parameters": {},
   "start_time": "2025-05-11T18:48:13.002399",
   "version": "2.6.0"
  }
 },
 "nbformat": 4,
 "nbformat_minor": 5
}
